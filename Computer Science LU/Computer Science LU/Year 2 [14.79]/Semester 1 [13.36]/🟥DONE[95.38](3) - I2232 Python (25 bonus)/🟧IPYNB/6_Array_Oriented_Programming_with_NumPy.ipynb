{
  "cells": [
    {
      "cell_type": "markdown",
      "metadata": {
        "id": "N_9MTViilesY"
      },
      "source": [
        "# Introduction"
      ]
    },
    {
      "cell_type": "markdown",
      "metadata": {
        "id": "0Ok6jEvMlhae"
      },
      "source": [
        "The `NumPy` (Numerical Python) library first appeared in 2006 and is the preferred\n",
        "Python array implementation. It offers a high-performance,\n",
        "richly functional ndimensional\n",
        "array type called `ndarray`, which from this point forward we’ll refer to by\n",
        "its synonym, array. NumPy is one of the many opensource\n",
        "libraries that the\n",
        "Anaconda Python distribution installs. Operations on arrays are up to two orders of magnitude faster than those on lists."
      ]
    },
    {
      "cell_type": "markdown",
      "metadata": {
        "id": "p7TFYLpbkgX9"
      },
      "source": [
        "# Creating `arrays` from Existing Data "
      ]
    },
    {
      "cell_type": "markdown",
      "metadata": {
        "id": "B-mrVh1_l7QJ"
      },
      "source": [
        "The NumPy documentation recommends importing the numpy module as np so that\n",
        "you can access its members with \"np.\""
      ]
    },
    {
      "cell_type": "code",
      "execution_count": 1,
      "metadata": {
        "id": "eTb294qlkgYp"
      },
      "outputs": [],
      "source": [
        "import numpy as np"
      ]
    },
    {
      "cell_type": "markdown",
      "metadata": {
        "id": "bLXxSj5wl-Ux"
      },
      "source": [
        "The numpy module provides various functions for creating arrays. Here we use the\n",
        "array function, which receives as an argument an array or other collection of\n",
        "elements and returns a new array containing the argument’s elements."
      ]
    },
    {
      "cell_type": "code",
      "execution_count": null,
      "metadata": {
        "id": "XrvVch17kgYu"
      },
      "outputs": [],
      "source": [
        "numbers = np.array([2, 3, 5, 7, 11])"
      ]
    },
    {
      "cell_type": "code",
      "execution_count": null,
      "metadata": {
        "id": "JutN56XgkgYx"
      },
      "outputs": [],
      "source": [
        "type(numbers)"
      ]
    },
    {
      "cell_type": "code",
      "execution_count": null,
      "metadata": {
        "id": "8ZlKByiAkgY0"
      },
      "outputs": [],
      "source": [
        "numbers"
      ]
    },
    {
      "cell_type": "markdown",
      "metadata": {
        "id": "ShPCSEj0kgY1"
      },
      "source": [
        "### Multidimensional Arguments"
      ]
    },
    {
      "cell_type": "markdown",
      "metadata": {
        "id": "JO-KLqXGmFYh"
      },
      "source": [
        "The array function copies its argument’s dimensions."
      ]
    },
    {
      "cell_type": "code",
      "execution_count": null,
      "metadata": {
        "id": "TILhsHEfkgY2"
      },
      "outputs": [],
      "source": [
        "np.array([[1, 2, 3], [4, 5, 6]])"
      ]
    },
    {
      "cell_type": "markdown",
      "metadata": {
        "id": "n7nkNLg0kgc6"
      },
      "source": [
        "#  `array` Attributes "
      ]
    },
    {
      "cell_type": "markdown",
      "metadata": {
        "id": "i1tgTyThmSxY"
      },
      "source": [
        "An array object provides attributes that enable you to discover information about its\n",
        "structure and contents."
      ]
    },
    {
      "cell_type": "code",
      "execution_count": null,
      "metadata": {
        "id": "2Nj9x1f6kgdM"
      },
      "outputs": [],
      "source": [
        "import numpy as np"
      ]
    },
    {
      "cell_type": "code",
      "execution_count": null,
      "metadata": {
        "id": "8BNw7RwtkgdY"
      },
      "outputs": [],
      "source": [
        "integers = np.array([[1, 2, 3], [4, 5, 6]])"
      ]
    },
    {
      "cell_type": "code",
      "execution_count": null,
      "metadata": {
        "id": "lUwklBOTkgdb"
      },
      "outputs": [],
      "source": [
        "integers"
      ]
    },
    {
      "cell_type": "code",
      "execution_count": null,
      "metadata": {
        "id": "vw1rSZ8pkgdd"
      },
      "outputs": [],
      "source": [
        "floats = np.array([0.0, 0.1, 0.2, 0.3, 0.4])"
      ]
    },
    {
      "cell_type": "code",
      "execution_count": null,
      "metadata": {
        "id": "iU2Fk4z3kgdg"
      },
      "outputs": [],
      "source": [
        "floats"
      ]
    },
    {
      "cell_type": "markdown",
      "metadata": {
        "id": "dauNdtV1kgdk"
      },
      "source": [
        "### Determining an `array`’s Element Type"
      ]
    },
    {
      "cell_type": "markdown",
      "metadata": {
        "id": "n3IQKLn4mWeX"
      },
      "source": [
        "The array function determines an array’s element type from its argument’s elements.\n",
        "You can check the element type with an array’s `dtype` attribute."
      ]
    },
    {
      "cell_type": "code",
      "execution_count": null,
      "metadata": {
        "id": "HaREsgZvkgdn"
      },
      "outputs": [],
      "source": [
        "integers.dtype"
      ]
    },
    {
      "cell_type": "code",
      "execution_count": null,
      "metadata": {
        "id": "EnfEp6wkkgdp"
      },
      "outputs": [],
      "source": [
        "floats.dtype"
      ]
    },
    {
      "cell_type": "markdown",
      "metadata": {
        "id": "csGpOwoKkgdr"
      },
      "source": [
        "### Determining an `array`’s Dimensions"
      ]
    },
    {
      "cell_type": "markdown",
      "metadata": {
        "id": "Y-nSECRfmaqi"
      },
      "source": [
        "The attribute `ndim` contains an array’s number of dimensions and the attribute\n",
        "`shape` contains a tuple specifying an array’s dimensions."
      ]
    },
    {
      "cell_type": "code",
      "execution_count": null,
      "metadata": {
        "id": "EslZG3x2kgds"
      },
      "outputs": [],
      "source": [
        "integers.ndim"
      ]
    },
    {
      "cell_type": "code",
      "execution_count": null,
      "metadata": {
        "id": "RR5tnEN7kgdu"
      },
      "outputs": [],
      "source": [
        "floats.ndim"
      ]
    },
    {
      "cell_type": "code",
      "execution_count": null,
      "metadata": {
        "id": "G9aHz1dNkgdv"
      },
      "outputs": [],
      "source": [
        "integers.shape"
      ]
    },
    {
      "cell_type": "code",
      "execution_count": null,
      "metadata": {
        "id": "QXtGx0bEkgdw"
      },
      "outputs": [],
      "source": [
        "floats.shape"
      ]
    },
    {
      "cell_type": "markdown",
      "metadata": {
        "id": "9HI8g_6Bkgdy"
      },
      "source": [
        "### Determining an `array`’s Number of Elements and Element Size"
      ]
    },
    {
      "cell_type": "markdown",
      "metadata": {
        "id": "Ai_DkKiNmeaQ"
      },
      "source": [
        "You can view an array’s total number of elements with the attribute `size` and the\n",
        "number of bytes required to store each element with `itemsize`."
      ]
    },
    {
      "cell_type": "code",
      "execution_count": null,
      "metadata": {
        "id": "dfzPBuVRkgdz"
      },
      "outputs": [],
      "source": [
        "integers.size"
      ]
    },
    {
      "cell_type": "code",
      "execution_count": null,
      "metadata": {
        "id": "KTA9s62skgdz"
      },
      "outputs": [],
      "source": [
        "integers.itemsize"
      ]
    },
    {
      "cell_type": "code",
      "execution_count": null,
      "metadata": {
        "id": "LeIc8lF3kgd0"
      },
      "outputs": [],
      "source": [
        "floats.size"
      ]
    },
    {
      "cell_type": "code",
      "execution_count": null,
      "metadata": {
        "id": "pHzD1yUWkgd1"
      },
      "outputs": [],
      "source": [
        "floats.itemsize"
      ]
    },
    {
      "cell_type": "markdown",
      "metadata": {
        "id": "vNjigwuOkgd1"
      },
      "source": [
        "### Iterating through a Multidimensional `array`’s Elements"
      ]
    },
    {
      "cell_type": "code",
      "execution_count": null,
      "metadata": {
        "id": "nSRMDvIWkgd2"
      },
      "outputs": [],
      "source": [
        "for row in integers:\n",
        "    for column in row:\n",
        "        print(column, end='  ')\n",
        "    print() "
      ]
    },
    {
      "cell_type": "code",
      "execution_count": null,
      "metadata": {
        "id": "eX5UkB2_kgd4"
      },
      "outputs": [],
      "source": [
        "for i in integers.flat:\n",
        "    print(i, end='  ')"
      ]
    },
    {
      "cell_type": "markdown",
      "metadata": {
        "id": "XQzUEF2SkghX"
      },
      "source": [
        "#  Filling `array`s with Specific Values"
      ]
    },
    {
      "cell_type": "markdown",
      "metadata": {
        "id": "tdzMVkwhmnyO"
      },
      "source": [
        "NumPy provides functions `zeros`, `ones` and `full` for creating arrays containing 0s,\n",
        "1s or a specified value, respectively. By default, zeros and ones create arrays\n",
        "containing float64 values. We’ll show how to customize the element type\n",
        "momentarily. The first argument to these functions must be an integer or a tuple of\n",
        "integers specifying the desired dimensions. For an integer, each function returns a one-dimensional\n",
        "array with the specified number of elements."
      ]
    },
    {
      "cell_type": "code",
      "execution_count": null,
      "metadata": {
        "id": "zjq4lj87kghl"
      },
      "outputs": [],
      "source": [
        "import numpy as np"
      ]
    },
    {
      "cell_type": "code",
      "execution_count": null,
      "metadata": {
        "id": "IqiTXgoFkght"
      },
      "outputs": [],
      "source": [
        "np.zeros(5)"
      ]
    },
    {
      "cell_type": "code",
      "execution_count": null,
      "metadata": {
        "id": "cNNq-UIGkghv"
      },
      "outputs": [],
      "source": [
        "np.ones((2, 4), dtype=int)"
      ]
    },
    {
      "cell_type": "code",
      "execution_count": null,
      "metadata": {
        "id": "G7ROmEvVkgh0"
      },
      "outputs": [],
      "source": [
        "np.full((3, 5), 13)"
      ]
    },
    {
      "cell_type": "markdown",
      "metadata": {
        "id": "UMQPvUMJkiDW"
      },
      "source": [
        "#  Creating `array`s from Ranges "
      ]
    },
    {
      "cell_type": "markdown",
      "metadata": {
        "id": "3SBcGG6Bm0b0"
      },
      "source": [
        "NumPy provides optimized functions for creating arrays from ranges."
      ]
    },
    {
      "cell_type": "markdown",
      "metadata": {
        "id": "x9ZlDxxnkiDc"
      },
      "source": [
        "### Creating Integer Ranges with `arange`"
      ]
    },
    {
      "cell_type": "markdown",
      "metadata": {
        "id": "50f98Iium4e6"
      },
      "source": [
        "Let’s use NumPy’s `arange` function to create integer ranges—similar to using builtin\n",
        "function range. In each case, arange first determines the resulting array’s number\n",
        "of elements, allocates the memory, then stores the specified range of values in the\n",
        "array."
      ]
    },
    {
      "cell_type": "code",
      "execution_count": null,
      "metadata": {
        "id": "pduld4sEkiDd"
      },
      "outputs": [],
      "source": [
        "import numpy as np"
      ]
    },
    {
      "cell_type": "code",
      "execution_count": null,
      "metadata": {
        "id": "dpYQ8vfvkiDf"
      },
      "outputs": [],
      "source": [
        "np.arange(5)"
      ]
    },
    {
      "cell_type": "code",
      "execution_count": null,
      "metadata": {
        "id": "pNTjbbZykiDg"
      },
      "outputs": [],
      "source": [
        "np.arange(5, 10)"
      ]
    },
    {
      "cell_type": "code",
      "execution_count": null,
      "metadata": {
        "id": "fMxA9Id5kiDh"
      },
      "outputs": [],
      "source": [
        "np.arange(10, 1, -2)"
      ]
    },
    {
      "cell_type": "markdown",
      "metadata": {
        "id": "I7v32bn7m9UG"
      },
      "source": [
        "Though you can create arrays by passing ranges as arguments, always use arange\n",
        "as it’s optimized for arrays."
      ]
    },
    {
      "cell_type": "markdown",
      "metadata": {
        "id": "zeDWMKbRkiDh"
      },
      "source": [
        "### Creating Floating-Point Ranges with `linspace` "
      ]
    },
    {
      "cell_type": "markdown",
      "metadata": {
        "id": "uzxZA5PcnCL-"
      },
      "source": [
        "You can produce evenly spaced floating-point\n",
        "ranges with NumPy’s `linspace`\n",
        "function. The function’s first two arguments specify the starting and ending values in\n",
        "the range, and the ending value is included in the array. The optional keyword\n",
        "argument num specifies the number of evenly spaced values to produce—this\n",
        "argument’s default value is 50."
      ]
    },
    {
      "cell_type": "code",
      "execution_count": null,
      "metadata": {
        "id": "HL3X9VBtkiDi"
      },
      "outputs": [],
      "source": [
        "np.linspace(0.0, 1.0, num=5)"
      ]
    },
    {
      "cell_type": "markdown",
      "metadata": {
        "id": "DkVHroQ3kiDk"
      },
      "source": [
        "### Reshaping an `array` "
      ]
    },
    {
      "cell_type": "markdown",
      "metadata": {
        "id": "Q1S8P3h0nJC0"
      },
      "source": [
        "You also can create an array from a range of elements, then use array method\n",
        "`reshape` to transform the one-dimensional\n",
        "array into a multi-dimensional array. "
      ]
    },
    {
      "cell_type": "code",
      "execution_count": null,
      "metadata": {
        "id": "yB2-DH3zkiDl"
      },
      "outputs": [],
      "source": [
        "np.arange(1, 21).reshape(4, 5)"
      ]
    },
    {
      "cell_type": "markdown",
      "metadata": {
        "id": "XqvOvNmtkiDm"
      },
      "source": [
        "### Displaying Large `array`s "
      ]
    },
    {
      "cell_type": "markdown",
      "metadata": {
        "id": "24L6Jb0UnPr-"
      },
      "source": [
        "When displaying an array, if there are 1000 items or more, NumPy drops the middle\n",
        "rows, columns or both from the output."
      ]
    },
    {
      "cell_type": "code",
      "execution_count": null,
      "metadata": {
        "id": "yINJNjrJkiDm"
      },
      "outputs": [],
      "source": [
        "np.arange(1, 100001).reshape(4, 25000)"
      ]
    },
    {
      "cell_type": "code",
      "execution_count": null,
      "metadata": {
        "id": "yJzfJ-p3kiDn"
      },
      "outputs": [],
      "source": [
        "np.arange(1, 100001).reshape(100, 1000)"
      ]
    },
    {
      "cell_type": "markdown",
      "metadata": {
        "id": "RsrodWDHkjWk"
      },
      "source": [
        "#  List vs. `array` Performance: Introducing `%timeit` "
      ]
    },
    {
      "cell_type": "markdown",
      "metadata": {
        "id": "QE5Oi2e3nWvd"
      },
      "source": [
        "Most array operations execute significantly faster than corresponding list operations."
      ]
    },
    {
      "cell_type": "markdown",
      "metadata": {
        "id": "ij7YJNt3kjWt"
      },
      "source": [
        "### Timing the Creation of a List Containing Results of 6,000,000 Die Rolls "
      ]
    },
    {
      "cell_type": "code",
      "execution_count": null,
      "metadata": {
        "id": "ffQJTOk-kjWu"
      },
      "outputs": [],
      "source": [
        "import random"
      ]
    },
    {
      "cell_type": "code",
      "execution_count": null,
      "metadata": {
        "id": "W12t1bWekjWw"
      },
      "outputs": [],
      "source": [
        "%timeit rolls_list = \\\n",
        "   [random.randrange(1, 7) for i in range(0, 6_000_000)]"
      ]
    },
    {
      "cell_type": "markdown",
      "metadata": {
        "id": "s55cCDg3kjWx"
      },
      "source": [
        "### Timing the Creation of an `array` Containing Results of 6,000,000 Die Rolls  "
      ]
    },
    {
      "cell_type": "code",
      "execution_count": null,
      "metadata": {
        "id": "iekgnrSkkjWy"
      },
      "outputs": [],
      "source": [
        "import numpy as np"
      ]
    },
    {
      "cell_type": "code",
      "execution_count": null,
      "metadata": {
        "id": "WPxBV99OkjWz"
      },
      "outputs": [],
      "source": [
        "%timeit rolls_array = np.random.randint(1, 7, 6_000_000)"
      ]
    },
    {
      "cell_type": "markdown",
      "metadata": {
        "id": "cehjwZFBkjW1"
      },
      "source": [
        "### 60,000,000 and 600,000,000 Die Rolls  "
      ]
    },
    {
      "cell_type": "code",
      "execution_count": null,
      "metadata": {
        "id": "AAJh1TnSkjW3"
      },
      "outputs": [],
      "source": [
        "%timeit rolls_array = np.random.randint(1, 7, 60_000_000)"
      ]
    },
    {
      "cell_type": "code",
      "execution_count": null,
      "metadata": {
        "id": "I3_fIwi2kjW4"
      },
      "outputs": [],
      "source": [
        "%timeit rolls_array = np.random.randint(1, 7, 600_000_000)"
      ]
    },
    {
      "cell_type": "markdown",
      "metadata": {
        "id": "RFef5ODLkjW5"
      },
      "source": [
        "### Customizing the %timeit Iterations  "
      ]
    },
    {
      "cell_type": "code",
      "execution_count": null,
      "metadata": {
        "id": "ANKPh21MkjW6"
      },
      "outputs": [],
      "source": [
        "%timeit -n3 -r2 rolls_array = np.random.randint(1, 7, 6_000_000)"
      ]
    },
    {
      "cell_type": "markdown",
      "metadata": {
        "id": "SgULmBr6kl1J"
      },
      "source": [
        "#  `array` Operators"
      ]
    },
    {
      "cell_type": "markdown",
      "metadata": {
        "id": "VAzAK34dkl1w"
      },
      "source": [
        "### Arithmetic Operations with `array`s and Individual Numeric Values"
      ]
    },
    {
      "cell_type": "code",
      "execution_count": null,
      "metadata": {
        "id": "Ap7syU9skl1y"
      },
      "outputs": [],
      "source": [
        "import numpy as np"
      ]
    },
    {
      "cell_type": "code",
      "execution_count": null,
      "metadata": {
        "id": "sQ7iZb4vkl11"
      },
      "outputs": [],
      "source": [
        "numbers = np.arange(1, 6)"
      ]
    },
    {
      "cell_type": "code",
      "execution_count": null,
      "metadata": {
        "id": "E1JRYcGgkl13"
      },
      "outputs": [],
      "source": [
        "numbers"
      ]
    },
    {
      "cell_type": "code",
      "execution_count": null,
      "metadata": {
        "id": "Wzn7KBrrkl2O"
      },
      "outputs": [],
      "source": [
        "numbers * 2"
      ]
    },
    {
      "cell_type": "code",
      "execution_count": null,
      "metadata": {
        "id": "uHtLEQ3Mkl2P"
      },
      "outputs": [],
      "source": [
        "numbers ** 3"
      ]
    },
    {
      "cell_type": "code",
      "execution_count": null,
      "metadata": {
        "id": "hOiD836Gkl2R"
      },
      "outputs": [],
      "source": [
        "numbers  # numbers is unchanged by the arithmetic operators"
      ]
    },
    {
      "cell_type": "code",
      "execution_count": null,
      "metadata": {
        "id": "tQXO5GHakl2T"
      },
      "outputs": [],
      "source": [
        "numbers += 10"
      ]
    },
    {
      "cell_type": "code",
      "execution_count": null,
      "metadata": {
        "id": "3zgn93Tzkl2V"
      },
      "outputs": [],
      "source": [
        "numbers"
      ]
    },
    {
      "cell_type": "markdown",
      "metadata": {
        "id": "vVMHFNp5kl2W"
      },
      "source": [
        "### Broadcasting "
      ]
    },
    {
      "cell_type": "markdown",
      "metadata": {
        "id": "TL8Tl2AbnogO"
      },
      "source": [
        "Normally, the arithmetic operations require as operands two arrays of the same size\n",
        "and shape. When one operand is a single value, called a scalar, NumPy performs the\n",
        "element-wise\n",
        "calculations as if the scalar were an array of the same shape as the other\n",
        "operand, but with the scalar value in all its elements. This is called **broadcasting**.\n"
      ]
    },
    {
      "cell_type": "markdown",
      "metadata": {
        "id": "hsVVAP4akl2Y"
      },
      "source": [
        "### Arithmetic Operations Between `array`s "
      ]
    },
    {
      "cell_type": "code",
      "execution_count": null,
      "metadata": {
        "id": "Be47Rw78kl2Z"
      },
      "outputs": [],
      "source": [
        "numbers2 = np.linspace(1.1, 5.5, 5)"
      ]
    },
    {
      "cell_type": "code",
      "execution_count": null,
      "metadata": {
        "id": "P2yG40-kkl2a"
      },
      "outputs": [],
      "source": [
        "numbers2"
      ]
    },
    {
      "cell_type": "code",
      "execution_count": null,
      "metadata": {
        "id": "OnN5u1wEkl2b"
      },
      "outputs": [],
      "source": [
        "numbers * numbers2"
      ]
    },
    {
      "cell_type": "markdown",
      "metadata": {
        "id": "4khNHlHpkl2c"
      },
      "source": [
        "### Comparing arrays"
      ]
    },
    {
      "cell_type": "code",
      "execution_count": null,
      "metadata": {
        "id": "1Ub5WUaCkl2c"
      },
      "outputs": [],
      "source": [
        "numbers"
      ]
    },
    {
      "cell_type": "code",
      "execution_count": null,
      "metadata": {
        "id": "DHNni8gwkl2d"
      },
      "outputs": [],
      "source": [
        "numbers >= 13"
      ]
    },
    {
      "cell_type": "code",
      "execution_count": null,
      "metadata": {
        "id": "uvqpDK94kl2e"
      },
      "outputs": [],
      "source": [
        "numbers2"
      ]
    },
    {
      "cell_type": "code",
      "execution_count": null,
      "metadata": {
        "id": "8llfgnJRkl2f"
      },
      "outputs": [],
      "source": [
        "numbers2 < numbers"
      ]
    },
    {
      "cell_type": "code",
      "execution_count": null,
      "metadata": {
        "id": "Lt70FliSkl2i"
      },
      "outputs": [],
      "source": [
        "numbers == numbers2"
      ]
    },
    {
      "cell_type": "code",
      "execution_count": null,
      "metadata": {
        "id": "G9fqbJ2fkl3R"
      },
      "outputs": [],
      "source": [
        "numbers == numbers"
      ]
    },
    {
      "cell_type": "markdown",
      "metadata": {
        "id": "QromwVujknRb"
      },
      "source": [
        "#  NumPy Calculation Methods"
      ]
    },
    {
      "cell_type": "code",
      "execution_count": null,
      "metadata": {
        "id": "5rHP50y5knRl"
      },
      "outputs": [],
      "source": [
        "import numpy as np"
      ]
    },
    {
      "cell_type": "code",
      "execution_count": null,
      "metadata": {
        "id": "OC0swr-9knRp"
      },
      "outputs": [],
      "source": [
        "grades = np.array([[87, 96, 70], [100, 87, 90],\n",
        "                   [94, 77, 90], [100, 81, 82]])"
      ]
    },
    {
      "cell_type": "code",
      "execution_count": null,
      "metadata": {
        "id": "zL4CFL-JknRr"
      },
      "outputs": [],
      "source": [
        "grades"
      ]
    },
    {
      "cell_type": "code",
      "execution_count": null,
      "metadata": {
        "id": "HiEClGUTknSv"
      },
      "outputs": [],
      "source": [
        "grades.sum()"
      ]
    },
    {
      "cell_type": "code",
      "execution_count": null,
      "metadata": {
        "id": "Dv05B4ikknSx"
      },
      "outputs": [],
      "source": [
        "grades.min()"
      ]
    },
    {
      "cell_type": "code",
      "execution_count": null,
      "metadata": {
        "id": "vYQLKwwrknSy"
      },
      "outputs": [],
      "source": [
        "grades.max()"
      ]
    },
    {
      "cell_type": "code",
      "execution_count": null,
      "metadata": {
        "id": "tD_5aly2knS0"
      },
      "outputs": [],
      "source": [
        "grades.mean()"
      ]
    },
    {
      "cell_type": "code",
      "execution_count": null,
      "metadata": {
        "id": "m7wXR064knS2"
      },
      "outputs": [],
      "source": [
        "grades.std()"
      ]
    },
    {
      "cell_type": "code",
      "execution_count": null,
      "metadata": {
        "id": "eiJH3oWYknS-"
      },
      "outputs": [],
      "source": [
        "grades.var()"
      ]
    },
    {
      "cell_type": "markdown",
      "metadata": {
        "id": "DaRhzcpDknTB"
      },
      "source": [
        "### Calculations by Row or Column"
      ]
    },
    {
      "cell_type": "code",
      "execution_count": null,
      "metadata": {
        "id": "1oJRsWyRknTC"
      },
      "outputs": [],
      "source": [
        "grades.mean(axis=0)"
      ]
    },
    {
      "cell_type": "code",
      "execution_count": null,
      "metadata": {
        "id": "oWURCBqdknTD"
      },
      "outputs": [],
      "source": [
        "grades.mean(axis=1)"
      ]
    },
    {
      "cell_type": "markdown",
      "metadata": {
        "id": "oZOTL0yfkokX"
      },
      "source": [
        "###  Universal Functions"
      ]
    },
    {
      "cell_type": "markdown",
      "metadata": {
        "id": "ovnD46vooEZ4"
      },
      "source": [
        "NumPy offers dozens of standalone **universal functions **(or **ufuncs**) that perform\n",
        "various element-wise\n",
        "operations. Each performs its task using one or two array or\n",
        "array-like\n",
        "(such as lists) arguments. Some of these functions are called when you use\n",
        "operators like + and * on arrays. Each returns a new array containing the results."
      ]
    },
    {
      "cell_type": "code",
      "execution_count": null,
      "metadata": {
        "id": "clpddS6Skomb"
      },
      "outputs": [],
      "source": [
        "import numpy as np"
      ]
    },
    {
      "cell_type": "code",
      "execution_count": null,
      "metadata": {
        "id": "HvqWR_HIkomi"
      },
      "outputs": [],
      "source": [
        "numbers = np.array([1, 4, 9, 16, 25, 36])"
      ]
    },
    {
      "cell_type": "code",
      "execution_count": null,
      "metadata": {
        "id": "SW39bVsTkomk"
      },
      "outputs": [],
      "source": [
        "np.sqrt(numbers)"
      ]
    },
    {
      "cell_type": "code",
      "execution_count": null,
      "metadata": {
        "id": "zYhK9nYskomm"
      },
      "outputs": [],
      "source": [
        "numbers2 = np.arange(1, 7) * 10"
      ]
    },
    {
      "cell_type": "code",
      "execution_count": null,
      "metadata": {
        "id": "IS0SQKCDkomo"
      },
      "outputs": [],
      "source": [
        "numbers2"
      ]
    },
    {
      "cell_type": "code",
      "execution_count": null,
      "metadata": {
        "id": "8YkFasXHkomq"
      },
      "outputs": [],
      "source": [
        "np.add(numbers, numbers2)"
      ]
    },
    {
      "cell_type": "markdown",
      "metadata": {
        "id": "zS7vvNU4koms"
      },
      "source": [
        "### Broadcasting with Universal Functions"
      ]
    },
    {
      "cell_type": "code",
      "execution_count": null,
      "metadata": {
        "id": "k_SJm-B9komu"
      },
      "outputs": [],
      "source": [
        "np.multiply(numbers2, 5)"
      ]
    },
    {
      "cell_type": "code",
      "execution_count": null,
      "metadata": {
        "id": "caKANJz8komz"
      },
      "outputs": [],
      "source": [
        "numbers3 = numbers2.reshape(2, 3)"
      ]
    },
    {
      "cell_type": "code",
      "execution_count": null,
      "metadata": {
        "id": "HA20_kdWkom2"
      },
      "outputs": [],
      "source": [
        "numbers3"
      ]
    },
    {
      "cell_type": "code",
      "execution_count": null,
      "metadata": {
        "id": "aZuAIA2jkom3"
      },
      "outputs": [],
      "source": [
        "numbers4 = np.array([2, 4, 6])"
      ]
    },
    {
      "cell_type": "code",
      "execution_count": null,
      "metadata": {
        "id": "U465H-Yckom5"
      },
      "outputs": [],
      "source": [
        "np.multiply(numbers3, numbers4)"
      ]
    },
    {
      "cell_type": "markdown",
      "metadata": {
        "id": "x9e5uJxlkom_"
      },
      "source": [
        "### Other Universal Functions"
      ]
    },
    {
      "cell_type": "markdown",
      "metadata": {
        "id": "pPHc8bxMoSLo"
      },
      "source": [
        "Refer to https://numpy.org/doc/stable/reference/ufuncs.html"
      ]
    },
    {
      "cell_type": "markdown",
      "metadata": {
        "id": "utP41UCZknY1"
      },
      "source": [
        "#  Indexing and Slicing "
      ]
    },
    {
      "cell_type": "markdown",
      "metadata": {
        "id": "UwLfX3VGknZD"
      },
      "source": [
        "### Indexing with Two-Dimensional `array`s"
      ]
    },
    {
      "cell_type": "code",
      "execution_count": null,
      "metadata": {
        "id": "yOGnWyh0knZH"
      },
      "outputs": [],
      "source": [
        "import numpy as np"
      ]
    },
    {
      "cell_type": "code",
      "execution_count": null,
      "metadata": {
        "id": "NdeKVG2TknZL"
      },
      "outputs": [],
      "source": [
        "grades = np.array([[87, 96, 70], [100, 87, 90],\n",
        "                   [94, 77, 90], [100, 81, 82]])"
      ]
    },
    {
      "cell_type": "code",
      "execution_count": null,
      "metadata": {
        "id": "4A3cE5xWknZN"
      },
      "outputs": [],
      "source": [
        "grades"
      ]
    },
    {
      "cell_type": "code",
      "execution_count": null,
      "metadata": {
        "id": "_fiNQRuTknZO"
      },
      "outputs": [],
      "source": [
        "grades[0, 1]  # row 0, column 1"
      ]
    },
    {
      "cell_type": "markdown",
      "metadata": {
        "id": "oA-225yaknZP"
      },
      "source": [
        "### Selecting a Subset of a Two-Dimensional `array`’s Rows"
      ]
    },
    {
      "cell_type": "code",
      "execution_count": null,
      "metadata": {
        "id": "Hjyk3i6QknZS"
      },
      "outputs": [],
      "source": [
        "grades[1]"
      ]
    },
    {
      "cell_type": "code",
      "execution_count": null,
      "metadata": {
        "id": "9eahayjlknZX"
      },
      "outputs": [],
      "source": [
        "grades[0:2]"
      ]
    },
    {
      "cell_type": "code",
      "execution_count": null,
      "metadata": {
        "id": "LJIvY5c0knZZ"
      },
      "outputs": [],
      "source": [
        "grades[[1, 3]]"
      ]
    },
    {
      "cell_type": "markdown",
      "metadata": {
        "id": "7z5U5DrCknZb"
      },
      "source": [
        "### Selecting a Subset of a Two-Dimensional `array`’s Columns"
      ]
    },
    {
      "cell_type": "code",
      "execution_count": null,
      "metadata": {
        "id": "8uCrHkXKknZd"
      },
      "outputs": [],
      "source": [
        "grades[:, 0]"
      ]
    },
    {
      "cell_type": "code",
      "execution_count": null,
      "metadata": {
        "id": "pzG6F59lknZe"
      },
      "outputs": [],
      "source": [
        "grades[:, 1:3]"
      ]
    },
    {
      "cell_type": "code",
      "execution_count": null,
      "metadata": {
        "id": "SRZ38OfAknZf"
      },
      "outputs": [],
      "source": [
        "grades[:, [0, 2]]"
      ]
    },
    {
      "cell_type": "markdown",
      "metadata": {
        "id": "LlzZLJycko0o"
      },
      "source": [
        "#  Views: Shallow Copies"
      ]
    },
    {
      "cell_type": "code",
      "execution_count": null,
      "metadata": {
        "id": "E9VI_SaNko4R"
      },
      "outputs": [],
      "source": [
        "import numpy as np"
      ]
    },
    {
      "cell_type": "code",
      "execution_count": null,
      "metadata": {
        "id": "6ClQLIRlko4Z"
      },
      "outputs": [],
      "source": [
        "numbers = np.arange(1, 6)"
      ]
    },
    {
      "cell_type": "code",
      "execution_count": null,
      "metadata": {
        "id": "7l47xIapko4b"
      },
      "outputs": [],
      "source": [
        "numbers"
      ]
    },
    {
      "cell_type": "code",
      "execution_count": null,
      "metadata": {
        "id": "2W7P6sRyko4f"
      },
      "outputs": [],
      "source": [
        "numbers2 = numbers.view()"
      ]
    },
    {
      "cell_type": "code",
      "execution_count": null,
      "metadata": {
        "id": "uJuOT0lxko4h"
      },
      "outputs": [],
      "source": [
        "numbers2"
      ]
    },
    {
      "cell_type": "code",
      "execution_count": null,
      "metadata": {
        "id": "jO1-4BfYko4j"
      },
      "outputs": [],
      "source": [
        "id(numbers)"
      ]
    },
    {
      "cell_type": "code",
      "execution_count": null,
      "metadata": {
        "id": "lk4QB9RTkpGt"
      },
      "outputs": [],
      "source": [
        "id(numbers2)"
      ]
    },
    {
      "cell_type": "code",
      "execution_count": null,
      "metadata": {
        "id": "Wq5Qhx6CkpGy"
      },
      "outputs": [],
      "source": [
        "numbers[1] *= 10"
      ]
    },
    {
      "cell_type": "code",
      "execution_count": null,
      "metadata": {
        "id": "gB1upWAGkpH1"
      },
      "outputs": [],
      "source": [
        "numbers2"
      ]
    },
    {
      "cell_type": "code",
      "execution_count": null,
      "metadata": {
        "id": "RGSpv_e7kpH4"
      },
      "outputs": [],
      "source": [
        "numbers"
      ]
    },
    {
      "cell_type": "code",
      "execution_count": null,
      "metadata": {
        "id": "cvsuT5-6kpH6"
      },
      "outputs": [],
      "source": [
        "numbers2[1] /= 10"
      ]
    },
    {
      "cell_type": "code",
      "execution_count": null,
      "metadata": {
        "id": "Uv4ssWU8kpH-"
      },
      "outputs": [],
      "source": [
        "numbers"
      ]
    },
    {
      "cell_type": "code",
      "execution_count": null,
      "metadata": {
        "id": "RUna6KHZkpIB"
      },
      "outputs": [],
      "source": [
        "numbers2"
      ]
    },
    {
      "cell_type": "markdown",
      "metadata": {
        "id": "kY4jM9AOkpIF"
      },
      "source": [
        "### Slice Views"
      ]
    },
    {
      "cell_type": "code",
      "execution_count": null,
      "metadata": {
        "id": "K3yCRrnPkpIG"
      },
      "outputs": [],
      "source": [
        "numbers2 = numbers[0:3]"
      ]
    },
    {
      "cell_type": "code",
      "execution_count": null,
      "metadata": {
        "id": "MHZmv48ZkpIH"
      },
      "outputs": [],
      "source": [
        "numbers2"
      ]
    },
    {
      "cell_type": "code",
      "execution_count": null,
      "metadata": {
        "id": "6TvJ1bPWkpIJ"
      },
      "outputs": [],
      "source": [
        "id(numbers)"
      ]
    },
    {
      "cell_type": "code",
      "execution_count": null,
      "metadata": {
        "id": "JY0xNT-MkpIK"
      },
      "outputs": [],
      "source": [
        "id(numbers2)"
      ]
    },
    {
      "cell_type": "code",
      "execution_count": null,
      "metadata": {
        "id": "0AiYMSBxkpIS"
      },
      "outputs": [],
      "source": [
        "numbers2[3]"
      ]
    },
    {
      "cell_type": "code",
      "execution_count": null,
      "metadata": {
        "id": "AhmZJ95CkpIV"
      },
      "outputs": [],
      "source": [
        "numbers[1] *= 20"
      ]
    },
    {
      "cell_type": "code",
      "execution_count": null,
      "metadata": {
        "id": "y394U02RkpIX"
      },
      "outputs": [],
      "source": [
        "numbers"
      ]
    },
    {
      "cell_type": "code",
      "execution_count": null,
      "metadata": {
        "id": "gPFhNhCFkpIY"
      },
      "outputs": [],
      "source": [
        "numbers2"
      ]
    },
    {
      "cell_type": "markdown",
      "metadata": {
        "id": "7AQ75hy0kpVM"
      },
      "source": [
        "#  Deep Copies"
      ]
    },
    {
      "cell_type": "code",
      "execution_count": null,
      "metadata": {
        "id": "LohCpdwWkpVU"
      },
      "outputs": [],
      "source": [
        "import numpy as np"
      ]
    },
    {
      "cell_type": "code",
      "execution_count": null,
      "metadata": {
        "id": "7pUBXjf9kpVY"
      },
      "outputs": [],
      "source": [
        "numbers = np.arange(1, 6)"
      ]
    },
    {
      "cell_type": "code",
      "execution_count": null,
      "metadata": {
        "id": "qCy1YoxIkpVa"
      },
      "outputs": [],
      "source": [
        "numbers"
      ]
    },
    {
      "cell_type": "code",
      "execution_count": null,
      "metadata": {
        "id": "Muqgu4YskpVb"
      },
      "outputs": [],
      "source": [
        "numbers2 = numbers.copy()"
      ]
    },
    {
      "cell_type": "code",
      "execution_count": null,
      "metadata": {
        "id": "-NEDSWICkpVd"
      },
      "outputs": [],
      "source": [
        "numbers2"
      ]
    },
    {
      "cell_type": "code",
      "execution_count": null,
      "metadata": {
        "id": "RebD1DzBkpVe"
      },
      "outputs": [],
      "source": [
        "numbers[1] *= 10"
      ]
    },
    {
      "cell_type": "code",
      "execution_count": null,
      "metadata": {
        "id": "HLvVLbAwkpVg"
      },
      "outputs": [],
      "source": [
        "numbers"
      ]
    },
    {
      "cell_type": "code",
      "execution_count": null,
      "metadata": {
        "id": "OGJE3OLSkpVi"
      },
      "outputs": [],
      "source": [
        "numbers2"
      ]
    },
    {
      "cell_type": "markdown",
      "metadata": {
        "id": "CkqWIvBPkpVk"
      },
      "source": [
        "### Module `copy`—Shallow vs. Deep Copies for Other Types of Python Objects"
      ]
    },
    {
      "cell_type": "markdown",
      "metadata": {
        "id": "AiZwIj3uotDY"
      },
      "source": [
        "If you need deep copies of other\n",
        "types of Python objects, pass them to the `copy` module’s `deepcopy` function."
      ]
    },
    {
      "cell_type": "markdown",
      "metadata": {
        "id": "9ifpWW9AkskR"
      },
      "source": [
        "#  Reshaping and Transposing "
      ]
    },
    {
      "cell_type": "markdown",
      "metadata": {
        "id": "UGxu4ffvo03E"
      },
      "source": [
        "NumPy provides various other ways to reshape arrays."
      ]
    },
    {
      "cell_type": "markdown",
      "metadata": {
        "id": "DNGAxD7okskY"
      },
      "source": [
        "### `reshape` vs. `resize` "
      ]
    },
    {
      "cell_type": "code",
      "execution_count": null,
      "metadata": {
        "id": "We2Un5rgkskb"
      },
      "outputs": [],
      "source": [
        "import numpy as np"
      ]
    },
    {
      "cell_type": "code",
      "execution_count": null,
      "metadata": {
        "id": "APMu0djhkskf"
      },
      "outputs": [],
      "source": [
        "grades = np.array([[87, 96, 70], [100, 87, 90]])"
      ]
    },
    {
      "cell_type": "code",
      "execution_count": null,
      "metadata": {
        "id": "Ms_7adH9kskg"
      },
      "outputs": [],
      "source": [
        "grades"
      ]
    },
    {
      "cell_type": "markdown",
      "metadata": {
        "id": "JFVl4px5o43f"
      },
      "source": [
        "The array methods reshape and resize both enable you to change an array’s\n",
        "dimensions. Method reshape returns a view (shallow copy) of the original array with\n",
        "the new dimensions. It does not modify the original array."
      ]
    },
    {
      "cell_type": "code",
      "execution_count": null,
      "metadata": {
        "id": "MNr9fkDMkski"
      },
      "outputs": [],
      "source": [
        "grades.reshape(1, 6)"
      ]
    },
    {
      "cell_type": "code",
      "execution_count": null,
      "metadata": {
        "id": "ZOkwWzmNkskj"
      },
      "outputs": [],
      "source": [
        "grades"
      ]
    },
    {
      "cell_type": "markdown",
      "metadata": {
        "id": "12GXg7G7o7fB"
      },
      "source": [
        "Method resize modifies the original array’s shape."
      ]
    },
    {
      "cell_type": "code",
      "execution_count": null,
      "metadata": {
        "id": "wIeDlOzLksk_"
      },
      "outputs": [],
      "source": [
        "grades.resize(1, 6)"
      ]
    },
    {
      "cell_type": "code",
      "execution_count": null,
      "metadata": {
        "id": "xDU_jOzYkslB"
      },
      "outputs": [],
      "source": [
        "grades"
      ]
    },
    {
      "cell_type": "markdown",
      "metadata": {
        "id": "uwWPS7e_kslC"
      },
      "source": [
        "### `flatten` vs. `ravel` "
      ]
    },
    {
      "cell_type": "code",
      "execution_count": null,
      "metadata": {
        "id": "ThA6bZptkslK"
      },
      "outputs": [],
      "source": [
        "grades = np.array([[87, 96, 70], [100, 87, 90]])"
      ]
    },
    {
      "cell_type": "code",
      "execution_count": null,
      "metadata": {
        "id": "HWBela7BkslL"
      },
      "outputs": [],
      "source": [
        "grades"
      ]
    },
    {
      "cell_type": "markdown",
      "metadata": {
        "id": "PDIJ5gOXpB6c"
      },
      "source": [
        "You can take a multidimensional array and flatten it into a single dimension with the\n",
        "methods flatten and ravel. Method flatten deep copies the original array’s data."
      ]
    },
    {
      "cell_type": "code",
      "execution_count": null,
      "metadata": {
        "id": "rOFHaUzykslM"
      },
      "outputs": [],
      "source": [
        "flattened = grades.flatten()"
      ]
    },
    {
      "cell_type": "code",
      "execution_count": null,
      "metadata": {
        "id": "jaRpeJwgkslO"
      },
      "outputs": [],
      "source": [
        "flattened"
      ]
    },
    {
      "cell_type": "code",
      "execution_count": null,
      "metadata": {
        "id": "nmdlorgVkslP"
      },
      "outputs": [],
      "source": [
        "grades"
      ]
    },
    {
      "cell_type": "code",
      "execution_count": null,
      "metadata": {
        "id": "3HmRgHVukslP"
      },
      "outputs": [],
      "source": [
        "flattened[0] = 100"
      ]
    },
    {
      "cell_type": "code",
      "execution_count": null,
      "metadata": {
        "id": "E7vsxP13kslQ"
      },
      "outputs": [],
      "source": [
        "flattened"
      ]
    },
    {
      "cell_type": "code",
      "execution_count": null,
      "metadata": {
        "id": "ETNWAwNTkslR"
      },
      "outputs": [],
      "source": [
        "grades"
      ]
    },
    {
      "cell_type": "markdown",
      "metadata": {
        "id": "Gw62lkvYpH3O"
      },
      "source": [
        "Method ravel produces a view of the original array, which shares the grades\n",
        "array’s data."
      ]
    },
    {
      "cell_type": "code",
      "execution_count": null,
      "metadata": {
        "id": "nhyGE6K9kslS"
      },
      "outputs": [],
      "source": [
        "raveled = grades.ravel()"
      ]
    },
    {
      "cell_type": "code",
      "execution_count": null,
      "metadata": {
        "id": "l7PrmMe1kslS"
      },
      "outputs": [],
      "source": [
        "raveled"
      ]
    },
    {
      "cell_type": "code",
      "execution_count": null,
      "metadata": {
        "id": "xpEynJyIkslU"
      },
      "outputs": [],
      "source": [
        "grades"
      ]
    },
    {
      "cell_type": "code",
      "execution_count": null,
      "metadata": {
        "id": "tH6jUN4pkslU"
      },
      "outputs": [],
      "source": [
        "raveled[0] = 100"
      ]
    },
    {
      "cell_type": "code",
      "execution_count": null,
      "metadata": {
        "id": "b_4Ud2SikslV"
      },
      "outputs": [],
      "source": [
        "raveled"
      ]
    },
    {
      "cell_type": "code",
      "execution_count": null,
      "metadata": {
        "id": "vbGCjZ9fksl1"
      },
      "outputs": [],
      "source": [
        "grades"
      ]
    },
    {
      "cell_type": "markdown",
      "metadata": {
        "id": "QUtyNYGJksl2"
      },
      "source": [
        "### Transposing Rows and Columns"
      ]
    },
    {
      "cell_type": "markdown",
      "metadata": {
        "id": "50mtbLxOpMmB"
      },
      "source": [
        "You can quickly transpose an array’s rows and columns—that is “flip” the array, so\n",
        "the rows become the columns and the columns become the rows. The T attribute\n",
        "returns a transposed view (shallow copy) of the array."
      ]
    },
    {
      "cell_type": "code",
      "execution_count": null,
      "metadata": {
        "id": "NBOt8Muaksl3"
      },
      "outputs": [],
      "source": [
        "grades.T"
      ]
    },
    {
      "cell_type": "code",
      "execution_count": null,
      "metadata": {
        "id": "gQs7ysksksl3"
      },
      "outputs": [],
      "source": [
        "grades"
      ]
    },
    {
      "cell_type": "markdown",
      "metadata": {
        "id": "6GhMEYV4ksl4"
      },
      "source": [
        "### Horizontal and Vertical Stacking"
      ]
    },
    {
      "cell_type": "code",
      "execution_count": null,
      "metadata": {
        "id": "-a1_uT5xksl5"
      },
      "outputs": [],
      "source": [
        "grades2 = np.array([[94, 77, 90], [100, 81, 82]])"
      ]
    },
    {
      "cell_type": "code",
      "execution_count": null,
      "metadata": {
        "id": "tWcW4Jf6ksl6"
      },
      "outputs": [],
      "source": [
        "np.hstack((grades, grades2))"
      ]
    },
    {
      "cell_type": "code",
      "execution_count": null,
      "metadata": {
        "id": "y1gOxBPJksl6"
      },
      "outputs": [],
      "source": [
        "np.vstack((grades, grades2))"
      ]
    },
    {
      "cell_type": "markdown",
      "metadata": {
        "id": "CFuw93nxpT9e"
      },
      "source": [
        "#  Pandas `Series` and xxx"
      ]
    },
    {
      "cell_type": "markdown",
      "metadata": {
        "id": "jCiiMNvfpkqk"
      },
      "source": [
        "NumPy’s array is optimized for homogeneous numeric data that’s accessed via integer\n",
        "indices. Data science presents unique demands for which more customized data\n",
        "structures are required. Big data applications must support mixed data types,\n",
        "customized indexing, missing data, data that’s not structured consistently and data that needs to be manipulated into forms appropriate for the databases and data analysis\n",
        "packages you use."
      ]
    },
    {
      "cell_type": "markdown",
      "metadata": {
        "id": "k7fHJDOWpqg7"
      },
      "source": [
        "Pandas is the most popular library for dealing with such data. It provides two key\n",
        "collections—`Series` for one-dimensional\n",
        "collections and\n",
        "`DataFrames` for two-dimensional\n",
        "collections. You can use pandas’ `MultiIndex` to\n",
        "manipulate multi-dimensional\n",
        "data in the context of Series and DataFrames."
      ]
    },
    {
      "cell_type": "markdown",
      "metadata": {
        "id": "uwNJU03fkwDK"
      },
      "source": [
        "## pandas `Series` "
      ]
    },
    {
      "cell_type": "markdown",
      "metadata": {
        "id": "Qm4bMIKTzWLr"
      },
      "source": [
        "A **Series** is an enhanced one-dimensional\n",
        "array. Whereas arrays use only zero-based\n",
        "integer indices, Series support custom indexing, including even non-integer\n",
        "indices like strings. Series also offer additional capabilities that make them more convenient for many datascience\n",
        "oriented tasks. For example, Series may have\n",
        "missing data, and many Series operations ignore missing data by default."
      ]
    },
    {
      "cell_type": "markdown",
      "metadata": {
        "id": "IKvqx1qckwDm"
      },
      "source": [
        "### Creating a `Series` with Default Indices"
      ]
    },
    {
      "cell_type": "markdown",
      "metadata": {
        "id": "Y8Uju6hhzubw"
      },
      "source": [
        "By default, a Series has integer indices numbered sequentially from 0."
      ]
    },
    {
      "cell_type": "code",
      "execution_count": 2,
      "metadata": {
        "id": "hZwqycEtkwDo"
      },
      "outputs": [],
      "source": [
        "import pandas as pd"
      ]
    },
    {
      "cell_type": "code",
      "execution_count": 3,
      "metadata": {
        "id": "CnpTmcunkwDx"
      },
      "outputs": [],
      "source": [
        "grades = pd.Series([87, 100, 94])"
      ]
    },
    {
      "cell_type": "markdown",
      "metadata": {
        "id": "_JkLuCkMkwDy"
      },
      "source": [
        "### Displaying a `Series`"
      ]
    },
    {
      "cell_type": "markdown",
      "metadata": {
        "id": "eLPmhonkz7R6"
      },
      "source": [
        "Pandas displays a Series in twocolumn\n",
        "format with the indices left aligned in the left\n",
        "column and the values right aligned in the right column. After listing the Series\n",
        "elements, pandas shows the data type (dtype) of the underlying array’s elements."
      ]
    },
    {
      "cell_type": "code",
      "execution_count": 4,
      "metadata": {
        "id": "0htrZZYKkwD2"
      },
      "outputs": [
        {
          "data": {
            "text/plain": [
              "0     87\n",
              "1    100\n",
              "2     94\n",
              "dtype: int64"
            ]
          },
          "execution_count": 4,
          "metadata": {},
          "output_type": "execute_result"
        }
      ],
      "source": [
        "grades"
      ]
    },
    {
      "cell_type": "markdown",
      "metadata": {
        "id": "QctEaOwmkwEH"
      },
      "source": [
        "### Creating a `Series` with All Elements Having the Same Value"
      ]
    },
    {
      "cell_type": "code",
      "execution_count": 5,
      "metadata": {
        "id": "wl0CGSP9kwEK"
      },
      "outputs": [
        {
          "data": {
            "text/plain": [
              "0    98.6\n",
              "1    98.6\n",
              "2    98.6\n",
              "dtype: float64"
            ]
          },
          "execution_count": 5,
          "metadata": {},
          "output_type": "execute_result"
        }
      ],
      "source": [
        "pd.Series(98.6, range(3))"
      ]
    },
    {
      "cell_type": "markdown",
      "metadata": {
        "id": "BE2BC8AzkwES"
      },
      "source": [
        "### Accessing a `Series`’ Elements"
      ]
    },
    {
      "cell_type": "code",
      "execution_count": 6,
      "metadata": {
        "id": "1KunB3DrkwEd"
      },
      "outputs": [
        {
          "data": {
            "text/plain": [
              "87"
            ]
          },
          "execution_count": 6,
          "metadata": {},
          "output_type": "execute_result"
        }
      ],
      "source": [
        "grades[0]"
      ]
    },
    {
      "cell_type": "markdown",
      "metadata": {
        "id": "2D-8yFyikwEn"
      },
      "source": [
        "### Producing Descriptive Statistics for a `Series`"
      ]
    },
    {
      "cell_type": "code",
      "execution_count": 7,
      "metadata": {
        "id": "KMWiHgnEkwEo"
      },
      "outputs": [
        {
          "data": {
            "text/plain": [
              "3"
            ]
          },
          "execution_count": 7,
          "metadata": {},
          "output_type": "execute_result"
        }
      ],
      "source": [
        "grades.count()"
      ]
    },
    {
      "cell_type": "code",
      "execution_count": 8,
      "metadata": {
        "id": "esmjIOIwkwEs"
      },
      "outputs": [
        {
          "data": {
            "text/plain": [
              "93.66666666666667"
            ]
          },
          "execution_count": 8,
          "metadata": {},
          "output_type": "execute_result"
        }
      ],
      "source": [
        "grades.mean()"
      ]
    },
    {
      "cell_type": "code",
      "execution_count": 9,
      "metadata": {
        "id": "LTEQgD2hkwE2"
      },
      "outputs": [
        {
          "data": {
            "text/plain": [
              "87"
            ]
          },
          "execution_count": 9,
          "metadata": {},
          "output_type": "execute_result"
        }
      ],
      "source": [
        "grades.min()"
      ]
    },
    {
      "cell_type": "code",
      "execution_count": 10,
      "metadata": {
        "id": "2-gd2toekwE9"
      },
      "outputs": [
        {
          "data": {
            "text/plain": [
              "100"
            ]
          },
          "execution_count": 10,
          "metadata": {},
          "output_type": "execute_result"
        }
      ],
      "source": [
        "grades.max()"
      ]
    },
    {
      "cell_type": "code",
      "execution_count": 11,
      "metadata": {
        "id": "ofgs0SgskwFE"
      },
      "outputs": [
        {
          "data": {
            "text/plain": [
              "6.506407098647712"
            ]
          },
          "execution_count": 11,
          "metadata": {},
          "output_type": "execute_result"
        }
      ],
      "source": [
        "grades.std()"
      ]
    },
    {
      "cell_type": "code",
      "execution_count": 12,
      "metadata": {
        "id": "FlJYF1aZkwFG"
      },
      "outputs": [
        {
          "data": {
            "text/plain": [
              "count      3.000000\n",
              "mean      93.666667\n",
              "std        6.506407\n",
              "min       87.000000\n",
              "25%       90.500000\n",
              "50%       94.000000\n",
              "75%       97.000000\n",
              "max      100.000000\n",
              "dtype: float64"
            ]
          },
          "execution_count": 12,
          "metadata": {},
          "output_type": "execute_result"
        }
      ],
      "source": [
        "grades.describe()"
      ]
    },
    {
      "cell_type": "markdown",
      "metadata": {
        "id": "kR06SBL1kwFJ"
      },
      "source": [
        "### Creating a `Series` with Custom Indices"
      ]
    },
    {
      "cell_type": "markdown",
      "metadata": {
        "id": "u6bBQqRT0BTn"
      },
      "source": [
        "You can specify custom indices with the `index` keyword argument."
      ]
    },
    {
      "cell_type": "code",
      "execution_count": 13,
      "metadata": {
        "id": "eVa5i3gGkwFY"
      },
      "outputs": [],
      "source": [
        "grades = pd.Series([87, 100, 94], index=['Wally', 'Eva', 'Sam'])"
      ]
    },
    {
      "cell_type": "code",
      "execution_count": 14,
      "metadata": {
        "id": "d1-XaFoGkwFx"
      },
      "outputs": [
        {
          "data": {
            "text/plain": [
              "Wally     87\n",
              "Eva      100\n",
              "Sam       94\n",
              "dtype: int64"
            ]
          },
          "execution_count": 14,
          "metadata": {},
          "output_type": "execute_result"
        }
      ],
      "source": [
        "grades"
      ]
    },
    {
      "cell_type": "markdown",
      "metadata": {
        "id": "BLnOJVyXkwF2"
      },
      "source": [
        "### Dictionary Initializers"
      ]
    },
    {
      "cell_type": "markdown",
      "metadata": {
        "id": "-5klwPIc0Ui5"
      },
      "source": [
        "If you initialize a Series with a dictionary, its keys become the Series’ indices, and\n",
        "its values become the Series’ element values."
      ]
    },
    {
      "cell_type": "code",
      "execution_count": 15,
      "metadata": {
        "id": "CLZGcZHBkwF4"
      },
      "outputs": [],
      "source": [
        "grades = pd.Series({'Wally': 87, 'Eva': 100, 'Sam': 94})"
      ]
    },
    {
      "cell_type": "code",
      "execution_count": 16,
      "metadata": {
        "id": "JxMO15jLkwF6"
      },
      "outputs": [
        {
          "data": {
            "text/plain": [
              "Wally     87\n",
              "Eva      100\n",
              "Sam       94\n",
              "dtype: int64"
            ]
          },
          "execution_count": 16,
          "metadata": {},
          "output_type": "execute_result"
        }
      ],
      "source": [
        "grades"
      ]
    },
    {
      "cell_type": "markdown",
      "metadata": {
        "id": "csEOgKAOkwF8"
      },
      "source": [
        "### Accessing a `Series`’ Elements Via Custom Indices"
      ]
    },
    {
      "cell_type": "code",
      "execution_count": 17,
      "metadata": {
        "id": "A61bVxFmkwGB"
      },
      "outputs": [
        {
          "data": {
            "text/plain": [
              "100"
            ]
          },
          "execution_count": 17,
          "metadata": {},
          "output_type": "execute_result"
        }
      ],
      "source": [
        "grades['Eva']"
      ]
    },
    {
      "cell_type": "markdown",
      "metadata": {
        "id": "Pexwwtr70b2b"
      },
      "source": [
        "If the custom indices are strings that could represent valid Python identifiers, pandas\n",
        "automatically adds them to the Series as attributes that you can access via a dot (.)."
      ]
    },
    {
      "cell_type": "code",
      "execution_count": 18,
      "metadata": {
        "id": "-Gg3OekukwGC"
      },
      "outputs": [
        {
          "data": {
            "text/plain": [
              "87"
            ]
          },
          "execution_count": 18,
          "metadata": {},
          "output_type": "execute_result"
        }
      ],
      "source": [
        "grades.Wally"
      ]
    },
    {
      "cell_type": "code",
      "execution_count": 19,
      "metadata": {
        "id": "EFfNQAchkwGF"
      },
      "outputs": [
        {
          "data": {
            "text/plain": [
              "dtype('int64')"
            ]
          },
          "execution_count": 19,
          "metadata": {},
          "output_type": "execute_result"
        }
      ],
      "source": [
        "grades.dtype"
      ]
    },
    {
      "cell_type": "code",
      "execution_count": 20,
      "metadata": {
        "id": "O1mxUmJ3kwGG"
      },
      "outputs": [
        {
          "data": {
            "text/plain": [
              "array([ 87, 100,  94], dtype=int64)"
            ]
          },
          "execution_count": 20,
          "metadata": {},
          "output_type": "execute_result"
        }
      ],
      "source": [
        "grades.values"
      ]
    },
    {
      "cell_type": "markdown",
      "metadata": {
        "id": "-ci9vASHkwGH"
      },
      "source": [
        "### Creating a Series of Strings "
      ]
    },
    {
      "cell_type": "markdown",
      "metadata": {
        "id": "LXY8rowk0lKP"
      },
      "source": [
        "If a Series contains strings, you can use its `str` attribute to call string methods on\n",
        "the elements."
      ]
    },
    {
      "cell_type": "code",
      "execution_count": 21,
      "metadata": {
        "id": "Y1GP0RSJkwGI"
      },
      "outputs": [],
      "source": [
        "hardware = pd.Series(['Hammer', 'Saw', 'Wrench'])"
      ]
    },
    {
      "cell_type": "code",
      "execution_count": 22,
      "metadata": {
        "id": "pvWBxnmGkwGJ"
      },
      "outputs": [
        {
          "data": {
            "text/plain": [
              "0    Hammer\n",
              "1       Saw\n",
              "2    Wrench\n",
              "dtype: object"
            ]
          },
          "execution_count": 22,
          "metadata": {},
          "output_type": "execute_result"
        }
      ],
      "source": [
        "hardware"
      ]
    },
    {
      "cell_type": "code",
      "execution_count": 23,
      "metadata": {
        "id": "LhYwVEZIkwGJ"
      },
      "outputs": [
        {
          "data": {
            "text/plain": [
              "0     True\n",
              "1     True\n",
              "2    False\n",
              "dtype: bool"
            ]
          },
          "execution_count": 23,
          "metadata": {},
          "output_type": "execute_result"
        }
      ],
      "source": [
        "hardware.str.contains('a')"
      ]
    },
    {
      "cell_type": "code",
      "execution_count": 24,
      "metadata": {
        "id": "wYu811BKkwGK"
      },
      "outputs": [
        {
          "data": {
            "text/plain": [
              "0    HAMMER\n",
              "1       SAW\n",
              "2    WRENCH\n",
              "dtype: object"
            ]
          },
          "execution_count": 24,
          "metadata": {},
          "output_type": "execute_result"
        }
      ],
      "source": [
        "hardware.str.upper()"
      ]
    },
    {
      "cell_type": "markdown",
      "metadata": {
        "id": "b7pBDsPp05N2"
      },
      "source": [
        "#  `DataFrame`s "
      ]
    },
    {
      "cell_type": "markdown",
      "metadata": {
        "id": "DFRXqTze1yYS"
      },
      "source": [
        "A `DataFrame` is an enhanced two-dimensional\n",
        "array. Like Series, DataFrames can\n",
        "have custom row and column indices, and offer additional operations and capabilities\n",
        "that make them more convenient for many data-science\n",
        "oriented tasks. DataFrames\n",
        "also support missing data. Each column in a DataFrame is a Series. The Series\n",
        "representing each column may contain different element types."
      ]
    },
    {
      "cell_type": "markdown",
      "metadata": {
        "id": "L0Nm7FC005OA"
      },
      "source": [
        "### Creating a `DataFrame` from a Dictionary"
      ]
    },
    {
      "cell_type": "code",
      "execution_count": 25,
      "metadata": {
        "id": "josDPeUv05OC"
      },
      "outputs": [],
      "source": [
        "import pandas as pd"
      ]
    },
    {
      "cell_type": "code",
      "execution_count": 26,
      "metadata": {
        "id": "JbG5e_vk05OF"
      },
      "outputs": [],
      "source": [
        "grades_dict = {'Wally': [87, 96, 70], 'Eva': [100, 87, 90],\n",
        "               'Sam': [94, 77, 90], 'Katie': [100, 81, 82],\n",
        "               'Bob': [83, 65, 85]}"
      ]
    },
    {
      "cell_type": "code",
      "execution_count": 27,
      "metadata": {
        "id": "5ntPLcAI05OG"
      },
      "outputs": [],
      "source": [
        "grades = pd.DataFrame(grades_dict)"
      ]
    },
    {
      "cell_type": "code",
      "execution_count": 28,
      "metadata": {
        "id": "9DxZIjI505OH"
      },
      "outputs": [
        {
          "data": {
            "text/html": [
              "<div>\n",
              "<style scoped>\n",
              "    .dataframe tbody tr th:only-of-type {\n",
              "        vertical-align: middle;\n",
              "    }\n",
              "\n",
              "    .dataframe tbody tr th {\n",
              "        vertical-align: top;\n",
              "    }\n",
              "\n",
              "    .dataframe thead th {\n",
              "        text-align: right;\n",
              "    }\n",
              "</style>\n",
              "<table border=\"1\" class=\"dataframe\">\n",
              "  <thead>\n",
              "    <tr style=\"text-align: right;\">\n",
              "      <th></th>\n",
              "      <th>Wally</th>\n",
              "      <th>Eva</th>\n",
              "      <th>Sam</th>\n",
              "      <th>Katie</th>\n",
              "      <th>Bob</th>\n",
              "    </tr>\n",
              "  </thead>\n",
              "  <tbody>\n",
              "    <tr>\n",
              "      <th>0</th>\n",
              "      <td>87</td>\n",
              "      <td>100</td>\n",
              "      <td>94</td>\n",
              "      <td>100</td>\n",
              "      <td>83</td>\n",
              "    </tr>\n",
              "    <tr>\n",
              "      <th>1</th>\n",
              "      <td>96</td>\n",
              "      <td>87</td>\n",
              "      <td>77</td>\n",
              "      <td>81</td>\n",
              "      <td>65</td>\n",
              "    </tr>\n",
              "    <tr>\n",
              "      <th>2</th>\n",
              "      <td>70</td>\n",
              "      <td>90</td>\n",
              "      <td>90</td>\n",
              "      <td>82</td>\n",
              "      <td>85</td>\n",
              "    </tr>\n",
              "  </tbody>\n",
              "</table>\n",
              "</div>"
            ],
            "text/plain": [
              "   Wally  Eva  Sam  Katie  Bob\n",
              "0     87  100   94    100   83\n",
              "1     96   87   77     81   65\n",
              "2     70   90   90     82   85"
            ]
          },
          "execution_count": 28,
          "metadata": {},
          "output_type": "execute_result"
        }
      ],
      "source": [
        "grades"
      ]
    },
    {
      "cell_type": "markdown",
      "metadata": {
        "id": "h0pXX4vy05OI"
      },
      "source": [
        "### Customizing a `DataFrame`’s Indices with the `index` Attribute "
      ]
    },
    {
      "cell_type": "markdown",
      "metadata": {
        "id": "3EwC0Qjv05OJ"
      },
      "source": [
        "```python\n",
        "pd.DataFrame(grades_dict, index=['Test1', 'Test2', 'Test3'])\n",
        "```"
      ]
    },
    {
      "cell_type": "code",
      "execution_count": 29,
      "metadata": {
        "id": "c9bzVAkq05OL"
      },
      "outputs": [],
      "source": [
        "grades.index = ['Test1', 'Test2', 'Test3']"
      ]
    },
    {
      "cell_type": "code",
      "execution_count": 30,
      "metadata": {
        "id": "mFnTcLfF05OM"
      },
      "outputs": [
        {
          "data": {
            "text/html": [
              "<div>\n",
              "<style scoped>\n",
              "    .dataframe tbody tr th:only-of-type {\n",
              "        vertical-align: middle;\n",
              "    }\n",
              "\n",
              "    .dataframe tbody tr th {\n",
              "        vertical-align: top;\n",
              "    }\n",
              "\n",
              "    .dataframe thead th {\n",
              "        text-align: right;\n",
              "    }\n",
              "</style>\n",
              "<table border=\"1\" class=\"dataframe\">\n",
              "  <thead>\n",
              "    <tr style=\"text-align: right;\">\n",
              "      <th></th>\n",
              "      <th>Wally</th>\n",
              "      <th>Eva</th>\n",
              "      <th>Sam</th>\n",
              "      <th>Katie</th>\n",
              "      <th>Bob</th>\n",
              "    </tr>\n",
              "  </thead>\n",
              "  <tbody>\n",
              "    <tr>\n",
              "      <th>Test1</th>\n",
              "      <td>87</td>\n",
              "      <td>100</td>\n",
              "      <td>94</td>\n",
              "      <td>100</td>\n",
              "      <td>83</td>\n",
              "    </tr>\n",
              "    <tr>\n",
              "      <th>Test2</th>\n",
              "      <td>96</td>\n",
              "      <td>87</td>\n",
              "      <td>77</td>\n",
              "      <td>81</td>\n",
              "      <td>65</td>\n",
              "    </tr>\n",
              "    <tr>\n",
              "      <th>Test3</th>\n",
              "      <td>70</td>\n",
              "      <td>90</td>\n",
              "      <td>90</td>\n",
              "      <td>82</td>\n",
              "      <td>85</td>\n",
              "    </tr>\n",
              "  </tbody>\n",
              "</table>\n",
              "</div>"
            ],
            "text/plain": [
              "       Wally  Eva  Sam  Katie  Bob\n",
              "Test1     87  100   94    100   83\n",
              "Test2     96   87   77     81   65\n",
              "Test3     70   90   90     82   85"
            ]
          },
          "execution_count": 30,
          "metadata": {},
          "output_type": "execute_result"
        }
      ],
      "source": [
        "grades"
      ]
    },
    {
      "cell_type": "markdown",
      "metadata": {
        "id": "q2aXCMnt05OO"
      },
      "source": [
        "### Accessing a `DataFrame`’s Columns "
      ]
    },
    {
      "cell_type": "code",
      "execution_count": 31,
      "metadata": {
        "id": "h4KmG8_S05OP"
      },
      "outputs": [
        {
          "data": {
            "text/plain": [
              "Test1    100\n",
              "Test2     87\n",
              "Test3     90\n",
              "Name: Eva, dtype: int64"
            ]
          },
          "execution_count": 31,
          "metadata": {},
          "output_type": "execute_result"
        }
      ],
      "source": [
        "grades['Eva']"
      ]
    },
    {
      "cell_type": "code",
      "execution_count": 32,
      "metadata": {
        "id": "pkuG0x4m05OP"
      },
      "outputs": [
        {
          "data": {
            "text/plain": [
              "Test1    94\n",
              "Test2    77\n",
              "Test3    90\n",
              "Name: Sam, dtype: int64"
            ]
          },
          "execution_count": 32,
          "metadata": {},
          "output_type": "execute_result"
        }
      ],
      "source": [
        "grades.Sam"
      ]
    },
    {
      "cell_type": "markdown",
      "metadata": {
        "id": "GEnCGqYe05OQ"
      },
      "source": [
        "### Selecting Rows via the `loc` and `iloc` Attributes"
      ]
    },
    {
      "cell_type": "code",
      "execution_count": 33,
      "metadata": {
        "id": "WhOijB-v05OR"
      },
      "outputs": [
        {
          "data": {
            "text/plain": [
              "Wally     87\n",
              "Eva      100\n",
              "Sam       94\n",
              "Katie    100\n",
              "Bob       83\n",
              "Name: Test1, dtype: int64"
            ]
          },
          "execution_count": 33,
          "metadata": {},
          "output_type": "execute_result"
        }
      ],
      "source": [
        "grades.loc['Test1']"
      ]
    },
    {
      "cell_type": "code",
      "execution_count": 34,
      "metadata": {
        "id": "c0OzoLe405OR"
      },
      "outputs": [
        {
          "data": {
            "text/plain": [
              "Wally    96\n",
              "Eva      87\n",
              "Sam      77\n",
              "Katie    81\n",
              "Bob      65\n",
              "Name: Test2, dtype: int64"
            ]
          },
          "execution_count": 34,
          "metadata": {},
          "output_type": "execute_result"
        }
      ],
      "source": [
        "grades.iloc[1]"
      ]
    },
    {
      "cell_type": "markdown",
      "metadata": {
        "id": "WQzSkHY305OS"
      },
      "source": [
        "### Selecting Rows via Slices and Lists with the `loc` and `iloc` Attributes"
      ]
    },
    {
      "cell_type": "code",
      "execution_count": 35,
      "metadata": {
        "id": "QwGc7F7g05OT"
      },
      "outputs": [
        {
          "data": {
            "text/html": [
              "<div>\n",
              "<style scoped>\n",
              "    .dataframe tbody tr th:only-of-type {\n",
              "        vertical-align: middle;\n",
              "    }\n",
              "\n",
              "    .dataframe tbody tr th {\n",
              "        vertical-align: top;\n",
              "    }\n",
              "\n",
              "    .dataframe thead th {\n",
              "        text-align: right;\n",
              "    }\n",
              "</style>\n",
              "<table border=\"1\" class=\"dataframe\">\n",
              "  <thead>\n",
              "    <tr style=\"text-align: right;\">\n",
              "      <th></th>\n",
              "      <th>Wally</th>\n",
              "      <th>Eva</th>\n",
              "      <th>Sam</th>\n",
              "      <th>Katie</th>\n",
              "      <th>Bob</th>\n",
              "    </tr>\n",
              "  </thead>\n",
              "  <tbody>\n",
              "    <tr>\n",
              "      <th>Test1</th>\n",
              "      <td>87</td>\n",
              "      <td>100</td>\n",
              "      <td>94</td>\n",
              "      <td>100</td>\n",
              "      <td>83</td>\n",
              "    </tr>\n",
              "    <tr>\n",
              "      <th>Test2</th>\n",
              "      <td>96</td>\n",
              "      <td>87</td>\n",
              "      <td>77</td>\n",
              "      <td>81</td>\n",
              "      <td>65</td>\n",
              "    </tr>\n",
              "    <tr>\n",
              "      <th>Test3</th>\n",
              "      <td>70</td>\n",
              "      <td>90</td>\n",
              "      <td>90</td>\n",
              "      <td>82</td>\n",
              "      <td>85</td>\n",
              "    </tr>\n",
              "  </tbody>\n",
              "</table>\n",
              "</div>"
            ],
            "text/plain": [
              "       Wally  Eva  Sam  Katie  Bob\n",
              "Test1     87  100   94    100   83\n",
              "Test2     96   87   77     81   65\n",
              "Test3     70   90   90     82   85"
            ]
          },
          "execution_count": 35,
          "metadata": {},
          "output_type": "execute_result"
        }
      ],
      "source": [
        "grades.loc['Test1':'Test3']"
      ]
    },
    {
      "cell_type": "code",
      "execution_count": 36,
      "metadata": {
        "id": "mqz-5qfj05OT"
      },
      "outputs": [
        {
          "data": {
            "text/html": [
              "<div>\n",
              "<style scoped>\n",
              "    .dataframe tbody tr th:only-of-type {\n",
              "        vertical-align: middle;\n",
              "    }\n",
              "\n",
              "    .dataframe tbody tr th {\n",
              "        vertical-align: top;\n",
              "    }\n",
              "\n",
              "    .dataframe thead th {\n",
              "        text-align: right;\n",
              "    }\n",
              "</style>\n",
              "<table border=\"1\" class=\"dataframe\">\n",
              "  <thead>\n",
              "    <tr style=\"text-align: right;\">\n",
              "      <th></th>\n",
              "      <th>Wally</th>\n",
              "      <th>Eva</th>\n",
              "      <th>Sam</th>\n",
              "      <th>Katie</th>\n",
              "      <th>Bob</th>\n",
              "    </tr>\n",
              "  </thead>\n",
              "  <tbody>\n",
              "    <tr>\n",
              "      <th>Test1</th>\n",
              "      <td>87</td>\n",
              "      <td>100</td>\n",
              "      <td>94</td>\n",
              "      <td>100</td>\n",
              "      <td>83</td>\n",
              "    </tr>\n",
              "    <tr>\n",
              "      <th>Test2</th>\n",
              "      <td>96</td>\n",
              "      <td>87</td>\n",
              "      <td>77</td>\n",
              "      <td>81</td>\n",
              "      <td>65</td>\n",
              "    </tr>\n",
              "  </tbody>\n",
              "</table>\n",
              "</div>"
            ],
            "text/plain": [
              "       Wally  Eva  Sam  Katie  Bob\n",
              "Test1     87  100   94    100   83\n",
              "Test2     96   87   77     81   65"
            ]
          },
          "execution_count": 36,
          "metadata": {},
          "output_type": "execute_result"
        }
      ],
      "source": [
        "grades.iloc[0:2]"
      ]
    },
    {
      "cell_type": "code",
      "execution_count": 37,
      "metadata": {
        "id": "PtH15gmb05OU"
      },
      "outputs": [
        {
          "data": {
            "text/html": [
              "<div>\n",
              "<style scoped>\n",
              "    .dataframe tbody tr th:only-of-type {\n",
              "        vertical-align: middle;\n",
              "    }\n",
              "\n",
              "    .dataframe tbody tr th {\n",
              "        vertical-align: top;\n",
              "    }\n",
              "\n",
              "    .dataframe thead th {\n",
              "        text-align: right;\n",
              "    }\n",
              "</style>\n",
              "<table border=\"1\" class=\"dataframe\">\n",
              "  <thead>\n",
              "    <tr style=\"text-align: right;\">\n",
              "      <th></th>\n",
              "      <th>Wally</th>\n",
              "      <th>Eva</th>\n",
              "      <th>Sam</th>\n",
              "      <th>Katie</th>\n",
              "      <th>Bob</th>\n",
              "    </tr>\n",
              "  </thead>\n",
              "  <tbody>\n",
              "    <tr>\n",
              "      <th>Test1</th>\n",
              "      <td>87</td>\n",
              "      <td>100</td>\n",
              "      <td>94</td>\n",
              "      <td>100</td>\n",
              "      <td>83</td>\n",
              "    </tr>\n",
              "    <tr>\n",
              "      <th>Test3</th>\n",
              "      <td>70</td>\n",
              "      <td>90</td>\n",
              "      <td>90</td>\n",
              "      <td>82</td>\n",
              "      <td>85</td>\n",
              "    </tr>\n",
              "  </tbody>\n",
              "</table>\n",
              "</div>"
            ],
            "text/plain": [
              "       Wally  Eva  Sam  Katie  Bob\n",
              "Test1     87  100   94    100   83\n",
              "Test3     70   90   90     82   85"
            ]
          },
          "execution_count": 37,
          "metadata": {},
          "output_type": "execute_result"
        }
      ],
      "source": [
        "grades.loc[['Test1', 'Test3']]"
      ]
    },
    {
      "cell_type": "code",
      "execution_count": 38,
      "metadata": {
        "id": "SY7aJF6z05OV"
      },
      "outputs": [
        {
          "data": {
            "text/html": [
              "<div>\n",
              "<style scoped>\n",
              "    .dataframe tbody tr th:only-of-type {\n",
              "        vertical-align: middle;\n",
              "    }\n",
              "\n",
              "    .dataframe tbody tr th {\n",
              "        vertical-align: top;\n",
              "    }\n",
              "\n",
              "    .dataframe thead th {\n",
              "        text-align: right;\n",
              "    }\n",
              "</style>\n",
              "<table border=\"1\" class=\"dataframe\">\n",
              "  <thead>\n",
              "    <tr style=\"text-align: right;\">\n",
              "      <th></th>\n",
              "      <th>Wally</th>\n",
              "      <th>Eva</th>\n",
              "      <th>Sam</th>\n",
              "      <th>Katie</th>\n",
              "      <th>Bob</th>\n",
              "    </tr>\n",
              "  </thead>\n",
              "  <tbody>\n",
              "    <tr>\n",
              "      <th>Test1</th>\n",
              "      <td>87</td>\n",
              "      <td>100</td>\n",
              "      <td>94</td>\n",
              "      <td>100</td>\n",
              "      <td>83</td>\n",
              "    </tr>\n",
              "    <tr>\n",
              "      <th>Test3</th>\n",
              "      <td>70</td>\n",
              "      <td>90</td>\n",
              "      <td>90</td>\n",
              "      <td>82</td>\n",
              "      <td>85</td>\n",
              "    </tr>\n",
              "  </tbody>\n",
              "</table>\n",
              "</div>"
            ],
            "text/plain": [
              "       Wally  Eva  Sam  Katie  Bob\n",
              "Test1     87  100   94    100   83\n",
              "Test3     70   90   90     82   85"
            ]
          },
          "execution_count": 38,
          "metadata": {},
          "output_type": "execute_result"
        }
      ],
      "source": [
        "grades.iloc[[0, 2]]"
      ]
    },
    {
      "cell_type": "markdown",
      "metadata": {
        "id": "4wZWeTip05OV"
      },
      "source": [
        "### Selecting Subsets of the Rows and Columns "
      ]
    },
    {
      "cell_type": "code",
      "execution_count": 39,
      "metadata": {
        "id": "KxAq1OTP05OV"
      },
      "outputs": [
        {
          "data": {
            "text/html": [
              "<div>\n",
              "<style scoped>\n",
              "    .dataframe tbody tr th:only-of-type {\n",
              "        vertical-align: middle;\n",
              "    }\n",
              "\n",
              "    .dataframe tbody tr th {\n",
              "        vertical-align: top;\n",
              "    }\n",
              "\n",
              "    .dataframe thead th {\n",
              "        text-align: right;\n",
              "    }\n",
              "</style>\n",
              "<table border=\"1\" class=\"dataframe\">\n",
              "  <thead>\n",
              "    <tr style=\"text-align: right;\">\n",
              "      <th></th>\n",
              "      <th>Eva</th>\n",
              "      <th>Katie</th>\n",
              "    </tr>\n",
              "  </thead>\n",
              "  <tbody>\n",
              "    <tr>\n",
              "      <th>Test1</th>\n",
              "      <td>100</td>\n",
              "      <td>100</td>\n",
              "    </tr>\n",
              "    <tr>\n",
              "      <th>Test2</th>\n",
              "      <td>87</td>\n",
              "      <td>81</td>\n",
              "    </tr>\n",
              "  </tbody>\n",
              "</table>\n",
              "</div>"
            ],
            "text/plain": [
              "       Eva  Katie\n",
              "Test1  100    100\n",
              "Test2   87     81"
            ]
          },
          "execution_count": 39,
          "metadata": {},
          "output_type": "execute_result"
        }
      ],
      "source": [
        "grades.loc['Test1':'Test2', ['Eva', 'Katie']]"
      ]
    },
    {
      "cell_type": "code",
      "execution_count": null,
      "metadata": {
        "id": "ENi50uCZ05OW"
      },
      "outputs": [],
      "source": [
        "grades.iloc[[0, 2], 0:3]"
      ]
    },
    {
      "cell_type": "markdown",
      "metadata": {
        "id": "SFojoDNj05OX"
      },
      "source": [
        "### Boolean Indexing"
      ]
    },
    {
      "cell_type": "code",
      "execution_count": 40,
      "metadata": {
        "id": "ny9pLEzi05OX"
      },
      "outputs": [
        {
          "data": {
            "text/html": [
              "<div>\n",
              "<style scoped>\n",
              "    .dataframe tbody tr th:only-of-type {\n",
              "        vertical-align: middle;\n",
              "    }\n",
              "\n",
              "    .dataframe tbody tr th {\n",
              "        vertical-align: top;\n",
              "    }\n",
              "\n",
              "    .dataframe thead th {\n",
              "        text-align: right;\n",
              "    }\n",
              "</style>\n",
              "<table border=\"1\" class=\"dataframe\">\n",
              "  <thead>\n",
              "    <tr style=\"text-align: right;\">\n",
              "      <th></th>\n",
              "      <th>Wally</th>\n",
              "      <th>Eva</th>\n",
              "      <th>Sam</th>\n",
              "      <th>Katie</th>\n",
              "      <th>Bob</th>\n",
              "    </tr>\n",
              "  </thead>\n",
              "  <tbody>\n",
              "    <tr>\n",
              "      <th>Test1</th>\n",
              "      <td>NaN</td>\n",
              "      <td>100.0</td>\n",
              "      <td>94.0</td>\n",
              "      <td>100.0</td>\n",
              "      <td>NaN</td>\n",
              "    </tr>\n",
              "    <tr>\n",
              "      <th>Test2</th>\n",
              "      <td>96.0</td>\n",
              "      <td>NaN</td>\n",
              "      <td>NaN</td>\n",
              "      <td>NaN</td>\n",
              "      <td>NaN</td>\n",
              "    </tr>\n",
              "    <tr>\n",
              "      <th>Test3</th>\n",
              "      <td>NaN</td>\n",
              "      <td>90.0</td>\n",
              "      <td>90.0</td>\n",
              "      <td>NaN</td>\n",
              "      <td>NaN</td>\n",
              "    </tr>\n",
              "  </tbody>\n",
              "</table>\n",
              "</div>"
            ],
            "text/plain": [
              "       Wally    Eva   Sam  Katie  Bob\n",
              "Test1    NaN  100.0  94.0  100.0  NaN\n",
              "Test2   96.0    NaN   NaN    NaN  NaN\n",
              "Test3    NaN   90.0  90.0    NaN  NaN"
            ]
          },
          "execution_count": 40,
          "metadata": {},
          "output_type": "execute_result"
        }
      ],
      "source": [
        "grades[grades >= 90]"
      ]
    },
    {
      "cell_type": "code",
      "execution_count": 41,
      "metadata": {
        "id": "_Z4NrBDQ05OY"
      },
      "outputs": [
        {
          "data": {
            "text/html": [
              "<div>\n",
              "<style scoped>\n",
              "    .dataframe tbody tr th:only-of-type {\n",
              "        vertical-align: middle;\n",
              "    }\n",
              "\n",
              "    .dataframe tbody tr th {\n",
              "        vertical-align: top;\n",
              "    }\n",
              "\n",
              "    .dataframe thead th {\n",
              "        text-align: right;\n",
              "    }\n",
              "</style>\n",
              "<table border=\"1\" class=\"dataframe\">\n",
              "  <thead>\n",
              "    <tr style=\"text-align: right;\">\n",
              "      <th></th>\n",
              "      <th>Wally</th>\n",
              "      <th>Eva</th>\n",
              "      <th>Sam</th>\n",
              "      <th>Katie</th>\n",
              "      <th>Bob</th>\n",
              "    </tr>\n",
              "  </thead>\n",
              "  <tbody>\n",
              "    <tr>\n",
              "      <th>Test1</th>\n",
              "      <td>87.0</td>\n",
              "      <td>NaN</td>\n",
              "      <td>NaN</td>\n",
              "      <td>NaN</td>\n",
              "      <td>83.0</td>\n",
              "    </tr>\n",
              "    <tr>\n",
              "      <th>Test2</th>\n",
              "      <td>NaN</td>\n",
              "      <td>87.0</td>\n",
              "      <td>NaN</td>\n",
              "      <td>81.0</td>\n",
              "      <td>NaN</td>\n",
              "    </tr>\n",
              "    <tr>\n",
              "      <th>Test3</th>\n",
              "      <td>NaN</td>\n",
              "      <td>NaN</td>\n",
              "      <td>NaN</td>\n",
              "      <td>82.0</td>\n",
              "      <td>85.0</td>\n",
              "    </tr>\n",
              "  </tbody>\n",
              "</table>\n",
              "</div>"
            ],
            "text/plain": [
              "       Wally   Eva  Sam  Katie   Bob\n",
              "Test1   87.0   NaN  NaN    NaN  83.0\n",
              "Test2    NaN  87.0  NaN   81.0   NaN\n",
              "Test3    NaN   NaN  NaN   82.0  85.0"
            ]
          },
          "execution_count": 41,
          "metadata": {},
          "output_type": "execute_result"
        }
      ],
      "source": [
        "grades[(grades >= 80) & (grades < 90)]"
      ]
    },
    {
      "cell_type": "markdown",
      "metadata": {
        "id": "aKuixym905OY"
      },
      "source": [
        "### Accessing a Specific `DataFrame` Cell by Row and Column"
      ]
    },
    {
      "cell_type": "code",
      "execution_count": 42,
      "metadata": {
        "id": "GnH7Y03205OY"
      },
      "outputs": [
        {
          "data": {
            "text/plain": [
              "87"
            ]
          },
          "execution_count": 42,
          "metadata": {},
          "output_type": "execute_result"
        }
      ],
      "source": [
        "grades.at['Test2', 'Eva']"
      ]
    },
    {
      "cell_type": "code",
      "execution_count": 43,
      "metadata": {
        "id": "JmAi9OMh05OZ"
      },
      "outputs": [
        {
          "data": {
            "text/plain": [
              "70"
            ]
          },
          "execution_count": 43,
          "metadata": {},
          "output_type": "execute_result"
        }
      ],
      "source": [
        "grades.iat[2, 0]"
      ]
    },
    {
      "cell_type": "code",
      "execution_count": 44,
      "metadata": {
        "id": "p6_G9H3H05OZ"
      },
      "outputs": [],
      "source": [
        "grades.at['Test2', 'Eva'] = 100"
      ]
    },
    {
      "cell_type": "code",
      "execution_count": 45,
      "metadata": {
        "id": "s0UKP8Xt05Oa"
      },
      "outputs": [
        {
          "data": {
            "text/plain": [
              "100"
            ]
          },
          "execution_count": 45,
          "metadata": {},
          "output_type": "execute_result"
        }
      ],
      "source": [
        "grades.at['Test2', 'Eva']"
      ]
    },
    {
      "cell_type": "code",
      "execution_count": 46,
      "metadata": {
        "id": "qEADD34705Oa"
      },
      "outputs": [],
      "source": [
        "grades.iat[1, 1] = 87"
      ]
    },
    {
      "cell_type": "code",
      "execution_count": 47,
      "metadata": {
        "id": "-ZgYq_PO05Oa"
      },
      "outputs": [
        {
          "data": {
            "text/plain": [
              "87"
            ]
          },
          "execution_count": 47,
          "metadata": {},
          "output_type": "execute_result"
        }
      ],
      "source": [
        "grades.iat[1, 1]"
      ]
    },
    {
      "cell_type": "markdown",
      "metadata": {
        "id": "DtC_vSaY05Ob"
      },
      "source": [
        "### Descriptive Statistics"
      ]
    },
    {
      "cell_type": "code",
      "execution_count": 48,
      "metadata": {
        "id": "vIgZlBqd05Ob"
      },
      "outputs": [
        {
          "data": {
            "text/html": [
              "<div>\n",
              "<style scoped>\n",
              "    .dataframe tbody tr th:only-of-type {\n",
              "        vertical-align: middle;\n",
              "    }\n",
              "\n",
              "    .dataframe tbody tr th {\n",
              "        vertical-align: top;\n",
              "    }\n",
              "\n",
              "    .dataframe thead th {\n",
              "        text-align: right;\n",
              "    }\n",
              "</style>\n",
              "<table border=\"1\" class=\"dataframe\">\n",
              "  <thead>\n",
              "    <tr style=\"text-align: right;\">\n",
              "      <th></th>\n",
              "      <th>Wally</th>\n",
              "      <th>Eva</th>\n",
              "      <th>Sam</th>\n",
              "      <th>Katie</th>\n",
              "      <th>Bob</th>\n",
              "    </tr>\n",
              "  </thead>\n",
              "  <tbody>\n",
              "    <tr>\n",
              "      <th>count</th>\n",
              "      <td>3.000000</td>\n",
              "      <td>3.000000</td>\n",
              "      <td>3.000000</td>\n",
              "      <td>3.000000</td>\n",
              "      <td>3.000000</td>\n",
              "    </tr>\n",
              "    <tr>\n",
              "      <th>mean</th>\n",
              "      <td>84.333333</td>\n",
              "      <td>92.333333</td>\n",
              "      <td>87.000000</td>\n",
              "      <td>87.666667</td>\n",
              "      <td>77.666667</td>\n",
              "    </tr>\n",
              "    <tr>\n",
              "      <th>std</th>\n",
              "      <td>13.203535</td>\n",
              "      <td>6.806859</td>\n",
              "      <td>8.888194</td>\n",
              "      <td>10.692677</td>\n",
              "      <td>11.015141</td>\n",
              "    </tr>\n",
              "    <tr>\n",
              "      <th>min</th>\n",
              "      <td>70.000000</td>\n",
              "      <td>87.000000</td>\n",
              "      <td>77.000000</td>\n",
              "      <td>81.000000</td>\n",
              "      <td>65.000000</td>\n",
              "    </tr>\n",
              "    <tr>\n",
              "      <th>25%</th>\n",
              "      <td>78.500000</td>\n",
              "      <td>88.500000</td>\n",
              "      <td>83.500000</td>\n",
              "      <td>81.500000</td>\n",
              "      <td>74.000000</td>\n",
              "    </tr>\n",
              "    <tr>\n",
              "      <th>50%</th>\n",
              "      <td>87.000000</td>\n",
              "      <td>90.000000</td>\n",
              "      <td>90.000000</td>\n",
              "      <td>82.000000</td>\n",
              "      <td>83.000000</td>\n",
              "    </tr>\n",
              "    <tr>\n",
              "      <th>75%</th>\n",
              "      <td>91.500000</td>\n",
              "      <td>95.000000</td>\n",
              "      <td>92.000000</td>\n",
              "      <td>91.000000</td>\n",
              "      <td>84.000000</td>\n",
              "    </tr>\n",
              "    <tr>\n",
              "      <th>max</th>\n",
              "      <td>96.000000</td>\n",
              "      <td>100.000000</td>\n",
              "      <td>94.000000</td>\n",
              "      <td>100.000000</td>\n",
              "      <td>85.000000</td>\n",
              "    </tr>\n",
              "  </tbody>\n",
              "</table>\n",
              "</div>"
            ],
            "text/plain": [
              "           Wally         Eva        Sam       Katie        Bob\n",
              "count   3.000000    3.000000   3.000000    3.000000   3.000000\n",
              "mean   84.333333   92.333333  87.000000   87.666667  77.666667\n",
              "std    13.203535    6.806859   8.888194   10.692677  11.015141\n",
              "min    70.000000   87.000000  77.000000   81.000000  65.000000\n",
              "25%    78.500000   88.500000  83.500000   81.500000  74.000000\n",
              "50%    87.000000   90.000000  90.000000   82.000000  83.000000\n",
              "75%    91.500000   95.000000  92.000000   91.000000  84.000000\n",
              "max    96.000000  100.000000  94.000000  100.000000  85.000000"
            ]
          },
          "execution_count": 48,
          "metadata": {},
          "output_type": "execute_result"
        }
      ],
      "source": [
        "grades.describe()"
      ]
    },
    {
      "cell_type": "code",
      "execution_count": 50,
      "metadata": {
        "id": "ci2YIotZ05Oc"
      },
      "outputs": [
        {
          "ename": "OptionError",
          "evalue": "Pattern matched multiple keys",
          "output_type": "error",
          "traceback": [
            "\u001b[1;31m---------------------------------------------------------------------------\u001b[0m",
            "\u001b[1;31mOptionError\u001b[0m                               Traceback (most recent call last)",
            "\u001b[1;32m~\\AppData\\Local\\Temp/ipykernel_5208/2759759271.py\u001b[0m in \u001b[0;36m<module>\u001b[1;34m\u001b[0m\n\u001b[1;32m----> 1\u001b[1;33m \u001b[0mpd\u001b[0m\u001b[1;33m.\u001b[0m\u001b[0mset_option\u001b[0m\u001b[1;33m(\u001b[0m\u001b[1;34m'precision'\u001b[0m\u001b[1;33m,\u001b[0m \u001b[1;36m2\u001b[0m\u001b[1;33m)\u001b[0m\u001b[1;33m\u001b[0m\u001b[1;33m\u001b[0m\u001b[0m\n\u001b[0m",
            "\u001b[1;32m~\\AppData\\Roaming\\Python\\Python310\\site-packages\\pandas\\_config\\config.py\u001b[0m in \u001b[0;36m__call__\u001b[1;34m(self, *args, **kwds)\u001b[0m\n\u001b[0;32m    254\u001b[0m \u001b[1;33m\u001b[0m\u001b[0m\n\u001b[0;32m    255\u001b[0m     \u001b[1;32mdef\u001b[0m \u001b[0m__call__\u001b[0m\u001b[1;33m(\u001b[0m\u001b[0mself\u001b[0m\u001b[1;33m,\u001b[0m \u001b[1;33m*\u001b[0m\u001b[0margs\u001b[0m\u001b[1;33m,\u001b[0m \u001b[1;33m**\u001b[0m\u001b[0mkwds\u001b[0m\u001b[1;33m)\u001b[0m\u001b[1;33m:\u001b[0m\u001b[1;33m\u001b[0m\u001b[1;33m\u001b[0m\u001b[0m\n\u001b[1;32m--> 256\u001b[1;33m         \u001b[1;32mreturn\u001b[0m \u001b[0mself\u001b[0m\u001b[1;33m.\u001b[0m\u001b[0m__func__\u001b[0m\u001b[1;33m(\u001b[0m\u001b[1;33m*\u001b[0m\u001b[0margs\u001b[0m\u001b[1;33m,\u001b[0m \u001b[1;33m**\u001b[0m\u001b[0mkwds\u001b[0m\u001b[1;33m)\u001b[0m\u001b[1;33m\u001b[0m\u001b[1;33m\u001b[0m\u001b[0m\n\u001b[0m\u001b[0;32m    257\u001b[0m \u001b[1;33m\u001b[0m\u001b[0m\n\u001b[0;32m    258\u001b[0m     \u001b[1;33m@\u001b[0m\u001b[0mproperty\u001b[0m\u001b[1;33m\u001b[0m\u001b[1;33m\u001b[0m\u001b[0m\n",
            "\u001b[1;32m~\\AppData\\Roaming\\Python\\Python310\\site-packages\\pandas\\_config\\config.py\u001b[0m in \u001b[0;36m_set_option\u001b[1;34m(*args, **kwargs)\u001b[0m\n\u001b[0;32m    147\u001b[0m \u001b[1;33m\u001b[0m\u001b[0m\n\u001b[0;32m    148\u001b[0m     \u001b[1;32mfor\u001b[0m \u001b[0mk\u001b[0m\u001b[1;33m,\u001b[0m \u001b[0mv\u001b[0m \u001b[1;32min\u001b[0m \u001b[0mzip\u001b[0m\u001b[1;33m(\u001b[0m\u001b[0margs\u001b[0m\u001b[1;33m[\u001b[0m\u001b[1;33m:\u001b[0m\u001b[1;33m:\u001b[0m\u001b[1;36m2\u001b[0m\u001b[1;33m]\u001b[0m\u001b[1;33m,\u001b[0m \u001b[0margs\u001b[0m\u001b[1;33m[\u001b[0m\u001b[1;36m1\u001b[0m\u001b[1;33m:\u001b[0m\u001b[1;33m:\u001b[0m\u001b[1;36m2\u001b[0m\u001b[1;33m]\u001b[0m\u001b[1;33m)\u001b[0m\u001b[1;33m:\u001b[0m\u001b[1;33m\u001b[0m\u001b[1;33m\u001b[0m\u001b[0m\n\u001b[1;32m--> 149\u001b[1;33m         \u001b[0mkey\u001b[0m \u001b[1;33m=\u001b[0m \u001b[0m_get_single_key\u001b[0m\u001b[1;33m(\u001b[0m\u001b[0mk\u001b[0m\u001b[1;33m,\u001b[0m \u001b[0msilent\u001b[0m\u001b[1;33m)\u001b[0m\u001b[1;33m\u001b[0m\u001b[1;33m\u001b[0m\u001b[0m\n\u001b[0m\u001b[0;32m    150\u001b[0m \u001b[1;33m\u001b[0m\u001b[0m\n\u001b[0;32m    151\u001b[0m         \u001b[0mo\u001b[0m \u001b[1;33m=\u001b[0m \u001b[0m_get_registered_option\u001b[0m\u001b[1;33m(\u001b[0m\u001b[0mkey\u001b[0m\u001b[1;33m)\u001b[0m\u001b[1;33m\u001b[0m\u001b[1;33m\u001b[0m\u001b[0m\n",
            "\u001b[1;32m~\\AppData\\Roaming\\Python\\Python310\\site-packages\\pandas\\_config\\config.py\u001b[0m in \u001b[0;36m_get_single_key\u001b[1;34m(pat, silent)\u001b[0m\n\u001b[0;32m    114\u001b[0m         \u001b[1;32mraise\u001b[0m \u001b[0mOptionError\u001b[0m\u001b[1;33m(\u001b[0m\u001b[1;34mf\"No such keys(s): {repr(pat)}\"\u001b[0m\u001b[1;33m)\u001b[0m\u001b[1;33m\u001b[0m\u001b[1;33m\u001b[0m\u001b[0m\n\u001b[0;32m    115\u001b[0m     \u001b[1;32mif\u001b[0m \u001b[0mlen\u001b[0m\u001b[1;33m(\u001b[0m\u001b[0mkeys\u001b[0m\u001b[1;33m)\u001b[0m \u001b[1;33m>\u001b[0m \u001b[1;36m1\u001b[0m\u001b[1;33m:\u001b[0m\u001b[1;33m\u001b[0m\u001b[1;33m\u001b[0m\u001b[0m\n\u001b[1;32m--> 116\u001b[1;33m         \u001b[1;32mraise\u001b[0m \u001b[0mOptionError\u001b[0m\u001b[1;33m(\u001b[0m\u001b[1;34m\"Pattern matched multiple keys\"\u001b[0m\u001b[1;33m)\u001b[0m\u001b[1;33m\u001b[0m\u001b[1;33m\u001b[0m\u001b[0m\n\u001b[0m\u001b[0;32m    117\u001b[0m     \u001b[0mkey\u001b[0m \u001b[1;33m=\u001b[0m \u001b[0mkeys\u001b[0m\u001b[1;33m[\u001b[0m\u001b[1;36m0\u001b[0m\u001b[1;33m]\u001b[0m\u001b[1;33m\u001b[0m\u001b[1;33m\u001b[0m\u001b[0m\n\u001b[0;32m    118\u001b[0m \u001b[1;33m\u001b[0m\u001b[0m\n",
            "\u001b[1;31mOptionError\u001b[0m: Pattern matched multiple keys"
          ]
        }
      ],
      "source": [
        "pd.set_option('precision', 2)"
      ]
    },
    {
      "cell_type": "code",
      "execution_count": 51,
      "metadata": {
        "id": "UQ6HuVLn05Oe"
      },
      "outputs": [
        {
          "data": {
            "text/html": [
              "<div>\n",
              "<style scoped>\n",
              "    .dataframe tbody tr th:only-of-type {\n",
              "        vertical-align: middle;\n",
              "    }\n",
              "\n",
              "    .dataframe tbody tr th {\n",
              "        vertical-align: top;\n",
              "    }\n",
              "\n",
              "    .dataframe thead th {\n",
              "        text-align: right;\n",
              "    }\n",
              "</style>\n",
              "<table border=\"1\" class=\"dataframe\">\n",
              "  <thead>\n",
              "    <tr style=\"text-align: right;\">\n",
              "      <th></th>\n",
              "      <th>Wally</th>\n",
              "      <th>Eva</th>\n",
              "      <th>Sam</th>\n",
              "      <th>Katie</th>\n",
              "      <th>Bob</th>\n",
              "    </tr>\n",
              "  </thead>\n",
              "  <tbody>\n",
              "    <tr>\n",
              "      <th>count</th>\n",
              "      <td>3.000000</td>\n",
              "      <td>3.000000</td>\n",
              "      <td>3.000000</td>\n",
              "      <td>3.000000</td>\n",
              "      <td>3.000000</td>\n",
              "    </tr>\n",
              "    <tr>\n",
              "      <th>mean</th>\n",
              "      <td>84.333333</td>\n",
              "      <td>92.333333</td>\n",
              "      <td>87.000000</td>\n",
              "      <td>87.666667</td>\n",
              "      <td>77.666667</td>\n",
              "    </tr>\n",
              "    <tr>\n",
              "      <th>std</th>\n",
              "      <td>13.203535</td>\n",
              "      <td>6.806859</td>\n",
              "      <td>8.888194</td>\n",
              "      <td>10.692677</td>\n",
              "      <td>11.015141</td>\n",
              "    </tr>\n",
              "    <tr>\n",
              "      <th>min</th>\n",
              "      <td>70.000000</td>\n",
              "      <td>87.000000</td>\n",
              "      <td>77.000000</td>\n",
              "      <td>81.000000</td>\n",
              "      <td>65.000000</td>\n",
              "    </tr>\n",
              "    <tr>\n",
              "      <th>25%</th>\n",
              "      <td>78.500000</td>\n",
              "      <td>88.500000</td>\n",
              "      <td>83.500000</td>\n",
              "      <td>81.500000</td>\n",
              "      <td>74.000000</td>\n",
              "    </tr>\n",
              "    <tr>\n",
              "      <th>50%</th>\n",
              "      <td>87.000000</td>\n",
              "      <td>90.000000</td>\n",
              "      <td>90.000000</td>\n",
              "      <td>82.000000</td>\n",
              "      <td>83.000000</td>\n",
              "    </tr>\n",
              "    <tr>\n",
              "      <th>75%</th>\n",
              "      <td>91.500000</td>\n",
              "      <td>95.000000</td>\n",
              "      <td>92.000000</td>\n",
              "      <td>91.000000</td>\n",
              "      <td>84.000000</td>\n",
              "    </tr>\n",
              "    <tr>\n",
              "      <th>max</th>\n",
              "      <td>96.000000</td>\n",
              "      <td>100.000000</td>\n",
              "      <td>94.000000</td>\n",
              "      <td>100.000000</td>\n",
              "      <td>85.000000</td>\n",
              "    </tr>\n",
              "  </tbody>\n",
              "</table>\n",
              "</div>"
            ],
            "text/plain": [
              "           Wally         Eva        Sam       Katie        Bob\n",
              "count   3.000000    3.000000   3.000000    3.000000   3.000000\n",
              "mean   84.333333   92.333333  87.000000   87.666667  77.666667\n",
              "std    13.203535    6.806859   8.888194   10.692677  11.015141\n",
              "min    70.000000   87.000000  77.000000   81.000000  65.000000\n",
              "25%    78.500000   88.500000  83.500000   81.500000  74.000000\n",
              "50%    87.000000   90.000000  90.000000   82.000000  83.000000\n",
              "75%    91.500000   95.000000  92.000000   91.000000  84.000000\n",
              "max    96.000000  100.000000  94.000000  100.000000  85.000000"
            ]
          },
          "execution_count": 51,
          "metadata": {},
          "output_type": "execute_result"
        }
      ],
      "source": [
        "grades.describe()"
      ]
    },
    {
      "cell_type": "code",
      "execution_count": 52,
      "metadata": {
        "id": "WG6F79zU05Of"
      },
      "outputs": [
        {
          "data": {
            "text/plain": [
              "Wally    84.333333\n",
              "Eva      92.333333\n",
              "Sam      87.000000\n",
              "Katie    87.666667\n",
              "Bob      77.666667\n",
              "dtype: float64"
            ]
          },
          "execution_count": 52,
          "metadata": {},
          "output_type": "execute_result"
        }
      ],
      "source": [
        "grades.mean()"
      ]
    },
    {
      "cell_type": "markdown",
      "metadata": {
        "id": "8QbRkgF905Og"
      },
      "source": [
        "### Transposing the `DataFrame` with the `T` Attribute"
      ]
    },
    {
      "cell_type": "code",
      "execution_count": null,
      "metadata": {
        "id": "8TmooFc505Og"
      },
      "outputs": [],
      "source": [
        "grades.T"
      ]
    },
    {
      "cell_type": "code",
      "execution_count": 53,
      "metadata": {
        "id": "X9pNogEk05Oh"
      },
      "outputs": [
        {
          "data": {
            "text/html": [
              "<div>\n",
              "<style scoped>\n",
              "    .dataframe tbody tr th:only-of-type {\n",
              "        vertical-align: middle;\n",
              "    }\n",
              "\n",
              "    .dataframe tbody tr th {\n",
              "        vertical-align: top;\n",
              "    }\n",
              "\n",
              "    .dataframe thead th {\n",
              "        text-align: right;\n",
              "    }\n",
              "</style>\n",
              "<table border=\"1\" class=\"dataframe\">\n",
              "  <thead>\n",
              "    <tr style=\"text-align: right;\">\n",
              "      <th></th>\n",
              "      <th>Test1</th>\n",
              "      <th>Test2</th>\n",
              "      <th>Test3</th>\n",
              "    </tr>\n",
              "  </thead>\n",
              "  <tbody>\n",
              "    <tr>\n",
              "      <th>count</th>\n",
              "      <td>5.000000</td>\n",
              "      <td>5.00000</td>\n",
              "      <td>5.000000</td>\n",
              "    </tr>\n",
              "    <tr>\n",
              "      <th>mean</th>\n",
              "      <td>92.800000</td>\n",
              "      <td>81.20000</td>\n",
              "      <td>83.400000</td>\n",
              "    </tr>\n",
              "    <tr>\n",
              "      <th>std</th>\n",
              "      <td>7.661593</td>\n",
              "      <td>11.54123</td>\n",
              "      <td>8.234076</td>\n",
              "    </tr>\n",
              "    <tr>\n",
              "      <th>min</th>\n",
              "      <td>83.000000</td>\n",
              "      <td>65.00000</td>\n",
              "      <td>70.000000</td>\n",
              "    </tr>\n",
              "    <tr>\n",
              "      <th>25%</th>\n",
              "      <td>87.000000</td>\n",
              "      <td>77.00000</td>\n",
              "      <td>82.000000</td>\n",
              "    </tr>\n",
              "    <tr>\n",
              "      <th>50%</th>\n",
              "      <td>94.000000</td>\n",
              "      <td>81.00000</td>\n",
              "      <td>85.000000</td>\n",
              "    </tr>\n",
              "    <tr>\n",
              "      <th>75%</th>\n",
              "      <td>100.000000</td>\n",
              "      <td>87.00000</td>\n",
              "      <td>90.000000</td>\n",
              "    </tr>\n",
              "    <tr>\n",
              "      <th>max</th>\n",
              "      <td>100.000000</td>\n",
              "      <td>96.00000</td>\n",
              "      <td>90.000000</td>\n",
              "    </tr>\n",
              "  </tbody>\n",
              "</table>\n",
              "</div>"
            ],
            "text/plain": [
              "            Test1     Test2      Test3\n",
              "count    5.000000   5.00000   5.000000\n",
              "mean    92.800000  81.20000  83.400000\n",
              "std      7.661593  11.54123   8.234076\n",
              "min     83.000000  65.00000  70.000000\n",
              "25%     87.000000  77.00000  82.000000\n",
              "50%     94.000000  81.00000  85.000000\n",
              "75%    100.000000  87.00000  90.000000\n",
              "max    100.000000  96.00000  90.000000"
            ]
          },
          "execution_count": 53,
          "metadata": {},
          "output_type": "execute_result"
        }
      ],
      "source": [
        "grades.T.describe()"
      ]
    },
    {
      "cell_type": "code",
      "execution_count": 54,
      "metadata": {
        "id": "OaRlpAwy05Oh"
      },
      "outputs": [
        {
          "data": {
            "text/plain": [
              "Test1    92.8\n",
              "Test2    81.2\n",
              "Test3    83.4\n",
              "dtype: float64"
            ]
          },
          "execution_count": 54,
          "metadata": {},
          "output_type": "execute_result"
        }
      ],
      "source": [
        "grades.T.mean()"
      ]
    },
    {
      "cell_type": "markdown",
      "metadata": {
        "id": "44lBjaNV05Oi"
      },
      "source": [
        "### Sorting By Rows by Their Indices"
      ]
    },
    {
      "cell_type": "code",
      "execution_count": 55,
      "metadata": {
        "id": "0SyF3JcA05Oi"
      },
      "outputs": [
        {
          "data": {
            "text/html": [
              "<div>\n",
              "<style scoped>\n",
              "    .dataframe tbody tr th:only-of-type {\n",
              "        vertical-align: middle;\n",
              "    }\n",
              "\n",
              "    .dataframe tbody tr th {\n",
              "        vertical-align: top;\n",
              "    }\n",
              "\n",
              "    .dataframe thead th {\n",
              "        text-align: right;\n",
              "    }\n",
              "</style>\n",
              "<table border=\"1\" class=\"dataframe\">\n",
              "  <thead>\n",
              "    <tr style=\"text-align: right;\">\n",
              "      <th></th>\n",
              "      <th>Wally</th>\n",
              "      <th>Eva</th>\n",
              "      <th>Sam</th>\n",
              "      <th>Katie</th>\n",
              "      <th>Bob</th>\n",
              "    </tr>\n",
              "  </thead>\n",
              "  <tbody>\n",
              "    <tr>\n",
              "      <th>Test3</th>\n",
              "      <td>70</td>\n",
              "      <td>90</td>\n",
              "      <td>90</td>\n",
              "      <td>82</td>\n",
              "      <td>85</td>\n",
              "    </tr>\n",
              "    <tr>\n",
              "      <th>Test2</th>\n",
              "      <td>96</td>\n",
              "      <td>87</td>\n",
              "      <td>77</td>\n",
              "      <td>81</td>\n",
              "      <td>65</td>\n",
              "    </tr>\n",
              "    <tr>\n",
              "      <th>Test1</th>\n",
              "      <td>87</td>\n",
              "      <td>100</td>\n",
              "      <td>94</td>\n",
              "      <td>100</td>\n",
              "      <td>83</td>\n",
              "    </tr>\n",
              "  </tbody>\n",
              "</table>\n",
              "</div>"
            ],
            "text/plain": [
              "       Wally  Eva  Sam  Katie  Bob\n",
              "Test3     70   90   90     82   85\n",
              "Test2     96   87   77     81   65\n",
              "Test1     87  100   94    100   83"
            ]
          },
          "execution_count": 55,
          "metadata": {},
          "output_type": "execute_result"
        }
      ],
      "source": [
        "grades.sort_index(ascending=False)"
      ]
    },
    {
      "cell_type": "markdown",
      "metadata": {
        "id": "hcYjPtAL05Oj"
      },
      "source": [
        "### Sorting By Column Indices"
      ]
    },
    {
      "cell_type": "code",
      "execution_count": 56,
      "metadata": {
        "id": "u842MxKt05Oj"
      },
      "outputs": [
        {
          "data": {
            "text/html": [
              "<div>\n",
              "<style scoped>\n",
              "    .dataframe tbody tr th:only-of-type {\n",
              "        vertical-align: middle;\n",
              "    }\n",
              "\n",
              "    .dataframe tbody tr th {\n",
              "        vertical-align: top;\n",
              "    }\n",
              "\n",
              "    .dataframe thead th {\n",
              "        text-align: right;\n",
              "    }\n",
              "</style>\n",
              "<table border=\"1\" class=\"dataframe\">\n",
              "  <thead>\n",
              "    <tr style=\"text-align: right;\">\n",
              "      <th></th>\n",
              "      <th>Bob</th>\n",
              "      <th>Eva</th>\n",
              "      <th>Katie</th>\n",
              "      <th>Sam</th>\n",
              "      <th>Wally</th>\n",
              "    </tr>\n",
              "  </thead>\n",
              "  <tbody>\n",
              "    <tr>\n",
              "      <th>Test1</th>\n",
              "      <td>83</td>\n",
              "      <td>100</td>\n",
              "      <td>100</td>\n",
              "      <td>94</td>\n",
              "      <td>87</td>\n",
              "    </tr>\n",
              "    <tr>\n",
              "      <th>Test2</th>\n",
              "      <td>65</td>\n",
              "      <td>87</td>\n",
              "      <td>81</td>\n",
              "      <td>77</td>\n",
              "      <td>96</td>\n",
              "    </tr>\n",
              "    <tr>\n",
              "      <th>Test3</th>\n",
              "      <td>85</td>\n",
              "      <td>90</td>\n",
              "      <td>82</td>\n",
              "      <td>90</td>\n",
              "      <td>70</td>\n",
              "    </tr>\n",
              "  </tbody>\n",
              "</table>\n",
              "</div>"
            ],
            "text/plain": [
              "       Bob  Eva  Katie  Sam  Wally\n",
              "Test1   83  100    100   94     87\n",
              "Test2   65   87     81   77     96\n",
              "Test3   85   90     82   90     70"
            ]
          },
          "execution_count": 56,
          "metadata": {},
          "output_type": "execute_result"
        }
      ],
      "source": [
        "grades.sort_index(axis=1)"
      ]
    },
    {
      "cell_type": "markdown",
      "metadata": {
        "id": "OuVHGHKi05Oj"
      },
      "source": [
        "### Sorting By Column Values"
      ]
    },
    {
      "cell_type": "code",
      "execution_count": null,
      "metadata": {
        "id": "h9-pLp0Q05Oj"
      },
      "outputs": [],
      "source": [
        "grades.sort_values(by='Test1', axis=1, ascending=False)"
      ]
    },
    {
      "cell_type": "code",
      "execution_count": null,
      "metadata": {
        "id": "iGZymKgE05Ok"
      },
      "outputs": [],
      "source": [
        "grades.T.sort_values(by='Test1', ascending=False)"
      ]
    },
    {
      "cell_type": "code",
      "execution_count": null,
      "metadata": {
        "id": "C2V-JkVp05Ok"
      },
      "outputs": [],
      "source": [
        "grades.loc['Test1'].sort_values(ascending=False)"
      ]
    },
    {
      "cell_type": "markdown",
      "metadata": {
        "id": "uzw50xZY05Ol"
      },
      "source": [
        "### Copy vs. In-Place Sorting"
      ]
    },
    {
      "cell_type": "markdown",
      "metadata": {
        "id": "hl5823CT2fLA"
      },
      "source": [
        "By default the sort_index and sort_values return a copy of the original\n",
        "DataFrame, which could require substantial memory in a big data application. You can\n",
        "sort the DataFrame in place, rather than copying the data. To do so, pass the keyword\n",
        "argument inplace=True to either sort_index or sort_values.\n",
        "We’ve shown many pandas Series and DataFrame features. In the next chapter’s\n",
        "Intro to Data Science section, we’ll use Series and DataFrames for data munging—\n",
        "cleaning and preparing data for use in your database or analytics software."
      ]
    }
  ],
  "metadata": {
    "colab": {
      "collapsed_sections": [],
      "name": "I2232-Array-Oriented Programming with NumPy.ipynb",
      "provenance": []
    },
    "kernelspec": {
      "display_name": "Python 3",
      "name": "python3"
    },
    "language_info": {
      "codemirror_mode": {
        "name": "ipython",
        "version": 3
      },
      "file_extension": ".py",
      "mimetype": "text/x-python",
      "name": "python",
      "nbconvert_exporter": "python",
      "pygments_lexer": "ipython3",
      "version": "3.10.0"
    }
  },
  "nbformat": 4,
  "nbformat_minor": 0
}
