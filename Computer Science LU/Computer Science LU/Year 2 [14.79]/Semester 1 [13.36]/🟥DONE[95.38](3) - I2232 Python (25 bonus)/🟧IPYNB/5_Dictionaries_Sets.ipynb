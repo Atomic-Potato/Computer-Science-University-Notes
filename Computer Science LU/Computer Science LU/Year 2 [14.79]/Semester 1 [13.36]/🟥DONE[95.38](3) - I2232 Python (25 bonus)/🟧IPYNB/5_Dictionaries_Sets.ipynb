{
  "nbformat": 4,
  "nbformat_minor": 0,
  "metadata": {
    "colab": {
      "name": "I2232-Dictionaries_Sets.ipynb",
      "provenance": [],
      "collapsed_sections": []
    },
    "kernelspec": {
      "name": "python3",
      "display_name": "Python 3"
    },
    "language_info": {
      "name": "python"
    }
  },
  "cells": [
    {
      "cell_type": "markdown",
      "metadata": {
        "id": "huadhdnr8z_t"
      },
      "source": [
        "We’ve discussed three builtin\n",
        "sequence collections—strings, lists and tuples. Now, we\n",
        "consider the built-in\n",
        "non-sequence\n",
        "collections—dictionaries and sets. A **dictionary** is\n",
        "an unordered collection which stores **key–value** pairs that map immutable keys to\n",
        "values, just as a conventional dictionary maps words to definitions. A **set** is an unordered collection of unique immutable elements."
      ]
    },
    {
      "cell_type": "markdown",
      "metadata": {
        "id": "Etc8wSUo9BHW"
      },
      "source": [
        "# Dictionaries"
      ]
    },
    {
      "cell_type": "markdown",
      "metadata": {
        "id": "_gqY9bjT9KlL"
      },
      "source": [
        "A dictionary associates keys with values. Each key maps to a specific value."
      ]
    },
    {
      "cell_type": "markdown",
      "metadata": {
        "id": "XlkTfMmR9Qci"
      },
      "source": [
        "### Unique Keys"
      ]
    },
    {
      "cell_type": "markdown",
      "metadata": {
        "id": "UUvHYPRB9OLA"
      },
      "source": [
        "A dictionary’s keys must be immutable (such as strings, numbers or tuples) and unique\n",
        "(that is, no duplicates). Multiple keys can have the same value, such as two different\n",
        "inventory codes that have the same quantity in stock."
      ]
    },
    {
      "cell_type": "markdown",
      "metadata": {
        "id": "Ozja6ysu81MQ"
      },
      "source": [
        "##  Creating a Dictionary"
      ]
    },
    {
      "cell_type": "markdown",
      "metadata": {
        "id": "TULHxFuI9ZaD"
      },
      "source": [
        "You can create a dictionary by enclosing in curly braces, {}, a comma-separated\n",
        "list of\n",
        "key–value pairs, each of the form key: value. You can create an empty dictionary with\n",
        "{}."
      ]
    },
    {
      "cell_type": "code",
      "metadata": {
        "id": "jh3Y0JZB81MX"
      },
      "source": [
        "country_codes = {'Finland': 'fi', 'South Africa': 'za', \n",
        "                  'Nepal': 'np'}\n",
        "                 "
      ],
      "execution_count": null,
      "outputs": []
    },
    {
      "cell_type": "code",
      "metadata": {
        "id": "vlZBtvbs81Ma"
      },
      "source": [
        "country_codes"
      ],
      "execution_count": null,
      "outputs": []
    },
    {
      "cell_type": "markdown",
      "metadata": {
        "id": "r_4_jnUq81Mb"
      },
      "source": [
        "### Determining if a Dictionary Is Empty "
      ]
    },
    {
      "cell_type": "markdown",
      "metadata": {
        "id": "tvBHapgM9fjQ"
      },
      "source": [
        "The builtin\n",
        "function len returns the number of key–value pairs in a dictionary."
      ]
    },
    {
      "cell_type": "code",
      "metadata": {
        "id": "wusjSscA81Mc"
      },
      "source": [
        "len(country_codes)"
      ],
      "execution_count": null,
      "outputs": []
    },
    {
      "cell_type": "markdown",
      "metadata": {
        "id": "Xnc3WnOS9l8J"
      },
      "source": [
        "You can use a dictionary as a condition to determine if it’s empty—a non-empty\n",
        "dictionary\n",
        "evaluates to `True`."
      ]
    },
    {
      "cell_type": "code",
      "metadata": {
        "id": "VXX0pOfY81Md"
      },
      "source": [
        "if country_codes:\n",
        "    print('country_codes is not empty')\n",
        "else:\n",
        "    print('country_codes is empty')\n",
        "    "
      ],
      "execution_count": null,
      "outputs": []
    },
    {
      "cell_type": "code",
      "metadata": {
        "id": "5lFpYv1O81Me"
      },
      "source": [
        "country_codes.clear()"
      ],
      "execution_count": null,
      "outputs": []
    },
    {
      "cell_type": "code",
      "metadata": {
        "id": "4q975fCU81Mf"
      },
      "source": [
        "if country_codes:\n",
        "    print('country_codes is not empty')\n",
        "else:\n",
        "    print('country_codes is empty')\n",
        "    "
      ],
      "execution_count": null,
      "outputs": []
    },
    {
      "cell_type": "markdown",
      "metadata": {
        "id": "tEPCH7Ig9viw"
      },
      "source": [
        "## Iterating through a Dictionary "
      ]
    },
    {
      "cell_type": "markdown",
      "metadata": {
        "id": "A5dv9vRm94fC"
      },
      "source": [
        "Dictionary method `items` returns each key–value pair as a tuple."
      ]
    },
    {
      "cell_type": "code",
      "metadata": {
        "id": "Y5Wa3_iJ9vi5"
      },
      "source": [
        "days_per_month = {'January': 31, 'February': 28, 'March': 31}"
      ],
      "execution_count": null,
      "outputs": []
    },
    {
      "cell_type": "code",
      "metadata": {
        "id": "wxb7APlC9vi7"
      },
      "source": [
        "days_per_month"
      ],
      "execution_count": null,
      "outputs": []
    },
    {
      "cell_type": "code",
      "metadata": {
        "id": "UdHVdq0l9vi8"
      },
      "source": [
        "for month, days in days_per_month.items():\n",
        "    print(f'{month} has {days} days')\n",
        "    "
      ],
      "execution_count": null,
      "outputs": []
    },
    {
      "cell_type": "markdown",
      "metadata": {
        "id": "2PE6e5Ns98l4"
      },
      "source": [
        "##  Basic Dictionary Operations"
      ]
    },
    {
      "cell_type": "code",
      "metadata": {
        "id": "ssv_vook98mB"
      },
      "source": [
        "roman_numerals = {'I': 1, 'II': 2, 'III': 3, 'V': 5, 'X': 100}"
      ],
      "execution_count": null,
      "outputs": []
    },
    {
      "cell_type": "code",
      "metadata": {
        "id": "5EsQs_WT98mD"
      },
      "source": [
        "roman_numerals"
      ],
      "execution_count": null,
      "outputs": []
    },
    {
      "cell_type": "markdown",
      "metadata": {
        "id": "MP6M9hEz98mE"
      },
      "source": [
        "### Accessing the Value Associated with a Key"
      ]
    },
    {
      "cell_type": "code",
      "metadata": {
        "id": "aMxM-ZW298mF"
      },
      "source": [
        "roman_numerals['V']"
      ],
      "execution_count": null,
      "outputs": []
    },
    {
      "cell_type": "markdown",
      "metadata": {
        "id": "hv_0YBr998mG"
      },
      "source": [
        "### Updating the Value of an Existing Key–Value Pair"
      ]
    },
    {
      "cell_type": "code",
      "metadata": {
        "id": "6_eojbIR98mH"
      },
      "source": [
        "roman_numerals['X'] = 10"
      ],
      "execution_count": null,
      "outputs": []
    },
    {
      "cell_type": "code",
      "metadata": {
        "id": "E693TTLP98mJ"
      },
      "source": [
        "roman_numerals"
      ],
      "execution_count": null,
      "outputs": []
    },
    {
      "cell_type": "markdown",
      "metadata": {
        "id": "kB9lCtTv98mK"
      },
      "source": [
        "### Adding a New Key–Value Pair"
      ]
    },
    {
      "cell_type": "markdown",
      "metadata": {
        "id": "EEH4rQJw-G8q"
      },
      "source": [
        "Assigning a value to a nonexistent key inserts the key–value pair in the dictionar."
      ]
    },
    {
      "cell_type": "code",
      "metadata": {
        "id": "erOXiS2598mL"
      },
      "source": [
        "roman_numerals['L'] = 50"
      ],
      "execution_count": null,
      "outputs": []
    },
    {
      "cell_type": "code",
      "metadata": {
        "id": "KfUCTH2098mM"
      },
      "source": [
        "roman_numerals"
      ],
      "execution_count": null,
      "outputs": []
    },
    {
      "cell_type": "markdown",
      "metadata": {
        "id": "Ta8yiOUo98mM"
      },
      "source": [
        "### Removing a Key–Value Pair"
      ]
    },
    {
      "cell_type": "markdown",
      "metadata": {
        "id": "WecU7nyl-KDa"
      },
      "source": [
        "You can delete a key–value pair from a dictionary with the del statement."
      ]
    },
    {
      "cell_type": "code",
      "metadata": {
        "id": "eE_s0fjf98mN"
      },
      "source": [
        "del roman_numerals['III']"
      ],
      "execution_count": null,
      "outputs": []
    },
    {
      "cell_type": "code",
      "metadata": {
        "id": "LyZRpe0o98mO"
      },
      "source": [
        "roman_numerals"
      ],
      "execution_count": null,
      "outputs": []
    },
    {
      "cell_type": "markdown",
      "metadata": {
        "id": "mnjORM55-M5k"
      },
      "source": [
        "You also can remove a key–value pair with the dictionary method `pop`, which returns\n",
        "the value for the removed key."
      ]
    },
    {
      "cell_type": "code",
      "metadata": {
        "id": "Pgz9SwOr98mO"
      },
      "source": [
        "roman_numerals.pop('X')"
      ],
      "execution_count": null,
      "outputs": []
    },
    {
      "cell_type": "code",
      "metadata": {
        "id": "BUXmD2VD98mO"
      },
      "source": [
        "roman_numerals"
      ],
      "execution_count": null,
      "outputs": []
    },
    {
      "cell_type": "markdown",
      "metadata": {
        "id": "P0Z_SKGc98mP"
      },
      "source": [
        "### Attempting to Access a Nonexistent Key"
      ]
    },
    {
      "cell_type": "markdown",
      "metadata": {
        "id": "oFm6srsU-QRx"
      },
      "source": [
        "Accessing a nonexistent key results in a `KeyError`."
      ]
    },
    {
      "cell_type": "code",
      "metadata": {
        "id": "tGW8dtjM98mQ"
      },
      "source": [
        "roman_numerals['III']"
      ],
      "execution_count": null,
      "outputs": []
    },
    {
      "cell_type": "markdown",
      "metadata": {
        "id": "Hd1VOq7j-WgP"
      },
      "source": [
        "You can prevent this error by using dictionary method `get`, which normally returns its\n",
        "argument’s corresponding value. If that key is not found, `get` returns `None`."
      ]
    },
    {
      "cell_type": "code",
      "metadata": {
        "id": "q98Jy1KQ98mQ"
      },
      "source": [
        "roman_numerals.get('III')"
      ],
      "execution_count": null,
      "outputs": []
    },
    {
      "cell_type": "code",
      "metadata": {
        "id": "uS8TShSt98mR"
      },
      "source": [
        "roman_numerals.get('III', 'III not in dictionary')"
      ],
      "execution_count": null,
      "outputs": []
    },
    {
      "cell_type": "code",
      "metadata": {
        "id": "2qiZzfdP98mR"
      },
      "source": [
        "roman_numerals.get('V')"
      ],
      "execution_count": null,
      "outputs": []
    },
    {
      "cell_type": "markdown",
      "metadata": {
        "id": "ymU8BE-n98mS"
      },
      "source": [
        "### Testing Whether a Dictionary Contains a Specified Key"
      ]
    },
    {
      "cell_type": "code",
      "metadata": {
        "id": "UJY73Vud98mS"
      },
      "source": [
        "'V' in roman_numerals"
      ],
      "execution_count": null,
      "outputs": []
    },
    {
      "cell_type": "code",
      "metadata": {
        "id": "30vqQH1798mT"
      },
      "source": [
        "'III' in roman_numerals"
      ],
      "execution_count": null,
      "outputs": []
    },
    {
      "cell_type": "code",
      "metadata": {
        "id": "SnTmtf2o98mT"
      },
      "source": [
        "'III' not in roman_numerals"
      ],
      "execution_count": null,
      "outputs": []
    },
    {
      "cell_type": "markdown",
      "metadata": {
        "id": "Yp3nu6Xr-fRs"
      },
      "source": [
        "##  Dictionary Methods `keys` and `values` "
      ]
    },
    {
      "cell_type": "markdown",
      "metadata": {
        "id": "uSHnx4fF-n8v"
      },
      "source": [
        "Earlier, we used dictionary method `items` to iterate through tuples of a dictionary’s\n",
        "key–value pairs. Similarly, methods `keys` and `values` can be used to iterate through\n",
        "only a dictionary’s keys or values, respectively."
      ]
    },
    {
      "cell_type": "code",
      "metadata": {
        "id": "hZHklxK4-fR1"
      },
      "source": [
        "months = {'January': 1, 'February': 2, 'March': 3}"
      ],
      "execution_count": null,
      "outputs": []
    },
    {
      "cell_type": "code",
      "metadata": {
        "id": "CDG3_pPy-fR3"
      },
      "source": [
        "for month_name in months.keys():\n",
        "    print(month_name, end='  ')\n",
        "   "
      ],
      "execution_count": null,
      "outputs": []
    },
    {
      "cell_type": "code",
      "metadata": {
        "id": "ynPphsgz-fR4"
      },
      "source": [
        "for month_number in months.values():\n",
        "    print(month_number, end='  ')"
      ],
      "execution_count": null,
      "outputs": []
    },
    {
      "cell_type": "markdown",
      "metadata": {
        "id": "qPZ_jScA-fR5"
      },
      "source": [
        "### Dictionary Views"
      ]
    },
    {
      "cell_type": "markdown",
      "metadata": {
        "id": "fDTbVWaS-w6k"
      },
      "source": [
        "Dictionary methods `items`, `keys` and `values` each return a view of a dictionary’s data.\n",
        "When you iterate over a view, it “sees” the dictionary’s current contents—it does not\n",
        "have its own copy of the data."
      ]
    },
    {
      "cell_type": "code",
      "metadata": {
        "id": "RzQYetQ1-fR6"
      },
      "source": [
        "months_view = months.keys()"
      ],
      "execution_count": null,
      "outputs": []
    },
    {
      "cell_type": "code",
      "metadata": {
        "id": "_IpN9B7M-fR8"
      },
      "source": [
        "for key in months_view:\n",
        "    print(key, end='  ')\n",
        "    "
      ],
      "execution_count": null,
      "outputs": []
    },
    {
      "cell_type": "code",
      "metadata": {
        "id": "huBWIRtT-fR-"
      },
      "source": [
        "months['December'] = 12"
      ],
      "execution_count": null,
      "outputs": []
    },
    {
      "cell_type": "code",
      "metadata": {
        "id": "KggIvSUb-fR_"
      },
      "source": [
        "months"
      ],
      "execution_count": null,
      "outputs": []
    },
    {
      "cell_type": "code",
      "metadata": {
        "id": "KyyhuwUO-fSA"
      },
      "source": [
        "for key in months_view:\n",
        "    print(key, end='  ')\n",
        "    "
      ],
      "execution_count": null,
      "outputs": []
    },
    {
      "cell_type": "markdown",
      "metadata": {
        "id": "wjA-968F-fSB"
      },
      "source": [
        "### Converting Dictionary Keys, Values and Key–Value Pairs to Lists"
      ]
    },
    {
      "cell_type": "code",
      "metadata": {
        "id": "hhXGoh_h-fSC"
      },
      "source": [
        "list(months.keys())"
      ],
      "execution_count": null,
      "outputs": []
    },
    {
      "cell_type": "code",
      "metadata": {
        "id": "IEU-UheW-fSD"
      },
      "source": [
        "list(months.values())"
      ],
      "execution_count": null,
      "outputs": []
    },
    {
      "cell_type": "code",
      "metadata": {
        "id": "tQTsKC0w-fSD"
      },
      "source": [
        "list(months.items())"
      ],
      "execution_count": null,
      "outputs": []
    },
    {
      "cell_type": "markdown",
      "metadata": {
        "id": "a8msE3zJ-fSE"
      },
      "source": [
        "### Processing Keys in Sorted Order "
      ]
    },
    {
      "cell_type": "code",
      "metadata": {
        "id": "E-UG7Hkq-fSE"
      },
      "source": [
        "for month_name in sorted(months.keys()):\n",
        "     print(month_name, end='  ')"
      ],
      "execution_count": null,
      "outputs": []
    },
    {
      "cell_type": "markdown",
      "metadata": {
        "id": "9kW6lHiD-5v8"
      },
      "source": [
        "##  Dictionary Comparisons"
      ]
    },
    {
      "cell_type": "markdown",
      "metadata": {
        "id": "P572tbfv_A1B"
      },
      "source": [
        "The comparison operators == and != can be used to determine whether two\n",
        "dictionaries have identical or different contents. An equals (==) comparison evaluates\n",
        "to True if both dictionaries have the same key–value pairs, regardless of the order in\n",
        "which those key–value pairs were added to each dictionary."
      ]
    },
    {
      "cell_type": "code",
      "metadata": {
        "id": "DkEsYKi--5wF"
      },
      "source": [
        "country_capitals1 = {'Belgium': 'Brussels',\n",
        "                     'Haiti': 'Port-au-Prince'}\n",
        "                        "
      ],
      "execution_count": null,
      "outputs": []
    },
    {
      "cell_type": "code",
      "metadata": {
        "id": "UdUBULZZ-5wH"
      },
      "source": [
        "country_capitals2 = {'Nepal': 'Kathmandu',\n",
        "                     'Uruguay': 'Montevideo'}\n",
        "                        "
      ],
      "execution_count": null,
      "outputs": []
    },
    {
      "cell_type": "code",
      "metadata": {
        "id": "uSu11PiP-5wI"
      },
      "source": [
        "country_capitals3 = {'Haiti': 'Port-au-Prince',\n",
        "                     'Belgium': 'Brussels'}\n",
        "                        "
      ],
      "execution_count": null,
      "outputs": []
    },
    {
      "cell_type": "code",
      "metadata": {
        "id": "XQgKgdcC-5wK"
      },
      "source": [
        "country_capitals1 == country_capitals2"
      ],
      "execution_count": null,
      "outputs": []
    },
    {
      "cell_type": "code",
      "metadata": {
        "id": "NfVSECAo-5wL"
      },
      "source": [
        "country_capitals1 == country_capitals3"
      ],
      "execution_count": null,
      "outputs": []
    },
    {
      "cell_type": "code",
      "metadata": {
        "id": "SN7kvwAd-5wM"
      },
      "source": [
        "country_capitals1 != country_capitals2"
      ],
      "execution_count": null,
      "outputs": []
    },
    {
      "cell_type": "markdown",
      "metadata": {
        "id": "0DmqvLp-_QKM"
      },
      "source": [
        "## Example: Dictionary of Student Grades"
      ]
    },
    {
      "cell_type": "markdown",
      "metadata": {
        "id": "M5Cty3xD_SNc"
      },
      "source": [
        "Understand and run the following example."
      ]
    },
    {
      "cell_type": "code",
      "metadata": {
        "id": "CWSwslaP_byC"
      },
      "source": [
        "\"\"\"Using a dictionary to represent an instructor's grade book.\"\"\"\n",
        "grade_book = {            \n",
        "    'Susan': [92, 85, 100], \n",
        "    'Eduardo': [83, 95, 79],\n",
        "    'Azizi': [91, 89, 82],  \n",
        "    'Pantipa': [97, 91, 92] \n",
        "}\n",
        "\n",
        "all_grades_total = 0\n",
        "all_grades_count = 0\n",
        "\n",
        "for name, grades in grade_book.items():\n",
        "    total = sum(grades)\n",
        "    print(f'Average for {name} is {total/len(grades):.2f}')\n",
        "    all_grades_total += total\n",
        "    all_grades_count += len(grades)\n",
        "    \n",
        "print(f\"Class's average is: {all_grades_total / all_grades_count:.2f}\")"
      ],
      "execution_count": null,
      "outputs": []
    },
    {
      "cell_type": "markdown",
      "metadata": {
        "id": "p35XVVio_iji"
      },
      "source": [
        "##  Example: Word Counts "
      ]
    },
    {
      "cell_type": "markdown",
      "metadata": {
        "id": "9JOjF4eW_vq2"
      },
      "source": [
        "The following script builds a dictionary to count the number of occurrences of each\n",
        "word in a string. A string text will be broken into words—a process\n",
        "known as **tokenizing a string**. Python automatically concatenates strings separated\n",
        "by whitespace in parentheses. "
      ]
    },
    {
      "cell_type": "code",
      "metadata": {
        "id": "NDRroPnXACXh"
      },
      "source": [
        "\"\"\"Tokenizing a string and counting unique words.\"\"\"\n",
        "\n",
        "text = ('this is sample text with several words ' \n",
        "        'this is more sample text with some different words')\n",
        "\n",
        "word_counts = {}\n",
        "\n",
        "# count occurrences of each unique word\n",
        "for word in text.split():\n",
        "    if word in word_counts: \n",
        "        word_counts[word] += 1  # update existing key-value pair\n",
        "    else:\n",
        "        word_counts[word] = 1  # insert new key-value pair\n",
        "\n",
        "print(f'{\"WORD\":<12}COUNT')\n",
        "\n",
        "for word, count in sorted(word_counts.items()):\n",
        "    print(f'{word:<12}{count}')\n",
        "\n",
        "print('\\nNumber of unique words:', len(word_counts))\n"
      ],
      "execution_count": null,
      "outputs": []
    },
    {
      "cell_type": "markdown",
      "metadata": {
        "id": "2EztD3xcAH3M"
      },
      "source": [
        "### Python Standard Library Module `collections"
      ]
    },
    {
      "cell_type": "markdown",
      "metadata": {
        "id": "3Hj3LZuiALQM"
      },
      "source": [
        "The module\n",
        "`collections` contains the type `Counter`, which receives an iterable and summarizes\n",
        "its elements."
      ]
    },
    {
      "cell_type": "code",
      "metadata": {
        "id": "cZwBco_h_ijx"
      },
      "source": [
        "from collections import Counter"
      ],
      "execution_count": null,
      "outputs": []
    },
    {
      "cell_type": "code",
      "metadata": {
        "id": "Nn-3dFdC_ij1"
      },
      "source": [
        "text = ('this is sample text with several words '\n",
        "        'this is more sample text with some different words')"
      ],
      "execution_count": null,
      "outputs": []
    },
    {
      "cell_type": "code",
      "metadata": {
        "id": "oBz0DBXG_ij4"
      },
      "source": [
        "counter = Counter(text.split())"
      ],
      "execution_count": null,
      "outputs": []
    },
    {
      "cell_type": "code",
      "metadata": {
        "id": "B8ukdEfg_ij5"
      },
      "source": [
        "for word, count in sorted(counter.items()):\n",
        "    print(f'{word:<12}{count}')\n",
        "    "
      ],
      "execution_count": null,
      "outputs": []
    },
    {
      "cell_type": "code",
      "metadata": {
        "id": "OltFh46Z_ij7"
      },
      "source": [
        "print('Number of unique keys:', len(counter.keys()))"
      ],
      "execution_count": null,
      "outputs": []
    },
    {
      "cell_type": "markdown",
      "metadata": {
        "id": "yaRuxA4CAQG8"
      },
      "source": [
        "##  Dictionary Method `update`"
      ]
    },
    {
      "cell_type": "markdown",
      "metadata": {
        "id": "fbYIps3tAacq"
      },
      "source": [
        "You may insert and update key–value pairs using dictionary method update."
      ]
    },
    {
      "cell_type": "code",
      "metadata": {
        "id": "P5m5Q263AQHG"
      },
      "source": [
        "country_codes = {}"
      ],
      "execution_count": null,
      "outputs": []
    },
    {
      "cell_type": "code",
      "metadata": {
        "id": "vBx3fwMjAQHK"
      },
      "source": [
        "country_codes.update({'South Africa': 'za'})"
      ],
      "execution_count": null,
      "outputs": []
    },
    {
      "cell_type": "code",
      "metadata": {
        "id": "vJ6cbelFAQHL"
      },
      "source": [
        "country_codes"
      ],
      "execution_count": null,
      "outputs": []
    },
    {
      "cell_type": "markdown",
      "metadata": {
        "id": "H1FZZLQPAhK8"
      },
      "source": [
        "Method update can convert keyword arguments into key–value pairs to insert."
      ]
    },
    {
      "cell_type": "code",
      "metadata": {
        "id": "pIX1KwZcAQHM"
      },
      "source": [
        "country_codes.update(Australia='ar')"
      ],
      "execution_count": null,
      "outputs": []
    },
    {
      "cell_type": "code",
      "metadata": {
        "id": "nOA_AfV0AQHN"
      },
      "source": [
        "country_codes"
      ],
      "execution_count": null,
      "outputs": []
    },
    {
      "cell_type": "code",
      "metadata": {
        "id": "0T7CQpU_AQHO"
      },
      "source": [
        "country_codes.update(Australia='au')"
      ],
      "execution_count": null,
      "outputs": []
    },
    {
      "cell_type": "code",
      "metadata": {
        "id": "mTmxcjnHAQHP"
      },
      "source": [
        "country_codes"
      ],
      "execution_count": null,
      "outputs": []
    },
    {
      "cell_type": "markdown",
      "metadata": {
        "id": "YODFQ32kAoNr"
      },
      "source": [
        "Method update also can receive an iterable object containing key–value pairs, such as\n",
        "a list of two-element\n",
        "tuples."
      ]
    },
    {
      "cell_type": "markdown",
      "metadata": {
        "id": "FzsTq90mArRK"
      },
      "source": [
        "##  Dictionary Comprehensions"
      ]
    },
    {
      "cell_type": "markdown",
      "metadata": {
        "id": "UDKQcuioAxqa"
      },
      "source": [
        "**Dictionary comprehensions** provide a convenient notation for quickly generating\n",
        "dictionaries, often by mapping one dictionary to another."
      ]
    },
    {
      "cell_type": "code",
      "metadata": {
        "id": "5B1GAUaBArRe"
      },
      "source": [
        "months = {'January': 1, 'February': 2, 'March': 3}"
      ],
      "execution_count": null,
      "outputs": []
    },
    {
      "cell_type": "code",
      "metadata": {
        "id": "BHHAfLGFArRo"
      },
      "source": [
        "months2 = {number: name for name, number in months.items()}"
      ],
      "execution_count": null,
      "outputs": []
    },
    {
      "cell_type": "code",
      "metadata": {
        "id": "0SlgDd1xArRp"
      },
      "source": [
        "months2"
      ],
      "execution_count": null,
      "outputs": []
    },
    {
      "cell_type": "markdown",
      "metadata": {
        "id": "avVYZlWpA4bd"
      },
      "source": [
        "A dictionary comprehension also can map a dictionary’s values to new values."
      ]
    },
    {
      "cell_type": "code",
      "metadata": {
        "id": "e4ALlv8cArRr"
      },
      "source": [
        "grades = {'Sue': [98, 87, 94], 'Bob': [84, 95, 91]}"
      ],
      "execution_count": null,
      "outputs": []
    },
    {
      "cell_type": "code",
      "metadata": {
        "id": "NUmr8280ArRt"
      },
      "source": [
        "grades2 = {k: sum(v) / len(v) for k, v in grades.items()}"
      ],
      "execution_count": null,
      "outputs": []
    },
    {
      "cell_type": "code",
      "metadata": {
        "id": "pdVH38a5ArRt"
      },
      "source": [
        "grades2"
      ],
      "execution_count": null,
      "outputs": []
    },
    {
      "cell_type": "markdown",
      "metadata": {
        "id": "0N2nrwDlA_nN"
      },
      "source": [
        "#  Sets\n",
        "\n"
      ]
    },
    {
      "cell_type": "markdown",
      "metadata": {
        "id": "sSHO0Zd5BHEf"
      },
      "source": [
        "A set is an unordered collection of unique values. Sets may contain only immutable\n",
        "objects, like strings, ints, floats and tuples that contain only immutable elements.\n",
        "Though sets are iterable, they are not sequences and do not support indexing and\n",
        "slicing with square brackets, []. Dictionaries also do not support slicing."
      ]
    },
    {
      "cell_type": "markdown",
      "metadata": {
        "id": "RKosxqctBD0K"
      },
      "source": [
        "### Creating a Set with Curly Braces"
      ]
    },
    {
      "cell_type": "code",
      "metadata": {
        "id": "4_dxbI9rA_nY"
      },
      "source": [
        "colors = {'red', 'orange', 'yellow', 'green', 'red', 'blue'}"
      ],
      "execution_count": null,
      "outputs": []
    },
    {
      "cell_type": "code",
      "metadata": {
        "id": "H3sPN1JTA_nb"
      },
      "source": [
        "colors"
      ],
      "execution_count": null,
      "outputs": []
    },
    {
      "cell_type": "markdown",
      "metadata": {
        "id": "YRszc4g3EKxl"
      },
      "source": [
        "Notice that the duplicate string 'red' was ignored (without causing an error). An\n",
        "important use of sets is **duplicate elimination**, which is automatic when creating a\n",
        "set. Also, the resulting set’s values are not displayed in the same order. Though the color names are displayed in sorted order, sets are\n",
        "unordered. You should not write code that depends on the order of their elements."
      ]
    },
    {
      "cell_type": "markdown",
      "metadata": {
        "id": "PThexr4gA_nc"
      },
      "source": [
        "### Determining a Set’s Length"
      ]
    },
    {
      "cell_type": "code",
      "metadata": {
        "id": "g4vlX67xA_ne"
      },
      "source": [
        "len(colors)"
      ],
      "execution_count": null,
      "outputs": []
    },
    {
      "cell_type": "markdown",
      "metadata": {
        "id": "AiGxN5XfA_nf"
      },
      "source": [
        "### Checking Whether a Value Is in a Set"
      ]
    },
    {
      "cell_type": "code",
      "metadata": {
        "id": "cF4ZtWXdA_nh"
      },
      "source": [
        "'red' in colors"
      ],
      "execution_count": null,
      "outputs": []
    },
    {
      "cell_type": "code",
      "metadata": {
        "id": "IMjzMw6oA_nj"
      },
      "source": [
        "'purple' in colors"
      ],
      "execution_count": null,
      "outputs": []
    },
    {
      "cell_type": "code",
      "metadata": {
        "id": "WJxDZI1qA_nk"
      },
      "source": [
        "'purple' not in colors"
      ],
      "execution_count": null,
      "outputs": []
    },
    {
      "cell_type": "markdown",
      "metadata": {
        "id": "iqxn1_8nA_nl"
      },
      "source": [
        "### Iterating Through a Set"
      ]
    },
    {
      "cell_type": "code",
      "metadata": {
        "id": "UbJL9Al7A_nm"
      },
      "source": [
        "for color in colors:\n",
        "    print(color.upper(), end=' ')\n",
        "    "
      ],
      "execution_count": null,
      "outputs": []
    },
    {
      "cell_type": "markdown",
      "metadata": {
        "id": "BkzXwldvA_nn"
      },
      "source": [
        "### Creating a Set with the Built-In `set` Function"
      ]
    },
    {
      "cell_type": "markdown",
      "metadata": {
        "id": "V7OSQapOEW0D"
      },
      "source": [
        "You can create a set from another collection of values by using the builtin\n",
        "`set` function."
      ]
    },
    {
      "cell_type": "code",
      "metadata": {
        "id": "iqLQYw-8A_no"
      },
      "source": [
        "numbers = list(range(10)) + list(range(5))"
      ],
      "execution_count": null,
      "outputs": []
    },
    {
      "cell_type": "code",
      "metadata": {
        "id": "THESkAwOA_no"
      },
      "source": [
        "numbers"
      ],
      "execution_count": null,
      "outputs": []
    },
    {
      "cell_type": "code",
      "metadata": {
        "id": "2IrVDBlgA_np"
      },
      "source": [
        "set(numbers)"
      ],
      "execution_count": null,
      "outputs": []
    },
    {
      "cell_type": "code",
      "metadata": {
        "id": "_gMkHGVNA_nq"
      },
      "source": [
        "set()"
      ],
      "execution_count": null,
      "outputs": []
    },
    {
      "cell_type": "markdown",
      "metadata": {
        "id": "th2qizurA_nq"
      },
      "source": [
        "### Frozenset: An Immutable Set Type"
      ]
    },
    {
      "cell_type": "markdown",
      "metadata": {
        "id": "ld7Gon0fEaAp"
      },
      "source": [
        "Sets are mutable—you can add and remove elements, but set elements must be\n",
        "immutable. Therefore, a set cannot have other sets as elements. A `frozenset` is an\n",
        "immutable set—it cannot be modified after you create it, so a set can contain frozensets\n",
        "as elements. The builtin\n",
        "function `frozenset` creates a frozenset from any iterable."
      ]
    },
    {
      "cell_type": "markdown",
      "metadata": {
        "id": "xS5getbLEoVC"
      },
      "source": [
        "##  Comparing Sets"
      ]
    },
    {
      "cell_type": "markdown",
      "metadata": {
        "id": "6E_1tw7LE0N0"
      },
      "source": [
        "Various operators and methods can be used to compare sets."
      ]
    },
    {
      "cell_type": "code",
      "metadata": {
        "id": "13wlNqzOEoVT"
      },
      "source": [
        "{1, 3, 5} == {3, 5, 1}"
      ],
      "execution_count": null,
      "outputs": []
    },
    {
      "cell_type": "code",
      "metadata": {
        "id": "MdQhZ0akEoVa"
      },
      "source": [
        "{1, 3, 5} != {3, 5, 1}"
      ],
      "execution_count": null,
      "outputs": []
    },
    {
      "cell_type": "markdown",
      "metadata": {
        "id": "EjDr-KGFE369"
      },
      "source": [
        "The < operator tests whether the set to its left is a proper subset of the one to its right\n",
        "—that is, all the elements in the left operand are in the right operand, and the sets are\n",
        "not equal."
      ]
    },
    {
      "cell_type": "code",
      "metadata": {
        "id": "HTduU0PVEoVj"
      },
      "source": [
        "{1, 3, 5} < {3, 5, 1}"
      ],
      "execution_count": null,
      "outputs": []
    },
    {
      "cell_type": "code",
      "metadata": {
        "id": "y5r3u13JEoVp"
      },
      "source": [
        "{1, 3, 5} < {7, 3, 5, 1}"
      ],
      "execution_count": null,
      "outputs": []
    },
    {
      "cell_type": "markdown",
      "metadata": {
        "id": "ZDV_mExXE7Dm"
      },
      "source": [
        "The <= operator tests whether the set to its left is an **improper subset** of the one to its\n",
        "right—that is, all the elements in the left operand are in the right operand, and the sets\n",
        "might be equal."
      ]
    },
    {
      "cell_type": "code",
      "metadata": {
        "id": "gKbWmu-FEoVr"
      },
      "source": [
        "{1, 3, 5} <= {3, 5, 1}"
      ],
      "execution_count": null,
      "outputs": []
    },
    {
      "cell_type": "code",
      "metadata": {
        "id": "CQUSa8KEEoVt"
      },
      "source": [
        "{1, 3} <= {3, 5, 1}"
      ],
      "execution_count": null,
      "outputs": []
    },
    {
      "cell_type": "markdown",
      "metadata": {
        "id": "_HJhAgTOE9zh"
      },
      "source": [
        "You may also check for an **improper subset** with the set method `issubset`."
      ]
    },
    {
      "cell_type": "code",
      "metadata": {
        "id": "yqWXaMBEEoVv"
      },
      "source": [
        "{1, 3, 5}.issubset({3, 5, 1})"
      ],
      "execution_count": null,
      "outputs": []
    },
    {
      "cell_type": "code",
      "metadata": {
        "id": "Kftq1b6KEoVw"
      },
      "source": [
        "{1, 2}.issubset({3, 5, 1})"
      ],
      "execution_count": null,
      "outputs": []
    },
    {
      "cell_type": "markdown",
      "metadata": {
        "id": "9TJG_FvTFA9Z"
      },
      "source": [
        "The > operator tests whether the set to its left is a **proper superset** of the one to its\n",
        "right—that is, all the elements in the right operand are in the left operand, and the left\n",
        "operand has more elements."
      ]
    },
    {
      "cell_type": "code",
      "metadata": {
        "id": "UvsG3jIVEoVx"
      },
      "source": [
        "{1, 3, 5} > {3, 5, 1}"
      ],
      "execution_count": null,
      "outputs": []
    },
    {
      "cell_type": "code",
      "metadata": {
        "id": "Hcf1NoIGEoVy"
      },
      "source": [
        "{1, 3, 5, 7} > {3, 5, 1}"
      ],
      "execution_count": null,
      "outputs": []
    },
    {
      "cell_type": "markdown",
      "metadata": {
        "id": "1jPWCbBpFH34"
      },
      "source": [
        "The >= operator tests whether the set to its left is an **improper superset** of the one to\n",
        "its right—that is, all the elements in the right operand are in the left operand, and the\n",
        "sets might be equal."
      ]
    },
    {
      "cell_type": "code",
      "metadata": {
        "id": "8fwZefU9EoVz"
      },
      "source": [
        "{1, 3, 5} >= {3, 5, 1}"
      ],
      "execution_count": null,
      "outputs": []
    },
    {
      "cell_type": "code",
      "metadata": {
        "id": "OT2FhEEXEoV0"
      },
      "source": [
        "{1, 3, 5} >= {3, 1}"
      ],
      "execution_count": null,
      "outputs": []
    },
    {
      "cell_type": "code",
      "metadata": {
        "id": "uo1sVnx7EoV1"
      },
      "source": [
        "{1, 3} >= {3, 1, 7}"
      ],
      "execution_count": null,
      "outputs": []
    },
    {
      "cell_type": "markdown",
      "metadata": {
        "id": "aOlEuRe4FLd1"
      },
      "source": [
        "You may also check for an **improper superset** with the set method `issuperset`."
      ]
    },
    {
      "cell_type": "code",
      "metadata": {
        "id": "auVgdpSUEoV1"
      },
      "source": [
        "{1, 3, 5}.issuperset({3, 5, 1})"
      ],
      "execution_count": null,
      "outputs": []
    },
    {
      "cell_type": "code",
      "metadata": {
        "id": "q10UDd25EoV2"
      },
      "source": [
        "{1, 3, 5}.issuperset({3, 2})"
      ],
      "execution_count": null,
      "outputs": []
    },
    {
      "cell_type": "markdown",
      "metadata": {
        "id": "aGdxMN19EpPX"
      },
      "source": [
        "##  Mathematical Set Operations\n",
        "\n"
      ]
    },
    {
      "cell_type": "markdown",
      "metadata": {
        "id": "3OO2TJBUFTYq"
      },
      "source": [
        "### Union "
      ]
    },
    {
      "cell_type": "markdown",
      "metadata": {
        "id": "bYAH3ZhOFWoP"
      },
      "source": [
        "The **union** of two sets is a set consisting of all the unique elements from both sets. You\n",
        "can calculate the union with the `|` operator or with the set type’s `union` method."
      ]
    },
    {
      "cell_type": "code",
      "metadata": {
        "id": "8AQtqKoYEpPz"
      },
      "source": [
        "{1, 3, 5} | {2, 3, 4}"
      ],
      "execution_count": null,
      "outputs": []
    },
    {
      "cell_type": "code",
      "metadata": {
        "id": "qjNyDqYfEpQW"
      },
      "source": [
        "{1, 3, 5}.union([20, 20, 3, 40, 40])"
      ],
      "execution_count": null,
      "outputs": []
    },
    {
      "cell_type": "markdown",
      "metadata": {
        "id": "F5eq-DFbEpQX"
      },
      "source": [
        "### Intersection "
      ]
    },
    {
      "cell_type": "markdown",
      "metadata": {
        "id": "dlBGh-FdFc3G"
      },
      "source": [
        "The **intersection** of two sets is a set consisting of all the unique elements that the two sets have in common. You can calculate the intersection with the `&` operator or with\n",
        "the set type’s `intersection` method."
      ]
    },
    {
      "cell_type": "code",
      "metadata": {
        "id": "T3CacqFAEpQg"
      },
      "source": [
        "{1, 3, 5} & {2, 3, 4}"
      ],
      "execution_count": null,
      "outputs": []
    },
    {
      "cell_type": "code",
      "metadata": {
        "id": "cpF4BlygEpQo"
      },
      "source": [
        "{1, 3, 5}.intersection([1, 2, 2, 3, 3, 4, 4])"
      ],
      "execution_count": null,
      "outputs": []
    },
    {
      "cell_type": "markdown",
      "metadata": {
        "id": "I5AaUNhzEpRT"
      },
      "source": [
        "### Difference "
      ]
    },
    {
      "cell_type": "markdown",
      "metadata": {
        "id": "DHHcP39TFkxh"
      },
      "source": [
        "The **difference** between two sets is a set consisting of the elements in the left operand\n",
        "that are not in the right operand. You can calculate the difference with the `-` operator\n",
        "or with the set type’s `difference` method."
      ]
    },
    {
      "cell_type": "code",
      "metadata": {
        "id": "N081iGscEpRW"
      },
      "source": [
        "{1, 3, 5} - {2, 3, 4}"
      ],
      "execution_count": null,
      "outputs": []
    },
    {
      "cell_type": "code",
      "metadata": {
        "id": "Yt2t4uL7EpRY"
      },
      "source": [
        "{1, 3, 5, 7}.difference([2, 2, 3, 3, 4, 4])"
      ],
      "execution_count": null,
      "outputs": []
    },
    {
      "cell_type": "markdown",
      "metadata": {
        "id": "rXQhWmm4EpRc"
      },
      "source": [
        "### Symmetric Difference "
      ]
    },
    {
      "cell_type": "markdown",
      "metadata": {
        "id": "LFXx9xt2FrxQ"
      },
      "source": [
        "The **symmetric difference** between two sets is a set consisting of the elements of\n",
        "both sets that are not in common with one another. You can calculate the symmetric\n",
        "difference with the `^` operator or with the set type’s `symmetric_difference`\n",
        "method"
      ]
    },
    {
      "cell_type": "code",
      "metadata": {
        "id": "KkjFZLE6EpRj"
      },
      "source": [
        "{1, 3, 5} ^ {2, 3, 4}"
      ],
      "execution_count": null,
      "outputs": []
    },
    {
      "cell_type": "code",
      "metadata": {
        "id": "golgExRGEpRo"
      },
      "source": [
        "{1, 3, 5, 7}.symmetric_difference([2, 2, 3, 3, 4, 4])"
      ],
      "execution_count": null,
      "outputs": []
    },
    {
      "cell_type": "markdown",
      "metadata": {
        "id": "nksGwn8uEpRq"
      },
      "source": [
        "### Disjoint"
      ]
    },
    {
      "cell_type": "markdown",
      "metadata": {
        "id": "Ndb7hcMuFyBb"
      },
      "source": [
        "Two sets are **disjoint** if they do not have any common elements. You can determine this with the set type’s `isdisjoint` method."
      ]
    },
    {
      "cell_type": "code",
      "metadata": {
        "id": "qbTduOtREpRr"
      },
      "source": [
        "{1, 3, 5}.isdisjoint({2, 4, 6})"
      ],
      "execution_count": null,
      "outputs": []
    },
    {
      "cell_type": "code",
      "metadata": {
        "id": "NNGcN2QgEpRt"
      },
      "source": [
        "{1, 3, 5}.isdisjoint({4, 6, 1})"
      ],
      "execution_count": null,
      "outputs": []
    },
    {
      "cell_type": "markdown",
      "metadata": {
        "id": "Qe880RMXEqMS"
      },
      "source": [
        "##  Mutable Set Operators and Methods\n",
        "\n"
      ]
    },
    {
      "cell_type": "markdown",
      "metadata": {
        "id": "igjKLKA8GKyW"
      },
      "source": [
        "The operators and methods presented in the preceding section each result in a new set.\n",
        "Here we discuss operators and methods that modify an existing set."
      ]
    },
    {
      "cell_type": "markdown",
      "metadata": {
        "id": "OEB-uimrGISl"
      },
      "source": [
        "### Mutable Mathematical Set Operations"
      ]
    },
    {
      "cell_type": "markdown",
      "metadata": {
        "id": "uxmR0hpXGNXk"
      },
      "source": [
        "Like operator |, union augmented assignment |= performs a set union operation,\n",
        "but |= modifies its left operand."
      ]
    },
    {
      "cell_type": "code",
      "metadata": {
        "id": "L63BpkJZEqMh"
      },
      "source": [
        "numbers = {1, 3, 5}"
      ],
      "execution_count": null,
      "outputs": []
    },
    {
      "cell_type": "code",
      "metadata": {
        "id": "AtafSo_TEqMm"
      },
      "source": [
        "numbers |= {2, 3, 4}"
      ],
      "execution_count": null,
      "outputs": []
    },
    {
      "cell_type": "code",
      "metadata": {
        "id": "tMXkrZuWEqMo"
      },
      "source": [
        "numbers"
      ],
      "execution_count": null,
      "outputs": []
    },
    {
      "cell_type": "markdown",
      "metadata": {
        "id": "Rhbdo2G6GR9g"
      },
      "source": [
        "The set type’s `update` method performs a union operation modifying the set\n",
        "on which it’s called—the argument can be any iterable"
      ]
    },
    {
      "cell_type": "code",
      "metadata": {
        "id": "WvF3RcEoEqMp"
      },
      "source": [
        "numbers.update(range(10))"
      ],
      "execution_count": null,
      "outputs": []
    },
    {
      "cell_type": "code",
      "metadata": {
        "id": "Mmbrk8BzEqMq"
      },
      "source": [
        "numbers"
      ],
      "execution_count": null,
      "outputs": []
    },
    {
      "cell_type": "markdown",
      "metadata": {
        "id": "yT84NTErEqMt"
      },
      "source": [
        "### Methods for Adding and Removing Elements"
      ]
    },
    {
      "cell_type": "markdown",
      "metadata": {
        "id": "ZP2VODoWGYyd"
      },
      "source": [
        "Set method add inserts its argument if the argument is not already in the set;\n",
        "otherwise, the set remains unchanged."
      ]
    },
    {
      "cell_type": "code",
      "metadata": {
        "id": "jJPqgWvsEqMv"
      },
      "source": [
        "numbers.add(17)"
      ],
      "execution_count": null,
      "outputs": []
    },
    {
      "cell_type": "code",
      "metadata": {
        "id": "WQ_4vt5EEqMx"
      },
      "source": [
        "numbers.add(3)"
      ],
      "execution_count": null,
      "outputs": []
    },
    {
      "cell_type": "code",
      "metadata": {
        "id": "1bHZtMMfEqMz"
      },
      "source": [
        "numbers"
      ],
      "execution_count": null,
      "outputs": []
    },
    {
      "cell_type": "markdown",
      "metadata": {
        "id": "F0Kio9dnGbf5"
      },
      "source": [
        "Set method `remove` removes its argument from the set—a `KeyError` occurs if the\n",
        "value is not in the set."
      ]
    },
    {
      "cell_type": "code",
      "metadata": {
        "id": "sfSZGoUPEqM2"
      },
      "source": [
        "numbers.remove(3)"
      ],
      "execution_count": null,
      "outputs": []
    },
    {
      "cell_type": "code",
      "metadata": {
        "id": "RMsITVWgEqM3"
      },
      "source": [
        "numbers"
      ],
      "execution_count": null,
      "outputs": []
    },
    {
      "cell_type": "markdown",
      "metadata": {
        "id": "UrsQjNppGhfv"
      },
      "source": [
        "Method `discard` also removes its argument from the set but does not cause an\n",
        "exception if the value is not in the set"
      ]
    },
    {
      "cell_type": "markdown",
      "metadata": {
        "id": "6EziY_TyGhr-"
      },
      "source": [
        "You also can remove an arbitrary set element and return it with `pop`, but sets are\n",
        "unordered, so you do not know which element will be returned."
      ]
    },
    {
      "cell_type": "code",
      "metadata": {
        "id": "BOQIkR5AEqM4"
      },
      "source": [
        "numbers.pop()"
      ],
      "execution_count": null,
      "outputs": []
    },
    {
      "cell_type": "code",
      "metadata": {
        "id": "B6ITOpugEqM5"
      },
      "source": [
        "numbers"
      ],
      "execution_count": null,
      "outputs": []
    },
    {
      "cell_type": "markdown",
      "metadata": {
        "id": "13FuyhNHGpSl"
      },
      "source": [
        "Finally, method `clear` empties the set on which it’s called."
      ]
    },
    {
      "cell_type": "code",
      "metadata": {
        "id": "Imq7Zi_mEqM6"
      },
      "source": [
        "numbers.clear()"
      ],
      "execution_count": null,
      "outputs": []
    },
    {
      "cell_type": "code",
      "metadata": {
        "id": "a3mF85M3EqM7"
      },
      "source": [
        "numbers"
      ],
      "execution_count": null,
      "outputs": []
    },
    {
      "cell_type": "markdown",
      "metadata": {
        "id": "hvHRCTTpEset"
      },
      "source": [
        "##  Set Comprehensions"
      ]
    },
    {
      "cell_type": "markdown",
      "metadata": {
        "id": "Tl5b5rcEHV2E"
      },
      "source": [
        "Like dictionary comprehensions, you define set comprehensions in curly braces."
      ]
    },
    {
      "cell_type": "code",
      "metadata": {
        "id": "VbxEzI9CEse6"
      },
      "source": [
        "numbers = [1, 2, 2, 3, 4, 5, 6, 6, 7, 8, 9, 10, 10]"
      ],
      "execution_count": null,
      "outputs": []
    },
    {
      "cell_type": "code",
      "metadata": {
        "id": "xwM5SUc4Ese9"
      },
      "source": [
        "evens = {item for item in numbers if item % 2 == 0}"
      ],
      "execution_count": null,
      "outputs": []
    },
    {
      "cell_type": "code",
      "metadata": {
        "id": "cj0JJL9sEsfA"
      },
      "source": [
        "evens"
      ],
      "execution_count": null,
      "outputs": []
    }
  ]
}