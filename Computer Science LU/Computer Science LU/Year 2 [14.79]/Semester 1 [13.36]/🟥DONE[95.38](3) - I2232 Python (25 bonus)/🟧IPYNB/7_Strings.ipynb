{
  "cells": [
    {
      "cell_type": "markdown",
      "metadata": {
        "id": "72ovy9CLQPNp"
      },
      "source": [
        "# Formatting strings"
      ]
    },
    {
      "cell_type": "markdown",
      "metadata": {
        "id": "XDqNEmS0QYwx"
      },
      "source": [
        "Proper text formatting makes data easier to read and understand."
      ]
    },
    {
      "cell_type": "markdown",
      "metadata": {
        "id": "q4mblsszQFq9"
      },
      "source": [
        "##  Presentation Types"
      ]
    },
    {
      "cell_type": "markdown",
      "metadata": {
        "id": "C9unbszOQeXx"
      },
      "source": [
        "When you specify a placeholder for a\n",
        "value in an fstring,\n",
        "Python assumes the value should be displayed as a string unless\n",
        "you specify another type. In some cases, the type is required."
      ]
    },
    {
      "cell_type": "code",
      "execution_count": 1,
      "metadata": {
        "id": "fQsG9I-bQFrE"
      },
      "outputs": [
        {
          "data": {
            "text/plain": [
              "'17.49'"
            ]
          },
          "execution_count": 1,
          "metadata": {},
          "output_type": "execute_result"
        }
      ],
      "source": [
        "f'{17.489:.2f}'"
      ]
    },
    {
      "cell_type": "markdown",
      "metadata": {
        "id": "ZHqO15LlQkna"
      },
      "source": [
        "Python supports precision only for floating-point\n",
        "and Decimal values. Formatting is\n",
        "type dependent—if you try to use .2f to format a string like 'hello', a `ValueError`\n",
        "occurs. So the presentation type f in the format specifier .2f is required. It\n",
        "indicates what type is being formatted so Python can determine whether the other\n",
        "formatting information is allowed for that type."
      ]
    },
    {
      "cell_type": "markdown",
      "metadata": {
        "id": "oPEBJDlSQFrH"
      },
      "source": [
        "### Integers"
      ]
    },
    {
      "cell_type": "code",
      "execution_count": 2,
      "metadata": {
        "id": "kMrx2PGaQFrI"
      },
      "outputs": [
        {
          "data": {
            "text/plain": [
              "'10'"
            ]
          },
          "execution_count": 2,
          "metadata": {},
          "output_type": "execute_result"
        }
      ],
      "source": [
        "f'{10:d}'"
      ]
    },
    {
      "cell_type": "markdown",
      "metadata": {
        "id": "hMzYCggkQFrJ"
      },
      "source": [
        "### Characters"
      ]
    },
    {
      "cell_type": "code",
      "execution_count": 3,
      "metadata": {
        "id": "ViYBJ3QvQFrK"
      },
      "outputs": [
        {
          "data": {
            "text/plain": [
              "'A a'"
            ]
          },
          "execution_count": 3,
          "metadata": {},
          "output_type": "execute_result"
        }
      ],
      "source": [
        "f'{65:c} {97:c}'"
      ]
    },
    {
      "cell_type": "markdown",
      "metadata": {
        "id": "bgAbd2bsQFrK"
      },
      "source": [
        "### Strings"
      ]
    },
    {
      "cell_type": "code",
      "execution_count": 4,
      "metadata": {
        "id": "-VdBb4twQFrM"
      },
      "outputs": [
        {
          "data": {
            "text/plain": [
              "'hello 7'"
            ]
          },
          "execution_count": 4,
          "metadata": {},
          "output_type": "execute_result"
        }
      ],
      "source": [
        "f'{\"hello\":s} {7}'"
      ]
    },
    {
      "cell_type": "markdown",
      "metadata": {
        "id": "7qEJ72ZHQFrN"
      },
      "source": [
        "### Floating-Point and Decimal Values"
      ]
    },
    {
      "cell_type": "markdown",
      "metadata": {
        "id": "VV66lADaQwpJ"
      },
      "source": [
        "You’ve used the f presentation type to format floatingpoint\n",
        "and Decimal values. For\n",
        "extremely large and small values of these types, Exponential (scientific) notation\n",
        "can be used to format the values more compactly. Let’s show the difference between f\n",
        "and e for a large value, each with three digits of precision to the right of the decimal\n",
        "point."
      ]
    },
    {
      "cell_type": "code",
      "execution_count": 5,
      "metadata": {
        "id": "Hvq2OFZ4QFrP"
      },
      "outputs": [],
      "source": [
        "from decimal import Decimal"
      ]
    },
    {
      "cell_type": "code",
      "execution_count": 6,
      "metadata": {
        "id": "vOj3WkhkQFrR"
      },
      "outputs": [
        {
          "data": {
            "text/plain": [
              "'10000000000000000000000000.000'"
            ]
          },
          "execution_count": 6,
          "metadata": {},
          "output_type": "execute_result"
        }
      ],
      "source": [
        "f'{Decimal(\"10000000000000000000000000.0\"):.3f}'"
      ]
    },
    {
      "cell_type": "code",
      "execution_count": 7,
      "metadata": {
        "id": "IYqkHgRjQFrS"
      },
      "outputs": [
        {
          "data": {
            "text/plain": [
              "'1.000e+25'"
            ]
          },
          "execution_count": 7,
          "metadata": {},
          "output_type": "execute_result"
        }
      ],
      "source": [
        "f'{Decimal(\"10000000000000000000000000.0\"):.3e}'"
      ]
    },
    {
      "cell_type": "markdown",
      "metadata": {
        "id": "LF8qdSY8Q2Hk"
      },
      "source": [
        "#  Field Widths and Alignment"
      ]
    },
    {
      "cell_type": "code",
      "execution_count": 10,
      "metadata": {
        "id": "SVbkXn2FQ2Hs"
      },
      "outputs": [
        {
          "data": {
            "text/plain": [
              "'[        27]'"
            ]
          },
          "execution_count": 10,
          "metadata": {},
          "output_type": "execute_result"
        }
      ],
      "source": [
        "f'[{27:10d}]'"
      ]
    },
    {
      "cell_type": "code",
      "execution_count": 11,
      "metadata": {
        "id": "eKYEVbiEQ2Hv"
      },
      "outputs": [
        {
          "data": {
            "text/plain": [
              "'[  3.500000]'"
            ]
          },
          "execution_count": 11,
          "metadata": {},
          "output_type": "execute_result"
        }
      ],
      "source": [
        "f'[{3.5:10f}]'"
      ]
    },
    {
      "cell_type": "code",
      "execution_count": 12,
      "metadata": {
        "id": "5dB1GyHWQ2Hw"
      },
      "outputs": [
        {
          "data": {
            "text/plain": [
              "'[hello     ]'"
            ]
          },
          "execution_count": 12,
          "metadata": {},
          "output_type": "execute_result"
        }
      ],
      "source": [
        "f'[{\"hello\":10}]'"
      ]
    },
    {
      "cell_type": "markdown",
      "metadata": {
        "id": "H9JEKh3rQ2Hw"
      },
      "source": [
        "### Explicitly Specifying Left and Right Alignment in a Field "
      ]
    },
    {
      "cell_type": "code",
      "execution_count": 13,
      "metadata": {
        "id": "4qM2_oXMQ2Hx"
      },
      "outputs": [
        {
          "data": {
            "text/plain": [
              "'[27             ]'"
            ]
          },
          "execution_count": 13,
          "metadata": {},
          "output_type": "execute_result"
        }
      ],
      "source": [
        "f'[{27:<15d}]'"
      ]
    },
    {
      "cell_type": "code",
      "execution_count": 14,
      "metadata": {
        "id": "khe2p3UxQ2Hy"
      },
      "outputs": [
        {
          "data": {
            "text/plain": [
              "'[3.500000       ]'"
            ]
          },
          "execution_count": 14,
          "metadata": {},
          "output_type": "execute_result"
        }
      ],
      "source": [
        "f'[{3.5:<15f}]'"
      ]
    },
    {
      "cell_type": "code",
      "execution_count": 15,
      "metadata": {
        "id": "FajwQaCRQ2Hz"
      },
      "outputs": [
        {
          "data": {
            "text/plain": [
              "'[          hello]'"
            ]
          },
          "execution_count": 15,
          "metadata": {},
          "output_type": "execute_result"
        }
      ],
      "source": [
        "f'[{\"hello\":>15}]'"
      ]
    },
    {
      "cell_type": "markdown",
      "metadata": {
        "id": "QYZAVHYzQ2H0"
      },
      "source": [
        "### Centering a Value in a Field "
      ]
    },
    {
      "cell_type": "code",
      "execution_count": 16,
      "metadata": {
        "id": "pfDiG2tPQ2H2"
      },
      "outputs": [
        {
          "data": {
            "text/plain": [
              "'[  27   ]'"
            ]
          },
          "execution_count": 16,
          "metadata": {},
          "output_type": "execute_result"
        }
      ],
      "source": [
        "f'[{27:^7d}]'"
      ]
    },
    {
      "cell_type": "code",
      "execution_count": 17,
      "metadata": {
        "id": "4cisUX0GQ2H3"
      },
      "outputs": [
        {
          "data": {
            "text/plain": [
              "'[3.500000]'"
            ]
          },
          "execution_count": 17,
          "metadata": {},
          "output_type": "execute_result"
        }
      ],
      "source": [
        "f'[{3.5:^7f}]'"
      ]
    },
    {
      "cell_type": "code",
      "execution_count": 18,
      "metadata": {
        "id": "u2vtukCLQ2H3"
      },
      "outputs": [
        {
          "data": {
            "text/plain": [
              "'[ hello ]'"
            ]
          },
          "execution_count": 18,
          "metadata": {},
          "output_type": "execute_result"
        }
      ],
      "source": [
        "f'[{\"hello\":^7}]'"
      ]
    },
    {
      "cell_type": "markdown",
      "metadata": {
        "id": "tSh1JTuzRBw8"
      },
      "source": [
        "#  Numeric Formatting"
      ]
    },
    {
      "cell_type": "markdown",
      "metadata": {
        "id": "3bmpJvzXRBxM"
      },
      "source": [
        "### Formatting Positive Numbers with Signs"
      ]
    },
    {
      "cell_type": "code",
      "execution_count": 23,
      "metadata": {
        "id": "mIXIDh7JRBxN"
      },
      "outputs": [
        {
          "data": {
            "text/plain": [
              "'[       -27]'"
            ]
          },
          "execution_count": 23,
          "metadata": {},
          "output_type": "execute_result"
        }
      ],
      "source": [
        "f'[{-27:+10d}]'"
      ]
    },
    {
      "cell_type": "code",
      "execution_count": 20,
      "metadata": {
        "id": "hpX-YXyNRBxP"
      },
      "outputs": [
        {
          "data": {
            "text/plain": [
              "'[+000000027]'"
            ]
          },
          "execution_count": 20,
          "metadata": {},
          "output_type": "execute_result"
        }
      ],
      "source": [
        "f'[{27:+010d}]'"
      ]
    },
    {
      "cell_type": "markdown",
      "metadata": {
        "id": "eyRrLmVkRBxQ"
      },
      "source": [
        "### Using a Space Where a + Sign Would Appear in a Positive Value"
      ]
    },
    {
      "cell_type": "code",
      "execution_count": 24,
      "metadata": {
        "id": "Y6lEuM8cRBxR"
      },
      "outputs": [
        {
          "name": "stdout",
          "output_type": "stream",
          "text": [
            "27\n",
            " 27\n",
            "-27\n"
          ]
        }
      ],
      "source": [
        "print(f'{27:d}\\n{27: d}\\n{-27: d}')"
      ]
    },
    {
      "cell_type": "markdown",
      "metadata": {
        "id": "H-gmnFKWRBxS"
      },
      "source": [
        "### Grouping Digits"
      ]
    },
    {
      "cell_type": "code",
      "execution_count": 25,
      "metadata": {
        "id": "gjlDLQcLRBxT"
      },
      "outputs": [
        {
          "data": {
            "text/plain": [
              "'12,345,678'"
            ]
          },
          "execution_count": 25,
          "metadata": {},
          "output_type": "execute_result"
        }
      ],
      "source": [
        "f'{12345678:,d}'"
      ]
    },
    {
      "cell_type": "code",
      "execution_count": 26,
      "metadata": {
        "id": "d6tAZklmRBxU"
      },
      "outputs": [
        {
          "data": {
            "text/plain": [
              "'123,456.78'"
            ]
          },
          "execution_count": 26,
          "metadata": {},
          "output_type": "execute_result"
        }
      ],
      "source": [
        "f'{123456.78:,.2f}'"
      ]
    },
    {
      "cell_type": "markdown",
      "metadata": {
        "id": "tBEdHeUBRC2u"
      },
      "source": [
        "#  String’s format Method"
      ]
    },
    {
      "cell_type": "markdown",
      "metadata": {
        "id": "zMpYN7bsRSlC"
      },
      "source": [
        "Python’s f-strings\n",
        "were added to the language in version 3.6. Before that, formatting\n",
        "was performed with the string method `format`. In fact, f-string\n",
        "formatting is based on\n",
        "the format method’s capabilities.  You’ll often see the `format`\n",
        "method in the Python documentation and in the many Python books and articles\n",
        "written before f-strings\n",
        "were introduced. However, we recommend using the newer f-string\n",
        "formatting."
      ]
    },
    {
      "cell_type": "markdown",
      "metadata": {
        "id": "R0JYogj-RgMb"
      },
      "source": [
        "You call method format on a format string containing curly brace ({}) placeholders,\n",
        "possibly with format specifiers."
      ]
    },
    {
      "cell_type": "code",
      "execution_count": 27,
      "metadata": {
        "id": "UaLuwsv0RC22"
      },
      "outputs": [
        {
          "data": {
            "text/plain": [
              "'17.49'"
            ]
          },
          "execution_count": 27,
          "metadata": {},
          "output_type": "execute_result"
        }
      ],
      "source": [
        "'{:.2f}'.format(17.489)"
      ]
    },
    {
      "cell_type": "markdown",
      "metadata": {
        "id": "TQJmjO5cRC24"
      },
      "source": [
        "### Multiple Placeholders\n"
      ]
    },
    {
      "cell_type": "markdown",
      "metadata": {
        "id": "iUJw7rEFRjiq"
      },
      "source": [
        "A format string may contain multiple placeholders, in which case the format method’s\n",
        "arguments correspond to the placeholders from left to right."
      ]
    },
    {
      "cell_type": "code",
      "execution_count": 28,
      "metadata": {
        "id": "nqAMFjxJRC25"
      },
      "outputs": [
        {
          "data": {
            "text/plain": [
              "'Amanda Cyan'"
            ]
          },
          "execution_count": 28,
          "metadata": {},
          "output_type": "execute_result"
        }
      ],
      "source": [
        "'{} {}'.format('Amanda', 'Cyan')"
      ]
    },
    {
      "cell_type": "markdown",
      "metadata": {
        "id": "b1wfDMp-RC26"
      },
      "source": [
        "### Referencing Arguments By Position Number"
      ]
    },
    {
      "cell_type": "code",
      "execution_count": 29,
      "metadata": {
        "id": "_3wYM8UXRC27"
      },
      "outputs": [
        {
          "data": {
            "text/plain": [
              "'Happy Happy Birthday'"
            ]
          },
          "execution_count": 29,
          "metadata": {},
          "output_type": "execute_result"
        }
      ],
      "source": [
        "'{0} {0} {1}'.format('Happy', 'Birthday')"
      ]
    },
    {
      "cell_type": "markdown",
      "metadata": {
        "id": "knE9YGAeRC28"
      },
      "source": [
        "### Referencing Keyword Arguments"
      ]
    },
    {
      "cell_type": "code",
      "execution_count": 30,
      "metadata": {
        "id": "fmmEx9hfRC29"
      },
      "outputs": [
        {
          "data": {
            "text/plain": [
              "'Amanda Gray'"
            ]
          },
          "execution_count": 30,
          "metadata": {},
          "output_type": "execute_result"
        }
      ],
      "source": [
        "'{first} {last}'.format(first='Amanda', last='Gray')"
      ]
    },
    {
      "cell_type": "code",
      "execution_count": 31,
      "metadata": {
        "id": "MiGj-vpJRC2_"
      },
      "outputs": [
        {
          "data": {
            "text/plain": [
              "'Gray Amanda'"
            ]
          },
          "execution_count": 31,
          "metadata": {},
          "output_type": "execute_result"
        }
      ],
      "source": [
        "'{last} {first}'.format(first='Amanda', last='Gray')"
      ]
    },
    {
      "cell_type": "markdown",
      "metadata": {
        "id": "5oY4C7oRRsEy"
      },
      "source": [
        "# Concatenating and Repeating Strings "
      ]
    },
    {
      "cell_type": "code",
      "execution_count": 32,
      "metadata": {
        "id": "aR72-zsaRsE6"
      },
      "outputs": [],
      "source": [
        "s1 = 'happy'"
      ]
    },
    {
      "cell_type": "code",
      "execution_count": 33,
      "metadata": {
        "id": "UxMLzeJlRsE-"
      },
      "outputs": [],
      "source": [
        "s2 = 'birthday'"
      ]
    },
    {
      "cell_type": "code",
      "execution_count": 34,
      "metadata": {
        "id": "Zb-XHUSSRsE_"
      },
      "outputs": [],
      "source": [
        "s1 += ' ' + s2"
      ]
    },
    {
      "cell_type": "code",
      "execution_count": 35,
      "metadata": {
        "id": "5hvHP-oJRsFA"
      },
      "outputs": [
        {
          "data": {
            "text/plain": [
              "'happy birthday'"
            ]
          },
          "execution_count": 35,
          "metadata": {},
          "output_type": "execute_result"
        }
      ],
      "source": [
        "s1"
      ]
    },
    {
      "cell_type": "code",
      "execution_count": 1,
      "metadata": {
        "id": "CGJ76C3HRsFB"
      },
      "outputs": [],
      "source": [
        "symbol = '>'"
      ]
    },
    {
      "cell_type": "code",
      "execution_count": 2,
      "metadata": {
        "id": "zKXAQMTiRsFB"
      },
      "outputs": [],
      "source": [
        "symbol *= 5"
      ]
    },
    {
      "cell_type": "code",
      "execution_count": 3,
      "metadata": {
        "id": "3p3VMnEHRsFC"
      },
      "outputs": [
        {
          "data": {
            "text/plain": [
              "'>>>>>'"
            ]
          },
          "execution_count": 3,
          "metadata": {},
          "output_type": "execute_result"
        }
      ],
      "source": [
        "symbol"
      ]
    },
    {
      "cell_type": "markdown",
      "metadata": {
        "id": "6UE9C42HR3jB"
      },
      "source": [
        "# Stripping White Space from Strings"
      ]
    },
    {
      "cell_type": "markdown",
      "metadata": {
        "id": "cXcC3IfYR3jR"
      },
      "source": [
        "### Removing Leading and Trailing Whitespace"
      ]
    },
    {
      "cell_type": "code",
      "execution_count": 8,
      "metadata": {
        "id": "ZiVsx5kCR3jS"
      },
      "outputs": [
        {
          "name": "stdout",
          "output_type": "stream",
          "text": [
            "\t  \n",
            " wassaaaaup      This is a test string. \t\t \n",
            "\n"
          ]
        }
      ],
      "source": [
        "sentence = '\\t  \\n wassaaaaup      This is a test string. \\t\\t \\n'\n",
        "print(sentence)"
      ]
    },
    {
      "cell_type": "code",
      "execution_count": 9,
      "metadata": {
        "id": "zyCJpQQZR3jU"
      },
      "outputs": [
        {
          "data": {
            "text/plain": [
              "'wassaaaaup      This is a test string.'"
            ]
          },
          "execution_count": 9,
          "metadata": {},
          "output_type": "execute_result"
        }
      ],
      "source": [
        "sentence.strip()"
      ]
    },
    {
      "cell_type": "markdown",
      "metadata": {
        "id": "2ECUwwYoR3jV"
      },
      "source": [
        "### Removing Leading Whitespace"
      ]
    },
    {
      "cell_type": "code",
      "execution_count": 7,
      "metadata": {
        "id": "4WABG0tCR3jW"
      },
      "outputs": [
        {
          "data": {
            "text/plain": [
              "'This is a test string. \\t\\t \\n'"
            ]
          },
          "execution_count": 7,
          "metadata": {},
          "output_type": "execute_result"
        }
      ],
      "source": [
        "sentence.lstrip()"
      ]
    },
    {
      "cell_type": "markdown",
      "metadata": {
        "id": "Rck6eUEOR3jX"
      },
      "source": [
        "### Removing Trailing Whitespace"
      ]
    },
    {
      "cell_type": "code",
      "execution_count": 43,
      "metadata": {
        "id": "z3TBTLzMR3jY"
      },
      "outputs": [
        {
          "data": {
            "text/plain": [
              "'\\t  \\n  This is a test string.'"
            ]
          },
          "execution_count": 43,
          "metadata": {},
          "output_type": "execute_result"
        }
      ],
      "source": [
        "sentence.rstrip()"
      ]
    },
    {
      "cell_type": "markdown",
      "metadata": {
        "id": "oA4XohKnSO9s"
      },
      "source": [
        "#  Comparison Operators for Strings"
      ]
    },
    {
      "cell_type": "code",
      "execution_count": 44,
      "metadata": {
        "id": "E1F0jSzbSO92"
      },
      "outputs": [
        {
          "name": "stdout",
          "output_type": "stream",
          "text": [
            "A: 65; a: 97\n"
          ]
        }
      ],
      "source": [
        "print(f'A: {ord(\"A\")}; a: {ord(\"a\")}')"
      ]
    },
    {
      "cell_type": "code",
      "execution_count": 45,
      "metadata": {
        "id": "RsRSWVP2SO95"
      },
      "outputs": [
        {
          "data": {
            "text/plain": [
              "False"
            ]
          },
          "execution_count": 45,
          "metadata": {},
          "output_type": "execute_result"
        }
      ],
      "source": [
        "'Orange' == 'orange'"
      ]
    },
    {
      "cell_type": "code",
      "execution_count": 46,
      "metadata": {
        "id": "pXgVutpNSO97"
      },
      "outputs": [
        {
          "data": {
            "text/plain": [
              "True"
            ]
          },
          "execution_count": 46,
          "metadata": {},
          "output_type": "execute_result"
        }
      ],
      "source": [
        "'Orange' != 'orange'"
      ]
    },
    {
      "cell_type": "code",
      "execution_count": 47,
      "metadata": {
        "id": "YGp-Z2XdSO98"
      },
      "outputs": [
        {
          "data": {
            "text/plain": [
              "True"
            ]
          },
          "execution_count": 47,
          "metadata": {},
          "output_type": "execute_result"
        }
      ],
      "source": [
        "'Orange' < 'orange'"
      ]
    },
    {
      "cell_type": "code",
      "execution_count": 48,
      "metadata": {
        "id": "jKLPBpa9SO99"
      },
      "outputs": [
        {
          "data": {
            "text/plain": [
              "True"
            ]
          },
          "execution_count": 48,
          "metadata": {},
          "output_type": "execute_result"
        }
      ],
      "source": [
        "'Orange' <= 'orange'"
      ]
    },
    {
      "cell_type": "code",
      "execution_count": 49,
      "metadata": {
        "id": "ZhOV4iEuSO9-"
      },
      "outputs": [
        {
          "data": {
            "text/plain": [
              "False"
            ]
          },
          "execution_count": 49,
          "metadata": {},
          "output_type": "execute_result"
        }
      ],
      "source": [
        "'Orange' > 'orange'"
      ]
    },
    {
      "cell_type": "code",
      "execution_count": 50,
      "metadata": {
        "id": "m_J5hv48SO9_"
      },
      "outputs": [
        {
          "data": {
            "text/plain": [
              "False"
            ]
          },
          "execution_count": 50,
          "metadata": {},
          "output_type": "execute_result"
        }
      ],
      "source": [
        "'Orange' >= 'orange'"
      ]
    },
    {
      "cell_type": "markdown",
      "metadata": {
        "id": "Nxiu1mOISX79"
      },
      "source": [
        "#  Searching for Substrings"
      ]
    },
    {
      "cell_type": "markdown",
      "metadata": {
        "id": "ixYsBkFwSX8F"
      },
      "source": [
        "### Counting Occurrences"
      ]
    },
    {
      "cell_type": "code",
      "execution_count": 51,
      "metadata": {
        "id": "EjcWFkNzSX8G"
      },
      "outputs": [],
      "source": [
        "sentence = 'to be or not to be that is the question'"
      ]
    },
    {
      "cell_type": "code",
      "execution_count": 10,
      "metadata": {
        "id": "gweDV5eZSX8I"
      },
      "outputs": [
        {
          "data": {
            "text/plain": [
              "0"
            ]
          },
          "execution_count": 10,
          "metadata": {},
          "output_type": "execute_result"
        }
      ],
      "source": [
        "sentence.count('to')"
      ]
    },
    {
      "cell_type": "code",
      "execution_count": 53,
      "metadata": {
        "id": "Eu4uTxLaSX8J"
      },
      "outputs": [
        {
          "data": {
            "text/plain": [
              "1"
            ]
          },
          "execution_count": 53,
          "metadata": {},
          "output_type": "execute_result"
        }
      ],
      "source": [
        "sentence.count('to', 12)"
      ]
    },
    {
      "cell_type": "code",
      "execution_count": 54,
      "metadata": {
        "id": "zxRPL_YoSX8J"
      },
      "outputs": [
        {
          "data": {
            "text/plain": [
              "1"
            ]
          },
          "execution_count": 54,
          "metadata": {},
          "output_type": "execute_result"
        }
      ],
      "source": [
        "sentence.count('that', 12, 25)"
      ]
    },
    {
      "cell_type": "markdown",
      "metadata": {
        "id": "e4yqfjeqSX8K"
      },
      "source": [
        "### Locating a Substring in a String"
      ]
    },
    {
      "cell_type": "code",
      "execution_count": 55,
      "metadata": {
        "id": "A1AGnh70SX8M"
      },
      "outputs": [
        {
          "data": {
            "text/plain": [
              "3"
            ]
          },
          "execution_count": 55,
          "metadata": {},
          "output_type": "execute_result"
        }
      ],
      "source": [
        "sentence.index('be')"
      ]
    },
    {
      "cell_type": "code",
      "execution_count": 56,
      "metadata": {
        "id": "ZLtpXh1vSX8O"
      },
      "outputs": [
        {
          "data": {
            "text/plain": [
              "16"
            ]
          },
          "execution_count": 56,
          "metadata": {},
          "output_type": "execute_result"
        }
      ],
      "source": [
        "sentence.rindex('be')"
      ]
    },
    {
      "cell_type": "markdown",
      "metadata": {
        "id": "Ds8ZVdXnSX8P"
      },
      "source": [
        "### Determining Whether a String Contains a Substring "
      ]
    },
    {
      "cell_type": "code",
      "execution_count": 57,
      "metadata": {
        "id": "wNYK6I3RSX8Q"
      },
      "outputs": [
        {
          "data": {
            "text/plain": [
              "True"
            ]
          },
          "execution_count": 57,
          "metadata": {},
          "output_type": "execute_result"
        }
      ],
      "source": [
        "'that' in sentence"
      ]
    },
    {
      "cell_type": "code",
      "execution_count": 58,
      "metadata": {
        "id": "yoWFcflWSX8R"
      },
      "outputs": [
        {
          "data": {
            "text/plain": [
              "False"
            ]
          },
          "execution_count": 58,
          "metadata": {},
          "output_type": "execute_result"
        }
      ],
      "source": [
        "'THAT' in sentence"
      ]
    },
    {
      "cell_type": "code",
      "execution_count": 59,
      "metadata": {
        "id": "PzD1eKnkSX8S"
      },
      "outputs": [
        {
          "data": {
            "text/plain": [
              "True"
            ]
          },
          "execution_count": 59,
          "metadata": {},
          "output_type": "execute_result"
        }
      ],
      "source": [
        "'THAT' not in sentence"
      ]
    },
    {
      "cell_type": "markdown",
      "metadata": {
        "id": "W3KZY3FPSX8S"
      },
      "source": [
        "### Locating a Substring at the Beginning or End of a String"
      ]
    },
    {
      "cell_type": "code",
      "execution_count": 11,
      "metadata": {
        "id": "y1aGhwHWSX8T"
      },
      "outputs": [
        {
          "data": {
            "text/plain": [
              "False"
            ]
          },
          "execution_count": 11,
          "metadata": {},
          "output_type": "execute_result"
        }
      ],
      "source": [
        "sentence.startswith('to')"
      ]
    },
    {
      "cell_type": "code",
      "execution_count": 61,
      "metadata": {
        "id": "gQCTY56RSX8T"
      },
      "outputs": [
        {
          "data": {
            "text/plain": [
              "False"
            ]
          },
          "execution_count": 61,
          "metadata": {},
          "output_type": "execute_result"
        }
      ],
      "source": [
        "sentence.startswith('be')"
      ]
    },
    {
      "cell_type": "code",
      "execution_count": 65,
      "metadata": {
        "id": "15VTXiBfSX8U"
      },
      "outputs": [
        {
          "data": {
            "text/plain": [
              "True"
            ]
          },
          "execution_count": 65,
          "metadata": {},
          "output_type": "execute_result"
        }
      ],
      "source": [
        "sentence.endswith('question')"
      ]
    },
    {
      "cell_type": "code",
      "execution_count": 63,
      "metadata": {
        "id": "u04MHguSSX8U"
      },
      "outputs": [
        {
          "data": {
            "text/plain": [
              "False"
            ]
          },
          "execution_count": 63,
          "metadata": {},
          "output_type": "execute_result"
        }
      ],
      "source": [
        "sentence.endswith('quest')"
      ]
    },
    {
      "cell_type": "markdown",
      "metadata": {
        "id": "AaM078_MShsc"
      },
      "source": [
        "#  Replacing Substrings"
      ]
    },
    {
      "cell_type": "code",
      "execution_count": 68,
      "metadata": {
        "id": "i7M_mGASShsk"
      },
      "outputs": [
        {
          "name": "stdout",
          "output_type": "stream",
          "text": [
            "1\t2\t3\t4\t5\n"
          ]
        }
      ],
      "source": [
        "values = '1\\t2\\t3\\t4\\t5'\n",
        "print(values)"
      ]
    },
    {
      "cell_type": "code",
      "execution_count": 69,
      "metadata": {
        "id": "zWPg0PIYShsm"
      },
      "outputs": [
        {
          "data": {
            "text/plain": [
              "'1,2,3,4,5'"
            ]
          },
          "execution_count": 69,
          "metadata": {},
          "output_type": "execute_result"
        }
      ],
      "source": [
        "values.replace('\\t', ',')"
      ]
    },
    {
      "cell_type": "markdown",
      "metadata": {
        "id": "Lk7ytSSvSmwc"
      },
      "source": [
        "# Splitting and Joining Strings"
      ]
    },
    {
      "cell_type": "markdown",
      "metadata": {
        "id": "N4mEmxPSSmwo"
      },
      "source": [
        "### Splitting Strings"
      ]
    },
    {
      "cell_type": "code",
      "execution_count": 70,
      "metadata": {
        "id": "65v0AYA4Smwq"
      },
      "outputs": [],
      "source": [
        "letters = 'A, B, C, D'"
      ]
    },
    {
      "cell_type": "code",
      "execution_count": 71,
      "metadata": {
        "id": "kDoJA_WTSmwy"
      },
      "outputs": [
        {
          "data": {
            "text/plain": [
              "['A', 'B', 'C', 'D']"
            ]
          },
          "execution_count": 71,
          "metadata": {},
          "output_type": "execute_result"
        }
      ],
      "source": [
        "letters.split(', ')"
      ]
    },
    {
      "cell_type": "code",
      "execution_count": 72,
      "metadata": {
        "id": "hmutExYeSmw0"
      },
      "outputs": [
        {
          "data": {
            "text/plain": [
              "['A', 'B', 'C, D']"
            ]
          },
          "execution_count": 72,
          "metadata": {},
          "output_type": "execute_result"
        }
      ],
      "source": [
        "letters.split(', ', 2)"
      ]
    },
    {
      "cell_type": "markdown",
      "metadata": {
        "id": "EGCycyJuSmw6"
      },
      "source": [
        "### Joining Strings"
      ]
    },
    {
      "cell_type": "code",
      "execution_count": 12,
      "metadata": {
        "id": "SgZZju-gSmxC"
      },
      "outputs": [],
      "source": [
        "letters_list = ['A', 'B', 'C', 'D']"
      ]
    },
    {
      "cell_type": "code",
      "execution_count": 13,
      "metadata": {
        "id": "75unHJn1SmxG"
      },
      "outputs": [
        {
          "data": {
            "text/plain": [
              "'A,B,C,D'"
            ]
          },
          "execution_count": 13,
          "metadata": {},
          "output_type": "execute_result"
        }
      ],
      "source": [
        "','.join(letters_list)"
      ]
    },
    {
      "cell_type": "code",
      "execution_count": 75,
      "metadata": {
        "id": "0poP_dQpSmxI"
      },
      "outputs": [
        {
          "data": {
            "text/plain": [
              "'0,1,2,3,4,5,6,7,8,9'"
            ]
          },
          "execution_count": 75,
          "metadata": {},
          "output_type": "execute_result"
        }
      ],
      "source": [
        "','.join([str(i) for i in range(10)])"
      ]
    },
    {
      "cell_type": "markdown",
      "metadata": {
        "id": "jvKAzd1aSmxK"
      },
      "source": [
        "### String Methods partition and rpartition "
      ]
    },
    {
      "cell_type": "markdown",
      "metadata": {
        "id": "KTt7GMx2Syhi"
      },
      "source": [
        "String method `partition` splits a string into a tuple of three strings based on the\n",
        "method’s separator argument. The three strings are\n",
        "* the part of the original string before the separator,\n",
        "* the separator itself, and\n",
        "* the part of the string after the separator.\n",
        "\n",
        "This might be useful for splitting more complex strings."
      ]
    },
    {
      "cell_type": "code",
      "execution_count": 76,
      "metadata": {
        "id": "Z_G1HpCeSmxN"
      },
      "outputs": [
        {
          "data": {
            "text/plain": [
              "('Amanda', ': ', '89, 97, 92')"
            ]
          },
          "execution_count": 76,
          "metadata": {},
          "output_type": "execute_result"
        }
      ],
      "source": [
        "'Amanda: 89, 97, 92'.partition(': ')"
      ]
    },
    {
      "cell_type": "markdown",
      "metadata": {
        "id": "omfVzmWcS855"
      },
      "source": [
        "To search for the separator from the end of the string instead, use method\n",
        "`rpartition` to split."
      ]
    },
    {
      "cell_type": "code",
      "execution_count": 77,
      "metadata": {
        "id": "bFx0p3zwSmxP"
      },
      "outputs": [],
      "source": [
        "url = 'http://www.deitel.com/books/PyCDS/table_of_contents.html'"
      ]
    },
    {
      "cell_type": "code",
      "execution_count": 78,
      "metadata": {
        "id": "GVlOAr9lSmxT"
      },
      "outputs": [],
      "source": [
        "rest_of_url, separator, document = url.rpartition('/')"
      ]
    },
    {
      "cell_type": "code",
      "execution_count": 79,
      "metadata": {
        "id": "TTMeSEj_SmxV"
      },
      "outputs": [
        {
          "data": {
            "text/plain": [
              "'table_of_contents.html'"
            ]
          },
          "execution_count": 79,
          "metadata": {},
          "output_type": "execute_result"
        }
      ],
      "source": [
        "document"
      ]
    },
    {
      "cell_type": "code",
      "execution_count": 80,
      "metadata": {
        "id": "nmlgEL8aSmxX"
      },
      "outputs": [
        {
          "data": {
            "text/plain": [
              "'http://www.deitel.com/books/PyCDS'"
            ]
          },
          "execution_count": 80,
          "metadata": {},
          "output_type": "execute_result"
        }
      ],
      "source": [
        "rest_of_url"
      ]
    },
    {
      "cell_type": "markdown",
      "metadata": {
        "id": "YfJQ7HJzSmxX"
      },
      "source": [
        "### String Method splitlines "
      ]
    },
    {
      "cell_type": "markdown",
      "metadata": {
        "id": "dgehKZfATEPt"
      },
      "source": [
        "If you read large\n",
        "amounts of text into a string, you might want to split the string into a list of lines based\n",
        "on newline characters. Method `splitlines` returns a list of new strings representing\n",
        "the lines of text split at each newline character in the original string."
      ]
    },
    {
      "cell_type": "code",
      "execution_count": 14,
      "metadata": {
        "id": "UvJxO3smSmxY"
      },
      "outputs": [],
      "source": [
        "lines = \"\"\"This is line 1\n",
        "This is line2\n",
        "This is line3\"\"\""
      ]
    },
    {
      "cell_type": "code",
      "execution_count": 82,
      "metadata": {
        "id": "x2lkhA-RSmxZ"
      },
      "outputs": [
        {
          "data": {
            "text/plain": [
              "'This is line 1\\nThis is line2\\nThis is line3'"
            ]
          },
          "execution_count": 82,
          "metadata": {},
          "output_type": "execute_result"
        }
      ],
      "source": [
        "lines"
      ]
    },
    {
      "cell_type": "code",
      "execution_count": 83,
      "metadata": {
        "id": "hxW2kZe_Smxb"
      },
      "outputs": [
        {
          "data": {
            "text/plain": [
              "['This is line 1', 'This is line2', 'This is line3']"
            ]
          },
          "execution_count": 83,
          "metadata": {},
          "output_type": "execute_result"
        }
      ],
      "source": [
        "lines.splitlines()"
      ]
    },
    {
      "cell_type": "code",
      "execution_count": 84,
      "metadata": {
        "id": "hlORW3qlSmxd"
      },
      "outputs": [
        {
          "data": {
            "text/plain": [
              "['This is line 1\\n', 'This is line2\\n', 'This is line3']"
            ]
          },
          "execution_count": 84,
          "metadata": {},
          "output_type": "execute_result"
        }
      ],
      "source": [
        "lines.splitlines(True)"
      ]
    },
    {
      "cell_type": "markdown",
      "metadata": {
        "id": "WsX6ghkrTLOS"
      },
      "source": [
        "#  Characters and Character-Testing Methods"
      ]
    },
    {
      "cell_type": "markdown",
      "metadata": {
        "id": "73BEV1gWTUkH"
      },
      "source": [
        "String method `isdigit` returns True if the string on\n",
        "which you call the method contains only the digit characters (0–9)."
      ]
    },
    {
      "cell_type": "code",
      "execution_count": 85,
      "metadata": {
        "id": "_VBZZsBRTLOd"
      },
      "outputs": [
        {
          "data": {
            "text/plain": [
              "False"
            ]
          },
          "execution_count": 85,
          "metadata": {},
          "output_type": "execute_result"
        }
      ],
      "source": [
        "'-27'.isdigit()"
      ]
    },
    {
      "cell_type": "code",
      "execution_count": 86,
      "metadata": {
        "id": "2HVMN0a1TLOg"
      },
      "outputs": [
        {
          "data": {
            "text/plain": [
              "True"
            ]
          },
          "execution_count": 86,
          "metadata": {},
          "output_type": "execute_result"
        }
      ],
      "source": [
        "'27'.isdigit()"
      ]
    },
    {
      "cell_type": "markdown",
      "metadata": {
        "id": "gXOR4ykpTX4v"
      },
      "source": [
        "String method `isalnum` returns True if the string on which you call the\n",
        "method is alphanumeric—that is, it contains only digits and letters."
      ]
    },
    {
      "cell_type": "code",
      "execution_count": 87,
      "metadata": {
        "id": "-pi0u2QzTLOh"
      },
      "outputs": [
        {
          "data": {
            "text/plain": [
              "True"
            ]
          },
          "execution_count": 87,
          "metadata": {},
          "output_type": "execute_result"
        }
      ],
      "source": [
        "'A9876'.isalnum()"
      ]
    },
    {
      "cell_type": "code",
      "execution_count": 88,
      "metadata": {
        "id": "1R9-yuoiTLOh"
      },
      "outputs": [
        {
          "data": {
            "text/plain": [
              "False"
            ]
          },
          "execution_count": 88,
          "metadata": {},
          "output_type": "execute_result"
        }
      ],
      "source": [
        "'123 Main Street'.isalnum()"
      ]
    },
    {
      "cell_type": "markdown",
      "metadata": {
        "id": "1wL4cgPNTkp1"
      },
      "source": [
        "#  Raw Strings"
      ]
    },
    {
      "cell_type": "markdown",
      "metadata": {
        "id": "XN00SYhSTsVE"
      },
      "source": [
        "Recall that backslash characters in strings introduce escape sequences—like \\n for\n",
        "newline and \\t for tab. So, if you wish to include a backslash in a string, you must use\n",
        "two backslash\n",
        "characters \\\\. This makes some strings difficult to read."
      ]
    },
    {
      "cell_type": "code",
      "execution_count": 89,
      "metadata": {
        "id": "hHn9sVjDTkp-"
      },
      "outputs": [],
      "source": [
        "file_path = 'C:\\\\MyFolder\\\\MySubFolder\\\\MyFile.txt'"
      ]
    },
    {
      "cell_type": "code",
      "execution_count": 90,
      "metadata": {
        "id": "ADtDTLlMTkqB"
      },
      "outputs": [
        {
          "data": {
            "text/plain": [
              "'C:\\\\MyFolder\\\\MySubFolder\\\\MyFile.txt'"
            ]
          },
          "execution_count": 90,
          "metadata": {},
          "output_type": "execute_result"
        }
      ],
      "source": [
        "file_path"
      ]
    },
    {
      "cell_type": "markdown",
      "metadata": {
        "id": "wYOsjsWKTwQx"
      },
      "source": [
        "For such cases, raw strings—preceded by the character r—are more convenient. They\n",
        "treat each backslash as a regular character, rather than the beginning of an escape\n",
        "sequence."
      ]
    },
    {
      "cell_type": "code",
      "execution_count": 93,
      "metadata": {
        "id": "VyXfgjjoTkqC"
      },
      "outputs": [
        {
          "name": "stdout",
          "output_type": "stream",
          "text": [
            "C:\\MyFolder\\MySubFolder\\MyFile.txt\n"
          ]
        }
      ],
      "source": [
        "file_path = r'C:\\MyFolder\\MySubFolder\\MyFile.txt'\n",
        "print(file_path)"
      ]
    },
    {
      "cell_type": "code",
      "execution_count": 92,
      "metadata": {
        "id": "SeUaFEx9TkqD"
      },
      "outputs": [
        {
          "data": {
            "text/plain": [
              "'C:\\\\MyFolder\\\\MySubFolder\\\\MyFile.txt'"
            ]
          },
          "execution_count": 92,
          "metadata": {},
          "output_type": "execute_result"
        }
      ],
      "source": [
        "file_path"
      ]
    },
    {
      "cell_type": "markdown",
      "metadata": {
        "id": "v-FjplEBT8WJ"
      },
      "source": [
        "# Regular Expressions"
      ]
    },
    {
      "cell_type": "markdown",
      "metadata": {
        "id": "hzhYB2UIUH2N"
      },
      "source": [
        "Sometimes you’ll need to recognize patterns in text, like phone numbers, email\n",
        "addresses, web page addresses, Social Security numbers and more. A\n",
        "**regular expression** string describes a search pattern for matching characters in\n",
        "other strings."
      ]
    },
    {
      "cell_type": "markdown",
      "metadata": {
        "id": "5KyhxWu9T4UM"
      },
      "source": [
        "##  re Module and Function fullmatch "
      ]
    },
    {
      "cell_type": "markdown",
      "metadata": {
        "id": "FTvTthFyUSQL"
      },
      "source": [
        "To use regular expressions, import the Python Standard Library’s re module."
      ]
    },
    {
      "cell_type": "code",
      "execution_count": 18,
      "metadata": {
        "id": "zQP7XGoDT4Vv"
      },
      "outputs": [],
      "source": [
        "import re"
      ]
    },
    {
      "cell_type": "markdown",
      "metadata": {
        "id": "kyN76MAzT4V0"
      },
      "source": [
        "### Matching Literal Characters"
      ]
    },
    {
      "cell_type": "markdown",
      "metadata": {
        "id": "XK-kgmesUV37"
      },
      "source": [
        "One of the simplest regular expression functions is fullmatch, which checks whether\n",
        "the entire string in its second argument matches the pattern in its first argument."
      ]
    },
    {
      "cell_type": "code",
      "execution_count": 17,
      "metadata": {
        "id": "ZjxUNft_T4V1"
      },
      "outputs": [],
      "source": [
        "pattern = '02215'"
      ]
    },
    {
      "cell_type": "code",
      "execution_count": 19,
      "metadata": {
        "id": "mtAxtcv3T4V3"
      },
      "outputs": [
        {
          "data": {
            "text/plain": [
              "'Match'"
            ]
          },
          "execution_count": 19,
          "metadata": {},
          "output_type": "execute_result"
        }
      ],
      "source": [
        "'Match' if re.fullmatch(pattern, '02215') else 'No match'"
      ]
    },
    {
      "cell_type": "code",
      "execution_count": 97,
      "metadata": {
        "id": "0ui_PUWcT4V5"
      },
      "outputs": [
        {
          "data": {
            "text/plain": [
              "'No match'"
            ]
          },
          "execution_count": 97,
          "metadata": {},
          "output_type": "execute_result"
        }
      ],
      "source": [
        "'Match' if re.fullmatch(pattern, '51220') else 'No match'"
      ]
    },
    {
      "cell_type": "markdown",
      "metadata": {
        "id": "Q3BLcmFmT4V7"
      },
      "source": [
        "### Metacharacters, Character Classes and Quantifiers"
      ]
    },
    {
      "cell_type": "markdown",
      "metadata": {
        "id": "9TsPOBrvUd5R"
      },
      "source": [
        "Regular expressions typically contain various special symbols called metacharacters: [] {} () \\ * + ^ $ ? . |"
      ]
    },
    {
      "cell_type": "markdown",
      "metadata": {
        "id": "xa0I5tSsUgUB"
      },
      "source": [
        "The \\ metacharacter begins each of the predefined character classes, each\n",
        "matching a specific set of characters."
      ]
    },
    {
      "cell_type": "code",
      "execution_count": 23,
      "metadata": {
        "id": "NN7n_KWdT4V9"
      },
      "outputs": [
        {
          "data": {
            "text/plain": [
              "'Valid'"
            ]
          },
          "execution_count": 23,
          "metadata": {},
          "output_type": "execute_result"
        }
      ],
      "source": [
        "'Valid' if re.fullmatch(r'\\d{5}', '02215') else 'Invalid'"
      ]
    },
    {
      "cell_type": "code",
      "execution_count": 22,
      "metadata": {
        "id": "kY_c5VUHT4V_"
      },
      "outputs": [
        {
          "data": {
            "text/plain": [
              "'Invalid'"
            ]
          },
          "execution_count": 22,
          "metadata": {},
          "output_type": "execute_result"
        }
      ],
      "source": [
        "'Valid' if re.fullmatch(r'\\d{5}', '9876') else 'Invalid'"
      ]
    },
    {
      "cell_type": "markdown",
      "metadata": {
        "id": "ZQqDlNRuUpQy"
      },
      "source": [
        "In the regular expression \\d{5}, \\d is a character class representing a digit (0–9). A\n",
        "character class is a regular expression escape sequence that matches one character. To\n",
        "match more than one, follow the character class with a quantifier. The quantifier {5}\n",
        "repeats \\d five times, as if we had written \\d\\d\\d\\d\\d, to match five consecutive\n",
        "digits."
      ]
    },
    {
      "cell_type": "markdown",
      "metadata": {
        "id": "FWN50LeOT4WB"
      },
      "source": [
        "### Other Predefined Character Classes\n"
      ]
    },
    {
      "cell_type": "markdown",
      "metadata": {
        "id": "QcCRYLhPUx4l"
      },
      "source": [
        "The list below shows some common predefined character classes and the groups of\n",
        "characters they match. To match any metacharacter as its literal value, precede it by a\n",
        "backslash (\\). For example, \\\\ matches a backslash (\\) and \\$ matches a dollar sign\n",
        "($)."
      ]
    },
    {
      "cell_type": "markdown",
      "metadata": {
        "id": "iKUP7jwKU4TI"
      },
      "source": [
        "* \\d Any digit (0–9).\n",
        "* \\D Any character that is not a digit.\n",
        "* \\s Any whitespace character (such as spaces, tabs and newlines).\n",
        "* \\S Any character that is not a whitespace character.\n",
        "* \\w Any word character (also called an alphanumeric\n",
        "character)—that is, any uppercase or lowercase letter, any digit\n",
        "or an underscore\n",
        "* \\W Any character that is not a word character."
      ]
    },
    {
      "cell_type": "markdown",
      "metadata": {
        "id": "_ecP_91wUyDq"
      },
      "source": [
        "\n",
        "### Custom Character Classes"
      ]
    },
    {
      "cell_type": "markdown",
      "metadata": {
        "id": "7o_ynvirVBmb"
      },
      "source": [
        "Square brackets, [], define a custom character class that matches a single\n",
        "character. For example, [aeiou] matches a lowercase vowel, [AZ]\n",
        "matches an\n",
        "uppercase letter, [az]\n",
        "matches a lowercase letter and [azAZ]\n",
        "matches any\n",
        "lowercase or uppercase letter."
      ]
    },
    {
      "cell_type": "markdown",
      "metadata": {
        "id": "vzRexc_8VKYe"
      },
      "source": [
        "The * quantifier matches zero or more\n",
        "occurrences of the subexpression to its left (in this case, [az]).\n",
        "So [AZ][\n",
        "az]*\n",
        "matches an uppercase letter followed by zero or more lowercase letters, such as\n",
        "'Amanda', 'Bo' or even 'E'."
      ]
    },
    {
      "cell_type": "code",
      "execution_count": 24,
      "metadata": {
        "id": "WlcE5JkeT4WF"
      },
      "outputs": [
        {
          "data": {
            "text/plain": [
              "'Valid'"
            ]
          },
          "execution_count": 24,
          "metadata": {},
          "output_type": "execute_result"
        }
      ],
      "source": [
        "'Valid' if re.fullmatch('[A-Z][a-z]*', 'Wally') else 'Invalid'"
      ]
    },
    {
      "cell_type": "code",
      "execution_count": 25,
      "metadata": {
        "id": "YMxdtWFST4WH"
      },
      "outputs": [
        {
          "data": {
            "text/plain": [
              "'Invalid'"
            ]
          },
          "execution_count": 25,
          "metadata": {},
          "output_type": "execute_result"
        }
      ],
      "source": [
        "'Valid' if re.fullmatch('[A-Z][a-z]*', 'eva') else 'Invalid'"
      ]
    },
    {
      "cell_type": "markdown",
      "metadata": {
        "id": "M8vqs656VVKZ"
      },
      "source": [
        "When a custom character class starts with a caret (^), the class matches any character\n",
        "that’s not specified. So [^az]\n",
        "matches any character that’s not a lowercase letter"
      ]
    },
    {
      "cell_type": "code",
      "execution_count": null,
      "metadata": {
        "id": "NnQEifAFT4WI"
      },
      "outputs": [],
      "source": [
        "'Match' if re.fullmatch('[^a-z]', 'A') else 'No match'"
      ]
    },
    {
      "cell_type": "code",
      "execution_count": null,
      "metadata": {
        "id": "OoesT6z9T4WJ"
      },
      "outputs": [],
      "source": [
        "'Match' if re.fullmatch('[^a-z]', 'a') else 'No match'"
      ]
    },
    {
      "cell_type": "markdown",
      "metadata": {
        "id": "y_AcKWsHVapb"
      },
      "source": [
        "Metacharacters in a custom character class are treated as literal characters—that is, the\n",
        "characters themselves. So `[*+$]` matches a single *, + or $ character."
      ]
    },
    {
      "cell_type": "code",
      "execution_count": null,
      "metadata": {
        "id": "lnLI2ZaOT4WJ"
      },
      "outputs": [],
      "source": [
        "'Match' if re.fullmatch('[*+$]', '*') else 'No match'"
      ]
    },
    {
      "cell_type": "code",
      "execution_count": null,
      "metadata": {
        "id": "nRRnWFZtT4WK"
      },
      "outputs": [],
      "source": [
        "'Match' if re.fullmatch('[*+$]', '!') else 'No match'"
      ]
    },
    {
      "cell_type": "markdown",
      "metadata": {
        "id": "DPJsHMZyT4WL"
      },
      "source": [
        "### * vs. + Quantifier"
      ]
    },
    {
      "cell_type": "markdown",
      "metadata": {
        "id": "vo3dV4H_Vgoc"
      },
      "source": [
        "If you want to require at least one lowercase letter in a first name, you can replace the * quantifier  with +, which matches at least one occurrence of a\n",
        "subexpression."
      ]
    },
    {
      "cell_type": "code",
      "execution_count": null,
      "metadata": {
        "id": "kqxLBwmxT4WM"
      },
      "outputs": [],
      "source": [
        "'Valid' if re.fullmatch('[A-Z][a-z]+', 'Wally') else 'Invalid'"
      ]
    },
    {
      "cell_type": "code",
      "execution_count": null,
      "metadata": {
        "id": "vj5MQpIPT4WM"
      },
      "outputs": [],
      "source": [
        "'Valid' if re.fullmatch('[A-Z][a-z]+', 'E') else 'Invalid'"
      ]
    },
    {
      "cell_type": "markdown",
      "metadata": {
        "id": "M9StSHaDVoS7"
      },
      "source": [
        "Both * and + are greedy—they match as many characters as possible. So the regular\n",
        "expression [AZ][\n",
        "az]+\n",
        "matches 'Al', 'Eva', 'Samantha', 'Benjamin' and any\n",
        "other words that begin with a capital letter followed at least one lowercase letter."
      ]
    },
    {
      "cell_type": "markdown",
      "metadata": {
        "id": "I0rBDJS7T4WN"
      },
      "source": [
        "### Other Quantifiers"
      ]
    },
    {
      "cell_type": "markdown",
      "metadata": {
        "id": "8iH85SiUVsMF"
      },
      "source": [
        "The ? quantifier matches zero or one occurrences of a subexpression."
      ]
    },
    {
      "cell_type": "code",
      "execution_count": 26,
      "metadata": {
        "id": "KLDbt9RuT4WN"
      },
      "outputs": [
        {
          "data": {
            "text/plain": [
              "'Match'"
            ]
          },
          "execution_count": 26,
          "metadata": {},
          "output_type": "execute_result"
        }
      ],
      "source": [
        "'Match' if re.fullmatch('labell?ed', 'labelled') else 'No match'"
      ]
    },
    {
      "cell_type": "code",
      "execution_count": 31,
      "metadata": {
        "id": "aFGe1If6T4WQ"
      },
      "outputs": [
        {
          "data": {
            "text/plain": [
              "'Match'"
            ]
          },
          "execution_count": 31,
          "metadata": {},
          "output_type": "execute_result"
        }
      ],
      "source": [
        "'Match' if re.fullmatch('labell?ed', 'labeled') else 'No match'"
      ]
    },
    {
      "cell_type": "code",
      "execution_count": 28,
      "metadata": {
        "id": "lFcVo2qbT4WQ"
      },
      "outputs": [
        {
          "data": {
            "text/plain": [
              "'No match'"
            ]
          },
          "execution_count": 28,
          "metadata": {},
          "output_type": "execute_result"
        }
      ],
      "source": [
        "'Match' if re.fullmatch('labell?ed', 'labellled') else 'No match'"
      ]
    },
    {
      "cell_type": "markdown",
      "metadata": {
        "id": "Cjj5tBc3V0hW"
      },
      "source": [
        "You can match at least n occurrences of a subexpression with the {n,} quantifier."
      ]
    },
    {
      "cell_type": "code",
      "execution_count": 32,
      "metadata": {
        "id": "gVWHYDgwT4WR"
      },
      "outputs": [
        {
          "data": {
            "text/plain": [
              "'Match'"
            ]
          },
          "execution_count": 32,
          "metadata": {},
          "output_type": "execute_result"
        }
      ],
      "source": [
        "'Match' if re.fullmatch(r'\\d{3,}', '123') else 'No match'"
      ]
    },
    {
      "cell_type": "code",
      "execution_count": 33,
      "metadata": {
        "id": "uxgilDwMT4WR"
      },
      "outputs": [
        {
          "data": {
            "text/plain": [
              "'Match'"
            ]
          },
          "execution_count": 33,
          "metadata": {},
          "output_type": "execute_result"
        }
      ],
      "source": [
        "'Match' if re.fullmatch(r'\\d{3,}', '1234567890') else 'No match'"
      ]
    },
    {
      "cell_type": "code",
      "execution_count": 34,
      "metadata": {
        "id": "jfbrNQ0fT4WS"
      },
      "outputs": [
        {
          "data": {
            "text/plain": [
              "'No match'"
            ]
          },
          "execution_count": 34,
          "metadata": {},
          "output_type": "execute_result"
        }
      ],
      "source": [
        "'Match' if re.fullmatch(r'\\d{3,}', '12') else 'No match'"
      ]
    },
    {
      "cell_type": "markdown",
      "metadata": {
        "id": "PiThiQjKV3nh"
      },
      "source": [
        "You can match between n and m (inclusive) occurrences of a subexpression with the\n",
        "{n,m} quantifier."
      ]
    },
    {
      "cell_type": "code",
      "execution_count": null,
      "metadata": {
        "id": "1aDhTVzRT4WT"
      },
      "outputs": [],
      "source": [
        "'Match' if re.fullmatch(r'\\d{3,6}', '123') else 'No match'"
      ]
    },
    {
      "cell_type": "code",
      "execution_count": null,
      "metadata": {
        "id": "dQQ2TejAT4WV"
      },
      "outputs": [],
      "source": [
        "'Match' if re.fullmatch(r'\\d{3,6}', '123456') else 'No match'"
      ]
    },
    {
      "cell_type": "code",
      "execution_count": null,
      "metadata": {
        "id": "jki-GCeBT4WW"
      },
      "outputs": [],
      "source": [
        "'Match' if re.fullmatch(r'\\d{3,6}', '1234567') else 'No match'"
      ]
    },
    {
      "cell_type": "code",
      "execution_count": null,
      "metadata": {
        "id": "3wro40OuT4WX"
      },
      "outputs": [],
      "source": [
        "'Match' if re.fullmatch(r'\\d{3,6}', '12') else 'No match'"
      ]
    },
    {
      "cell_type": "markdown",
      "metadata": {
        "id": "qQEVASoNV8U9"
      },
      "source": [
        "#  Replacing Substrings and Splitting Strings"
      ]
    },
    {
      "cell_type": "markdown",
      "metadata": {
        "id": "Qga8WJ69V8VI"
      },
      "source": [
        "### Function sub—Replacing Patterns "
      ]
    },
    {
      "cell_type": "markdown",
      "metadata": {
        "id": "TH0Ih8QsWC_2"
      },
      "source": [
        "By default, the re module’s `sub` function replaces all occurrences of a pattern with\n",
        "the replacement text you specify."
      ]
    },
    {
      "cell_type": "code",
      "execution_count": 35,
      "metadata": {
        "id": "eTYBQoEbV8VK"
      },
      "outputs": [],
      "source": [
        "import re"
      ]
    },
    {
      "cell_type": "code",
      "execution_count": 36,
      "metadata": {
        "id": "RNcWpiSdV8VN"
      },
      "outputs": [
        {
          "data": {
            "text/plain": [
              "'1, 2, 3, 4'"
            ]
          },
          "execution_count": 36,
          "metadata": {},
          "output_type": "execute_result"
        }
      ],
      "source": [
        "re.sub(r'\\t', ', ', '1\\t2\\t3\\t4')"
      ]
    },
    {
      "cell_type": "code",
      "execution_count": null,
      "metadata": {
        "id": "6OeMwhfRV8VO"
      },
      "outputs": [],
      "source": [
        "re.sub(r'\\t', ', ', '1\\t2\\t3\\t4', count=2)"
      ]
    },
    {
      "cell_type": "markdown",
      "metadata": {
        "id": "kiP_SONJWNkx"
      },
      "source": [
        "The sub function receives three required arguments:\n",
        "* the pattern to match (the tab character '\\t')\n",
        "* the replacement text (', ') and\n",
        "* the string to be searched ('1\\t2\\t3\\t4')\n",
        "\n",
        "and returns a new string. The keyword argument count can be used to specify the\n",
        "maximum number of replacements"
      ]
    },
    {
      "cell_type": "markdown",
      "metadata": {
        "id": "ZTL-_D94V8VP"
      },
      "source": [
        "### Function split "
      ]
    },
    {
      "cell_type": "markdown",
      "metadata": {
        "id": "l9hvwEwQWLeq"
      },
      "source": [
        "The `split` function tokenizes a string, using a regular expression to specify the\n",
        "delimiter, and returns a list of strings. Let’s tokenize a string by splitting it at any\n",
        "comma that’s followed by 0 or more whitespace characters—\\s is the whitespace\n",
        "character class and * indicates zero or more occurrences of the preceding\n",
        "subexpression:"
      ]
    },
    {
      "cell_type": "code",
      "execution_count": 37,
      "metadata": {
        "id": "TCg6OiNAV8VR"
      },
      "outputs": [
        {
          "data": {
            "text/plain": [
              "['1', '2', '3', '4', '5', '6', '7', '8']"
            ]
          },
          "execution_count": 37,
          "metadata": {},
          "output_type": "execute_result"
        }
      ],
      "source": [
        "re.split(r',\\s*', '1,  2,  3,4,    5,6,7,8')"
      ]
    },
    {
      "cell_type": "markdown",
      "metadata": {
        "id": "ppcBjBHgWcfK"
      },
      "source": [
        "Use the keyword argument maxsplit to specify the maximum number of splits."
      ]
    },
    {
      "cell_type": "code",
      "execution_count": null,
      "metadata": {
        "id": "2UA2_tteV8VT"
      },
      "outputs": [],
      "source": [
        "re.split(r',\\s*', '1,  2,  3,4,    5,6,7,8', maxsplit=3)"
      ]
    },
    {
      "cell_type": "markdown",
      "metadata": {
        "id": "zbq_1imTWgRr"
      },
      "source": [
        "#  Other Search Functions; Accessing Matches"
      ]
    },
    {
      "cell_type": "markdown",
      "metadata": {
        "id": "00SC3bxKWgR0"
      },
      "source": [
        "### Function search—Finding the First Match Anywhere in a String"
      ]
    },
    {
      "cell_type": "markdown",
      "metadata": {
        "id": "Q9dSYsslWpEt"
      },
      "source": [
        "Function `search` looks in a string for the first occurrence of a substring that matches a\n",
        "regular expression and returns a match object (of type SRE_Match) that contains the\n",
        "matching substring. The match object’s group method returns that substring."
      ]
    },
    {
      "cell_type": "code",
      "execution_count": null,
      "metadata": {
        "id": "T55r-Y6ZWgR4"
      },
      "outputs": [],
      "source": [
        "import re"
      ]
    },
    {
      "cell_type": "code",
      "execution_count": 38,
      "metadata": {
        "id": "e8q5dORJWgR6"
      },
      "outputs": [],
      "source": [
        "result = re.search('Python', 'Python is fun')"
      ]
    },
    {
      "cell_type": "code",
      "execution_count": 39,
      "metadata": {
        "id": "QVWSLmdwWgR8"
      },
      "outputs": [
        {
          "data": {
            "text/plain": [
              "'Python'"
            ]
          },
          "execution_count": 39,
          "metadata": {},
          "output_type": "execute_result"
        }
      ],
      "source": [
        "result.group() if result else 'not found'"
      ]
    },
    {
      "cell_type": "code",
      "execution_count": 40,
      "metadata": {
        "id": "2cYSSUV4WgR9"
      },
      "outputs": [],
      "source": [
        "result2 = re.search('fun!', 'Python is fun')"
      ]
    },
    {
      "cell_type": "code",
      "execution_count": 41,
      "metadata": {
        "id": "uvdhuZ7QWgR-"
      },
      "outputs": [
        {
          "data": {
            "text/plain": [
              "'not found'"
            ]
          },
          "execution_count": 41,
          "metadata": {},
          "output_type": "execute_result"
        }
      ],
      "source": [
        "result2.group() if result2 else 'not found'"
      ]
    },
    {
      "cell_type": "markdown",
      "metadata": {
        "id": "OU5BzdhTWgR_"
      },
      "source": [
        "### Ignoring Case with the Optional flags Keyword Argument"
      ]
    },
    {
      "cell_type": "code",
      "execution_count": 42,
      "metadata": {
        "id": "qk-UfT2wWgSA"
      },
      "outputs": [],
      "source": [
        "result3 = re.search('Sam', 'SAM WHITE', flags=re.IGNORECASE)"
      ]
    },
    {
      "cell_type": "code",
      "execution_count": 43,
      "metadata": {
        "id": "f-gYVndHWgSB"
      },
      "outputs": [
        {
          "data": {
            "text/plain": [
              "'SAM'"
            ]
          },
          "execution_count": 43,
          "metadata": {},
          "output_type": "execute_result"
        }
      ],
      "source": [
        "result3.group() if result3 else 'not found'"
      ]
    },
    {
      "cell_type": "markdown",
      "metadata": {
        "id": "dcX0JeUsWgSC"
      },
      "source": [
        "### Metacharacters that Restrict Matches to the Beginning or End of a String"
      ]
    },
    {
      "cell_type": "markdown",
      "metadata": {
        "id": "p0iI7WG_WzD0"
      },
      "source": [
        "The ^ metacharacter at the beginning of a regular expression (and not inside square\n",
        "brackets) is an anchor indicating that the expression matches only the beginning of a\n",
        "string."
      ]
    },
    {
      "cell_type": "code",
      "execution_count": 44,
      "metadata": {
        "id": "hqLdl1cOWgSC"
      },
      "outputs": [],
      "source": [
        "result = re.search('^Python', 'Python is fun')"
      ]
    },
    {
      "cell_type": "code",
      "execution_count": 45,
      "metadata": {
        "id": "gh-Ct_G8WgSD"
      },
      "outputs": [
        {
          "data": {
            "text/plain": [
              "'Python'"
            ]
          },
          "execution_count": 45,
          "metadata": {},
          "output_type": "execute_result"
        }
      ],
      "source": [
        "result.group() if result else 'not found'"
      ]
    },
    {
      "cell_type": "code",
      "execution_count": null,
      "metadata": {
        "id": "dSSjy8YEWgSD"
      },
      "outputs": [],
      "source": [
        "result = re.search('^fun', 'Python is fun')"
      ]
    },
    {
      "cell_type": "code",
      "execution_count": null,
      "metadata": {
        "id": "j5HTre6XWgSE"
      },
      "outputs": [],
      "source": [
        "result.group() if result else 'not found'"
      ]
    },
    {
      "cell_type": "markdown",
      "metadata": {
        "id": "jh83XeloW3E_"
      },
      "source": [
        "Similarly, the $ metacharacter at the end of a regular expression is an anchor\n",
        "indicating that the expression matches only the end of a string."
      ]
    },
    {
      "cell_type": "code",
      "execution_count": null,
      "metadata": {
        "id": "fWd5QeJbWgSE"
      },
      "outputs": [],
      "source": [
        "result = re.search('Python$', 'Python is fun')"
      ]
    },
    {
      "cell_type": "code",
      "execution_count": null,
      "metadata": {
        "id": "BJOq-ivEWgSF"
      },
      "outputs": [],
      "source": [
        "result.group() if result else 'not found'"
      ]
    },
    {
      "cell_type": "code",
      "execution_count": null,
      "metadata": {
        "id": "Hdp3OYpTWgSF"
      },
      "outputs": [],
      "source": [
        "result = re.search('fun$', 'Python is fun')"
      ]
    },
    {
      "cell_type": "code",
      "execution_count": null,
      "metadata": {
        "id": "d0qaq-clWgSG"
      },
      "outputs": [],
      "source": [
        "result.group() if result else 'not found'"
      ]
    },
    {
      "cell_type": "markdown",
      "metadata": {
        "id": "iXzQZ_GOWgSG"
      },
      "source": [
        "### Function findall and finditer—Finding All Matches in a String"
      ]
    },
    {
      "cell_type": "code",
      "execution_count": null,
      "metadata": {
        "id": "vPRctZHjWgSH"
      },
      "outputs": [],
      "source": [
        "contact = 'Wally White, Home: 555-555-1234, Work: 555-555-4321'"
      ]
    },
    {
      "cell_type": "markdown",
      "metadata": {
        "id": "aDbFVFKJW68F"
      },
      "source": [
        "Function `findall` finds every matching substring in a string and returns a list of the\n",
        "matching substrings. "
      ]
    },
    {
      "cell_type": "code",
      "execution_count": null,
      "metadata": {
        "id": "14sl8kX2WgSH"
      },
      "outputs": [],
      "source": [
        "re.findall(r'\\d{3}-\\d{3}-\\d{4}', contact)"
      ]
    },
    {
      "cell_type": "markdown",
      "metadata": {
        "id": "Qc_fNoDIW_VQ"
      },
      "source": [
        "Function `finditer` works like findall, but returns a lazy iterable of match objects.\n",
        "For large numbers of matches, using finditer can save memory because it returns\n",
        "one match at a time, whereas findall returns all the matches at once."
      ]
    },
    {
      "cell_type": "code",
      "execution_count": null,
      "metadata": {
        "id": "oEb7RKUHWgSI"
      },
      "outputs": [],
      "source": [
        "for phone in re.finditer(r'\\d{3}-\\d{3}-\\d{4}', contact):\n",
        "    print(phone.group())"
      ]
    },
    {
      "cell_type": "markdown",
      "metadata": {
        "id": "jFAqAOJNWgSJ"
      },
      "source": [
        "### Capturing Substrings in a Match"
      ]
    },
    {
      "cell_type": "markdown",
      "metadata": {
        "id": "5bBvhWDbXGhw"
      },
      "source": [
        "You can use parentheses metacharacters—( and )—to capture substrings in a\n",
        "match."
      ]
    },
    {
      "cell_type": "code",
      "execution_count": null,
      "metadata": {
        "id": "AzuPyjBUWgSJ"
      },
      "outputs": [],
      "source": [
        "text = 'Charlie Cyan, e-mail: demo1@deitel.com'"
      ]
    },
    {
      "cell_type": "code",
      "execution_count": null,
      "metadata": {
        "id": "WtW2NkDXWgSJ"
      },
      "outputs": [],
      "source": [
        "pattern = r'([A-Z][a-z]+ [A-Z][a-z]+), e-mail: (\\w+@\\w+\\.\\w{3})'"
      ]
    },
    {
      "cell_type": "code",
      "execution_count": null,
      "metadata": {
        "id": "EnDyMJSSWgSJ"
      },
      "outputs": [],
      "source": [
        "result = re.search(pattern, text)"
      ]
    },
    {
      "cell_type": "markdown",
      "metadata": {
        "id": "s2IoJejNXOJG"
      },
      "source": [
        "The match object’s groups method returns a tuple of the captured substrings."
      ]
    },
    {
      "cell_type": "code",
      "execution_count": null,
      "metadata": {
        "id": "FSxwAp7aWgSK"
      },
      "outputs": [],
      "source": [
        "result.groups()"
      ]
    },
    {
      "cell_type": "markdown",
      "metadata": {
        "id": "A8hqXDdrXU3_"
      },
      "source": [
        "The match object’s group method returns the entire match as a single string."
      ]
    },
    {
      "cell_type": "code",
      "execution_count": null,
      "metadata": {
        "id": "fvvJuuS-WgSL"
      },
      "outputs": [],
      "source": [
        "result.group()"
      ]
    },
    {
      "cell_type": "markdown",
      "metadata": {
        "id": "da9A2LGqXYD-"
      },
      "source": [
        "You can access each captured substring by passing an integer to the group method.\n",
        "The captured substrings are numbered from 1 (unlike list indices, which start at 0)."
      ]
    },
    {
      "cell_type": "code",
      "execution_count": null,
      "metadata": {
        "id": "qNaZtLJdWgSL"
      },
      "outputs": [],
      "source": [
        "result.group(1)"
      ]
    },
    {
      "cell_type": "code",
      "execution_count": null,
      "metadata": {
        "id": "5vpVZtvWWgSL"
      },
      "outputs": [],
      "source": [
        "result.group(2)"
      ]
    },
    {
      "cell_type": "markdown",
      "metadata": {
        "id": "w6Ysxnx9XgwP"
      },
      "source": [
        "# Data Science: Pandas, Regular Expressions and Data Munging \n"
      ]
    },
    {
      "cell_type": "markdown",
      "metadata": {
        "id": "5JIz8yK_Xx6N"
      },
      "source": [
        "Data does not always come in forms ready for analysis. It could, for example, be in the\n",
        "wrong format, incorrect or even missing. Preparing data for analysis is called **data munging** or **data wrangling**."
      ]
    },
    {
      "cell_type": "markdown",
      "metadata": {
        "id": "gffW0UANXyAi"
      },
      "source": [
        "### Data Validation"
      ]
    },
    {
      "cell_type": "markdown",
      "metadata": {
        "id": "KfRBdlReYLRm"
      },
      "source": [
        "Let’s begin by creating a Series of five-digit\n",
        "file numbers from a dictionary of student-name/\n",
        "file-number\n",
        "key–value pairs. We intentionally entered an invalid file number\n",
        "Code for MAriam"
      ]
    },
    {
      "cell_type": "code",
      "execution_count": 2,
      "metadata": {
        "id": "LglHs3-fXgwW"
      },
      "outputs": [],
      "source": [
        "import pandas as pd"
      ]
    },
    {
      "cell_type": "code",
      "execution_count": 8,
      "metadata": {
        "id": "KdnrtHQzXgwY"
      },
      "outputs": [],
      "source": [
        "students1 = pd.Series({'Bilal': '92215', 'Mariam': '3310'})"
      ]
    },
    {
      "cell_type": "code",
      "execution_count": 9,
      "metadata": {
        "colab": {
          "base_uri": "https://localhost:8080/"
        },
        "id": "BO3dzhIaXgwa",
        "outputId": "c6df2514-8878-4e63-b2d8-337d5ed02655"
      },
      "outputs": [
        {
          "data": {
            "text/plain": [
              "Bilal     92215\n",
              "Mariam     3310\n",
              "dtype: object"
            ]
          },
          "execution_count": 9,
          "metadata": {},
          "output_type": "execute_result"
        }
      ],
      "source": [
        "students1"
      ]
    },
    {
      "cell_type": "markdown",
      "metadata": {
        "id": "aNysAmnsYiA2"
      },
      "source": [
        "We can use regular expressions with Pandas to validate data. The `str` attribute of a\n",
        "Series provides string-processing\n",
        "and various regular expression methods."
      ]
    },
    {
      "cell_type": "code",
      "execution_count": 10,
      "metadata": {
        "colab": {
          "base_uri": "https://localhost:8080/"
        },
        "id": "tr777_sDXgwc",
        "outputId": "54141ab4-3f6e-43f0-942a-dcc94d730d8c"
      },
      "outputs": [
        {
          "data": {
            "text/plain": [
              "Bilal      True\n",
              "Mariam    False\n",
              "dtype: bool"
            ]
          },
          "execution_count": 10,
          "metadata": {},
          "output_type": "execute_result"
        }
      ],
      "source": [
        "students1.str.match(r'\\d{5}')"
      ]
    },
    {
      "cell_type": "markdown",
      "metadata": {
        "id": "85x86ra9Ystx"
      },
      "source": [
        "Sometimes, rather than matching an entire value to a pattern, you’ll want to know\n",
        "whether a value contains a substring that matches the pattern. In this case, use method\n",
        "containsinstead\n",
        "of match."
      ]
    },
    {
      "cell_type": "markdown",
      "metadata": {
        "id": "PibdKS_XY4H5"
      },
      "source": [
        "Let’s create a Series of strings, each containing a student name, major and fiel number, then determine whether each string contains a substring\n",
        "matching the pattern ' [AZ]{\n",
        "2} ' (a space, followed by two uppercase letters,\n",
        "followed by a space)"
      ]
    },
    {
      "cell_type": "code",
      "execution_count": 11,
      "metadata": {
        "id": "E0nI6rKiXgwd"
      },
      "outputs": [],
      "source": [
        "students2 = pd.Series(['Bilal, CS 92215', 'Mariam, ST 33101'])"
      ]
    },
    {
      "cell_type": "code",
      "execution_count": 12,
      "metadata": {
        "colab": {
          "base_uri": "https://localhost:8080/"
        },
        "id": "ntAD-56mXgwe",
        "outputId": "1935cad1-ace2-4f96-c310-c272550b7ff6"
      },
      "outputs": [
        {
          "data": {
            "text/plain": [
              "0     Bilal, CS 92215\n",
              "1    Mariam, ST 33101\n",
              "dtype: object"
            ]
          },
          "execution_count": 12,
          "metadata": {},
          "output_type": "execute_result"
        }
      ],
      "source": [
        "students2"
      ]
    },
    {
      "cell_type": "code",
      "execution_count": 13,
      "metadata": {
        "colab": {
          "base_uri": "https://localhost:8080/"
        },
        "id": "V061zZy9Xgwf",
        "outputId": "26b7f7a4-015f-430a-f9bb-f0cf5a85c8f6"
      },
      "outputs": [
        {
          "data": {
            "text/plain": [
              "0    True\n",
              "1    True\n",
              "dtype: bool"
            ]
          },
          "execution_count": 13,
          "metadata": {},
          "output_type": "execute_result"
        }
      ],
      "source": [
        "students2.str.contains(r' [A-Z]{2} ')"
      ]
    },
    {
      "cell_type": "code",
      "execution_count": 14,
      "metadata": {
        "colab": {
          "base_uri": "https://localhost:8080/"
        },
        "id": "kLCGSJm3Xgwg",
        "outputId": "2bb2afc6-dc9a-4dee-814d-d2b38efa25db"
      },
      "outputs": [
        {
          "data": {
            "text/plain": [
              "0    False\n",
              "1    False\n",
              "dtype: bool"
            ]
          },
          "execution_count": 14,
          "metadata": {},
          "output_type": "execute_result"
        }
      ],
      "source": [
        "students2.str.match(r' [A-Z]{2} ')"
      ]
    },
    {
      "cell_type": "markdown",
      "metadata": {
        "id": "TVb8tHMhXgwh"
      },
      "source": [
        "### Reformatting Your Data"
      ]
    },
    {
      "cell_type": "markdown",
      "metadata": {
        "id": "uktqCNM9ZiQ2"
      },
      "source": [
        "We’ve discussed data cleaning. Now let’s consider **munging data** into a different format.\n",
        "As a simple example, assume that an application requires lebanese phone numbers in the\n",
        "format ##-### ###,\n",
        "with hyphen separating the group of digit and a space the second group. The phone\n",
        "numbers have been provided to us as 8-digit\n",
        "strings."
      ]
    },
    {
      "cell_type": "code",
      "execution_count": 29,
      "metadata": {
        "id": "mz-zA_SEXgwi"
      },
      "outputs": [],
      "source": [
        "contacts = [['Malak', 'malak@demo.com', '55555555'],\n",
        "            ['Samir', 'samir@demo.com', '55551234']]"
      ]
    },
    {
      "cell_type": "code",
      "execution_count": 30,
      "metadata": {
        "id": "F2M4XeNrXgwj"
      },
      "outputs": [],
      "source": [
        "contactsdf = pd.DataFrame(contacts, \n",
        "                          columns=['Name', 'Email', 'Phone'])"
      ]
    },
    {
      "cell_type": "code",
      "execution_count": 31,
      "metadata": {
        "colab": {
          "base_uri": "https://localhost:8080/",
          "height": 111
        },
        "id": "zLOig6X8Xgwj",
        "outputId": "eda1e431-70f7-49c1-de38-a5920bb5c530"
      },
      "outputs": [
        {
          "data": {
            "text/html": [
              "<div>\n",
              "<style scoped>\n",
              "    .dataframe tbody tr th:only-of-type {\n",
              "        vertical-align: middle;\n",
              "    }\n",
              "\n",
              "    .dataframe tbody tr th {\n",
              "        vertical-align: top;\n",
              "    }\n",
              "\n",
              "    .dataframe thead th {\n",
              "        text-align: right;\n",
              "    }\n",
              "</style>\n",
              "<table border=\"1\" class=\"dataframe\">\n",
              "  <thead>\n",
              "    <tr style=\"text-align: right;\">\n",
              "      <th></th>\n",
              "      <th>Name</th>\n",
              "      <th>Email</th>\n",
              "      <th>Phone</th>\n",
              "    </tr>\n",
              "  </thead>\n",
              "  <tbody>\n",
              "    <tr>\n",
              "      <th>0</th>\n",
              "      <td>Malak</td>\n",
              "      <td>malak@demo.com</td>\n",
              "      <td>55555555</td>\n",
              "    </tr>\n",
              "    <tr>\n",
              "      <th>1</th>\n",
              "      <td>Samir</td>\n",
              "      <td>samir@demo.com</td>\n",
              "      <td>55551234</td>\n",
              "    </tr>\n",
              "  </tbody>\n",
              "</table>\n",
              "</div>"
            ],
            "text/plain": [
              "    Name           Email     Phone\n",
              "0  Malak  malak@demo.com  55555555\n",
              "1  Samir  samir@demo.com  55551234"
            ]
          },
          "execution_count": 31,
          "metadata": {},
          "output_type": "execute_result"
        }
      ],
      "source": [
        "contactsdf"
      ]
    },
    {
      "cell_type": "code",
      "execution_count": 18,
      "metadata": {
        "id": "iBXVzPKOXgwk"
      },
      "outputs": [],
      "source": [
        "import re"
      ]
    },
    {
      "cell_type": "markdown",
      "metadata": {
        "id": "5qMVppi3aCiD"
      },
      "source": [
        "We can\n",
        "map the phone numbers to the proper format by calling the Series method `map` on\n",
        "the DataFrame’s 'Phone' column. Method map’s argument is a function that receives\n",
        "a value and returns the mapped value. The function `get_formatted_phone` maps 8\n",
        "consecutive digits into the format ##-###-###:"
      ]
    },
    {
      "cell_type": "code",
      "execution_count": 35,
      "metadata": {
        "id": "XNi6dmRSXgwk"
      },
      "outputs": [],
      "source": [
        "def get_formatted_phone(value):\n",
        "    result = re.fullmatch(r'(\\d{2})(\\d{3})(\\d{3})', value)\n",
        "    return '-'.join(result.groups()) if result else value"
      ]
    },
    {
      "cell_type": "markdown",
      "metadata": {
        "id": "sxed4YYoaifX"
      },
      "source": [
        "Series method map returns a new Series containing the results of calling its\n",
        "function argument for each value in the column."
      ]
    },
    {
      "cell_type": "code",
      "execution_count": 36,
      "metadata": {
        "id": "LxydI6_aXgwl"
      },
      "outputs": [],
      "source": [
        "formatted_phone = contactsdf['Phone'].map(get_formatted_phone)"
      ]
    },
    {
      "cell_type": "code",
      "execution_count": 37,
      "metadata": {
        "colab": {
          "base_uri": "https://localhost:8080/"
        },
        "id": "9DBFlrC6Xgwl",
        "outputId": "3268913e-adf0-405b-d352-30e3f819afe3"
      },
      "outputs": [
        {
          "data": {
            "text/plain": [
              "0    55-555-555\n",
              "1    55-551-234\n",
              "Name: Phone, dtype: object"
            ]
          },
          "execution_count": 37,
          "metadata": {},
          "output_type": "execute_result"
        }
      ],
      "source": [
        "formatted_phone"
      ]
    },
    {
      "cell_type": "markdown",
      "metadata": {
        "id": "QOsfXXM2anjg"
      },
      "source": [
        "Once you’ve confirmed that the data is in the correct format, you can update it in the\n",
        "original DataFrame by assigning the new Series to the 'Phone' column."
      ]
    },
    {
      "cell_type": "code",
      "execution_count": 38,
      "metadata": {
        "id": "p-qrN0hhXgwm"
      },
      "outputs": [],
      "source": [
        "contactsdf['Phone'] = formatted_phone"
      ]
    },
    {
      "cell_type": "code",
      "execution_count": 39,
      "metadata": {
        "colab": {
          "base_uri": "https://localhost:8080/",
          "height": 111
        },
        "id": "JL9B95tkXgwm",
        "outputId": "246470c0-05e2-427a-c967-16add114de9f"
      },
      "outputs": [
        {
          "data": {
            "text/html": [
              "<div>\n",
              "<style scoped>\n",
              "    .dataframe tbody tr th:only-of-type {\n",
              "        vertical-align: middle;\n",
              "    }\n",
              "\n",
              "    .dataframe tbody tr th {\n",
              "        vertical-align: top;\n",
              "    }\n",
              "\n",
              "    .dataframe thead th {\n",
              "        text-align: right;\n",
              "    }\n",
              "</style>\n",
              "<table border=\"1\" class=\"dataframe\">\n",
              "  <thead>\n",
              "    <tr style=\"text-align: right;\">\n",
              "      <th></th>\n",
              "      <th>Name</th>\n",
              "      <th>Email</th>\n",
              "      <th>Phone</th>\n",
              "    </tr>\n",
              "  </thead>\n",
              "  <tbody>\n",
              "    <tr>\n",
              "      <th>0</th>\n",
              "      <td>Malak</td>\n",
              "      <td>malak@demo.com</td>\n",
              "      <td>55-555-555</td>\n",
              "    </tr>\n",
              "    <tr>\n",
              "      <th>1</th>\n",
              "      <td>Samir</td>\n",
              "      <td>samir@demo.com</td>\n",
              "      <td>55-551-234</td>\n",
              "    </tr>\n",
              "  </tbody>\n",
              "</table>\n",
              "</div>"
            ],
            "text/plain": [
              "    Name           Email       Phone\n",
              "0  Malak  malak@demo.com  55-555-555\n",
              "1  Samir  samir@demo.com  55-551-234"
            ]
          },
          "execution_count": 39,
          "metadata": {},
          "output_type": "execute_result"
        }
      ],
      "source": [
        "contactsdf"
      ]
    }
  ],
  "metadata": {
    "colab": {
      "collapsed_sections": [],
      "name": "I2232-Strings.ipynb",
      "provenance": []
    },
    "kernelspec": {
      "display_name": "Python 3",
      "name": "python3"
    },
    "language_info": {
      "codemirror_mode": {
        "name": "ipython",
        "version": 3
      },
      "file_extension": ".py",
      "mimetype": "text/x-python",
      "name": "python",
      "nbconvert_exporter": "python",
      "pygments_lexer": "ipython3",
      "version": "3.10.0"
    }
  },
  "nbformat": 4,
  "nbformat_minor": 0
}
