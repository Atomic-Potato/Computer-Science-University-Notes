{
  "cells": [
    {
      "cell_type": "markdown",
      "metadata": {
        "id": "CiAIhiI0pKe5"
      },
      "source": [
        "# Control Statements"
      ]
    },
    {
      "cell_type": "markdown",
      "metadata": {
        "id": "PyNRNrrBpTak"
      },
      "source": [
        "Python provides three selection statements that execute code based on a condition that\n",
        "evaluates to either `True` or `False`:\n",
        "\n",
        "1.   The `if` statement performs an action if a condition is `True` or skips the action if the\n",
        "condition is `False`.\n",
        "\n",
        "2.   The `if... else` statement performs an action if a condition is `True` or performs a different action if the condition is `False`.\n",
        "3. The `if... elif... else` statement performs one of many different actions,\n",
        "depending on the truth or falsity of several conditions."
      ]
    },
    {
      "cell_type": "markdown",
      "metadata": {
        "id": "XLs96DzWpgHP"
      },
      "source": [
        "Python provides two iteration statements - `while` and `for`:\n",
        "1. The `while` statement repeats an action (or a group of actions) as long as a\n",
        "condition remains True.\n",
        "2. The `for` statement repeats an action (or a group of actions) for every item in a\n",
        "sequence of items."
      ]
    },
    {
      "cell_type": "markdown",
      "metadata": {
        "id": "4B1ta5bEpohb"
      },
      "source": [
        "## Keywords"
      ]
    },
    {
      "cell_type": "markdown",
      "metadata": {
        "id": "HkndjN2opsU0"
      },
      "source": [
        "The words `if`, `elif`, `else`, `while`, `for`, `True` and `False` are Python keywords. Using\n",
        "a keyword as an identifier such as a variable name is a syntax error."
      ]
    },
    {
      "cell_type": "markdown",
      "metadata": {
        "id": "lB1E8hSDpH2I"
      },
      "source": [
        "# `if` Statement"
      ]
    },
    {
      "cell_type": "code",
      "execution_count": 1,
      "metadata": {
        "id": "Sk-wNzNxpH2V"
      },
      "outputs": [],
      "source": [
        "grade = 85"
      ]
    },
    {
      "cell_type": "code",
      "execution_count": null,
      "metadata": {
        "id": "nLa0veXMpH2Y"
      },
      "outputs": [],
      "source": [
        "if grade >= 60:\n",
        "    print('Passed')"
      ]
    },
    {
      "cell_type": "markdown",
      "metadata": {
        "id": "nuTlc_b9pH2Z"
      },
      "source": [
        "### Suite Indentation"
      ]
    },
    {
      "cell_type": "markdown",
      "metadata": {
        "id": "6BP_VcrnrQRW"
      },
      "source": [
        "Indenting a suite is required; otherwise, an `IndentationError` syntax error occurs:"
      ]
    },
    {
      "cell_type": "code",
      "execution_count": null,
      "metadata": {
        "id": "R-g3ezcBpH2a"
      },
      "outputs": [],
      "source": [
        "if grade >= 60:\n",
        "print('Passed')  # statement is not indented properly"
      ]
    },
    {
      "cell_type": "markdown",
      "metadata": {
        "id": "f_KhOKworVWC"
      },
      "source": [
        "An `IndentationError` also occurs if you have more than one statement in a suite\n",
        "and those statements do not have the same indentation:"
      ]
    },
    {
      "cell_type": "code",
      "execution_count": null,
      "metadata": {
        "id": "3L58SpjUpH2b"
      },
      "outputs": [],
      "source": [
        "if grade >= 60:\n",
        "    print('Passed')\n",
        "  print('Good job!)"
      ]
    },
    {
      "cell_type": "markdown",
      "metadata": {
        "id": "3ia77cFJrapo"
      },
      "source": [
        "Sometimes error messages may not be clear. The fact that Python calls attention to the\n",
        "line is usually enough for you to figure out what’s wrong. Apply indentation\n",
        "conventions uniformly throughout your code—programs that are not uniformly\n",
        "indented are hard to read."
      ]
    },
    {
      "cell_type": "markdown",
      "metadata": {
        "id": "19N7mS_qpH2c"
      },
      "source": [
        "### Every Expression Can Be Interpreted as Either `True` or `False` "
      ]
    },
    {
      "cell_type": "code",
      "execution_count": null,
      "metadata": {
        "id": "x3Bfi9jypH2e"
      },
      "outputs": [],
      "source": [
        "if 1:\n",
        "    print('Nonzero values are true, so this will print')"
      ]
    },
    {
      "cell_type": "code",
      "execution_count": null,
      "metadata": {
        "id": "2ysvOhrhpH2g"
      },
      "outputs": [],
      "source": [
        "if 0:\n",
        "    print('Zero is false, so this will not print')"
      ]
    },
    {
      "cell_type": "markdown",
      "metadata": {
        "id": "5sQyAp55rnw7"
      },
      "source": [
        "##  `if`…`else` and `if`…`elif`…`else` Statements"
      ]
    },
    {
      "cell_type": "code",
      "execution_count": null,
      "metadata": {
        "id": "Kw-0YfwvrnxG"
      },
      "outputs": [],
      "source": [
        "grade = 85"
      ]
    },
    {
      "cell_type": "code",
      "execution_count": null,
      "metadata": {
        "id": "eJNBjuY4rnxN"
      },
      "outputs": [],
      "source": [
        "if grade >= 60: \n",
        "    print('Passed')\n",
        "else:\n",
        "    print('Failed')"
      ]
    },
    {
      "cell_type": "code",
      "execution_count": null,
      "metadata": {
        "id": "rx4FRbmcrnxV"
      },
      "outputs": [],
      "source": [
        "grade = 57"
      ]
    },
    {
      "cell_type": "code",
      "execution_count": null,
      "metadata": {
        "id": "1R_bof1lrnxY"
      },
      "outputs": [],
      "source": [
        "if grade >= 60: \n",
        "    print('Passed')\n",
        "else:\n",
        "    print('Failed')"
      ]
    },
    {
      "cell_type": "code",
      "execution_count": null,
      "metadata": {
        "id": "IRRyKnE_rnxh"
      },
      "outputs": [],
      "source": [
        "grade = 99"
      ]
    },
    {
      "cell_type": "code",
      "execution_count": null,
      "metadata": {
        "id": "fFEZMx1ernxl"
      },
      "outputs": [],
      "source": [
        "if grade >= 60: \n",
        "    print('Passed')\n",
        "else:\n",
        "    print('Failed')"
      ]
    },
    {
      "cell_type": "markdown",
      "metadata": {
        "id": "4iJoAaLIrnxu"
      },
      "source": [
        "## Conditional Expressions"
      ]
    },
    {
      "cell_type": "code",
      "execution_count": 1,
      "metadata": {
        "id": "yWrNF8C5rnxx"
      },
      "outputs": [],
      "source": [
        "grade = 87"
      ]
    },
    {
      "cell_type": "code",
      "execution_count": 2,
      "metadata": {
        "id": "k_AtsxDkrnx1"
      },
      "outputs": [],
      "source": [
        "if grade >= 60:\n",
        "    result = 'Passed'\n",
        "else:\n",
        "    result = 'Failed'"
      ]
    },
    {
      "cell_type": "code",
      "execution_count": 3,
      "metadata": {
        "id": "QF2mtfFHrnx5"
      },
      "outputs": [
        {
          "data": {
            "text/plain": [
              "'Passed'"
            ]
          },
          "execution_count": 3,
          "metadata": {},
          "output_type": "execute_result"
        }
      ],
      "source": [
        "result"
      ]
    },
    {
      "cell_type": "markdown",
      "metadata": {
        "id": "xDYBLQA-r0ip"
      },
      "source": [
        "You can write statements using a concise conditional expression:"
      ]
    },
    {
      "cell_type": "code",
      "execution_count": 4,
      "metadata": {
        "id": "gujnl8n4rnx6"
      },
      "outputs": [],
      "source": [
        "result = ('Passed' if grade >= 60 else 'Failed')"
      ]
    },
    {
      "cell_type": "code",
      "execution_count": 5,
      "metadata": {
        "id": "gXxJJGYurnx7"
      },
      "outputs": [
        {
          "data": {
            "text/plain": [
              "'Passed'"
            ]
          },
          "execution_count": 5,
          "metadata": {},
          "output_type": "execute_result"
        }
      ],
      "source": [
        "result"
      ]
    },
    {
      "cell_type": "markdown",
      "metadata": {
        "id": "nNrFX-Rkr-G4"
      },
      "source": [
        "The parentheses are not required, but they make it clear that the statement assigns the\n",
        "conditional expression’s value to result."
      ]
    },
    {
      "cell_type": "code",
      "execution_count": null,
      "metadata": {
        "id": "pZVUcwoornx8"
      },
      "outputs": [],
      "source": [
        "'Passed' if grade >= 60 else 'Failed'"
      ]
    },
    {
      "cell_type": "markdown",
      "metadata": {
        "id": "fb27QSiJrnx8"
      },
      "source": [
        "## Multiple Statements in a Suite"
      ]
    },
    {
      "cell_type": "code",
      "execution_count": 6,
      "metadata": {
        "id": "ow0VGHnLrnyC"
      },
      "outputs": [],
      "source": [
        "grade = 49"
      ]
    },
    {
      "cell_type": "code",
      "execution_count": 7,
      "metadata": {
        "id": "IK18syLSrnyG"
      },
      "outputs": [
        {
          "name": "stdout",
          "output_type": "stream",
          "text": [
            "Failed\n",
            "You must take this course again\n"
          ]
        }
      ],
      "source": [
        "if grade >= 60:\n",
        "    print('Passed')\n",
        "else:\n",
        "    print('Failed')\n",
        "    print('You must take this course again')"
      ]
    },
    {
      "cell_type": "code",
      "execution_count": 8,
      "metadata": {
        "id": "7dK4HggrrnyK"
      },
      "outputs": [],
      "source": [
        "grade = 100"
      ]
    },
    {
      "cell_type": "code",
      "execution_count": 9,
      "metadata": {
        "id": "BebA_7aArnyL"
      },
      "outputs": [
        {
          "name": "stdout",
          "output_type": "stream",
          "text": [
            "Passed\n",
            "You must take this course again\n"
          ]
        }
      ],
      "source": [
        "if grade >= 60:\n",
        "    print('Passed')\n",
        "else:\n",
        "    print('Failed')\n",
        "print('You must take this course again')"
      ]
    },
    {
      "cell_type": "markdown",
      "metadata": {
        "id": "Re5AMIcFrnyM"
      },
      "source": [
        "## `if`…`elif`…`else` Statement\n",
        "\n",
        "\n"
      ]
    },
    {
      "cell_type": "code",
      "execution_count": 10,
      "metadata": {
        "id": "MIaS0cjfrnyN"
      },
      "outputs": [],
      "source": [
        "grade = 77"
      ]
    },
    {
      "cell_type": "code",
      "execution_count": 11,
      "metadata": {
        "id": "9mmiPCCFrnyO"
      },
      "outputs": [
        {
          "name": "stdout",
          "output_type": "stream",
          "text": [
            "C\n"
          ]
        }
      ],
      "source": [
        "if grade >= 90:\n",
        "    print('A')\n",
        "elif grade >= 80:\n",
        "    print('B')\n",
        "elif grade >= 70:\n",
        "    print('C')\n",
        "elif grade >= 60:\n",
        "    print('D')\n",
        "else:\n",
        "    print('F')"
      ]
    },
    {
      "cell_type": "markdown",
      "metadata": {
        "id": "qX9HUJGHsYzK"
      },
      "source": [
        "# `while` Statement"
      ]
    },
    {
      "cell_type": "code",
      "execution_count": 12,
      "metadata": {
        "id": "5ZXc6fHCsYzS"
      },
      "outputs": [],
      "source": [
        "product = 3"
      ]
    },
    {
      "cell_type": "code",
      "execution_count": 13,
      "metadata": {
        "id": "vRLLcY9psYzV"
      },
      "outputs": [],
      "source": [
        "while product <= 50:\n",
        "    product = product * 3    "
      ]
    },
    {
      "cell_type": "code",
      "execution_count": 14,
      "metadata": {
        "id": "mwzhPYRTsYzW"
      },
      "outputs": [
        {
          "data": {
            "text/plain": [
              "81"
            ]
          },
          "execution_count": 14,
          "metadata": {},
          "output_type": "execute_result"
        }
      ],
      "source": [
        "product"
      ]
    },
    {
      "cell_type": "markdown",
      "metadata": {
        "id": "28I53Y4iskb5"
      },
      "source": [
        "#  `for` Statement "
      ]
    },
    {
      "cell_type": "code",
      "execution_count": 15,
      "metadata": {
        "id": "BgOw6MbnskcD"
      },
      "outputs": [
        {
          "name": "stdout",
          "output_type": "stream",
          "text": [
            "P\n",
            "r\n",
            "o\n",
            "g\n",
            "r\n",
            "a\n",
            "m\n",
            "m\n",
            "i\n",
            "n\n",
            "g\n"
          ]
        }
      ],
      "source": [
        "for character in 'Programming':\n",
        "    print(character)"
      ]
    },
    {
      "cell_type": "markdown",
      "metadata": {
        "id": "mVQB8CXjskcF"
      },
      "source": [
        "### Function `print`’s `end` Keyword Argument "
      ]
    },
    {
      "cell_type": "code",
      "execution_count": 16,
      "metadata": {
        "id": "XBSiNfyzsuRF"
      },
      "outputs": [
        {
          "name": "stdout",
          "output_type": "stream",
          "text": [
            "P  r  o  g  r  a  m  m  i  n  g  "
          ]
        }
      ],
      "source": [
        "for character in 'Programming':\n",
        "    print(character, end='  ')"
      ]
    },
    {
      "cell_type": "markdown",
      "metadata": {
        "id": "_k5DLHduskcG"
      },
      "source": [
        "### Function `print`’s `sep` Keyword Argument "
      ]
    },
    {
      "cell_type": "code",
      "execution_count": 17,
      "metadata": {
        "id": "pgu6qOh3skcH"
      },
      "outputs": [
        {
          "name": "stdout",
          "output_type": "stream",
          "text": [
            "10, 20, 30\n"
          ]
        }
      ],
      "source": [
        "print(10, 20, 30, sep=', ')"
      ]
    },
    {
      "cell_type": "markdown",
      "metadata": {
        "id": "VoRnpa-kskcI"
      },
      "source": [
        "# Iterables, Lists and Iterators"
      ]
    },
    {
      "cell_type": "markdown",
      "metadata": {
        "id": "m2qkjc-_tCQZ"
      },
      "source": [
        "The sequence to the right of the for statement’s in keyword must be an iterable—that\n",
        "is, an object from which the for statement can take one item at a time until no more\n",
        "items remain. Python has other iterable sequence types besides strings. One of the most\n",
        "common is a list, which is a commaseparated\n",
        "collection of items enclosed in square\n",
        "brackets ([ and ])."
      ]
    },
    {
      "cell_type": "code",
      "execution_count": 18,
      "metadata": {
        "id": "6I-b0zCfskcJ"
      },
      "outputs": [],
      "source": [
        "total = 0"
      ]
    },
    {
      "cell_type": "code",
      "execution_count": 19,
      "metadata": {
        "id": "judGKdcnskcK"
      },
      "outputs": [],
      "source": [
        "for number in [2, -3, 0, 17, 9]:\n",
        "    total = total + number"
      ]
    },
    {
      "cell_type": "code",
      "execution_count": 20,
      "metadata": {
        "id": "_rc-CrRaskcL"
      },
      "outputs": [
        {
          "data": {
            "text/plain": [
              "25"
            ]
          },
          "execution_count": 20,
          "metadata": {},
          "output_type": "execute_result"
        }
      ],
      "source": [
        "total"
      ]
    },
    {
      "cell_type": "markdown",
      "metadata": {
        "id": "ZD6xKJdztJRh"
      },
      "source": [
        "The iterator is\n",
        "like a bookmark—it always knows where it is in the sequence, so it can return the next\n",
        "item when it’s called upon to do so."
      ]
    },
    {
      "cell_type": "markdown",
      "metadata": {
        "id": "B5J9F1SmskcN"
      },
      "source": [
        "## Built-In `range` Function and Generators"
      ]
    },
    {
      "cell_type": "code",
      "execution_count": 21,
      "metadata": {
        "id": "gKXGZw3oskcO"
      },
      "outputs": [
        {
          "name": "stdout",
          "output_type": "stream",
          "text": [
            "0 1 2 3 4 5 6 7 8 9 "
          ]
        }
      ],
      "source": [
        "for counter in range(10):\n",
        "    print(counter, end=' ')"
      ]
    },
    {
      "cell_type": "markdown",
      "metadata": {
        "id": "IbxMvtkotRZg"
      },
      "source": [
        "Attention 10 is not included in the output !"
      ]
    },
    {
      "cell_type": "markdown",
      "metadata": {
        "id": "SotFv38Ctdmt"
      },
      "source": [
        "# Augmented Assignments "
      ]
    },
    {
      "cell_type": "markdown",
      "metadata": {
        "id": "OFOybIQltlW1"
      },
      "source": [
        "Augmented assignments abbreviate assignment expressions in which the same\n",
        "variable name appears on the left and right of the assignment’s =."
      ]
    },
    {
      "cell_type": "code",
      "execution_count": null,
      "metadata": {
        "id": "iW9ljv5ytdm2"
      },
      "outputs": [],
      "source": [
        "total = 0"
      ]
    },
    {
      "cell_type": "code",
      "execution_count": null,
      "metadata": {
        "id": "OU8sdtmCtdm5"
      },
      "outputs": [],
      "source": [
        "for number in [1, 2, 3, 4, 5]:\n",
        "    total += number  # add number to total"
      ]
    },
    {
      "cell_type": "code",
      "execution_count": null,
      "metadata": {
        "id": "xlEy287utdm6"
      },
      "outputs": [],
      "source": [
        "total"
      ]
    },
    {
      "cell_type": "markdown",
      "metadata": {
        "id": "PEYOPQZPuNye"
      },
      "source": [
        "# Formatted strings"
      ]
    },
    {
      "cell_type": "markdown",
      "metadata": {
        "id": "Os1kgjTqu4Iv"
      },
      "source": [
        "Question 1: A class of ten students took a quiz. Their grades (integers in the range 0 – 100) are 98,\n",
        "76, 71, 87, 83, 90, 57, 79, 82, 94. Determine the class average on the quiz."
      ]
    },
    {
      "cell_type": "markdown",
      "metadata": {
        "id": "yKuOU_V_uVDG"
      },
      "source": [
        "Type, then run the following solution \n",
        "\n",
        "\n",
        "![image.png](data:image/png;base64,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)"
      ]
    },
    {
      "cell_type": "code",
      "execution_count": 22,
      "metadata": {
        "id": "HwGmDwEFuW8f"
      },
      "outputs": [
        {
          "name": "stdout",
          "output_type": "stream",
          "text": [
            "Class average is 81.7\n"
          ]
        }
      ],
      "source": [
        "total = 0\n",
        "gradeCounter = 0\n",
        "grades = [98, 76, 71, 87, 83, 90, 57, 79, 82, 94]\n",
        "\n",
        "for grade in grades :\n",
        "    total += grade\n",
        "    gradeCounter += 1\n",
        "\n",
        "average = total / gradeCounter\n",
        "print(f'Class average is {average}')"
      ]
    },
    {
      "cell_type": "markdown",
      "metadata": {
        "id": "-JK9vOfpul1M"
      },
      "source": [
        "In the last line, we used the following simple fstring\n",
        "(short for formatted string) to format this\n",
        "script’s result by inserting the value of average into a string.\n",
        "The letter f before the string’s opening quote indicates it’s an fstring.\n",
        "You specify\n",
        "where to insert values by using placeholders delimited by curly braces ({ and })."
      ]
    },
    {
      "cell_type": "markdown",
      "metadata": {
        "id": "qh3mPUaqvDZc"
      },
      "source": [
        "Question 2: Develop a classaveraging\n",
        "program that processes an arbitrary number of grades\n",
        "each time the program executes."
      ]
    },
    {
      "cell_type": "markdown",
      "metadata": {
        "id": "yNGaNKVbvOEa"
      },
      "source": [
        "Type and run the following solution\n",
        "\n",
        "![image.png](data:image/png;base64,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)"
      ]
    },
    {
      "cell_type": "code",
      "execution_count": 26,
      "metadata": {
        "id": "IB_c85GzvSbQ"
      },
      "outputs": [
        {
          "name": "stdout",
          "output_type": "stream",
          "text": [
            "Class average = 8.500000000000000000000000000000000000000000000000000000000000000000000\n"
          ]
        }
      ],
      "source": [
        "total = 0\n",
        "gradeCounter = 0\n",
        "\n",
        "grade = int(input(\"Enter num (stop by putting -1): \"))\n",
        "\n",
        "while grade != -1 :\n",
        "    total += grade\n",
        "    gradeCounter += 1\n",
        "    grade = int(input(\"Enter num (stop by putting -1): \"))\n",
        "\n",
        "if grade != 0 :\n",
        "    average = total / gradeCounter\n",
        "    print(f\"Class average = {average:.69f}\")\n",
        "else :\n",
        "    print(\"No grades entered\")"
      ]
    },
    {
      "cell_type": "markdown",
      "metadata": {
        "id": "e4-H7Zy5vbe0"
      },
      "source": [
        "The above script solves the class average problem with sentinel controlled\n",
        "iteration.\n",
        "Notice that we test for the possibility of division by zero. If undetected, this would cause\n",
        "a fatal logic error. Later, we will write programs that\n",
        "recognize such exceptions and take appropriate actions."
      ]
    },
    {
      "cell_type": "markdown",
      "metadata": {
        "id": "f9TNOzIcvwqh"
      },
      "source": [
        "### Formatting the Class Average with Two Decimal Places"
      ]
    },
    {
      "cell_type": "markdown",
      "metadata": {
        "id": "2puEcSaVvyN2"
      },
      "source": [
        "This example formatted the class average with **two** digits to the right of the decimal\n",
        "point. In an `fstring`,\n",
        "you can optionally follow a replacement text\n",
        "expression with a\n",
        "colon (:) and a format specifier that describes how to format the replacement text.\n",
        "The format specifier .2f formats the average as a floating point\n",
        "number (f)\n",
        "with two digits to the right of the decimal point (.2). "
      ]
    },
    {
      "cell_type": "markdown",
      "metadata": {
        "id": "d0LFSFJFwCQF"
      },
      "source": [
        "# Built-In Function `range`: A Deeper Look"
      ]
    },
    {
      "cell_type": "markdown",
      "metadata": {
        "id": "7YicFSrSwfyK"
      },
      "source": [
        "Function range also has twoand\n",
        "threeargument\n",
        "versions. As you’ve seen, range’s\n",
        "oneargument\n",
        "version produces a sequence of consecutive integers from 0 up to, but\n",
        "not including, the argument’s value. Function range’s twoargument\n",
        "version produces\n",
        "a sequence of consecutive integers from its first argument’s value up to, but not\n",
        "including, the second argument’s value."
      ]
    },
    {
      "cell_type": "code",
      "execution_count": null,
      "metadata": {
        "id": "ObV80UIAwCQQ"
      },
      "outputs": [],
      "source": [
        "for number in range(5, 10):\n",
        "    print(number, end=' ')"
      ]
    },
    {
      "cell_type": "markdown",
      "metadata": {
        "id": "cMeJTHvNwkof"
      },
      "source": [
        "Function range’s threeargument\n",
        "version produces a sequence of integers from its first\n",
        "argument’s value up to, but not including, the second argument’s value, incrementing\n",
        "by the third argument’s value, which is known as the **step**."
      ]
    },
    {
      "cell_type": "code",
      "execution_count": 27,
      "metadata": {
        "id": "ODQvv8wiwCQS"
      },
      "outputs": [
        {
          "name": "stdout",
          "output_type": "stream",
          "text": [
            "0 2 4 6 8 "
          ]
        }
      ],
      "source": [
        "for number in range(0, 10, 2):\n",
        "    print(number, end=' ')"
      ]
    },
    {
      "cell_type": "markdown",
      "metadata": {
        "id": "IJW081ybwteB"
      },
      "source": [
        "If the third argument is negative, the sequence progresses from the first argument’s\n",
        "value down to, but not including the second argument’s value, decrementing by the\n",
        "third argument’s value."
      ]
    },
    {
      "cell_type": "code",
      "execution_count": 28,
      "metadata": {
        "id": "Rnw4icwAwCQT"
      },
      "outputs": [
        {
          "name": "stdout",
          "output_type": "stream",
          "text": [
            "10 8 6 4 2 "
          ]
        }
      ],
      "source": [
        "for number in range(10, 0, -2):\n",
        "    print(number, end=' ')"
      ]
    },
    {
      "cell_type": "markdown",
      "metadata": {
        "id": "eFtrDMFBw0bJ"
      },
      "source": [
        "#  Using Type Decimal for Monetary Amounts"
      ]
    },
    {
      "cell_type": "code",
      "execution_count": 29,
      "metadata": {
        "id": "onUzlU6zw0bS"
      },
      "outputs": [],
      "source": [
        "amount = 112.31"
      ]
    },
    {
      "cell_type": "code",
      "execution_count": 30,
      "metadata": {
        "id": "xDK_88e_w0bU"
      },
      "outputs": [
        {
          "name": "stdout",
          "output_type": "stream",
          "text": [
            "112.31\n"
          ]
        }
      ],
      "source": [
        "print(amount)"
      ]
    },
    {
      "cell_type": "markdown",
      "metadata": {
        "id": "zjky60RRxEkm"
      },
      "source": [
        "However, if you print amount with 20 digits of precision to the right of the decimal\n",
        "point, you can see that the actual floatingpoint\n",
        "value in memory is not exactly 112.31\n",
        "—it’s only an approximation:"
      ]
    },
    {
      "cell_type": "code",
      "execution_count": 31,
      "metadata": {
        "id": "gaHXkeA8w0bV"
      },
      "outputs": [
        {
          "name": "stdout",
          "output_type": "stream",
          "text": [
            "112.31000000000000227374\n"
          ]
        }
      ],
      "source": [
        "print(f'{amount:.20f}')"
      ]
    },
    {
      "cell_type": "markdown",
      "metadata": {
        "id": "eJ8WiUbtxJQJ"
      },
      "source": [
        "Many applications require precise representation of numbers with decimal points.\n",
        "Institutions like banks that deal with millions or even billions of transactions per day\n",
        "have to tie out their transactions “to the penny.” Floatingpoint\n",
        "numbers can represent\n",
        "some but not all monetary amounts with tothepenny\n",
        "precision."
      ]
    },
    {
      "cell_type": "markdown",
      "metadata": {
        "id": "PPA2twi1w0bW"
      },
      "source": [
        "### Importing Type Decimal from the decimal Module "
      ]
    },
    {
      "cell_type": "markdown",
      "metadata": {
        "id": "jxT00NfMxPFn"
      },
      "source": [
        "To use type Decimal, you must first import the entire decimal module"
      ]
    },
    {
      "cell_type": "code",
      "execution_count": 2,
      "metadata": {
        "id": "VQ119VY7w0bW"
      },
      "outputs": [],
      "source": [
        "from decimal import Decimal"
      ]
    },
    {
      "cell_type": "markdown",
      "metadata": {
        "id": "xMp7F4VSw0bX"
      },
      "source": [
        "### Creating Decimals"
      ]
    },
    {
      "cell_type": "code",
      "execution_count": 3,
      "metadata": {
        "id": "c-k4VDB6w0bY"
      },
      "outputs": [],
      "source": [
        "principal = Decimal('1000.00')"
      ]
    },
    {
      "cell_type": "code",
      "execution_count": 4,
      "metadata": {
        "id": "SWooK9Syw0bZ"
      },
      "outputs": [
        {
          "data": {
            "text/plain": [
              "Decimal('1000.00')"
            ]
          },
          "execution_count": 4,
          "metadata": {},
          "output_type": "execute_result"
        }
      ],
      "source": [
        "principal"
      ]
    },
    {
      "cell_type": "code",
      "execution_count": 35,
      "metadata": {
        "id": "8lXBkvlUw0bb"
      },
      "outputs": [],
      "source": [
        "rate = Decimal('0.05')"
      ]
    },
    {
      "cell_type": "code",
      "execution_count": 36,
      "metadata": {
        "id": "4vZ-picTw0bb"
      },
      "outputs": [
        {
          "data": {
            "text/plain": [
              "Decimal('0.05')"
            ]
          },
          "execution_count": 36,
          "metadata": {},
          "output_type": "execute_result"
        }
      ],
      "source": [
        "rate"
      ]
    },
    {
      "cell_type": "markdown",
      "metadata": {
        "id": "I81LHa2Zw0bd"
      },
      "source": [
        "### Decimal Arithmetic "
      ]
    },
    {
      "cell_type": "code",
      "execution_count": 37,
      "metadata": {
        "id": "zjd6wrJVw0be"
      },
      "outputs": [],
      "source": [
        "x = Decimal('10.5')"
      ]
    },
    {
      "cell_type": "code",
      "execution_count": 38,
      "metadata": {
        "id": "JKFdm3Y-w0bf"
      },
      "outputs": [],
      "source": [
        "y = Decimal('2')"
      ]
    },
    {
      "cell_type": "code",
      "execution_count": 39,
      "metadata": {
        "id": "OR3JpK0mw0bg"
      },
      "outputs": [
        {
          "data": {
            "text/plain": [
              "Decimal('12.5')"
            ]
          },
          "execution_count": 39,
          "metadata": {},
          "output_type": "execute_result"
        }
      ],
      "source": [
        "x + y"
      ]
    },
    {
      "cell_type": "code",
      "execution_count": 40,
      "metadata": {
        "id": "rSrq4HSCw0bg"
      },
      "outputs": [
        {
          "data": {
            "text/plain": [
              "Decimal('5')"
            ]
          },
          "execution_count": 40,
          "metadata": {},
          "output_type": "execute_result"
        }
      ],
      "source": [
        "x // y"
      ]
    },
    {
      "cell_type": "code",
      "execution_count": 41,
      "metadata": {
        "id": "L8OIu9pGw0bg"
      },
      "outputs": [],
      "source": [
        "x += y"
      ]
    },
    {
      "cell_type": "code",
      "execution_count": 42,
      "metadata": {
        "id": "7THp493mw0bh"
      },
      "outputs": [
        {
          "data": {
            "text/plain": [
              "Decimal('12.5')"
            ]
          },
          "execution_count": 42,
          "metadata": {},
          "output_type": "execute_result"
        }
      ],
      "source": [
        "x"
      ]
    },
    {
      "cell_type": "markdown",
      "metadata": {
        "id": "f779fZL_w0bi"
      },
      "source": [
        "### Calculating Compound Interest"
      ]
    },
    {
      "cell_type": "markdown",
      "metadata": {
        "id": "95freq3Sxe6f"
      },
      "source": [
        "Let’s compute compound interest using the Decimal type for precise monetary\n",
        "calculations. Consider the following requirements statement:\n",
        "\n",
        "*A person invests \\$1000 in a savings account yielding 5% interest. Assuming that the\n",
        "person leaves all interest on deposit in the account, calculate and display the amount\n",
        "of money in the account at the end of each year for 10 years. Use the following\n",
        "formula for determining these amounts:\n",
        "$a = p(1 + r)^n$\n",
        "where*\n",
        "* *p is the original amount invested (i.e., the principal),*\n",
        "* *r is the annual interest rate,*\n",
        "* *n is the number of years and*\n",
        "* *a is the amount on deposit at the end of the nth year.*\n",
        " "
      ]
    },
    {
      "cell_type": "code",
      "execution_count": 7,
      "metadata": {
        "id": "XsNcQjqTw0bi"
      },
      "outputs": [
        {
          "name": "stdout",
          "output_type": "stream",
          "text": [
            " 1   6000.00\n",
            " 2  36000.00\n",
            " 3 216000.00\n",
            " 41296000.00\n",
            " 57776000.00\n",
            " 646656000.00\n",
            " 7279936000.00\n",
            " 81679616000.00\n",
            " 910077696000.00\n",
            "1060466176000.00\n"
          ]
        }
      ],
      "source": [
        "rate = Decimal('5.0');\n",
        "for year in range(1, 11):\n",
        "    amount = principal * (1 + rate) ** year \n",
        "    print(f'{year:>2}{amount:>10.2f}')"
      ]
    },
    {
      "cell_type": "markdown",
      "metadata": {
        "id": "GqoPUCemyE1T"
      },
      "source": [
        "** denotes exponentiation\n",
        "\n",
        "Formatting the Amount on Deposit\n",
        "\n",
        "![image.png](data:image/png;base64,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)\n"
      ]
    },
    {
      "cell_type": "markdown",
      "metadata": {
        "id": "6mys6IzXylFH"
      },
      "source": [
        "# `break` and `continue` Statements"
      ]
    },
    {
      "cell_type": "markdown",
      "metadata": {
        "id": "dZRBDly6y2kq"
      },
      "source": [
        "The `break` and `continue` statements alter a loop’s flow of control. Executing a `break`\n",
        "statement in a while or for immediately exits that statement."
      ]
    },
    {
      "cell_type": "code",
      "execution_count": 8,
      "metadata": {
        "id": "H11IUZAiylFQ"
      },
      "outputs": [
        {
          "name": "stdout",
          "output_type": "stream",
          "text": [
            "0 1 2 3 4 5 6 7 8 9 "
          ]
        }
      ],
      "source": [
        "for number in range(100):\n",
        "    if number == 10:\n",
        "        break\n",
        "    print(number, end=' ')"
      ]
    },
    {
      "cell_type": "markdown",
      "metadata": {
        "id": "glhZlVB_y8_c"
      },
      "source": [
        "Executing a `continue` statement in a `while` or `for` loop skips the remainder of the\n",
        "loop’s suite. In a `while`, the condition is then tested to determine whether the loop\n",
        "should continue executing. In a `for`, the loop processes the next item in the sequence\n",
        "(if any)."
      ]
    },
    {
      "cell_type": "code",
      "execution_count": 9,
      "metadata": {
        "id": "DTc4JfMZylFT"
      },
      "outputs": [
        {
          "name": "stdout",
          "output_type": "stream",
          "text": [
            "0 1 2 3 4 6 7 8 9 "
          ]
        }
      ],
      "source": [
        "for number in range(10):\n",
        "    if number == 5:\n",
        "        continue\n",
        "    print(number, end=' ')"
      ]
    },
    {
      "cell_type": "markdown",
      "metadata": {
        "id": "w1clyxm-LYLy"
      },
      "source": [
        "# Boolean Operators `and`, `or` and `not` "
      ]
    },
    {
      "cell_type": "markdown",
      "metadata": {
        "id": "uY4jSVK8LYL-"
      },
      "source": [
        "### Boolean Operator `and`"
      ]
    },
    {
      "cell_type": "code",
      "execution_count": null,
      "metadata": {
        "id": "W_naJTPbLYMC"
      },
      "outputs": [],
      "source": [
        "gender = 'Female'"
      ]
    },
    {
      "cell_type": "code",
      "execution_count": null,
      "metadata": {
        "id": "I6nkXy7ILYMe"
      },
      "outputs": [],
      "source": [
        "age = 70"
      ]
    },
    {
      "cell_type": "code",
      "execution_count": null,
      "metadata": {
        "id": "xci7TWLQLYMg"
      },
      "outputs": [],
      "source": [
        "if gender == 'Female' and age >= 65:\n",
        "    print('Senior female')"
      ]
    },
    {
      "cell_type": "markdown",
      "metadata": {
        "id": "K9tKwngfLYMj"
      },
      "source": [
        "### Boolean Operator `or`"
      ]
    },
    {
      "cell_type": "code",
      "execution_count": null,
      "metadata": {
        "id": "MxaDqnhCLYMl"
      },
      "outputs": [],
      "source": [
        "semester_average = 83"
      ]
    },
    {
      "cell_type": "code",
      "execution_count": null,
      "metadata": {
        "id": "JcdcEkUhLYMm"
      },
      "outputs": [],
      "source": [
        "final_exam = 95"
      ]
    },
    {
      "cell_type": "code",
      "execution_count": null,
      "metadata": {
        "id": "AJOAcp9QLYMo"
      },
      "outputs": [],
      "source": [
        "if semester_average >= 90 or final_exam >= 90:\n",
        "    print('Student gets an A')"
      ]
    },
    {
      "cell_type": "markdown",
      "metadata": {
        "id": "Y_IQXP2ULYMq"
      },
      "source": [
        "### Boolean Operator `not` "
      ]
    },
    {
      "cell_type": "code",
      "execution_count": 10,
      "metadata": {
        "id": "xgoQPUb7LYMs"
      },
      "outputs": [],
      "source": [
        "grade = 87"
      ]
    },
    {
      "cell_type": "code",
      "execution_count": 11,
      "metadata": {
        "id": "gXcTxTW3LYMt"
      },
      "outputs": [
        {
          "name": "stdout",
          "output_type": "stream",
          "text": [
            "The next grade is 87\n"
          ]
        }
      ],
      "source": [
        "if not grade == -1:\n",
        "   print('The next grade is', grade)"
      ]
    },
    {
      "cell_type": "code",
      "execution_count": 14,
      "metadata": {
        "id": "0T5KJqWYLYMu"
      },
      "outputs": [
        {
          "name": "stdout",
          "output_type": "stream",
          "text": [
            "The next grade is 87\n"
          ]
        }
      ],
      "source": [
        "if grade != -1:\n",
        "   print('The next grade is', grade)"
      ]
    },
    {
      "cell_type": "markdown",
      "metadata": {
        "id": "s8urFTKXNhx8"
      },
      "source": [
        "# Intro to Data Science: Measures of Central Tendency—Mean, Median and Mode "
      ]
    },
    {
      "cell_type": "markdown",
      "metadata": {
        "id": "sLwWN_LeNsiq"
      },
      "source": [
        "These are measures of central tendency—each is a way of producing a single value\n",
        "that represents a “central” value in a set of values, i.e., a value which is in some sense\n",
        "typical of the others.\n",
        "Let’s calculate the mean, median and mode on a list of integers."
      ]
    },
    {
      "cell_type": "code",
      "execution_count": 15,
      "metadata": {
        "id": "TyG7MD9rNhyE"
      },
      "outputs": [],
      "source": [
        "grades = [85, 93, 45, 89, 85]"
      ]
    },
    {
      "cell_type": "code",
      "execution_count": 16,
      "metadata": {
        "id": "rIkDGKE-NhyH"
      },
      "outputs": [
        {
          "data": {
            "text/plain": [
              "79.4"
            ]
          },
          "execution_count": 16,
          "metadata": {},
          "output_type": "execute_result"
        }
      ],
      "source": [
        "sum(grades) / len(grades)"
      ]
    },
    {
      "cell_type": "markdown",
      "metadata": {
        "id": "81fhrhCENyg4"
      },
      "source": [
        "`sum` and `len` are both examples of\n",
        "functional style\n",
        "programming reductions—they reduce a collection of values to a\n",
        "single value—the sum of those values and the number of values, respectively."
      ]
    },
    {
      "cell_type": "markdown",
      "metadata": {
        "id": "iC-xxj6-N4su"
      },
      "source": [
        "The Python Standard Library’s `statistics` module provides functions for\n",
        "calculating the mean, median and mode—these, too, are reductions."
      ]
    },
    {
      "cell_type": "code",
      "execution_count": 18,
      "metadata": {
        "id": "0wdWdPjzNhyI"
      },
      "outputs": [],
      "source": [
        "import statistics"
      ]
    },
    {
      "cell_type": "code",
      "execution_count": 19,
      "metadata": {
        "id": "5PQ8Cz2vNhyJ"
      },
      "outputs": [
        {
          "data": {
            "text/plain": [
              "79.4"
            ]
          },
          "execution_count": 19,
          "metadata": {},
          "output_type": "execute_result"
        }
      ],
      "source": [
        "statistics.mean(grades)"
      ]
    },
    {
      "cell_type": "code",
      "execution_count": 20,
      "metadata": {
        "id": "f-8g6vPRNhyK"
      },
      "outputs": [
        {
          "data": {
            "text/plain": [
              "85"
            ]
          },
          "execution_count": 20,
          "metadata": {},
          "output_type": "execute_result"
        }
      ],
      "source": [
        "statistics.median(grades)"
      ]
    },
    {
      "cell_type": "code",
      "execution_count": 21,
      "metadata": {
        "id": "IDg914KxNhyL"
      },
      "outputs": [
        {
          "data": {
            "text/plain": [
              "85"
            ]
          },
          "execution_count": 21,
          "metadata": {},
          "output_type": "execute_result"
        }
      ],
      "source": [
        "statistics.mode(grades)"
      ]
    },
    {
      "cell_type": "code",
      "execution_count": 22,
      "metadata": {
        "id": "MV6PnHGvNhyN"
      },
      "outputs": [
        {
          "data": {
            "text/plain": [
              "[45, 85, 85, 89, 93]"
            ]
          },
          "execution_count": 22,
          "metadata": {},
          "output_type": "execute_result"
        }
      ],
      "source": [
        "sorted(grades)"
      ]
    },
    {
      "cell_type": "markdown",
      "metadata": {
        "id": "cyutV5iTOF9r"
      },
      "source": [
        "The `mode` function causes a `StatisticsError` for\n",
        "lists like [85, 93, 45, 89, 85, 93] in which there are two or more “most frequent” values. Such a set of values is said to be imodal. Here, both 85 and 93 occur twice."
      ]
    }
  ],
  "metadata": {
    "colab": {
      "collapsed_sections": [],
      "name": "I2232 - 02 - Control Flow.ipynb",
      "provenance": []
    },
    "interpreter": {
      "hash": "b89b5cfaba6639976dc87ff2fec6d58faec662063367e2c229c520fe71072417"
    },
    "kernelspec": {
      "display_name": "Python 3.10.0 64-bit",
      "name": "python3"
    },
    "language_info": {
      "codemirror_mode": {
        "name": "ipython",
        "version": 3
      },
      "file_extension": ".py",
      "mimetype": "text/x-python",
      "name": "python",
      "nbconvert_exporter": "python",
      "pygments_lexer": "ipython3",
      "version": "3.10.0"
    }
  },
  "nbformat": 4,
  "nbformat_minor": 0
}
