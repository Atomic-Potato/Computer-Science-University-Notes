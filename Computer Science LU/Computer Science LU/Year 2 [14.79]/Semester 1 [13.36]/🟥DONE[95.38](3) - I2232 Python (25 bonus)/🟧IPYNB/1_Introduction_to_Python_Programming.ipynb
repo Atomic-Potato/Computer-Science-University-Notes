{
  "cells": [
    {
      "cell_type": "markdown",
      "metadata": {
        "id": "JSZebJXUDWD5"
      },
      "source": [
        "Python is an object oriented scripting language that was released publicly in 1991. \n",
        "It was developed by Guido van Rossum of the National Research Institute for Mathematics and Computer Science in Amsterdam.\n",
        "Python has rapidly become one of the world's most popular programming languages. It’s now particularly popular for educational and scientific computing, and it recently surpassed the programming language R as the most popular datascience programming language.\n"
      ]
    },
    {
      "cell_type": "markdown",
      "metadata": {
        "id": "u69WvK9iDg4d"
      },
      "source": [
        "# Writing and Executing Code in Google Colab"
      ]
    },
    {
      "cell_type": "markdown",
      "metadata": {
        "id": "w-pg7x9VDtnd"
      },
      "source": [
        "## Creating a New Notebook\n"
      ]
    },
    {
      "cell_type": "markdown",
      "metadata": {
        "id": "EoSVQ2v1KY1Q"
      },
      "source": [
        "Click on File, New notebook, rename the default notebook file name from Untitled11.ipynb to anything you want, but keep the extension."
      ]
    },
    {
      "cell_type": "markdown",
      "metadata": {
        "id": "QKfRmnplFPXF"
      },
      "source": [
        "## Evaluating an Expression\n"
      ]
    },
    {
      "cell_type": "markdown",
      "metadata": {
        "id": "W-JQqcydGU8o"
      },
      "source": [
        "To add a code or a text cell, you can click on the icon on the top bar or use keyboard shortcuts. You can use or create your own keyboard shortcuts by clicking on Toolsm keyboard shortcuts.\n",
        "\n",
        "As a first exercise,we have wrote for you the following code, you need just to run it. Click inside the cell containing the instruction 45 + 72 then run it (by clicking on the arrow or by using the shortcut CTRL+ENTER)"
      ]
    },
    {
      "cell_type": "code",
      "execution_count": 2,
      "metadata": {
        "id": "5SpmHIZiFaes"
      },
      "outputs": [
        {
          "data": {
            "text/plain": [
              "117"
            ]
          },
          "execution_count": 2,
          "metadata": {},
          "output_type": "execute_result"
        }
      ],
      "source": [
        "45+72"
      ]
    },
    {
      "cell_type": "markdown",
      "metadata": {
        "id": "86BhpE83GMcS"
      },
      "source": [
        "## Adding and Executing Another Cell"
      ]
    },
    {
      "cell_type": "markdown",
      "metadata": {
        "id": "bw8Tba6zGYCy"
      },
      "source": [
        "Now underneath this cell, create a new code cell (you need to be clicking here in order to add a cell) then write the following formula and run it: \n",
        "2.5 + 7 * 2 / 3 \n",
        "you should get the following answer : 7.166666666666667"
      ]
    },
    {
      "cell_type": "code",
      "execution_count": 3,
      "metadata": {},
      "outputs": [
        {
          "data": {
            "text/plain": [
              "11.666666666666666"
            ]
          },
          "execution_count": 3,
          "metadata": {},
          "output_type": "execute_result"
        }
      ],
      "source": [
        "2.5 * 7 * 2 / 3"
      ]
    },
    {
      "cell_type": "markdown",
      "metadata": {
        "id": "8RTOmwD9Lc2d"
      },
      "source": [
        "# Variables and Assignment Statements"
      ]
    },
    {
      "cell_type": "markdown",
      "metadata": {
        "id": "Jik0zGOUL1E-"
      },
      "source": [
        "Evaluate the following expressions"
      ]
    },
    {
      "cell_type": "code",
      "execution_count": null,
      "metadata": {
        "id": "Gp3jNHByLc2n"
      },
      "outputs": [],
      "source": [
        "45 + 72"
      ]
    },
    {
      "cell_type": "markdown",
      "metadata": {
        "id": "t1Tmiqk5L615"
      },
      "source": [
        "The following creates a variable named x that stores the integer 7:"
      ]
    },
    {
      "cell_type": "code",
      "execution_count": null,
      "metadata": {
        "id": "_sj4wua4Lc2q"
      },
      "outputs": [],
      "source": [
        "x = 7"
      ]
    },
    {
      "cell_type": "markdown",
      "metadata": {
        "id": "YsICJCMML-Pl"
      },
      "source": [
        "In the following cell, create a variable named y that stores the integer 3."
      ]
    },
    {
      "cell_type": "code",
      "execution_count": null,
      "metadata": {},
      "outputs": [],
      "source": [
        "y = 3"
      ]
    },
    {
      "cell_type": "markdown",
      "metadata": {
        "id": "8XqQO776Lc2r"
      },
      "source": [
        "## Adding Variable Values and Viewing the Result"
      ]
    },
    {
      "cell_type": "markdown",
      "metadata": {
        "id": "T4fa2Z4gMPvI"
      },
      "source": [
        "run the following expression, you should get the 10."
      ]
    },
    {
      "cell_type": "code",
      "execution_count": null,
      "metadata": {
        "id": "W2tdjDD0Lc2s"
      },
      "outputs": [],
      "source": [
        "x + y"
      ]
    },
    {
      "cell_type": "markdown",
      "metadata": {
        "id": "7YXeScMhLc2t"
      },
      "source": [
        "## Calculations in Assignment Statements"
      ]
    },
    {
      "cell_type": "markdown",
      "metadata": {
        "id": "H38Yq04TMb4W"
      },
      "source": [
        "The following statement adds the values of variables x and y and assigns the result to the variable total, which we then display:"
      ]
    },
    {
      "cell_type": "code",
      "execution_count": null,
      "metadata": {
        "id": "lbMZxtTILc2t"
      },
      "outputs": [],
      "source": [
        "total = x + y"
      ]
    },
    {
      "cell_type": "code",
      "execution_count": null,
      "metadata": {
        "id": "EH_dVAc2Lc2u"
      },
      "outputs": [],
      "source": [
        "total"
      ]
    },
    {
      "cell_type": "markdown",
      "metadata": {
        "id": "-Zt32wh9Mkai"
      },
      "source": [
        "## Variable Names"
      ]
    },
    {
      "cell_type": "markdown",
      "metadata": {
        "id": "EMnhc0GrMmTo"
      },
      "source": [
        "A variable name, such as x, is an identifier. Each identifier may consist of letters,\n",
        "digits and underscores (_) but may not begin with a digit. Python is case sensitive, so\n",
        "number and Number are different identifiers because one begins with a lowercase letter\n",
        "and the other begins with an uppercase letter."
      ]
    },
    {
      "cell_type": "markdown",
      "metadata": {
        "id": "PM_1665HLc2w"
      },
      "source": [
        "## Types"
      ]
    },
    {
      "cell_type": "markdown",
      "metadata": {
        "id": "5a3owFK9M5gC"
      },
      "source": [
        "Each value in Python has a type that indicates the kind of data the value represents.\n",
        "You can view a value’s type with Python’s builtin\n",
        "type function, as in:"
      ]
    },
    {
      "cell_type": "code",
      "execution_count": 1,
      "metadata": {
        "id": "PiiPkwS-Lc2x"
      },
      "outputs": [
        {
          "ename": "NameError",
          "evalue": "name 'x' is not defined",
          "output_type": "error",
          "traceback": [
            "\u001b[1;31m---------------------------------------------------------------------------\u001b[0m",
            "\u001b[1;31mNameError\u001b[0m                                 Traceback (most recent call last)",
            "\u001b[1;32m~\\AppData\\Local\\Temp/ipykernel_5268/2652992662.py\u001b[0m in \u001b[0;36m<module>\u001b[1;34m\u001b[0m\n\u001b[1;32m----> 1\u001b[1;33m \u001b[0mtype\u001b[0m\u001b[1;33m(\u001b[0m\u001b[0mx\u001b[0m\u001b[1;33m)\u001b[0m\u001b[1;33m\u001b[0m\u001b[1;33m\u001b[0m\u001b[0m\n\u001b[0m",
            "\u001b[1;31mNameError\u001b[0m: name 'x' is not defined"
          ]
        }
      ],
      "source": [
        "type(x)"
      ]
    },
    {
      "cell_type": "code",
      "execution_count": null,
      "metadata": {
        "id": "YU2pKZQJLc2y"
      },
      "outputs": [],
      "source": [
        "type(10.5)"
      ]
    },
    {
      "cell_type": "markdown",
      "metadata": {
        "id": "QeSI67osNJpf"
      },
      "source": [
        "# Arithmetic"
      ]
    },
    {
      "cell_type": "markdown",
      "metadata": {
        "id": "04jn8owaNbSL"
      },
      "source": [
        "Run each of the following:"
      ]
    },
    {
      "cell_type": "markdown",
      "metadata": {
        "id": "wzHHmKJRNJpq"
      },
      "source": [
        "## Multiplication (`*`)"
      ]
    },
    {
      "cell_type": "code",
      "execution_count": null,
      "metadata": {
        "id": "AfXxWIq6NJpr"
      },
      "outputs": [],
      "source": [
        "7 * 4"
      ]
    },
    {
      "cell_type": "markdown",
      "metadata": {
        "id": "TBxeDpxSNJpt"
      },
      "source": [
        "## Exponentiation (`**`)"
      ]
    },
    {
      "cell_type": "code",
      "execution_count": 2,
      "metadata": {
        "id": "IJ9ZS8czNJpu"
      },
      "outputs": [
        {
          "data": {
            "text/plain": [
              "1024"
            ]
          },
          "execution_count": 2,
          "metadata": {},
          "output_type": "execute_result"
        }
      ],
      "source": [
        "2 ** 10"
      ]
    },
    {
      "cell_type": "code",
      "execution_count": 3,
      "metadata": {
        "id": "s_eig1xhNJpu"
      },
      "outputs": [
        {
          "data": {
            "text/plain": [
              "3.0"
            ]
          },
          "execution_count": 3,
          "metadata": {},
          "output_type": "execute_result"
        }
      ],
      "source": [
        "9 ** (1 / 2)"
      ]
    },
    {
      "cell_type": "markdown",
      "metadata": {
        "id": "wHpr86j4NJpv"
      },
      "source": [
        "## True Division (`/`) vs. Floor Division (`//`)"
      ]
    },
    {
      "cell_type": "markdown",
      "metadata": {
        "id": "7KJ2PRW6NjTT"
      },
      "source": [
        "**True division** (/) divides a numerator by a denominator and yields a floatin gpoint\n",
        "number with a decimal point.\n",
        "\n",
        "**Floor division** (//) divides a numerator by a denominator, yielding the highest\n",
        "integer that’s not greater than the result. Python truncates (discards) the fractional\n",
        "part."
      ]
    },
    {
      "cell_type": "code",
      "execution_count": 4,
      "metadata": {
        "id": "Os5l8QVYNJpw"
      },
      "outputs": [
        {
          "data": {
            "text/plain": [
              "1.75"
            ]
          },
          "execution_count": 4,
          "metadata": {},
          "output_type": "execute_result"
        }
      ],
      "source": [
        "7 / 4"
      ]
    },
    {
      "cell_type": "code",
      "execution_count": 5,
      "metadata": {
        "id": "cQLoy_-9NJpz"
      },
      "outputs": [
        {
          "data": {
            "text/plain": [
              "1"
            ]
          },
          "execution_count": 5,
          "metadata": {},
          "output_type": "execute_result"
        }
      ],
      "source": [
        "7 // 4"
      ]
    },
    {
      "cell_type": "code",
      "execution_count": null,
      "metadata": {
        "id": "fU4STs7eNJp0"
      },
      "outputs": [],
      "source": [
        "3 // 5"
      ]
    },
    {
      "cell_type": "code",
      "execution_count": null,
      "metadata": {
        "id": "-bOf2tAYNJp1"
      },
      "outputs": [],
      "source": [
        "14 // 7"
      ]
    },
    {
      "cell_type": "code",
      "execution_count": null,
      "metadata": {
        "id": "Y64LQOaVNJp2"
      },
      "outputs": [],
      "source": [
        "-13 / 4"
      ]
    },
    {
      "cell_type": "code",
      "execution_count": null,
      "metadata": {
        "id": "eKHwoRydNJp3"
      },
      "outputs": [],
      "source": [
        "-13 // 4"
      ]
    },
    {
      "cell_type": "markdown",
      "metadata": {
        "id": "PjIQ4yF6NJp3"
      },
      "source": [
        "## Exceptions and Tracebacks"
      ]
    },
    {
      "cell_type": "markdown",
      "metadata": {
        "id": "kHLakRchNv7L"
      },
      "source": [
        "Dividing by zero with / or // is not allowed and results in an exception—a sign that a problem occurred."
      ]
    },
    {
      "cell_type": "code",
      "execution_count": null,
      "metadata": {
        "id": "JeJq9yoxNJp4"
      },
      "outputs": [],
      "source": [
        "123 / 0"
      ]
    },
    {
      "cell_type": "markdown",
      "metadata": {
        "id": "ITO6m_WvN3ib"
      },
      "source": [
        "An exception also occurs if you try to use a variable that you have not yet created. The\n",
        "following snippet tries to add 7 to the undefined variable z, resulting in a **NameError**"
      ]
    },
    {
      "cell_type": "code",
      "execution_count": 6,
      "metadata": {
        "id": "CyfDYk6pNJp5"
      },
      "outputs": [
        {
          "ename": "NameError",
          "evalue": "name 'z' is not defined",
          "output_type": "error",
          "traceback": [
            "\u001b[1;31m---------------------------------------------------------------------------\u001b[0m",
            "\u001b[1;31mNameError\u001b[0m                                 Traceback (most recent call last)",
            "\u001b[1;32m~\\AppData\\Local\\Temp/ipykernel_5268/1015484808.py\u001b[0m in \u001b[0;36m<module>\u001b[1;34m\u001b[0m\n\u001b[1;32m----> 1\u001b[1;33m \u001b[0mz\u001b[0m \u001b[1;33m+\u001b[0m \u001b[1;36m7\u001b[0m\u001b[1;33m\u001b[0m\u001b[1;33m\u001b[0m\u001b[0m\n\u001b[0m",
            "\u001b[1;31mNameError\u001b[0m: name 'z' is not defined"
          ]
        }
      ],
      "source": [
        "z + 7"
      ]
    },
    {
      "cell_type": "markdown",
      "metadata": {
        "id": "aD_oqEkPNJp5"
      },
      "source": [
        "## Remainder Operator"
      ]
    },
    {
      "cell_type": "code",
      "execution_count": 7,
      "metadata": {
        "id": "kuFO9OmaNJp6"
      },
      "outputs": [
        {
          "data": {
            "text/plain": [
              "2"
            ]
          },
          "execution_count": 7,
          "metadata": {},
          "output_type": "execute_result"
        }
      ],
      "source": [
        "17 % 5"
      ]
    },
    {
      "cell_type": "code",
      "execution_count": 8,
      "metadata": {
        "id": "3EYrESSONJp6"
      },
      "outputs": [
        {
          "data": {
            "text/plain": [
              "0.5"
            ]
          },
          "execution_count": 8,
          "metadata": {},
          "output_type": "execute_result"
        }
      ],
      "source": [
        "7.5 % 3.5"
      ]
    },
    {
      "cell_type": "markdown",
      "metadata": {
        "id": "bZRFbDnyNJp6"
      },
      "source": [
        "## Grouping Expressions with Parentheses"
      ]
    },
    {
      "cell_type": "code",
      "execution_count": null,
      "metadata": {
        "id": "OC3R9t3kNJp7"
      },
      "outputs": [],
      "source": [
        "10 * (5 + 3)"
      ]
    },
    {
      "cell_type": "code",
      "execution_count": null,
      "metadata": {
        "id": "bu29iWvWNJp7"
      },
      "outputs": [],
      "source": [
        "10 * 5 + 3"
      ]
    },
    {
      "cell_type": "markdown",
      "metadata": {
        "id": "Qpm2yzkKOKNM"
      },
      "source": [
        "## Operator Precedence Rules"
      ]
    },
    {
      "cell_type": "markdown",
      "metadata": {
        "id": "yVNhW0FKOMTU"
      },
      "source": [
        "Python applies the operators in arithmetic expressions according to the following rules of operator precedence. These are generally the same as those in algebra:\n",
        "1. Expressions in parentheses evaluate first.\n",
        "2. Exponentiation operations evaluate next. If an expression contains several\n",
        "exponentiation operations, Python applies them from right to left.\n",
        "3. Multiplication, division and modulus operations evaluate next. If an expression contains several multiplication, truedivision,\n",
        "floor division\n",
        " and modulus\n",
        "operations, Python applies them from left to right. Multiplication, division and\n",
        "modulus are “on the same level of precedence.”\n",
        "4. Addition and subtraction operations evaluate last. If an expression contains several\n",
        "addition and subtraction operations, Python applies them from left to right.\n",
        "Addition and subtraction also have the same level of precedence."
      ]
    },
    {
      "cell_type": "markdown",
      "metadata": {
        "id": "s8M8TWlMOhyY"
      },
      "source": [
        "# Function print and an Intro to Single-and-Double-Quoted Strings"
      ]
    },
    {
      "cell_type": "markdown",
      "metadata": {
        "id": "PrKj123JOuz9"
      },
      "source": [
        "The builtin\n",
        "*print* function displays its argument(s)"
      ]
    },
    {
      "cell_type": "code",
      "execution_count": 9,
      "metadata": {
        "id": "6YH3EFlXOhyo"
      },
      "outputs": [
        {
          "name": "stdout",
          "output_type": "stream",
          "text": [
            "Welcome to Python!\n"
          ]
        }
      ],
      "source": [
        "print('Welcome to Python!')"
      ]
    },
    {
      "cell_type": "code",
      "execution_count": 10,
      "metadata": {
        "id": "7Ji4se6XOhyr"
      },
      "outputs": [
        {
          "name": "stdout",
          "output_type": "stream",
          "text": [
            "Welcome to Python!\n"
          ]
        }
      ],
      "source": [
        "print(\"Welcome to Python!\")"
      ]
    },
    {
      "cell_type": "markdown",
      "metadata": {
        "id": "XFwHD64MOhyu"
      },
      "source": [
        "## Printing a Comma-Separated List of Items"
      ]
    },
    {
      "cell_type": "markdown",
      "metadata": {
        "id": "TQHPLWQUO0WB"
      },
      "source": [
        "The print function can receive a comma separated\n",
        "list of arguments"
      ]
    },
    {
      "cell_type": "code",
      "execution_count": 11,
      "metadata": {
        "id": "88jD4vzNOhyx"
      },
      "outputs": [
        {
          "name": "stdout",
          "output_type": "stream",
          "text": [
            "Welcome to Python!\n"
          ]
        }
      ],
      "source": [
        "print('Welcome', 'to', 'Python!')"
      ]
    },
    {
      "cell_type": "markdown",
      "metadata": {
        "id": "AensSDu9Ohy0"
      },
      "source": [
        "## Printing Many Lines of Text with One Statement"
      ]
    },
    {
      "cell_type": "code",
      "execution_count": 12,
      "metadata": {
        "id": "d5RJI5TKOhy3"
      },
      "outputs": [
        {
          "name": "stdout",
          "output_type": "stream",
          "text": [
            "Welcome\n",
            "to\n",
            "\n",
            "Python!\n"
          ]
        }
      ],
      "source": [
        "print('Welcome\\nto\\n\\nPython!')"
      ]
    },
    {
      "cell_type": "markdown",
      "metadata": {
        "id": "UyRdo59iOhy6"
      },
      "source": [
        "## Ignoring a Line Break in a Long String"
      ]
    },
    {
      "cell_type": "code",
      "execution_count": 13,
      "metadata": {
        "id": "DCE4-4WXOhy9"
      },
      "outputs": [
        {
          "name": "stdout",
          "output_type": "stream",
          "text": [
            "this is a longer string, so we split it over two lines\n"
          ]
        }
      ],
      "source": [
        "print('this is a longer string, so we \\\n",
        "split it over two lines')"
      ]
    },
    {
      "cell_type": "markdown",
      "metadata": {
        "id": "Ef58UethOhzH"
      },
      "source": [
        "## Printing the Value of an Expression"
      ]
    },
    {
      "cell_type": "code",
      "execution_count": 14,
      "metadata": {
        "id": "ygIjetN9OhzJ"
      },
      "outputs": [
        {
          "name": "stdout",
          "output_type": "stream",
          "text": [
            "Sum is 10\n"
          ]
        }
      ],
      "source": [
        "print('Sum is', 7 + 3)"
      ]
    },
    {
      "cell_type": "markdown",
      "metadata": {
        "id": "B-5u3BCHPK8o"
      },
      "source": [
        "# Triple-Quoted Strings"
      ]
    },
    {
      "cell_type": "markdown",
      "metadata": {
        "id": "3Ji7zZzCPK8x"
      },
      "source": [
        "## Including Quotes in Strings"
      ]
    },
    {
      "cell_type": "markdown",
      "metadata": {
        "id": "sdGAvTKdPYMI"
      },
      "source": [
        "Triple quoted\n",
        "strings begin and end with three double quotes (\"\"\") or\n",
        "three single quotes ('''). The Style Guide for Python Code recommends three double\n",
        "quotes (\"\"\"). Use these to create:\n",
        "multiline strings,\n",
        "strings containing single or double quotes and\n",
        "docstrings, which are the recommended way to document the purposes of certain\n",
        "program components."
      ]
    },
    {
      "cell_type": "markdown",
      "metadata": {
        "id": "vD1aIvREPdkQ"
      },
      "source": [
        "Run the following instructions, identify the wrong and correct writings."
      ]
    },
    {
      "cell_type": "code",
      "execution_count": 15,
      "metadata": {
        "id": "VxnSb2DVPK8y"
      },
      "outputs": [
        {
          "name": "stdout",
          "output_type": "stream",
          "text": [
            "Display \"hi\" in quotes\n"
          ]
        }
      ],
      "source": [
        "print('Display \"hi\" in quotes')"
      ]
    },
    {
      "cell_type": "code",
      "execution_count": 16,
      "metadata": {
        "id": "_ID80dNtPK80"
      },
      "outputs": [
        {
          "ename": "SyntaxError",
          "evalue": "invalid syntax. Perhaps you forgot a comma? (Temp/ipykernel_5268/102489360.py, line 1)",
          "output_type": "error",
          "traceback": [
            "\u001b[1;36m  File \u001b[1;32m\"C:\\Users\\medya\\AppData\\Local\\Temp/ipykernel_5268/102489360.py\"\u001b[1;36m, line \u001b[1;32m1\u001b[0m\n\u001b[1;33m    print('Display 'hi' in quotes')\u001b[0m\n\u001b[1;37m          ^\u001b[0m\n\u001b[1;31mSyntaxError\u001b[0m\u001b[1;31m:\u001b[0m invalid syntax. Perhaps you forgot a comma?\n"
          ]
        }
      ],
      "source": [
        "print('Display 'hi' in quotes')"
      ]
    },
    {
      "cell_type": "code",
      "execution_count": 17,
      "metadata": {
        "id": "IyvmWsF3PK81"
      },
      "outputs": [
        {
          "name": "stdout",
          "output_type": "stream",
          "text": [
            "Display 'hi' in quotes\n"
          ]
        }
      ],
      "source": [
        "print('Display \\'hi\\' in quotes')"
      ]
    },
    {
      "cell_type": "code",
      "execution_count": 18,
      "metadata": {
        "id": "AFOfmqOwPK82"
      },
      "outputs": [
        {
          "name": "stdout",
          "output_type": "stream",
          "text": [
            "Display the name O'Brien\n"
          ]
        }
      ],
      "source": [
        "print(\"Display the name O'Brien\")"
      ]
    },
    {
      "cell_type": "code",
      "execution_count": 19,
      "metadata": {
        "id": "LdCt9gF-PK82"
      },
      "outputs": [
        {
          "name": "stdout",
          "output_type": "stream",
          "text": [
            "Display \"hi\" in quotes\n"
          ]
        }
      ],
      "source": [
        "print(\"Display \\\"hi\\\" in quotes\")"
      ]
    },
    {
      "cell_type": "code",
      "execution_count": 20,
      "metadata": {
        "id": "sko02ypIPK84"
      },
      "outputs": [
        {
          "name": "stdout",
          "output_type": "stream",
          "text": [
            "Display \"hi\" and 'bye' in quotes\n"
          ]
        }
      ],
      "source": [
        "print(\"\"\"Display \"hi\" and 'bye' in quotes\"\"\")"
      ]
    },
    {
      "cell_type": "markdown",
      "metadata": {
        "id": "9l5BSvb2PK85"
      },
      "source": [
        "## Multiline Strings"
      ]
    },
    {
      "cell_type": "code",
      "execution_count": null,
      "metadata": {
        "id": "Di9BrEDjPK86"
      },
      "outputs": [],
      "source": [
        "triple_quoted_string = \"\"\"This is a triple-quoted\n",
        "string that spans two lines\"\"\""
      ]
    },
    {
      "cell_type": "code",
      "execution_count": 23,
      "metadata": {
        "id": "BT3OEWVpPK88"
      },
      "outputs": [
        {
          "name": "stdout",
          "output_type": "stream",
          "text": [
            "This is a triple-quoted\n",
            "string that spans two lines\n"
          ]
        }
      ],
      "source": [
        "triple_quoted_string = \"\"\"This is a triple-quoted\n",
        "string that spans two lines\"\"\"\n",
        "\n",
        "print(triple_quoted_string)"
      ]
    },
    {
      "cell_type": "code",
      "execution_count": 24,
      "metadata": {
        "id": "s_E0woB5PK88"
      },
      "outputs": [
        {
          "data": {
            "text/plain": [
              "'This is a triple-quoted\\nstring that spans two lines'"
            ]
          },
          "execution_count": 24,
          "metadata": {},
          "output_type": "execute_result"
        }
      ],
      "source": [
        "triple_quoted_string"
      ]
    },
    {
      "cell_type": "markdown",
      "metadata": {
        "id": "lWgtOmAWP0Uf"
      },
      "source": [
        "Did you get the difference  between the above 2 ways to display a multiline string?"
      ]
    },
    {
      "cell_type": "markdown",
      "metadata": {
        "id": "j9YGrzQgP-Ui"
      },
      "source": [
        "# Getting Input from the User"
      ]
    },
    {
      "cell_type": "markdown",
      "metadata": {
        "id": "eijybvfvQI2N"
      },
      "source": [
        "The builtin\n",
        "*input* function requests and obtains user input"
      ]
    },
    {
      "cell_type": "code",
      "execution_count": 1,
      "metadata": {
        "id": "MNGlK2dcP-Uz"
      },
      "outputs": [],
      "source": [
        "name = input(\"What's your name? \")"
      ]
    },
    {
      "cell_type": "code",
      "execution_count": 2,
      "metadata": {
        "id": "Y4cXL0xvP-aN"
      },
      "outputs": [
        {
          "data": {
            "text/plain": [
              "'name'"
            ]
          },
          "execution_count": 2,
          "metadata": {},
          "output_type": "execute_result"
        }
      ],
      "source": [
        "name"
      ]
    },
    {
      "cell_type": "code",
      "execution_count": 3,
      "metadata": {
        "id": "xmkjyhT2P-aR"
      },
      "outputs": [
        {
          "name": "stdout",
          "output_type": "stream",
          "text": [
            "name\n"
          ]
        }
      ],
      "source": [
        "print(name)"
      ]
    },
    {
      "cell_type": "code",
      "execution_count": 4,
      "metadata": {
        "id": "Irp7o4glP-aY"
      },
      "outputs": [],
      "source": [
        "name = input(\"What's your name? \")"
      ]
    },
    {
      "cell_type": "code",
      "execution_count": 5,
      "metadata": {
        "id": "yHSba6eKP-aa"
      },
      "outputs": [
        {
          "data": {
            "text/plain": [
              "'batata'"
            ]
          },
          "execution_count": 5,
          "metadata": {},
          "output_type": "execute_result"
        }
      ],
      "source": [
        "name"
      ]
    },
    {
      "cell_type": "code",
      "execution_count": 6,
      "metadata": {
        "id": "YR-3q5mFP-ac"
      },
      "outputs": [
        {
          "name": "stdout",
          "output_type": "stream",
          "text": [
            "batata\n"
          ]
        }
      ],
      "source": [
        "print(name)"
      ]
    },
    {
      "cell_type": "markdown",
      "metadata": {
        "id": "XBTUMpQJP-af"
      },
      "source": [
        "## Function input Always Returns a String"
      ]
    },
    {
      "cell_type": "markdown",
      "metadata": {
        "id": "yfhRKERMQSoP"
      },
      "source": [
        "Rather than adding the integers 7 and 3 to produce 10, Python “adds” the string values\n",
        "'7' and '3', producing the string '73'. This is known as string concatenation. It\n",
        "creates a new string containing the left operand’s value followed by the right operand’s\n",
        "value."
      ]
    },
    {
      "cell_type": "code",
      "execution_count": 8,
      "metadata": {
        "id": "pKEgc5u5P-ah"
      },
      "outputs": [],
      "source": [
        "value1 = input('Enter first number: ')"
      ]
    },
    {
      "cell_type": "code",
      "execution_count": 9,
      "metadata": {
        "id": "v4iEoREqP-ak"
      },
      "outputs": [],
      "source": [
        "value2 = input('Enter second number: ')"
      ]
    },
    {
      "cell_type": "code",
      "execution_count": 10,
      "metadata": {
        "id": "xT4W5ijvP-an"
      },
      "outputs": [
        {
          "data": {
            "text/plain": [
              "'11'"
            ]
          },
          "execution_count": 10,
          "metadata": {},
          "output_type": "execute_result"
        }
      ],
      "source": [
        "value1 + value2"
      ]
    },
    {
      "cell_type": "markdown",
      "metadata": {
        "id": "vnIUW1c8P-ap"
      },
      "source": [
        "## Getting an Integer from the User"
      ]
    },
    {
      "cell_type": "markdown",
      "metadata": {
        "id": "xK_8XCT9QWXw"
      },
      "source": [
        "If you need an integer, convert the string to an integer using the builtin\n",
        "*int* function"
      ]
    },
    {
      "cell_type": "code",
      "execution_count": 11,
      "metadata": {
        "id": "vQpzRjnUP-ar"
      },
      "outputs": [],
      "source": [
        "value = input('Enter an integer: ')"
      ]
    },
    {
      "cell_type": "code",
      "execution_count": 12,
      "metadata": {
        "id": "ZbRmzdrwP-as"
      },
      "outputs": [],
      "source": [
        "value = int(value)"
      ]
    },
    {
      "cell_type": "code",
      "execution_count": 13,
      "metadata": {
        "id": "kgal_80rP-au"
      },
      "outputs": [
        {
          "data": {
            "text/plain": [
              "1"
            ]
          },
          "execution_count": 13,
          "metadata": {},
          "output_type": "execute_result"
        }
      ],
      "source": [
        "value"
      ]
    },
    {
      "cell_type": "markdown",
      "metadata": {
        "id": "YazwUJJRQh2H"
      },
      "source": [
        "In the following, try to enter a real number or a string ! Experiment !"
      ]
    },
    {
      "cell_type": "code",
      "execution_count": 15,
      "metadata": {
        "id": "SthamMu6P-ax"
      },
      "outputs": [],
      "source": [
        "another_value = int(input('Enter another integer: '))"
      ]
    },
    {
      "cell_type": "code",
      "execution_count": 16,
      "metadata": {
        "id": "AVgmDOtEP-ay"
      },
      "outputs": [
        {
          "data": {
            "text/plain": [
              "10"
            ]
          },
          "execution_count": 16,
          "metadata": {},
          "output_type": "execute_result"
        }
      ],
      "source": [
        "another_value"
      ]
    },
    {
      "cell_type": "code",
      "execution_count": 17,
      "metadata": {
        "id": "7ylvc2UCP-az"
      },
      "outputs": [
        {
          "data": {
            "text/plain": [
              "11"
            ]
          },
          "execution_count": 17,
          "metadata": {},
          "output_type": "execute_result"
        }
      ],
      "source": [
        "value + another_value"
      ]
    },
    {
      "cell_type": "code",
      "execution_count": 18,
      "metadata": {
        "id": "tI7WJ21tP-a_"
      },
      "outputs": [],
      "source": [
        "bad_value = int(input('Enter another integer: '))"
      ]
    },
    {
      "cell_type": "code",
      "execution_count": 19,
      "metadata": {
        "id": "B0v5cjdjP-bA"
      },
      "outputs": [
        {
          "data": {
            "text/plain": [
              "10"
            ]
          },
          "execution_count": 19,
          "metadata": {},
          "output_type": "execute_result"
        }
      ],
      "source": [
        "int(10.5)"
      ]
    },
    {
      "cell_type": "markdown",
      "metadata": {
        "id": "dZSmQBEVRKaB"
      },
      "source": [
        "# Decision Making: The if Statement and Comparison Operators"
      ]
    },
    {
      "cell_type": "markdown",
      "metadata": {
        "id": "baK6TwKuRQMv"
      },
      "source": [
        "A condition is a Boolean expression with the value True or False."
      ]
    },
    {
      "cell_type": "markdown",
      "metadata": {
        "id": "QffWpJgASed6"
      },
      "source": [
        "*True* and *False* are Python keywords. Using a keyword as an identifier causes a\n",
        "*SyntaxError*.\n",
        "*True* and *False* are each capitalized."
      ]
    },
    {
      "cell_type": "code",
      "execution_count": 20,
      "metadata": {
        "id": "_gz6dTBQRKaK"
      },
      "outputs": [
        {
          "data": {
            "text/plain": [
              "True"
            ]
          },
          "execution_count": 20,
          "metadata": {},
          "output_type": "execute_result"
        }
      ],
      "source": [
        "7 > 4"
      ]
    },
    {
      "cell_type": "code",
      "execution_count": 21,
      "metadata": {
        "id": "NIGfpOtwRKaO"
      },
      "outputs": [
        {
          "data": {
            "text/plain": [
              "False"
            ]
          },
          "execution_count": 21,
          "metadata": {},
          "output_type": "execute_result"
        }
      ],
      "source": [
        "7 < 4"
      ]
    },
    {
      "cell_type": "code",
      "execution_count": 22,
      "metadata": {
        "id": "ip-IEkUgRKaP"
      },
      "outputs": [
        {
          "ename": "SyntaxError",
          "evalue": "invalid syntax (Temp/ipykernel_6180/3689856183.py, line 1)",
          "output_type": "error",
          "traceback": [
            "\u001b[1;36m  File \u001b[1;32m\"C:\\Users\\medya\\AppData\\Local\\Temp/ipykernel_6180/3689856183.py\"\u001b[1;36m, line \u001b[1;32m1\u001b[0m\n\u001b[1;33m    7 > = 4\u001b[0m\n\u001b[1;37m        ^\u001b[0m\n\u001b[1;31mSyntaxError\u001b[0m\u001b[1;31m:\u001b[0m invalid syntax\n"
          ]
        }
      ],
      "source": [
        "7 > = 4"
      ]
    },
    {
      "cell_type": "markdown",
      "metadata": {
        "id": "DiYCkqJtTcDN"
      },
      "source": [
        "## Making Decisions with the if Statement"
      ]
    },
    {
      "cell_type": "markdown",
      "metadata": {
        "id": "v9X-jpmMTmtU"
      },
      "source": [
        "Execute the following script 3 times\n",
        "once with , once\n",
        "\n",
        "1.   the first integer less than the second\n",
        "2.   the same value for both integers\n",
        "3. the first integer greater than the\n",
        "second."
      ]
    },
    {
      "cell_type": "code",
      "execution_count": null,
      "metadata": {
        "id": "vxekw8i0T0PW"
      },
      "outputs": [],
      "source": [
        "\"\"\"Compare integers using if statements and comparison operators.\"\"\"\n",
        "\n",
        "print('Enter two integers and I will tell you', \n",
        "      'the relationships they satisfy.')\n",
        "\n",
        "# read first integer\n",
        "number1 = int(input('Enter first integer: '))\n",
        "\n",
        "# read second integer\n",
        "number2 = int(input('Enter second integer: '))\n",
        "\n",
        "if number1 == number2:\n",
        "    print(number1, 'is equal to', number2)\n",
        "\n",
        "if number1 != number2:\n",
        "    print(number1, 'is not equal to', number2)\n",
        "\n",
        "if number1 < number2:\n",
        "    print(number1, 'is less than', number2)\n",
        "\n",
        "if number1 > number2:\n",
        "    print(number1, 'is greater than', number2)\n",
        "\n",
        "if number1 <= number2:\n",
        "    print(number1, 'is less than or equal to', number2)\n",
        "\n",
        "if number1 >= number2:\n",
        "    print(number1, 'is greater than or equal to', number2)"
      ]
    },
    {
      "cell_type": "markdown",
      "metadata": {
        "id": "o24uj62_T-Vi"
      },
      "source": [
        "Lines that begin with the hash character (#) indicates that the rest of the line is a\n",
        "comment"
      ]
    },
    {
      "cell_type": "markdown",
      "metadata": {
        "id": "vlZqmEbRUE39"
      },
      "source": [
        "## Docstrings"
      ]
    },
    {
      "cell_type": "markdown",
      "metadata": {
        "id": "88WDxEKLUJL5"
      },
      "source": [
        "Each script should start with a docstring\n",
        "that explains the script’s purpose.\n",
        "For more complex scripts, the docstring often spans many lines."
      ]
    },
    {
      "cell_type": "markdown",
      "metadata": {
        "id": "HI19SW2fURxo"
      },
      "source": [
        "## Suite Indentation"
      ]
    },
    {
      "cell_type": "markdown",
      "metadata": {
        "id": "pOY9ASBuUbqI"
      },
      "source": [
        "Python requires you to indent the statements in suites (or 4 spaces).\n",
        "You’ll see that incorrect indentation can cause errors."
      ]
    },
    {
      "cell_type": "markdown",
      "metadata": {
        "id": "84tuJrnsRKaQ"
      },
      "source": [
        "## Chaining Comparisons"
      ]
    },
    {
      "cell_type": "markdown",
      "metadata": {
        "id": "sfd2IXI7U8VB"
      },
      "source": [
        "You can chain comparisons to check whether a value is in a range."
      ]
    },
    {
      "cell_type": "code",
      "execution_count": 23,
      "metadata": {
        "id": "8_34qxkKRKaR"
      },
      "outputs": [],
      "source": [
        "x = 3"
      ]
    },
    {
      "cell_type": "code",
      "execution_count": 24,
      "metadata": {
        "id": "sRTqzigyRKaS"
      },
      "outputs": [
        {
          "data": {
            "text/plain": [
              "True"
            ]
          },
          "execution_count": 24,
          "metadata": {},
          "output_type": "execute_result"
        }
      ],
      "source": [
        "1 <= x <= 5"
      ]
    },
    {
      "cell_type": "code",
      "execution_count": 25,
      "metadata": {
        "id": "cGbJlDZVRKaT"
      },
      "outputs": [],
      "source": [
        "x = 10"
      ]
    },
    {
      "cell_type": "code",
      "execution_count": 26,
      "metadata": {
        "id": "KuqpbDaMRKaV"
      },
      "outputs": [
        {
          "data": {
            "text/plain": [
              "False"
            ]
          },
          "execution_count": 26,
          "metadata": {},
          "output_type": "execute_result"
        }
      ],
      "source": [
        "1 <= x <= 5"
      ]
    },
    {
      "cell_type": "markdown",
      "metadata": {
        "id": "q3g88P8xVGum"
      },
      "source": [
        "# Objects and Dynamic Typing"
      ]
    },
    {
      "cell_type": "markdown",
      "metadata": {
        "id": "eTjjqXdXV0ob"
      },
      "source": [
        "Values such as 7 (an integer), 4.1 (a floating point\n",
        "number) and 'dog' are all objects.\n",
        "Every object has a type and a value. An object’s value is the data stored in the object."
      ]
    },
    {
      "cell_type": "code",
      "execution_count": 27,
      "metadata": {
        "id": "qtPhUPS-VGu-"
      },
      "outputs": [
        {
          "data": {
            "text/plain": [
              "int"
            ]
          },
          "execution_count": 27,
          "metadata": {},
          "output_type": "execute_result"
        }
      ],
      "source": [
        "type(7)"
      ]
    },
    {
      "cell_type": "code",
      "execution_count": 28,
      "metadata": {
        "id": "qrzWMx4lVGvC"
      },
      "outputs": [
        {
          "data": {
            "text/plain": [
              "float"
            ]
          },
          "execution_count": 28,
          "metadata": {},
          "output_type": "execute_result"
        }
      ],
      "source": [
        "type(4.1)"
      ]
    },
    {
      "cell_type": "code",
      "execution_count": 29,
      "metadata": {
        "id": "T8gAffmMVGvF"
      },
      "outputs": [
        {
          "data": {
            "text/plain": [
              "str"
            ]
          },
          "execution_count": 29,
          "metadata": {},
          "output_type": "execute_result"
        }
      ],
      "source": [
        "type('dog')"
      ]
    },
    {
      "cell_type": "markdown",
      "metadata": {
        "id": "DQr-7ZbiVGvH"
      },
      "source": [
        "## Variables Refer to Objects"
      ]
    },
    {
      "cell_type": "markdown",
      "metadata": {
        "id": "Kt3KHtDgV_GK"
      },
      "source": [
        "Assigning an object to a variable *binds* (associates) that variable’s name to the object."
      ]
    },
    {
      "cell_type": "code",
      "execution_count": 2,
      "metadata": {
        "id": "QbEaeu44VGvK"
      },
      "outputs": [],
      "source": [
        "x = 7"
      ]
    },
    {
      "cell_type": "code",
      "execution_count": 3,
      "metadata": {
        "id": "YT2cJHiEVGvM"
      },
      "outputs": [
        {
          "data": {
            "text/plain": [
              "17"
            ]
          },
          "execution_count": 3,
          "metadata": {},
          "output_type": "execute_result"
        }
      ],
      "source": [
        "x + 10"
      ]
    },
    {
      "cell_type": "code",
      "execution_count": 4,
      "metadata": {
        "id": "XrhM-nhpVGvR"
      },
      "outputs": [
        {
          "data": {
            "text/plain": [
              "7"
            ]
          },
          "execution_count": 4,
          "metadata": {},
          "output_type": "execute_result"
        }
      ],
      "source": [
        "x"
      ]
    },
    {
      "cell_type": "code",
      "execution_count": 5,
      "metadata": {
        "id": "urUfzVptVGvV"
      },
      "outputs": [],
      "source": [
        "x = x + 10"
      ]
    },
    {
      "cell_type": "code",
      "execution_count": 6,
      "metadata": {
        "id": "yw7azQugVGvZ"
      },
      "outputs": [
        {
          "data": {
            "text/plain": [
              "17"
            ]
          },
          "execution_count": 6,
          "metadata": {},
          "output_type": "execute_result"
        }
      ],
      "source": [
        "x"
      ]
    },
    {
      "cell_type": "markdown",
      "metadata": {
        "id": "R3OdRFLyVGva"
      },
      "source": [
        "## Dynamic Typing"
      ]
    },
    {
      "cell_type": "markdown",
      "metadata": {
        "id": "wWYwIud6WF_T"
      },
      "source": [
        "Python uses dynamic typing—it determines the type of the object a variable refers to\n",
        "while executing your code. We can show this by rebinding the variable x to different\n",
        "objects and checking their types."
      ]
    },
    {
      "cell_type": "code",
      "execution_count": 7,
      "metadata": {
        "id": "_5rRtiufVGvc"
      },
      "outputs": [
        {
          "data": {
            "text/plain": [
              "int"
            ]
          },
          "execution_count": 7,
          "metadata": {},
          "output_type": "execute_result"
        }
      ],
      "source": [
        "type(x)"
      ]
    },
    {
      "cell_type": "code",
      "execution_count": 8,
      "metadata": {
        "id": "eV72s37qVGvd"
      },
      "outputs": [],
      "source": [
        "x = 4.1"
      ]
    },
    {
      "cell_type": "code",
      "execution_count": 9,
      "metadata": {
        "id": "JmvOYnavVGve"
      },
      "outputs": [
        {
          "data": {
            "text/plain": [
              "float"
            ]
          },
          "execution_count": 9,
          "metadata": {},
          "output_type": "execute_result"
        }
      ],
      "source": [
        "type(x)"
      ]
    },
    {
      "cell_type": "code",
      "execution_count": 10,
      "metadata": {
        "id": "EwbTfAv_VGvf"
      },
      "outputs": [],
      "source": [
        "x = 'dog'"
      ]
    },
    {
      "cell_type": "code",
      "execution_count": 11,
      "metadata": {
        "id": "7KsWRGk_VGvg"
      },
      "outputs": [
        {
          "data": {
            "text/plain": [
              "str"
            ]
          },
          "execution_count": 11,
          "metadata": {},
          "output_type": "execute_result"
        }
      ],
      "source": [
        "type(x)"
      ]
    },
    {
      "cell_type": "markdown",
      "metadata": {
        "id": "8PMC54EBWMLw"
      },
      "source": [
        "# Intro to Data Science: Basic Descriptive Statistics"
      ]
    },
    {
      "cell_type": "markdown",
      "metadata": {
        "id": "vJ_tsDz9WML4"
      },
      "source": [
        "## Determining the Minimum and Maximum with Built-In Functions `min` and `max` "
      ]
    },
    {
      "cell_type": "code",
      "execution_count": null,
      "metadata": {
        "id": "jcJQ-67NWML5"
      },
      "outputs": [],
      "source": [
        "min(36, 27, 12)"
      ]
    },
    {
      "cell_type": "code",
      "execution_count": null,
      "metadata": {
        "id": "Wr1En1KBWML7"
      },
      "outputs": [],
      "source": [
        "max(36, 27, 12)"
      ]
    },
    {
      "cell_type": "markdown",
      "metadata": {
        "id": "djp56mwhWmN3"
      },
      "source": [
        "## Functional-Style Programming: Reduction"
      ]
    },
    {
      "cell_type": "markdown",
      "metadata": {
        "id": "6HUS6oryWpUl"
      },
      "source": [
        "We introduce various functional style\n",
        "programming\n",
        "capabilities. These enable you to write code that can be more concise, clearer and easier\n",
        "to debug—that is, find and correct errors. The min and max functions are examples of\n",
        "a\n",
        "functional style\n",
        "programming concept called **reduction**. They reduce a collection of\n",
        "values to a single value. Other reductions you’ll see include the sum, average, variance\n",
        "and standard deviation of a collection of values. You’ll also see how to define custom\n",
        "reductions."
      ]
    }
  ],
  "metadata": {
    "colab": {
      "collapsed_sections": [],
      "name": "I2232 - 01 - Introduction to Python Programming.ipynb",
      "provenance": []
    },
    "interpreter": {
      "hash": "b89b5cfaba6639976dc87ff2fec6d58faec662063367e2c229c520fe71072417"
    },
    "kernelspec": {
      "display_name": "Python 3.10.0 64-bit",
      "name": "python3"
    },
    "language_info": {
      "codemirror_mode": {
        "name": "ipython",
        "version": 3
      },
      "file_extension": ".py",
      "mimetype": "text/x-python",
      "name": "python",
      "nbconvert_exporter": "python",
      "pygments_lexer": "ipython3",
      "version": "3.10.0"
    }
  },
  "nbformat": 4,
  "nbformat_minor": 2
}
