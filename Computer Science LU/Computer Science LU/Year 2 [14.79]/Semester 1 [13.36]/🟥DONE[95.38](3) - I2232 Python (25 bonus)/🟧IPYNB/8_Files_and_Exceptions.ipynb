{
  "nbformat": 4,
  "nbformat_minor": 0,
  "metadata": {
    "colab": {
      "name": "I2232-Files and Exceptions.ipynb",
      "provenance": [],
      "collapsed_sections": []
    },
    "kernelspec": {
      "name": "python3",
      "display_name": "Python 3"
    },
    "language_info": {
      "name": "python"
    }
  },
  "cells": [
    {
      "cell_type": "markdown",
      "metadata": {
        "id": "9Skh_fg6iDe9"
      },
      "source": [
        "Variables, lists, tuples, dictionaries, sets, arrays, pandas Series and pandas\n",
        "DataFrames offer only temporary data storage. The data is lost when a local variable\n",
        "“goes out of scope” or when the program terminates. Files provide longterm\n",
        "retention\n",
        "of typically large amounts of data, even after the program that created the data\n",
        "terminates, so data maintained in files is persistent. Computers store files on secondary\n",
        "storage devices, including solidstate\n",
        "drives, hard disks and more. In this chapter, we\n",
        "explain how Python programs create, update and process data files."
      ]
    },
    {
      "cell_type": "markdown",
      "metadata": {
        "id": "7dFZO6gViKPI"
      },
      "source": [
        "# Files"
      ]
    },
    {
      "cell_type": "markdown",
      "metadata": {
        "id": "IjQ6f8ZjiO2M"
      },
      "source": [
        "Python views a text file as a sequence of characters and a binary file (for images,\n",
        "videos and more) as a sequence of bytes."
      ]
    },
    {
      "cell_type": "markdown",
      "metadata": {
        "id": "3aZgEsLviS4i"
      },
      "source": [
        "For each file you open, Python creates a file object that you’ll use to interact with the\n",
        "file."
      ]
    },
    {
      "cell_type": "markdown",
      "metadata": {
        "id": "DqesYf3FiTD1"
      },
      "source": [
        "Every operating system provides a mechanism to denote the end of a file. Some\n",
        "represent it with an endoffile\n",
        "marker, while others\n",
        "might maintain a count of the total characters or bytes in the file. Programming\n",
        "languages generally hide these operatingsystem\n",
        "details from you."
      ]
    },
    {
      "cell_type": "markdown",
      "metadata": {
        "id": "5mVKdQIiiZ0Z"
      },
      "source": [
        "## Standard File Objects"
      ]
    },
    {
      "cell_type": "markdown",
      "metadata": {
        "id": "stV1mzfpiang"
      },
      "source": [
        "When a Python program begins execution, it creates three standard file objects:\n",
        "* sys.stdin—the standard input file object\n",
        "* sys.stdout—the standard output file object, and\n",
        "* sys.stderr—the standard error file object."
      ]
    },
    {
      "cell_type": "markdown",
      "metadata": {
        "id": "yK18A3NMiggg"
      },
      "source": [
        "# Text-file processing"
      ]
    },
    {
      "cell_type": "markdown",
      "metadata": {
        "id": "OY-3usrph-E8"
      },
      "source": [
        "##  Writing to a Text File; Introducing the `with` Statement "
      ]
    },
    {
      "cell_type": "code",
      "metadata": {
        "id": "Lb9n4DFRh-FE"
      },
      "source": [
        "with open('accounts.txt', mode='w') as accounts:\n",
        "    accounts.write('100 Jones 24.98\\n')\n",
        "    accounts.write('200 Doe 345.67\\n')\n",
        "    accounts.write('300 White 0.00\\n')\n",
        "    accounts.write('400 Stone -42.16\\n')\n",
        "    accounts.write('500 Rich 224.62\\n')"
      ],
      "execution_count": null,
      "outputs": []
    },
    {
      "cell_type": "code",
      "metadata": {
        "id": "oqaJoQ3Zh-FI"
      },
      "source": [
        "# macOS/Linux Users: View file contents\n",
        "!cat accounts.txt"
      ],
      "execution_count": null,
      "outputs": []
    },
    {
      "cell_type": "code",
      "metadata": {
        "id": "GNA8F2XWh-FJ"
      },
      "source": [
        "# Windows Users: View file contents\n",
        "!more accounts.txt"
      ],
      "execution_count": null,
      "outputs": []
    },
    {
      "cell_type": "markdown",
      "metadata": {
        "id": "Cudj3NnXh-FK"
      },
      "source": [
        "    \n",
        "\n",
        "### The `with` Statement\n"
      ]
    },
    {
      "cell_type": "markdown",
      "metadata": {
        "id": "CX5A-n5Oiwxo"
      },
      "source": [
        "Python’s\n",
        "`with` statement:\n",
        "* acquires a resource (in this case, the file object for accounts.txt) and assigns its\n",
        "corresponding object to a variable (accounts in this example),\n",
        "* allows the application to use the resource via that variable, and\n",
        "* calls the resource object’s close method to release the resource when program\n",
        "control reaches the end of the with statement’s suite."
      ]
    },
    {
      "cell_type": "markdown",
      "metadata": {
        "id": "OI9PVxyzi3kY"
      },
      "source": [
        "### Built-In Function `open` \n"
      ]
    },
    {
      "cell_type": "markdown",
      "metadata": {
        "id": "Bvg94qoDi3ng"
      },
      "source": [
        "The builtin\n",
        "open function opens the file accounts.txt and associates it with a file\n",
        "object. The mode argument specifies the fileopen\n",
        "mode, indicating whether to open\n",
        "a file for reading from the file, for writing to the file or both. The mode 'w' opens the\n",
        "file for writing, creating the file if it does not exist. If you do not specify a path to the\n",
        "file, Python creates it in the current folder. Be careful—opening a file for writing\n",
        "deletes all the existing data in the file. By convention, the .txt file extension\n",
        "indicates a plain text file."
      ]
    },
    {
      "cell_type": "markdown",
      "metadata": {
        "id": "3MsnJaw4i3sN"
      },
      "source": [
        "### Writing to the File \n"
      ]
    },
    {
      "cell_type": "markdown",
      "metadata": {
        "id": "rUfxnOWyi3xQ"
      },
      "source": [
        "The with statement assigns the object returned by open to the variable accounts in\n",
        "the as clause. In the with statement’s suite, we use the variable accounts to interact\n",
        "with the file. In this case, we call the file object’s write method five times to write five\n",
        "records to the file, each as a separate line of text ending in a newline. At the end of the\n",
        "with statement’s suite, the with statement implicitly calls the file object’s close\n",
        "method to close the file."
      ]
    },
    {
      "cell_type": "markdown",
      "metadata": {
        "id": "IjqMwYXKi31N"
      },
      "source": [
        "### Contents of `accounts.txt` File "
      ]
    },
    {
      "cell_type": "markdown",
      "metadata": {
        "id": "AXCip2o5jKzr"
      },
      "source": [
        "After executing the previous snippet, your directory contains the file\n",
        "accounts.txt.\n",
        "On colab, click on the folder icon on the right menu to see the file.\n",
        "\n",
        "![image.png](data:image/png;base64,iVBORw0KGgoAAAANSUhEUgAAAUEAAADoCAYAAABxalajAAAaFUlEQVR4Ae2d3a/VxL+HvT7/BRcknDsuDMcQEg0x+UkQItGowYDAhShE1AhEg4AKwY0/jQZUYqJIotlG1JztO3pB5C2SEEDwBdyI8iagIBxBFIgwJ585+7vP7NLV1dV27dV2PZOUrrbTeXlmrYeZtrtznSNAAAIQ6GIC13Vx3ak6BCAAAXddf3+/Y4EB3wG+A936HaAnyP+EEIBAVxNAgl3d/FQeAhBAgnwHIACBriaABLu6+ak8BCCABPkOQAACXU0ACXZ181N5CEAACfIdgAAEupoAEuzq5qfyEIAAEuQ7AAEIdDUBJNjVzU/lIQABJMh3AAIQ6GoCSLCrm5/KQwACSJDvAAQg0NUEkGBXNz+VhwAEkCDfAQhAoKsJIMGubn4qDwEIIEG+AxCAQFcTQIJd3fxUHgL1InD48GG3cuVKd+HChaYVUxzFRYJNUREBAhCoCoGenh43c+ZMt3Tp0kQRSoCKo7hIsCqtSzkhAIGmBCS3JUuWJIowFKDiIsGmWIkAAQhUiUCSCKMC1DYSrFLrUlYIQCAVgTgRxglQidVaglevXnWHDh1yZ86cSQWOSBCAQH0IREVo1wA1BNYxC5kkuGrVKrdgwQJ36tQpt2/fPtfX15dq2bp1q+VbyFp3dkaMGHHNMm7cOHfgwAG3d+9eN3r0aDdjxgx37tw5v0/H1q9fX0j+JAIBCJSbQChC3QSJClClzyTBOXPm+AuPJkAlnmbRnZsigyR4ww03uBUrVrgXXnhhcHnllVfcyZMn3ZEjR9zEiRP9XaBLly4hwSLhkxYEKkAgHALLUXF3jTNJUM/iFN2ry8JTEpwyZUrq4a56h/QEs5DmHAhUj0AoQPUAtcSJMJMEy4KjmQR1LVCSVDyFOAlK6PPmzXOjRo3yy6xZs9yePXucricqaL1p0yY3adIkP+zW8HrZsmWpxesT4R8IQGBYCUQFqG0tcSLMJEElpuuBnQ6NhsMbNmzwRWsmwf7+fjd+/Hj3+OOPu927d/vliSeecNdff73bvn27T8OuK86ePdtt3LjRrV271o0ZM8YtXrzYXbx4sdMIyB8CEIgQiBOgRYkTYSYJzp8/33crbVgsGaVZent7rSyFrJVn3I0R7VdIkqCuES5cuNBJbr/88ouPq/hHjx5106dP92K8fPmyl6HykFitd3j27Fl35cqVQupAIhCAQHEEkgRouURFmEmC1qU0CeqGR5qlHRJMuiaYJMHTp0+7yZMnx0pU0rN0BUzD35EjR7oJEyZ42X///fdI0L5RrCFQIgL2Z3NylH67jUIowkwSVAJlGQ6brOIqm0aCurNsPby4NGyfen9btmxxTz31lL92KNjqTRIgAIHyEFDHTL/NJAFaaRVHcTNJ0BLp9FrD3qwStOGwrgnqUR8L58+fd2vWrHE//PCDl+OuXbvcokWL3PHjxy2KW716tb/LrBstBAhAoNoEMknQhsGdrnoeCarsuhmimxy646sbIhr2jh071m9v27bNV09rHdd+HVc8beu6oXqHBAhAoNoEMkmwTA9LZ+0JWrNJ6OEjMg888ID77rvv7LDvDe7YscNNnTrVXxeUAHU3+dixY4Nx+AABCFSXQCYJvvbaa053iDv9Z3PVxU7JIQCBshDIJMGyFJ5yQAACEMhLAAnmJcj5EIBApQkgwUo3H4WHAATyEkCCeQlyPgQgUGkCSLDSzUfhIQCBvASQYF6CnA8BCFSaABKsdPNReAhAIC8BJJiXIOdDAAKVJoAEK918FB4CEMhLAAnmJcj5EIBApQkgwUo3H4WHAATyEkCCeQlyPgQgUGkCSLDSzUfhIQCBvASQYF6CnA8BCFSaABKsdPNReAhAIC8BJJiXIOdDAAKVJoAEK918FB4CEMhLAAnmJcj5EIBApQkgwUo3H4WHAATyEkCCeQlyPgQgUGkCXStBzTW8YMECN3PmzMRFk0oRIACB+hLoWglqtrxmArTjiLC+PwBqBoGulaAJLukrYHG07pQId+7c6ZYuXdpQ2J0qVxI3HatquZvVi+P1I4AEE9o0lGCnRJimx1pGEVa13AlfBw7VlAASTGjYqAQ7IcK4MmTZp+uf6p0NV8hSxrhzhrvcw8WHfMpDAAkmtEXcj1L7hrPn1agMWfZrWD1coZXyLVmyxPX09Pglrgc5nOUeLj7kUx4CSDChLZJ+yAmnFXrIypA30aLSSVsOyy/N+vDhw4PJnjp1Kvb652AEPkCgYAJIsEWg9qNu8bTM0YvKr6h00lbE8mu27uvru6Zn3dvbe40I0+ZLPAi0SgAJtkjMftQtnpY5elH5FZVO2opYfklrDX0VvvjiC6fnNi1cuHDBzZkzZ4gI7RhrCBRNAAnGEN26des1vROLZj9q2273erjzK6o+Vu6kdSg+9f7CoB5ieG54jM8QKJIAEozQlADtx6ceSjTYsej+dm1nyU/X2CSRlStXutWrV/uelnpXdvOhXWUN07VyN1qvWrUqjO7LKPZhCG+ShPv5DIEiCSDBgGYoQPvxRn+Ytj84ra0fW81P4rZzdNdVi7b1qIkWiXA4gpWh0Vo3QMIg4al8krUFPdJj59s+1hAomgASHCAaJ0D7AYYitH1FN0Sj9FrJz+6sSnx2x1X7JMa5c+d6oZRBguqlhiEc+upxGPVgbWml/mGafIZAWgK5JKgfmoZb9kXVWtv2A0xbiE7EszJb3nr2T/tCGdrn8LnA6Hl2frvWreRnMgl7WbbP0imDBMPyqecXvR4YsrTeYLiPzxAokkBmCUp01rvQ9R392LTWj037w4veRRa4qLRMCmF6VubwmO2zeOEx29fOdSv5xV3zk3BUB1uG6z8oK3fcWt8VCxJgOAS2/ba275Rts4ZA0QQySVBfWolOjzFEf1Ta1vUdHU/6chddkVbTsx9n3HlZj8WllXdfUlmiacdJMBpnuLat3I3WkrO+K6EQo2WTuO386DG2IVAUgUwStGFieK0sLJANYRodD+N26nPSjyvrsXbUJbxDauWKW0sYNqQPh5tWJhNK3B1vi1Pkulm57UZN9BqgXQvU2kYausZJgEC7CGSSoF1nSurp6YeadK2nXRVKm66JJG18i5f1PDu/1bX+Q7E7vJZ33FrSUM9KxySWUITar306Fu5vtSytxE9b7ri6hPskU6VFgEC7CLRVguENhXZVIGu60b9ICH94zT7rh1nWED4iY70qq0+Ze+Zl5Um56k8gkwTTDoeHa+iVpZk0PGw2ZDN5hGudo3PLHNTbE3u7Rqj/jMpe5jLzpGz1JpBJghoGqyelazbR4ZW2db1Hx5OGy/XGSu0gAIGqEMgkQVVOPQsToXoauk6otV3MtmtUVQFBOSEAge4kkFmCwqUL7vYclw0ZNQTTfhOkPhMgAAEIlJVALgmGlYrKDhGGdPgMAQiUlUBhEoyrICKMo8I+CECgTATaKkFVNBQhN0rK1PSUBQIQEIG2S1CZSIQ8o8YXDgIQKCOBYZFgGStOmSAAAQiIABLkewABCHQ1ASTY1c1P5SEAgcpKsL+/37HAgO8A34G834HKSpD/vyAAAQgUQQAJFkGRNCAAgcoSQIKVbToKDgEIFEEACRZBkTQgAIHKEkCClW06Cg4BCBRBAAkWQZE0IACByhJAgpVtOgoOAQgUQQAJFkGRNCAAgcoSQIKVbToKDgEIFEEACRZBkTQgAIHKEkCClW06Cg4BCBRBAAkWQZE0IACByhJAgpVtOgoOAQgUQQAJBhT19mtNFRpdent7g1h8hAAE6kQACQ60pqYAsGlD49aaU5kAAQjUjwASHGhTTSYfJ7+0+9R7JEAAAtUjgAQH2qyRBOfPn59ajkqDAAEIVIsAEhxorzgJ2hBY6zQ9QiRYrS8/pYWACCDBge9BVIImQPuapBEhEjRarCFQHQJIcKCtQglGBWjN2UyESNBIsYZAdQggwYG2MgkuXbrU7d+/308YHzaj7h5rv443GhojwZAYnyFQDQJIcKCdTIImuJ6eniEtqG071midJMF//vnH7dixw504ccKn+/fff7tt27a5P/74Y0g+bEAAAsNLAAkO8G63BM+dO+dmzZrlPvjgA5/j0aNH3aRJk9zOnTuHt8XJDQIQGEIACQ7gaLcEh1BnAwIQKA0BJDjQFFEJzp07d8ifz2m70TDY9icNh0vT4hQEAhAYQgAJDuBo9mdzJrqktdIgQAAC1SKABIP20gsUVq1a5XQTpJVF53BtLwDJRwhUiAASrFBjUVQIQKB4AkiweKakCAEIVIgAEqxQY1FUCECgeAK5JXjhwgXX19cXWzLt13ECBCAAgbISyCVBCc7+jCz6eIg9cqLjiLCszU+5IACBzBIMBai7qnFB+/VICSKMo8M+CECgDAQySTCNAK1yiNBIsIYABMpIoGUJtiJAqzAiNBKsIQCBshHIJMElS5b4YW6jYXC0kiZBncf1wSgdtiEAgU4SaFmCKqxEllaECLCTzRuf95kzZ9yUKVPc9u3b4yNk3Kv0HnroIffXX39lTIHTIDD8BDJJUMVMI8KqCVDljc45rO26zTtcBgkeOHDA3XbbbU5rAgQ6SSCzBFXoUISNHpGpyhC42QsUGr1yv5ONlzVvJJiVHOfVkUAuCQqIRNjJh6V//fXXQtrFnmtMektM0rE08w4fPHjQTZ8+3Y0cOdKNHz/effjhh+7KlSu+/HrT9Jo1a9yYMWPcqFGj3MMPP+xOnz7tj6m3dO+997o33njDjR071h9fsWKFnwJg3rx5Pr1bbrnFv7laJ0hyKuubb77ptF/5LViwwO+34+Fw+OrVq+7zzz8fjKs0T5486fNO+kfls/ynTp3qXn755SHD4WPHjvnjqo/qtXbtWqc3bK9fv96NGDFicNG2QhKDpHJwDAJ5COSWYJ7MizhXP7w0P9hmeeWVoKQT7Q2Hedqbpd9++213+fJl9+2337oJEyYMvn3m1VdfdY888og7e/asu3Tpknv++efd8uXLvTQkwRtvvNGtW7fO/fnnn66/v9+fe+utt3rxXbx40Q/ZJVi9rt96ehKl0hMfycrSs+N2TXDTpk1eznrbtUT0+uuvD5FZWA/7rDIuWrTIKQ/lefz4cZ+HXRMM6yvx6bhE+eWXX/ok4obDSQwsX9YQKJpALST42GOP5RZhuyUo8dxzzz1uz549vg0lhr1797ojR4449cQkkvCGggR1xx13eIlZT9B6hoov+WjRZ4VQKspLPUfJ0oJe9aXen+Y4CSWoPCWujRs3WlQfZ9q0ae6nn34a3Bf9oPxUvvAdipozxSSo+knAWltQb1lyVwjLq+1mDCwN1hAomkAtJKheWF4RtluCkoGGgxoW6i9otmzZ4ntd1qC6rGDDYRsqSloSloShOuqzBbuBY9uhVBRP8bXPggQqMWpfKEH7bHnaety4cUPOt3RsLUlLlOFEUdG7wxKkeqAaDlu6dtkgLK+lmcTA4rCGQNEEaiPBvCJstwSt4X777Tf36aef+kmXbr/9dnfo0CHfW1IPScPh33//3UeVUIqUoHqA6onGSfCuu+5yu3fvtiKmWjeToOp59913+2G6hv8KobijEtR/EkkMUhWKSBDIQAAJDkBrtwQlN025qWtpClovXLjQ3ySwIanEYkFDyyIlqGuQd9555zXDYfW+7r//fn8TxfLW0NRu2Ni+6FoSSxoO63jYe7UhfKOeYDMG0fzZhkBRBGojwbIPhzU01HNxGzZs8ILRtUD1wLStntLixYvd008/7XuCupanmwh5JKhzdc1QNyh0bU69TPW01OOyIbBJ95NPPnE333yzv0mj45K14iteoxC9MaKbKvfdd9/gNUFtq74fffSRv5nz2Wef+UsBJkENzyVRlUE3dpoxaFQO9kMgL4FaSDCvAAWx3T1B5fHNN98MPiKjR13eeuutwRsH0cdNdMx6btFeldIKh5baDoeXkpeu/+kaoz0io+c1TWpRCarXp8d19NiOrt1JwCprsxAtc/QRGclU+euaoASvMj/55JO+znaNVMfsZkk0vZBBs7JwHAJZCdRCglV4RCZrA2U5T5KL3hjJko7EqhskdlPD1s1ummTJi3Mg0CkClZdgWR6WlnTUmyxDKEqCZagLZYBAuwlUXoJFAWr2Z3OSXLMlfGauqHJlSQcJZqHGOd1KAAkGLa8XKDDvcACEjxDoAgJIsAsamSpCAAKNCSDBxmw4AgEIdAEBJNgFjUwVIQCBxgSQYGM2HIEABLqAABLsgkamihCAQGMCSLAxG45AAAJdQAAJdkEjU0UIQKAxASTYmA1HIACBLiCABGMaWX/5sX///oZLzCnsggAEKkoACUYazqYJTfoTuTrNPBepPpsQ6DoCDSV48pH/cLZ0ExX92VwjAfb09DgJUMe7RYT2slObEa7V74LeF2jvRWx2bt68mqXPcQjEEUCCESoSXZIEFb2bRJhXTEgw8gVjs3QEkGCkSdJIUKdkEWGjeXiVnl4/r6kv9RLSuBeb6s0wejGpXkI6evRo/8JUTY+poJei6s3N9gLV2bNnu59//tkf0z96mWnYk4u+gFXS10tV9TJVzVGsyZH0gtPo+wRtJjm9kv+ZZ57x5VBZ9Abr8+fPD+ZnH5SvvYNQ66+++sq98847/sWyetu1gma509SjmzdvHvLuQsvL0mINgXYRQIIRsmklqNNMhL29vZFUrt1sNg+vekwTJ0708xHrrct67b7eLK0Xxqo3psnTn3vuOT9D3alTp7yoNLm6gkSiSZt0M0evqdfcxpMnT/Zz/ep4MwlquCrxKS/NhfLggw/6idR1blxPMJwf2F7d/9JLLw1O/+kLNfBPtCcoDpK0pKxzZ8yY4d5//30fOy6vMC0+Q6AdBJBghGqSBCWivr6+IcvcuXOdzmkWJDb96LW2IDnZvB967bym5LSgOTwkioMHD3ox2qv27bjmIXn33Xf9lJfqNaknZyGcxEn7mklQs9BpIiYLyvfRRx/1c3/EiUnpaYJ29V4VNF+K5lAO62ZpRSWo/bt27fLzizz77LNevupZKsTlZemwhkC7CCDBCNkkCTa7VhhJ6ppNPXoTNw+v/fg1w1xckEjUOzNZhHE0TI5KTMc134dkpdBMgqqXhr4WJEEbjlrZtM+CJKb5SGbNmuV7cZpes1GIk6BkKflrKK20LMTlZcdYQ6BdBJBghGy7JJg0D6/9+IuUoCTTLgkKma5HSnDLli1zmjTq448/jpD8v81GEtT1TUlQxy0Yh1C4dow1BNpFAAlGyLZLguppqcelnptCOA+vekbR4bD2ff311/4aXThnsBVXc6toCKobEmmGw7pOaCHuxkjanqCG2ppFziaJV5oailvP0fKwdZwEdQNo2rRp/pqqrgnaTRIkaNRYDycBJBih3S4JNpuHV7LIc2NE1wx1/VA3Rt577z1/o+T48eO+dupZScDalnB0N9dmjIubjyQcDpusX3zxRX/NTj3ARYsW+TQ0PNe2mGneZOV94sQJL0m7Pqhrl5pfWJLV/MJ2M0RzHet8XR7QHWPlE82r2QTwkaZjEwKZCCDBCLZ2SVDZJM3DKwHYIzJ6TEV3UH/88cfB0oWPyNicxeqVKYTzBsedK9lo2KpjupanOuruscTUTIJKX9ftbrrpJi8zSUznKD0NZ/XIjqSoR2oUdFdbj9qEvbvly5f7vHUXeN26db5uuktsaUv+kqVth3n5nfwDgTYSQIIRuO2UYCQrNiEAgRIQQIKRRkCCESBsQqDmBJBgpIGRYAQImxCoOYFMEvzn90Pu0o+br1mu/vU/lceVRYJ66QIBAhCoJoGWJSgB2ttlouvTz93gqi7CNK/Sij40vXPnzmq2PqWGAARcyxI8v2F5QwlKiqeW/ac78/K/Ypdz/72wEsj1lx379u1LtSguAQIQqC6BzBI8/e//cmde+lfqRfElyYt7//9vXKuLjZJDAAJ1IZBZgpcObG6JgeJLgupJEiAAAQiUhQASLEtLUA4IQKAjBJBgR7CTKQQgUBYCSLAsLUE5IACBjhBAgh3BTqYQgEBZCCDBsrQE5YAABDpCAAl2BDuZQgACZSGQWYIXNr10zZ/Nxf0pne1TfB6RKUuzUw4IQMAItCzBpD+bk+SaLTqfAAEIQKAsBFqWoAruX6BwYLPTA9CtLAiwLM1OOSAAASOQSYJ2MmsIQAACVSeABKvegpQfAhDIRQAJ5sLHyRCAQNUJIMGqtyDlhwAEchFAgrnwcTIEIFB1Akiw6i1I+SEAgVwEkGAufJwMAQhUnQASrHoLUn4IQCAXASSYCx8nQwACVSeABKvegpQfAhDIRQAJ5sLHyRCAQNUJIMGqtyDlhwAEchFAgrnwcTIEIFB1Ag0lWPWKUX4IQAACaQggwTSUiAMBCNSWABKsbdNSMQhAIA0BJJiGEnEgAIHaEkCCtW1aKgYBCKQhgATTUCIOBCBQWwJIsLZNS8UgAIE0BJBgGkrEgQAEaksACda2aakYBCCQhgASTEOJOBCAQG0JIMHaNi0VgwAE0hBAgmkoEQcCEKgtASRY26alYhCAQBoCSDANJeJAAAK1JYAEa9u0VAwCEEhDAAmmoUQcCECgtgSQYG2blopBAAJpCCDBNJSIAwEI1JYAEqxt01IxCEAgDQEkmIYScSAAgdoSQIK1bVoqBgEIpCGABNNQIg4EIFBbAkiwtk1LxSAAgTQEkGAaSsSBAARqSwAJ1rZpqRgEIJCGABJMQ4k4EIBAbQkgwdo2LRWDAATSEECCaSgRBwIQqC0BJFjbpqViEIBAGgJIMA0l4kAAArUlgARr27RUDAIQSEMACaahRBwIQKC2BJBgbZuWikEAAmkIIME0lIgDAQjUlgASrG3TUjEIQCANASSYhhJxIACB2hJAgrVtWioGAQikIYAE01AiDgQgUFsCSLC2TUvFIACBNASQYBpKxIEABGpLAAnWtmmpGAQgkIYAEkxDiTgQgEBtCfwvupf+b1peuXsAAAAASUVORK5CYII=)"
      ]
    },
    {
      "cell_type": "markdown",
      "metadata": {
        "id": "zTbxVnqLjifI"
      },
      "source": [
        "##  Reading Data from a Text File"
      ]
    },
    {
      "cell_type": "code",
      "metadata": {
        "id": "FzU2rFxrjifS"
      },
      "source": [
        "with open('accounts.txt', mode='r') as accounts:\n",
        "    print(f'{\"Account\":<10}{\"Name\":<10}{\"Balance\":>10}')\n",
        "    for record in accounts:\n",
        "        account, name, balance = record.split()\n",
        "        print(f'{account:<10}{name:<10}{balance:>10}')\n",
        "        "
      ],
      "execution_count": null,
      "outputs": []
    },
    {
      "cell_type": "markdown",
      "metadata": {
        "id": "ZDfsMoqijifW"
      },
      "source": [
        "### File Method `readlines`"
      ]
    },
    {
      "cell_type": "markdown",
      "metadata": {
        "id": "vrsjeEztjvbp"
      },
      "source": [
        "The file object’s readlines method also can be used to read an entire text file. The\n",
        "method returns each line as a string in a list of strings. For small files, this works well,\n",
        "but iterating over the lines in a file object, as shown above, can be more efficient.\n",
        "Calling readlines for a large file can be a timeconsuming\n",
        "operation, which must\n",
        "complete before you can begin using the list of strings. Using the file object in a for\n",
        "statement enables your program to process each text line as it’s read."
      ]
    },
    {
      "cell_type": "markdown",
      "metadata": {
        "id": "cMMarjOHjifX"
      },
      "source": [
        "### Seeking to a Specific File Position"
      ]
    },
    {
      "cell_type": "markdown",
      "metadata": {
        "id": "LTsdluP8j2zP"
      },
      "source": [
        "While reading through a file, the system maintains a fileposition\n",
        "pointer\n",
        "representing the location of the next character to read. Sometimes it’s necessary to\n",
        "process a file sequentially from the beginning several times during a program’s\n",
        "execution. Each time, you must reposition the fileposition\n",
        "pointer to the beginning of\n",
        "the file, which you can do either by closing and reopening the file, or by calling the file\n",
        "object’s seek method, as in\n",
        "`file_object.seek(0)`\n",
        "The latter approach is faster."
      ]
    },
    {
      "cell_type": "markdown",
      "metadata": {
        "id": "mXJEGnICj7ud"
      },
      "source": [
        "#  Updating Text Files"
      ]
    },
    {
      "cell_type": "markdown",
      "metadata": {
        "id": "E6tO1JqmkL4P"
      },
      "source": [
        "If the name 'White' needs to be changed to 'Williams' in\n",
        "accounts.txt, the old name cannot simply be overwritten."
      ]
    },
    {
      "cell_type": "markdown",
      "metadata": {
        "id": "Tx4PiusJj7um"
      },
      "source": [
        "### Updating `accounts.txt` "
      ]
    },
    {
      "cell_type": "code",
      "metadata": {
        "id": "kEsiH-1cj7un"
      },
      "source": [
        "accounts = open('accounts.txt', 'r')"
      ],
      "execution_count": null,
      "outputs": []
    },
    {
      "cell_type": "code",
      "metadata": {
        "id": "QnHrUWEBj7up"
      },
      "source": [
        "temp_file = open('temp_file.txt', 'w')"
      ],
      "execution_count": null,
      "outputs": []
    },
    {
      "cell_type": "code",
      "metadata": {
        "id": "RkEIMM-rj7up"
      },
      "source": [
        "with accounts, temp_file:\n",
        "    for record in accounts:\n",
        "        account, name, balance = record.split()\n",
        "        if account != '300':\n",
        "            temp_file.write(record)\n",
        "        else:\n",
        "            new_record = ' '.join([account, 'Williams', balance])\n",
        "            temp_file.write(new_record + '\\n')\n",
        "                    "
      ],
      "execution_count": null,
      "outputs": []
    },
    {
      "cell_type": "markdown",
      "metadata": {
        "id": "aGKFibgZj7uq"
      },
      "source": [
        "### `os` Module File Processing Functions"
      ]
    },
    {
      "cell_type": "code",
      "metadata": {
        "id": "ThaZj9Exj7ur"
      },
      "source": [
        "import os"
      ],
      "execution_count": null,
      "outputs": []
    },
    {
      "cell_type": "code",
      "metadata": {
        "id": "0qlS1dptj7ut"
      },
      "source": [
        "os.remove('accounts.txt')"
      ],
      "execution_count": null,
      "outputs": []
    },
    {
      "cell_type": "code",
      "metadata": {
        "id": "2DnkOFN8j7uu"
      },
      "source": [
        "os.rename('temp_file.txt', 'accounts.txt')"
      ],
      "execution_count": null,
      "outputs": []
    },
    {
      "cell_type": "code",
      "metadata": {
        "id": "Uxdj5Pexj7uv"
      },
      "source": [
        "# macOS/Linux Users: View file contents\n",
        "!cat accounts.txt"
      ],
      "execution_count": null,
      "outputs": []
    },
    {
      "cell_type": "code",
      "metadata": {
        "id": "4Hf-okJIj7uw"
      },
      "source": [
        "# Windows Users: View file contents\n",
        "!more accounts.txt"
      ],
      "execution_count": null,
      "outputs": []
    },
    {
      "cell_type": "markdown",
      "metadata": {
        "id": "HwtsFOrwkkYt"
      },
      "source": [
        "#  Serialization with JSON "
      ]
    },
    {
      "cell_type": "markdown",
      "metadata": {
        "id": "qrRexBT0ktdR"
      },
      "source": [
        "Many libraries we use to interact with cloud-based\n",
        "services, such as Twitter and others, communicate with your applications via JSON objects. JSON\n",
        "(JavaScript Object Notation) is a text-based,\n",
        "humanand-computer-readable,\n",
        "datai-nterchange\n",
        "format used to represent objects as collections of name–value pairs."
      ]
    },
    {
      "cell_type": "markdown",
      "metadata": {
        "id": "Kx0bRxejkkY3"
      },
      "source": [
        "### JSON Data Format"
      ]
    },
    {
      "cell_type": "markdown",
      "metadata": {
        "id": "z9K5o1bNk7z_"
      },
      "source": [
        "JSON objects are similar to Python dictionaries. Each JSON object contains a commaseparated\n",
        "list of property names and values, in curly braces:\n",
        "\n",
        "`{\"account\": 100, \"name\": \"Jones\", \"balance\": 24.98}`\n",
        "\n",
        "JSON also supports arrays which, like Python lists, are commaseparated\n",
        "values in\n",
        "square brackets. For example, the following is an acceptable JSON array of numbers:\n",
        "\n",
        "`[100, 200, 300]`\n",
        "\n",
        "Values in JSON objects and arrays can be:\n",
        "* strings in double quotes (like \"Jones\"),\n",
        "*  numbers (like 100 or 24.98),\n",
        "* JSON Boolean values (represented as true or false in JSON),\n",
        "* null (to represent no value, like None in Python),\n",
        "* arrays (like [100, 200, 300]), and\n",
        "* other JSON objects."
      ]
    },
    {
      "cell_type": "markdown",
      "metadata": {
        "id": "66crkpR7kkY4"
      },
      "source": [
        "### Python Standard Library Module `json` "
      ]
    },
    {
      "cell_type": "markdown",
      "metadata": {
        "id": "2j00vsuxlNJp"
      },
      "source": [
        "The json module enables you to convert objects to JSON (JavaScript Object\n",
        "Notation) text format. This is known as **serializing** the data."
      ]
    },
    {
      "cell_type": "code",
      "metadata": {
        "id": "YApS1c3SkkY4"
      },
      "source": [
        "accounts_dict = {'accounts': [\n",
        "    {'account': 100, 'name': 'Jones', 'balance': 24.98},\n",
        "    {'account': 200, 'name': 'Doe', 'balance': 345.67}]}"
      ],
      "execution_count": null,
      "outputs": []
    },
    {
      "cell_type": "markdown",
      "metadata": {
        "id": "x03CMg1BkkY6"
      },
      "source": [
        "### Serializing an Object to JSON"
      ]
    },
    {
      "cell_type": "markdown",
      "metadata": {
        "id": "oOyDHdFLlXPv"
      },
      "source": [
        "The json module’s `dump`\n",
        "function serializes the dictionary accounts_dict into the file."
      ]
    },
    {
      "cell_type": "code",
      "metadata": {
        "id": "36KmqmhXkkY7"
      },
      "source": [
        "import json"
      ],
      "execution_count": null,
      "outputs": []
    },
    {
      "cell_type": "code",
      "metadata": {
        "id": "KbrxcX55kkY8"
      },
      "source": [
        "with open('accounts.json', 'w') as accounts:\n",
        "    json.dump(accounts_dict, accounts)"
      ],
      "execution_count": null,
      "outputs": []
    },
    {
      "cell_type": "markdown",
      "metadata": {
        "id": "KTnq04BBlgw1"
      },
      "source": [
        "Check accounts.json content file.\n",
        "\n"
      ]
    },
    {
      "cell_type": "markdown",
      "metadata": {
        "id": "JKt1jAvikkY-"
      },
      "source": [
        "### Deserializing the JSON Text"
      ]
    },
    {
      "cell_type": "markdown",
      "metadata": {
        "id": "7v-2MEaUlpnl"
      },
      "source": [
        "The json module’s load function reads the entire JSON contents of its file object\n",
        "argument and converts the JSON into a Python object. This is known as **deserializing**\n",
        "the data."
      ]
    },
    {
      "cell_type": "code",
      "metadata": {
        "id": "qzA_gFRakkY_"
      },
      "source": [
        "with open('accounts.json', 'r') as accounts:\n",
        "    accounts_json = json.load(accounts)"
      ],
      "execution_count": null,
      "outputs": []
    },
    {
      "cell_type": "code",
      "metadata": {
        "id": "O73SOfiHkkZA"
      },
      "source": [
        "accounts_json"
      ],
      "execution_count": null,
      "outputs": []
    },
    {
      "cell_type": "code",
      "metadata": {
        "id": "_iugzwMYkkZB"
      },
      "source": [
        "accounts_json['accounts']"
      ],
      "execution_count": null,
      "outputs": []
    },
    {
      "cell_type": "code",
      "metadata": {
        "id": "eVnuMiK9kkZD"
      },
      "source": [
        "accounts_json['accounts'][0]"
      ],
      "execution_count": null,
      "outputs": []
    },
    {
      "cell_type": "code",
      "metadata": {
        "id": "VJwvmvqXkkZD"
      },
      "source": [
        "accounts_json['accounts'][1]"
      ],
      "execution_count": null,
      "outputs": []
    },
    {
      "cell_type": "markdown",
      "metadata": {
        "id": "Ktkywh9ukkZE"
      },
      "source": [
        "### Displaying the JSON Text"
      ]
    },
    {
      "cell_type": "markdown",
      "metadata": {
        "id": "MPTNuZIDlwFa"
      },
      "source": [
        "The json module’s `dumps` function (dumps is short for “dump string”) returns a\n",
        "Python string representation of an object in JSON format. Using `dumps` with `load`, you\n",
        "can read the JSON from the file and display it in a nicely indented format—sometimes\n",
        "called “pretty printing” the JSON. When the dumps function call includes the indent\n",
        "keyword argument, the string contains newline characters and indentation for pretty\n",
        "printing—you also can use indent with the dump function when writing to a file."
      ]
    },
    {
      "cell_type": "code",
      "metadata": {
        "id": "dGYDe-sBkkZE"
      },
      "source": [
        "with open('accounts.json', 'r') as accounts:\n",
        "    print(json.dumps(json.load(accounts), indent=4))\n",
        "    "
      ],
      "execution_count": null,
      "outputs": []
    },
    {
      "cell_type": "markdown",
      "metadata": {
        "id": "ln5SkSpnl_im"
      },
      "source": [
        "# Additional notes regarding files"
      ]
    },
    {
      "cell_type": "markdown",
      "metadata": {
        "id": "x8NtsnJvmHi2"
      },
      "source": [
        "The following list summarizes the various `fileopen`\n",
        "modes for text files, including the\n",
        "modes for reading and writing we’ve introduced. The writing and appending modes\n",
        "create the file if it does not exist. The reading modes raise a FileNotFoundError if\n",
        "the file does not exist. Each textfile\n",
        "mode has a corresponding binaryfile\n",
        "mode\n",
        "specified with b, as in 'rb' or 'wb+'."
      ]
    },
    {
      "cell_type": "markdown",
      "metadata": {
        "id": "P0uqzMTvmMi7"
      },
      "source": [
        "* 'r'\n",
        "Open a text file for reading. This is the default if you do not specify\n",
        "the fileopen\n",
        "mode when you call open.\n",
        "* 'w' Open a text file for writing. Existing file contents are deleted.\n",
        "* 'a' Open a text file for appending at the end, creating the file if it does\n",
        "not exist. New data is written at the end of the file.\n",
        "* 'r+' Open a text file reading and writing.\n",
        "* 'w+' Open a text file reading and writing. Existing file contents are deleted.\n",
        "* 'a+' Open a text file reading and appending at the end. New data is\n",
        "written at the end of the file. If the file does not exist, it is created."
      ]
    },
    {
      "cell_type": "markdown",
      "metadata": {
        "id": "LMs4S1e2mTg0"
      },
      "source": [
        "## Other File Object Methods"
      ]
    },
    {
      "cell_type": "markdown",
      "metadata": {
        "id": "ybtwXznwmX6I"
      },
      "source": [
        "* For a text file, the `read` method returns a string containing the number of\n",
        "characters specified by the method’s integer argument. For a binary file, the method\n",
        "returns the specified number of bytes. If no argument is specified, the method\n",
        "returns the entire contents of the file.\n",
        "* The `readline` method returns one line of text as a string, including the newline\n",
        "character if there is one. This method returns an empty string when it encounters\n",
        "the end of the file.\n",
        "* The `writelines` method receives a list of strings and writes its contents to a file."
      ]
    },
    {
      "cell_type": "markdown",
      "metadata": {
        "id": "A_M3pSzDmg9M"
      },
      "source": [
        "# Handling Exceptions"
      ]
    },
    {
      "cell_type": "markdown",
      "metadata": {
        "id": "UMaw61tHmnOd"
      },
      "source": [
        "Various types of exceptions can occur when you work with files, including:\n",
        "* A `FileNotFoundError` occurs if you attempt to open a non-existent\n",
        "file for\n",
        "reading with the 'r' or 'r+' modes.\n",
        "* A `PermissionsError` occurs if you attempt an operation for which you do not\n",
        "have permission. This might occur if you try to open a file that your account is not\n",
        "allowed to access or create a file in a folder where your account does not have\n",
        "permission to write, such as where your computer’s operating system is stored.\n",
        "* A `ValueError` (with the error message 'I/O operation on closed file.')\n",
        "occurs when you attempt to write to a file that has already been closed."
      ]
    },
    {
      "cell_type": "markdown",
      "metadata": {
        "id": "NvbWQRdOmfL3"
      },
      "source": [
        "##  Division by Zero and Invalid Input"
      ]
    },
    {
      "cell_type": "markdown",
      "metadata": {
        "id": "yYj26HCdmwmh"
      },
      "source": [
        "Attempting to divide by 0 results in a `ZeroDivisionError`."
      ]
    },
    {
      "cell_type": "markdown",
      "metadata": {
        "id": "Pj-831LgmfL9"
      },
      "source": [
        "### Division By Zero  "
      ]
    },
    {
      "cell_type": "code",
      "metadata": {
        "id": "GIYIeO2amfL_"
      },
      "source": [
        "10 / 0 "
      ],
      "execution_count": null,
      "outputs": []
    },
    {
      "cell_type": "markdown",
      "metadata": {
        "id": "5wY4bVwMm1NT"
      },
      "source": [
        "In this case, the interpreter is said to raise an exception of type\n",
        "`ZeroDivisionError`."
      ]
    },
    {
      "cell_type": "markdown",
      "metadata": {
        "id": "P6LMIqUfmfMB"
      },
      "source": [
        "### Invalid Input"
      ]
    },
    {
      "cell_type": "markdown",
      "metadata": {
        "id": "sl8OTqCbm5jw"
      },
      "source": [
        "The `int` function raises a `ValueError`\n",
        "if you attempt to convert to an integer a string (like 'hello') that does not represent a number."
      ]
    },
    {
      "cell_type": "code",
      "metadata": {
        "id": "EcgAQr-bmfMB"
      },
      "source": [
        "value = int(input('Enter an integer: '))"
      ],
      "execution_count": null,
      "outputs": []
    },
    {
      "cell_type": "markdown",
      "metadata": {
        "id": "CmRFyzr8nBij"
      },
      "source": [
        "##  `try` Statements"
      ]
    },
    {
      "cell_type": "markdown",
      "metadata": {
        "id": "tb6YrItwnJIz"
      },
      "source": [
        "Try to run the following code multiple times by provding zeros or string inputs."
      ]
    },
    {
      "cell_type": "code",
      "metadata": {
        "id": "AddK-IexnBiq"
      },
      "source": [
        "# dividebyzero.py\n",
        "\"\"\"Simple exception handling example.\"\"\"\n",
        "\n",
        "while True:\n",
        "    # attempt to convert and divide values\n",
        "    try:\n",
        "        number1 = int(input('Enter numerator: '))\n",
        "        number2 = int(input('Enter denominator: '))\n",
        "        result = number1 / number2\n",
        "    except ValueError:  # tried to convert non-numeric value to int\n",
        "        print('You must enter two integers\\n')\n",
        "    except ZeroDivisionError:  # denominator was 0\n",
        "        print('Attempted to divide by zero\\n')\n",
        "    else:  # executes only if no exceptions occur\n",
        "        print(f'{number1:.3f} / {number2:.3f} = {result:.3f}')\n",
        "        break  # terminate the loop"
      ],
      "execution_count": null,
      "outputs": []
    },
    {
      "cell_type": "markdown",
      "metadata": {
        "id": "Vby1V1ACnBit"
      },
      "source": [
        "### `try` Clause\n"
      ]
    },
    {
      "cell_type": "markdown",
      "metadata": {
        "id": "YP4RxBivnUgg"
      },
      "source": [
        "Python uses `try` statements to enable exception handling. The try\n",
        "statement’s try clause begins with keyword try, followed by a colon (:)\n",
        "and a suite of statements that might raise exceptions."
      ]
    },
    {
      "cell_type": "markdown",
      "metadata": {
        "id": "lFnbu3q9nYaX"
      },
      "source": [
        "### `except` Clause\n"
      ]
    },
    {
      "cell_type": "markdown",
      "metadata": {
        "id": "Avo2iKdJnYe-"
      },
      "source": [
        "A try clause may be followed by one or more except clauses\n",
        "that immediately follow the try clause’s suite. These also are known as exception\n",
        "handlers. Each except clause specifies the type of exception it handles. In this\n",
        "example, each exception handler just displays a message indicating the problem that\n",
        "occurred."
      ]
    },
    {
      "cell_type": "markdown",
      "metadata": {
        "id": "0emPDYh4nYil"
      },
      "source": [
        "### `else` Clause\n"
      ]
    },
    {
      "cell_type": "markdown",
      "metadata": {
        "id": "BpcWwKxInYl6"
      },
      "source": [
        "After the last except clause, an optional else clause specifies code that\n",
        "should execute only if the code in the try suite did not raise exceptions. If no\n",
        "exceptions occur in this example’s try suite, line 15 displays the division result and line\n",
        "16 terminates the loop."
      ]
    },
    {
      "cell_type": "markdown",
      "metadata": {
        "id": "h3uBU0uWntCJ"
      },
      "source": [
        "#  finally Clause\n"
      ]
    },
    {
      "cell_type": "markdown",
      "metadata": {
        "id": "eWNbAE9Hny1E"
      },
      "source": [
        "Operating systems typically can prevent more than one program from manipulating a\n",
        "file at once. When a program finishes processing a file, the program should close it to\n",
        "release the resource so other programs can access it. Closing the file helps prevent a\n",
        "**resource leak**."
      ]
    },
    {
      "cell_type": "markdown",
      "metadata": {
        "id": "xdy3cLGiny4w"
      },
      "source": [
        "### The `finally` Clause of the `try` Statement\n"
      ]
    },
    {
      "cell_type": "markdown",
      "metadata": {
        "id": "t2Jy-sU2ny9D"
      },
      "source": [
        "A try statement may have a finally clause after any except clauses or the else\n",
        "clause. The finally clause is guaranteed to execute."
      ]
    },
    {
      "cell_type": "markdown",
      "metadata": {
        "id": "Cc0mq3v8nzAe"
      },
      "source": [
        "### Example"
      ]
    },
    {
      "cell_type": "code",
      "metadata": {
        "id": "Zy2U0iQWntCP"
      },
      "source": [
        "try:\n",
        "    print('try suite with no exceptions raised')\n",
        "except:\n",
        "    print('this will not execute')\n",
        "else:\n",
        "    print('else executes because no exceptions in the try suite')\n",
        "finally:  \n",
        "    print('finally always executes')\n",
        "    "
      ],
      "execution_count": null,
      "outputs": []
    },
    {
      "cell_type": "code",
      "metadata": {
        "id": "kFyJMBTbntCU"
      },
      "source": [
        "try:\n",
        "    print('try suite that raises an exception')\n",
        "    int('hello')\n",
        "    print('this will not execute')\n",
        "except ValueError:\n",
        "    print('a ValueError occurred')\n",
        "else:\n",
        "    print('else will not execute because an exception occurred')\n",
        "finally:  \n",
        "    print('finally always executes')\n",
        "    "
      ],
      "execution_count": null,
      "outputs": []
    },
    {
      "cell_type": "markdown",
      "metadata": {
        "id": "IDVjQjUYntCV"
      },
      "source": [
        "### Combining `with` Statements and `try`…`except` Statements "
      ]
    },
    {
      "cell_type": "code",
      "metadata": {
        "id": "Kpr05UHyntCW"
      },
      "source": [
        "open('gradez.txt')"
      ],
      "execution_count": null,
      "outputs": []
    },
    {
      "cell_type": "code",
      "metadata": {
        "id": "yXeMvFewntCX"
      },
      "source": [
        "try:\n",
        "    with open('gradez.txt', 'r') as accounts:\n",
        "        print(f'{\"ID\":<3}{\"Name\":<7}{\"Grade\"}')\n",
        "        for record in accounts:  \n",
        "            student_id, name, grade = record.split()\n",
        "            print(f'{student_id:<3}{name:<7}{grade}')\n",
        "except FileNotFoundError:\n",
        "    print('The file name you specified does not exist')\n",
        "    "
      ],
      "execution_count": null,
      "outputs": []
    },
    {
      "cell_type": "markdown",
      "metadata": {
        "id": "m0P59GYoqqqg"
      },
      "source": [
        "# Explicitly raising an exception"
      ]
    },
    {
      "cell_type": "markdown",
      "metadata": {
        "id": "HIVP_E7fquo7"
      },
      "source": [
        "You’ve seen various exceptions raised by your Python code. Sometimes you might need\n",
        "to write functions that raise exceptions to inform callers of errors that occur. The\n",
        "raise statement explicitly raises an exception. The simplest form of the raise\n",
        "statement is\n",
        "\n",
        "`raise ExceptionClassName`\n",
        "\n",
        "The raise statement creates an object of the specified exception class. Optionally, the\n",
        "exception class name may be followed by parentheses containing arguments to\n",
        "initialize the exception object—typically to provide a custom error message string. Code\n",
        "that raises an exception first should release any resources acquired before the exception\n",
        "occurred. In the next section, we’ll show an example of raising an exception."
      ]
    },
    {
      "cell_type": "markdown",
      "metadata": {
        "id": "w1zm4BV1q321"
      },
      "source": [
        "# Stack Unwinding and Tracebacks"
      ]
    },
    {
      "cell_type": "code",
      "metadata": {
        "id": "Sw4oztHzq33A"
      },
      "source": [
        "def function1():\n",
        "    function2()\n",
        "    "
      ],
      "execution_count": null,
      "outputs": []
    },
    {
      "cell_type": "code",
      "metadata": {
        "id": "bFODlStfq33E"
      },
      "source": [
        "def function2():\n",
        "    raise Exception('An exception occurred')"
      ],
      "execution_count": null,
      "outputs": []
    },
    {
      "cell_type": "code",
      "metadata": {
        "id": "cZYtvg5mq33F"
      },
      "source": [
        "function1()"
      ],
      "execution_count": null,
      "outputs": []
    },
    {
      "cell_type": "markdown",
      "metadata": {
        "id": "yL6Tnfviq33G"
      },
      "source": [
        "### Traceback Details\n"
      ]
    },
    {
      "cell_type": "markdown",
      "metadata": {
        "id": "hTW1lpv9rIHM"
      },
      "source": [
        "The traceback shows the type of exception that occurred (Exception) followed by the\n",
        "complete function call stack that led to the raise point. The stack’s bottom function call\n",
        "is listed first and the top is last."
      ]
    },
    {
      "cell_type": "markdown",
      "metadata": {
        "id": "7Yck8E0QrITI"
      },
      "source": [
        "### Stack Unwinding\n"
      ]
    },
    {
      "cell_type": "markdown",
      "metadata": {
        "id": "E30j9wJLrIhM"
      },
      "source": [
        "When an exception is not caught in a given function, stack unwinding\n",
        "occurs."
      ]
    },
    {
      "cell_type": "markdown",
      "metadata": {
        "id": "fj_1QFiPrI2L"
      },
      "source": [
        "### Tip for Reading Tracebacks\n"
      ]
    },
    {
      "cell_type": "markdown",
      "metadata": {
        "id": "HVzNywiIrI7U"
      },
      "source": [
        "Sometimes those functions and methods raise exceptions. When reading a\n",
        "traceback, start from the end of the traceback and read the error message first. Then,\n",
        "read upward through the traceback, looking for the first line that indicates code you\n",
        "wrote in your program. Typically, this is the location in your code that led to the\n",
        "exception."
      ]
    },
    {
      "cell_type": "markdown",
      "metadata": {
        "id": "b1XDJtw0rJBk"
      },
      "source": [
        "### Exceptions in finally Suites"
      ]
    },
    {
      "cell_type": "markdown",
      "metadata": {
        "id": "t1dPwRHXrLfw"
      },
      "source": [
        "Raising an exception in a finally suite can lead to subtle, hardtofind\n",
        "problems. If\n",
        "an exception occurs and is not processed by the time the finally suite executes, stack\n",
        "unwinding occurs. If the finally suite raises a new exception that the suite does not\n",
        "catch, the first exception is lost, and the new exception is passed to the next enclosing\n",
        "try statement. For this reason, a finally suite should always enclose in a try\n",
        "statement any code that may raise an exception, so that the exceptions will be\n",
        "processed within that suite."
      ]
    },
    {
      "cell_type": "markdown",
      "metadata": {
        "id": "7va8uRBHz5Nw"
      },
      "source": [
        "# Working with CSV files"
      ]
    },
    {
      "cell_type": "markdown",
      "metadata": {
        "id": "tgGbXayBz5Sx"
      },
      "source": [
        "CSV (commaseparated\n",
        "values) is a particularly popular file format."
      ]
    },
    {
      "cell_type": "markdown",
      "metadata": {
        "id": "h4cq5MWFz3HB"
      },
      "source": [
        "##  Python Standard Library Module `csv` \n"
      ]
    },
    {
      "cell_type": "markdown",
      "metadata": {
        "id": "505BPE_00FA-"
      },
      "source": [
        "The csv module provides functions for working with CSV files."
      ]
    },
    {
      "cell_type": "markdown",
      "metadata": {
        "id": "l_6qmLKj0FFF"
      },
      "source": [
        "### Writing to a CSV File"
      ]
    },
    {
      "cell_type": "code",
      "metadata": {
        "id": "wCc_ixV1z3HS"
      },
      "source": [
        "import csv"
      ],
      "execution_count": null,
      "outputs": []
    },
    {
      "cell_type": "code",
      "metadata": {
        "id": "KhKzA5ZUz3HY"
      },
      "source": [
        "with open('accounts.csv', mode='w', newline='') as accounts:\n",
        "    writer = csv.writer(accounts)\n",
        "    writer.writerow([100, 'Jones', 24.98])\n",
        "    writer.writerow([200, 'Doe', 345.67])\n",
        "    writer.writerow([300, 'White', 0.00])\n",
        "    writer.writerow([400, 'Stone', -42.16])\n",
        "    writer.writerow([500, 'Rich', 224.62])\n",
        "    "
      ],
      "execution_count": null,
      "outputs": []
    },
    {
      "cell_type": "markdown",
      "metadata": {
        "id": "MAxy-kTR0OXV"
      },
      "source": [
        "The .csv file extension indicates a CSVformat\n",
        "file. The csv module’s writer\n",
        "function returns an object that writes CSV data to the specified file object. Each call to\n",
        "the writer’s writerow method receives an iterable to store in the file. Here we’re\n",
        "using lists. By default, writerow delimits values with commas, but you can specify\n",
        "custom delimiters."
      ]
    },
    {
      "cell_type": "markdown",
      "metadata": {
        "id": "yVraU8nE0TMz"
      },
      "source": [
        "CSV files generally do not contain spaces after commas, but some people use them to\n",
        "enhance readability. The writerow calls above can be replaced with one writerows\n",
        "call that outputs a commaseparated\n",
        "list of iterables representing the records."
      ]
    },
    {
      "cell_type": "markdown",
      "metadata": {
        "id": "7zDVVqL-z3Ha"
      },
      "source": [
        "### Reading from a CSV File"
      ]
    },
    {
      "cell_type": "code",
      "metadata": {
        "id": "B_NHkFhdz3Hb"
      },
      "source": [
        "with open('accounts.csv', 'r', newline='') as accounts:\n",
        "    print(f'{\"Account\":<10}{\"Name\":<10}{\"Balance\":>10}')\n",
        "    reader = csv.reader(accounts)\n",
        "    for record in reader:  \n",
        "        account, name, balance = record\n",
        "        print(f'{account:<10}{name:<10}{balance:>10}')\n",
        "        "
      ],
      "execution_count": null,
      "outputs": []
    },
    {
      "cell_type": "markdown",
      "metadata": {
        "id": "jVA-kQtB0XQ7"
      },
      "source": [
        "The csv module’s reader function returns an object that reads CSVformat\n",
        "data\n",
        "from the specified file object. Just as you can iterate through a file object, you can\n",
        "iterate through the reader object one record of commadelimited\n",
        "values at a time."
      ]
    },
    {
      "cell_type": "markdown",
      "metadata": {
        "id": "3TcAdbuwz3Hd"
      },
      "source": [
        "### Caution: Commas in CSV Data Fields\n"
      ]
    },
    {
      "cell_type": "markdown",
      "metadata": {
        "id": "ubz5hmFn0ZP9"
      },
      "source": [
        "Be careful when working with strings containing embedded commas. Programs that read CSV files typically expect every record to have the same number of\n",
        "fields; otherwise, problems occur."
      ]
    },
    {
      "cell_type": "markdown",
      "metadata": {
        "id": "cjG_3H5I0q5q"
      },
      "source": [
        "##  Reading CSV Files into Pandas `DataFrame`s \n"
      ]
    },
    {
      "cell_type": "markdown",
      "metadata": {
        "id": "4KwPsWnU0uwG"
      },
      "source": [
        "### Datasets"
      ]
    },
    {
      "cell_type": "markdown",
      "metadata": {
        "id": "BVo9gTfu00ms"
      },
      "source": [
        "The popular Rdatasets repository\n",
        "provides links to over 1100 free datasets in commaseparated\n",
        "values (CSV) format."
      ]
    },
    {
      "cell_type": "markdown",
      "metadata": {
        "id": "vjEtkRZr06DJ"
      },
      "source": [
        "A commonly used machinelearning\n",
        "dataset for beginners is the Titanic disaster\n",
        "dataset, which lists all the passengers and whether they survived when the ship\n",
        "Titanic struck an iceberg and sank April 14–15, 1912."
      ]
    },
    {
      "cell_type": "markdown",
      "metadata": {
        "id": "ScTWOQTv0vLo"
      },
      "source": [
        "\n",
        "### Working with Locally Stored CSV Files "
      ]
    },
    {
      "cell_type": "code",
      "metadata": {
        "id": "fkcUto610q51"
      },
      "source": [
        "import pandas as pd"
      ],
      "execution_count": null,
      "outputs": []
    },
    {
      "cell_type": "code",
      "metadata": {
        "id": "t77RM9_y0q54"
      },
      "source": [
        "df = pd.read_csv('accounts.csv', \n",
        "                 names=['account', 'name', 'balance'])"
      ],
      "execution_count": null,
      "outputs": []
    },
    {
      "cell_type": "code",
      "metadata": {
        "id": "FtR8THiC0q55"
      },
      "source": [
        "df"
      ],
      "execution_count": null,
      "outputs": []
    },
    {
      "cell_type": "code",
      "metadata": {
        "id": "R2jHVQAJ0q56"
      },
      "source": [
        "df.to_csv('accounts_from_dataframe.csv', index=False)"
      ],
      "execution_count": null,
      "outputs": []
    },
    {
      "cell_type": "markdown",
      "metadata": {
        "id": "t8KVNiew1Nmc"
      },
      "source": [
        "##  Reading the Titanic Disaster Dataset \n"
      ]
    },
    {
      "cell_type": "markdown",
      "metadata": {
        "id": "nr4Fo_6o1dWj"
      },
      "source": [
        "The Titanic disaster dataset is one of the most popular machinelearning\n",
        "datasets. The\n",
        "dataset is available in many formats, including CSV."
      ]
    },
    {
      "cell_type": "markdown",
      "metadata": {
        "id": "JFn55g_H1dmg"
      },
      "source": [
        ""
      ]
    },
    {
      "cell_type": "code",
      "metadata": {
        "id": "k_1rKxk71Nmr"
      },
      "source": [
        "import pandas### Loading the Titanic Dataset via a URL as pd"
      ],
      "execution_count": null,
      "outputs": []
    },
    {
      "cell_type": "code",
      "metadata": {
        "id": "G1d38-v51Nmv"
      },
      "source": [
        "titanic = pd.read_csv('https://vincentarelbundock.github.io/' +\n",
        "    'Rdatasets/csv/carData/TitanicSurvival.csv')\n",
        "                      "
      ],
      "execution_count": null,
      "outputs": []
    },
    {
      "cell_type": "markdown",
      "metadata": {
        "id": "0aMU8vE_1Nmx"
      },
      "source": [
        "### Viewing Some of the Rows in the Titanic Dataset"
      ]
    },
    {
      "cell_type": "code",
      "metadata": {
        "id": "JohfReOk1Nmz"
      },
      "source": [
        "pd.set_option('precision', 2)  # format for floating-point values"
      ],
      "execution_count": null,
      "outputs": []
    },
    {
      "cell_type": "code",
      "metadata": {
        "id": "kEFqj0Te1Nm1"
      },
      "source": [
        "titanic.head()"
      ],
      "execution_count": null,
      "outputs": []
    },
    {
      "cell_type": "code",
      "metadata": {
        "id": "cVqBlK8q1Nm2"
      },
      "source": [
        "titanic.tail()"
      ],
      "execution_count": null,
      "outputs": []
    },
    {
      "cell_type": "markdown",
      "metadata": {
        "id": "9_nIMNaF1Nm5"
      },
      "source": [
        "### Customizing the Column Names"
      ]
    },
    {
      "cell_type": "code",
      "metadata": {
        "id": "obVoxrhg1Nm9"
      },
      "source": [
        "titanic.columns = ['name', 'survived', 'sex', 'age', 'class']"
      ],
      "execution_count": null,
      "outputs": []
    },
    {
      "cell_type": "code",
      "metadata": {
        "id": "UCSDrv2z1NnB"
      },
      "source": [
        "titanic.head()"
      ],
      "execution_count": null,
      "outputs": []
    },
    {
      "cell_type": "markdown",
      "metadata": {
        "id": "gpG5FAN01NnE"
      },
      "source": [
        "##  Simple Data Analysis with the Titanic Disaster Dataset "
      ]
    },
    {
      "cell_type": "code",
      "metadata": {
        "id": "CztKjlYc1NnG"
      },
      "source": [
        "titanic.describe()"
      ],
      "execution_count": null,
      "outputs": []
    },
    {
      "cell_type": "code",
      "metadata": {
        "id": "jEZ2gUjN1NnH"
      },
      "source": [
        "(titanic.survived == 'yes').describe()"
      ],
      "execution_count": null,
      "outputs": []
    },
    {
      "cell_type": "markdown",
      "metadata": {
        "id": "tKL14ys51NnI"
      },
      "source": [
        "##  Passenger Age Histogram\n",
        " "
      ]
    },
    {
      "cell_type": "code",
      "metadata": {
        "id": "5HFJUBV91NnM"
      },
      "source": [
        "%matplotlib inline"
      ],
      "execution_count": null,
      "outputs": []
    },
    {
      "cell_type": "code",
      "metadata": {
        "id": "43ljZSCU1NnO"
      },
      "source": [
        "histogram = titanic.hist()"
      ],
      "execution_count": null,
      "outputs": []
    }
  ]
}