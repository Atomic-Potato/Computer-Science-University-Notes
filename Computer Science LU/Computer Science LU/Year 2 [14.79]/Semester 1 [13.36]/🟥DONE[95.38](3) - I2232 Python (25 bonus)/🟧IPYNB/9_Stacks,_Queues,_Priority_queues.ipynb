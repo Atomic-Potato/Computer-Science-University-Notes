{
  "cells": [
    {
      "cell_type": "markdown",
      "metadata": {
        "id": "EPyUw2LV4g6h"
      },
      "source": [
        "# Stacks (LIFOs)"
      ]
    },
    {
      "cell_type": "markdown",
      "metadata": {
        "id": "aqg8-v484xre"
      },
      "source": [
        "A stack is a collection of objects that supports fast last-in, first-out\n",
        "(LIFO) semantics for inserts and deletes. Unlike lists or arrays, stacks\n",
        "typically don’t allow for random access to the objects they contain.\n",
        "The insert and delete operations are also often called push and pop."
      ]
    },
    {
      "cell_type": "markdown",
      "metadata": {
        "id": "6SCGa9Hp4z1F"
      },
      "source": [
        "A useful real-world analogy for a stack data structure is a stack of\n",
        "plates:\n",
        "\n",
        "*New plates are added to the top of the stack. And because\n",
        "the plates are precious and heavy, only the topmost plate\n",
        "can be moved (last-in, first-out). To reach the plates that\n",
        "are lower down in the stack, the topmost plates must be\n",
        "removed one by one.*"
      ]
    },
    {
      "cell_type": "markdown",
      "metadata": {
        "id": "6CShIjRY46Pq"
      },
      "source": [
        "Stacks and queues are similar. They’re both linear collections of items,\n",
        "and the difference lies in the order that the items are accessed:\n",
        "With a queue, you remove the item least recently added (first-in, firstout\n",
        "or FIFO); but with a stack, you remove the item most recently\n",
        "added (last-in, first-out or LIFO)."
      ]
    },
    {
      "cell_type": "markdown",
      "metadata": {
        "id": "nH8kdQao46fm"
      },
      "source": [
        "Stacks have a wide range of uses in algorithms, for example, in language\n",
        "parsing and runtime memory management (“call stack”). A\n",
        "short and beautiful algorithm using a stack is depth-first search (DFS)\n",
        "on a tree or graph data structure."
      ]
    },
    {
      "cell_type": "markdown",
      "metadata": {
        "id": "3idjk8an5DBr"
      },
      "source": [
        "Python ships with several stack implementations that each have\n",
        "slightly different characteristics. We’ll now take a look at them and\n",
        "compare their characteristics."
      ]
    },
    {
      "cell_type": "markdown",
      "metadata": {
        "id": "KcQT6AU_5DK8"
      },
      "source": [
        "## `list` – Simple, Built-In Stacks"
      ]
    },
    {
      "cell_type": "markdown",
      "metadata": {
        "id": "9hjpJVdx5JJo"
      },
      "source": [
        "Python’s built-in list type makes a decent stack data structure as it\n",
        "supports push and pop operations."
      ]
    },
    {
      "cell_type": "markdown",
      "metadata": {
        "id": "O3MzVLOl5Wp_"
      },
      "source": [
        "Here’s an important performance caveat(warning) you should be aware of when\n",
        "using lists as stacks:\n",
        "* To get good performance for inserts and deletes, new\n",
        "items must be added to the end of the list with the append() method\n",
        "and removed again from the end using pop(). For optimum performance,\n",
        "stacks based on Python, lists should grow towards higher indexes\n",
        "and shrink towards lower ones.\n",
        "* Adding and removing from the front is much slower and takes more\n",
        "time, as the existing elements must be shifted around to make room\n",
        "for the new element. This is a performance antipattern that you\n",
        "should avoid as much as possible."
      ]
    },
    {
      "cell_type": "code",
      "execution_count": 1,
      "metadata": {
        "id": "972ioFY-5TE4"
      },
      "outputs": [],
      "source": [
        "s = []\n",
        "s.append('eat')\n",
        "s.append('sleep')\n",
        "s.append('code')"
      ]
    },
    {
      "cell_type": "code",
      "execution_count": null,
      "metadata": {
        "id": "AIOGifvb5jO1"
      },
      "outputs": [],
      "source": [
        "s"
      ]
    },
    {
      "cell_type": "code",
      "execution_count": null,
      "metadata": {
        "id": "Cceqkg0t5jXx"
      },
      "outputs": [],
      "source": [
        "s.pop()"
      ]
    },
    {
      "cell_type": "code",
      "execution_count": null,
      "metadata": {
        "id": "JhlBYUWs5llv"
      },
      "outputs": [],
      "source": [
        "s.pop()"
      ]
    },
    {
      "cell_type": "code",
      "execution_count": null,
      "metadata": {
        "id": "zZ5lDhLI5lta"
      },
      "outputs": [],
      "source": [
        "s.pop()"
      ]
    },
    {
      "cell_type": "code",
      "execution_count": null,
      "metadata": {
        "id": "v5VRgsmf5m5q"
      },
      "outputs": [],
      "source": [
        "s.pop()"
      ]
    },
    {
      "cell_type": "markdown",
      "metadata": {
        "id": "d1z_lYbJ5pBx"
      },
      "source": [
        "## `collections.deque` – Fast & Robust Stacks"
      ]
    },
    {
      "cell_type": "markdown",
      "metadata": {
        "id": "UBNqf6aI5ut6"
      },
      "source": [
        "The `deque` class implements a double-ended queue that supports\n",
        "adding and removing elements from either end in 1 instruction.\n",
        "Because deques support adding and removing elements\n",
        "from either end equally well, they can serve both as queues and as\n",
        "stacks."
      ]
    },
    {
      "cell_type": "markdown",
      "metadata": {
        "id": "T3-htBgW5u5O"
      },
      "source": [
        "Python’s deque objects are implemented as doubly-linked lists which\n",
        "gives them excellent and consistent performance for inserting and\n",
        "deleting elements, but poor  performance for randomly accessing\n",
        "elements in the middle of a stack."
      ]
    },
    {
      "cell_type": "markdown",
      "metadata": {
        "id": "It1sT9Id5u8d"
      },
      "source": [
        "\n",
        "Overall, collections.deque is a great choice if you’re looking for a\n",
        "stack data structure in Python’s standard library that has the performance\n",
        "characteristics of a linked-list implementation."
      ]
    },
    {
      "cell_type": "code",
      "execution_count": null,
      "metadata": {
        "id": "YZyDnd8U575C"
      },
      "outputs": [],
      "source": [
        "from collections import deque\n",
        "s = deque()\n",
        "s.append('eat')\n",
        "s.append('sleep')\n",
        "s.append('code')"
      ]
    },
    {
      "cell_type": "markdown",
      "metadata": {
        "id": "BuhKXqjFStXr"
      },
      "source": [
        "deque operations"
      ]
    },
    {
      "cell_type": "code",
      "execution_count": null,
      "metadata": {
        "id": "cjbTPSRxSrzp"
      },
      "outputs": [],
      "source": [
        "dir(deque)"
      ]
    },
    {
      "cell_type": "code",
      "execution_count": null,
      "metadata": {
        "id": "GBmNuCb86AMB"
      },
      "outputs": [],
      "source": [
        "s"
      ]
    },
    {
      "cell_type": "code",
      "execution_count": null,
      "metadata": {
        "id": "_u6a-Gk16Ade"
      },
      "outputs": [],
      "source": [
        "s.pop()"
      ]
    },
    {
      "cell_type": "code",
      "execution_count": null,
      "metadata": {
        "id": "Eug-M3nU6B_s"
      },
      "outputs": [],
      "source": [
        "s.pop()"
      ]
    },
    {
      "cell_type": "code",
      "execution_count": null,
      "metadata": {
        "id": "fIBMApkX6CG1"
      },
      "outputs": [],
      "source": [
        "s.pop()"
      ]
    },
    {
      "cell_type": "code",
      "execution_count": null,
      "metadata": {
        "id": "joNMoMmo6CQl"
      },
      "outputs": [],
      "source": [
        "s.pop()"
      ]
    },
    {
      "cell_type": "markdown",
      "metadata": {
        "id": "FbLVKKzG6HMK"
      },
      "source": [
        "## `queue.LifoQueue` – Locking Semantics for Parallel Computing"
      ]
    },
    {
      "cell_type": "markdown",
      "metadata": {
        "id": "Qd9jwUa26L0K"
      },
      "source": [
        "This stack implementation in the Python standard library is synchronized\n",
        "and provides locking semantics to support multiple concurrent\n",
        "producers and consumers."
      ]
    },
    {
      "cell_type": "markdown",
      "metadata": {
        "id": "BN5gj6Pq6L3n"
      },
      "source": [
        "Besides `LifoQueue`, the `queue` module contains several other classes\n",
        "that implement multi-producer/multi-consumer queues that are useful\n",
        "for parallel computing."
      ]
    },
    {
      "cell_type": "markdown",
      "metadata": {
        "id": "tAmz8_Ct6L6-"
      },
      "source": [
        "\n",
        "Depending on your use case, the locking semantics might be helpful,\n",
        "or they might just incur unneeded overhead. In this case you’d be\n",
        "better off with using a list or a deque as a general-purpose stack."
      ]
    },
    {
      "cell_type": "code",
      "execution_count": null,
      "metadata": {
        "id": "TlLgnxW16Wwi"
      },
      "outputs": [],
      "source": [
        "from queue import LifoQueue\n",
        "s = LifoQueue()\n",
        "s.put('eat')\n",
        "s.put('sleep')\n",
        "s.put('code')"
      ]
    },
    {
      "cell_type": "markdown",
      "metadata": {
        "id": "OVFSZ_hHSxV5"
      },
      "source": [
        "LifoQueue operations"
      ]
    },
    {
      "cell_type": "code",
      "execution_count": null,
      "metadata": {
        "id": "qVngWUNUSxeB"
      },
      "outputs": [],
      "source": [
        "dir(LifoQueue)"
      ]
    },
    {
      "cell_type": "code",
      "execution_count": null,
      "metadata": {
        "id": "6o5V6RH46Z8I"
      },
      "outputs": [],
      "source": [
        "s"
      ]
    },
    {
      "cell_type": "code",
      "execution_count": null,
      "metadata": {
        "id": "bOOP9ItA6aFY"
      },
      "outputs": [],
      "source": [
        "s.get()"
      ]
    },
    {
      "cell_type": "code",
      "execution_count": null,
      "metadata": {
        "id": "3OWR8oXt6aQb"
      },
      "outputs": [],
      "source": [
        "s.get()"
      ]
    },
    {
      "cell_type": "code",
      "execution_count": null,
      "metadata": {
        "id": "J9rI0X3R6aaJ"
      },
      "outputs": [],
      "source": [
        "s.get()"
      ]
    },
    {
      "cell_type": "code",
      "execution_count": null,
      "metadata": {
        "id": "M6qzL1I46cgU"
      },
      "outputs": [],
      "source": [
        "s.get_nowait()"
      ]
    },
    {
      "cell_type": "code",
      "execution_count": null,
      "metadata": {
        "id": "5sOj7iKB6aiN"
      },
      "outputs": [],
      "source": [
        "s.get()"
      ]
    },
    {
      "cell_type": "markdown",
      "metadata": {
        "id": "B9dfXrtM6e80"
      },
      "source": [
        "# Queues (FIFOs)"
      ]
    },
    {
      "cell_type": "markdown",
      "metadata": {
        "id": "SXpDlxc86ibA"
      },
      "source": [
        "In this chapter you’ll see how to implement a FIFO queue data structure\n",
        "using only built-in data types and classes from the Python standard\n",
        "library. But first, let’s recap what a queue is: A queue is a collection of objects that supports fast first-in, first-out\n",
        "(FIFO) semantics for inserts and deletes. The insert and delete operations\n",
        "are sometimes called enqueue and dequeue. Unlike lists or\n",
        "arrays, queues typically don’t allow for random access to the objects\n",
        "they contain."
      ]
    },
    {
      "cell_type": "markdown",
      "metadata": {
        "id": "4q7K0-hH6kZL"
      },
      "source": [
        "Queues are similar to stacks, and the difference between them lies in\n",
        "how items are removed: With a queue, you remove the item least recently added (first-in, firstout\n",
        "or FIFO); but with a stack, you remove the item most recently\n",
        "added (last-in, first-out or LIFO)."
      ]
    },
    {
      "cell_type": "markdown",
      "metadata": {
        "id": "B9t8BojL6uXM"
      },
      "source": [
        "Performance-wise, a proper queue implementation is expected to take\n",
        "1 instruction time for insert and delete operations. These are the two main\n",
        "operations performed on a queue, and in a correct implementation,\n",
        "they should be fast."
      ]
    },
    {
      "cell_type": "markdown",
      "metadata": {
        "id": "OGfmVqCU60Wc"
      },
      "source": [
        "Queues have a wide range of applications in algorithms and often help\n",
        "solve scheduling and parallel programming problems. A short and\n",
        "beautiful algorithm using a queue is breadth-first search (BFS) on a\n",
        "tree or graph data structure."
      ]
    },
    {
      "cell_type": "markdown",
      "metadata": {
        "id": "KoERr2E860eR"
      },
      "source": [
        "Scheduling algorithms often use priority queues internally. These are\n",
        "specialized queues: Instead of retrieving the next element by insertion\n",
        "time, a priority queue retrieves the highest-priority element. The priority\n",
        "of individual elements is decided by the queue, based on the ordering\n",
        "applied to their keys."
      ]
    },
    {
      "cell_type": "markdown",
      "metadata": {
        "id": "couonkU165HW"
      },
      "source": [
        "A regular queue, however, won’t re-order the items it carries. Just\n",
        "like in the pipe example, “you’ll get what you put in” and in exactly\n",
        "that order."
      ]
    },
    {
      "cell_type": "markdown",
      "metadata": {
        "id": "bC5DyETn65Pb"
      },
      "source": [
        "Python ships with several queue implementations that each have\n",
        "slightly different characteristics. Let’s review them."
      ]
    },
    {
      "cell_type": "markdown",
      "metadata": {
        "id": "jMviAX0e68F6"
      },
      "source": [
        "## `list` — Terribly Sloooow Queues"
      ]
    },
    {
      "cell_type": "markdown",
      "metadata": {
        "id": "52MAzEFK7AIu"
      },
      "source": [
        "It’s possible to use a regular list as a queue but this is not ideal from\n",
        "a performance perspective. Lists are quite slow for this purpose because\n",
        "inserting or deleting an element at the beginning requires shifting\n",
        "all of the other elements by one, requiring too much time."
      ]
    },
    {
      "cell_type": "code",
      "execution_count": null,
      "metadata": {
        "id": "TYIzKpud7HOc"
      },
      "outputs": [],
      "source": [
        "q = []\n",
        "q.append('eat')\n",
        "q.append('sleep')\n",
        "q.append('code')"
      ]
    },
    {
      "cell_type": "code",
      "execution_count": null,
      "metadata": {
        "id": "z-qCftFh7J1C"
      },
      "outputs": [],
      "source": [
        "q"
      ]
    },
    {
      "cell_type": "code",
      "execution_count": null,
      "metadata": {
        "id": "k9zUsq-K7J9v"
      },
      "outputs": [],
      "source": [
        "# Careful: This is slow!\n",
        "q.pop(0)"
      ]
    },
    {
      "cell_type": "markdown",
      "metadata": {
        "id": "JIX4ehqv7Ne0"
      },
      "source": [
        "## `collections.deque` – Fast & Robust Queues"
      ]
    },
    {
      "cell_type": "markdown",
      "metadata": {
        "id": "PfLbnSaC7Rv8"
      },
      "source": [
        "The deque class implements a double-ended queue that supports\n",
        "adding and removing elements from either end in 1 instruction time.\n",
        "Because deques support adding and removing elements\n",
        "from either end equally well, they can serve both as queues and as\n",
        "stacks.\n",
        "\n",
        "\n",
        "Python’s deque objects are implemented as doubly-linked lists. This\n",
        "gives them excellent and consistent performance for inserting and\n",
        "deleting elements, but poor performance for randomly accessing\n",
        "elements in the middle of the stack."
      ]
    },
    {
      "cell_type": "markdown",
      "metadata": {
        "id": "DrAVB_Ot7bCD"
      },
      "source": [
        "As a result, `collections.deque` is a great default choice if you’re looking\n",
        "for a queue data structure in Python’s standard library."
      ]
    },
    {
      "cell_type": "code",
      "execution_count": null,
      "metadata": {
        "id": "JIR_3b2W7c1g"
      },
      "outputs": [],
      "source": [
        "from collections import deque\n",
        "q = deque()\n",
        "q.append('eat')\n",
        "q.append('sleep')\n",
        "q.append('code')"
      ]
    },
    {
      "cell_type": "code",
      "execution_count": null,
      "metadata": {
        "id": "vgIG9fcF7fuL"
      },
      "outputs": [],
      "source": [
        "q"
      ]
    },
    {
      "cell_type": "code",
      "execution_count": null,
      "metadata": {
        "id": "0hyOeDlc7g8a"
      },
      "outputs": [],
      "source": [
        "q.popleft()"
      ]
    },
    {
      "cell_type": "code",
      "execution_count": null,
      "metadata": {
        "id": "0-GLIsjt7iTE"
      },
      "outputs": [],
      "source": [
        "q.popleft()"
      ]
    },
    {
      "cell_type": "code",
      "execution_count": null,
      "metadata": {
        "id": "agNYzaoP7ibe"
      },
      "outputs": [],
      "source": [
        "q.popleft()"
      ]
    },
    {
      "cell_type": "code",
      "execution_count": null,
      "metadata": {
        "id": "hhnnXLc67ijq"
      },
      "outputs": [],
      "source": [
        "q.popleft()"
      ]
    },
    {
      "cell_type": "markdown",
      "metadata": {
        "id": "j79UdeAV7kUz"
      },
      "source": [
        "## `queue.Queue` – Locking Semantics for Parallel Computing"
      ]
    },
    {
      "cell_type": "markdown",
      "metadata": {
        "id": "5VHl2IF07nxP"
      },
      "source": [
        "This queue implementation in the Python standard library is synchronized\n",
        "and provides locking semantics to support multiple concurrent\n",
        "producers and consumers.\n",
        "\n",
        "The queue module contains several other classes implementing multiproducer/\n",
        "multi-consumer queues that are useful for parallel computing.\n",
        "\n",
        "Depending on your use case, the locking semantics might be helpful or\n",
        "just incur unneeded overhead. In this case, you’d be better off using\n",
        "collections.deque as a general-purpose queue."
      ]
    },
    {
      "cell_type": "code",
      "execution_count": null,
      "metadata": {
        "id": "3BMOmqDO7sD9"
      },
      "outputs": [],
      "source": [
        "from queue import Queue\n",
        "q = Queue()\n",
        "q.put('eat')\n",
        "q.put('sleep')\n",
        "q.put('code')"
      ]
    },
    {
      "cell_type": "code",
      "execution_count": null,
      "metadata": {
        "id": "M_tF1i2s7u6e"
      },
      "outputs": [],
      "source": [
        "q"
      ]
    },
    {
      "cell_type": "markdown",
      "metadata": {
        "id": "tS63qbXFS7b3"
      },
      "source": [
        "Queue operations"
      ]
    },
    {
      "cell_type": "code",
      "execution_count": null,
      "metadata": {
        "id": "L8zeVycFSilB"
      },
      "outputs": [],
      "source": [
        "dir(Queue)"
      ]
    },
    {
      "cell_type": "code",
      "execution_count": null,
      "metadata": {
        "id": "JGU5zeed7vD2"
      },
      "outputs": [],
      "source": [
        "q.get()"
      ]
    },
    {
      "cell_type": "code",
      "execution_count": null,
      "metadata": {
        "id": "5rXq5VJT7vOu"
      },
      "outputs": [],
      "source": [
        "q.get()"
      ]
    },
    {
      "cell_type": "code",
      "execution_count": null,
      "metadata": {
        "id": "EJvQwIiA7vXT"
      },
      "outputs": [],
      "source": [
        "q.get()"
      ]
    },
    {
      "cell_type": "code",
      "execution_count": null,
      "metadata": {
        "id": "oHfuEXnp7ver"
      },
      "outputs": [],
      "source": [
        "q.get_nowait()"
      ]
    },
    {
      "cell_type": "code",
      "execution_count": null,
      "metadata": {
        "id": "5ZEUjnI87vtR"
      },
      "outputs": [],
      "source": [
        "q.get()"
      ]
    },
    {
      "cell_type": "markdown",
      "metadata": {
        "id": "rg7PRqDJ7za6"
      },
      "source": [
        "## `multiprocessing.Queue` – Shared Job Queues"
      ]
    },
    {
      "cell_type": "markdown",
      "metadata": {
        "id": "TfSi1Cj-776C"
      },
      "source": [
        "This is a shared job queue implementation that allows queued items\n",
        "to be processed in parallel by multiple concurrent workers. Process-based\n",
        "parallelization is popular in CPython due to the global interpreter\n",
        "lock (GIL) that prevents some forms of parallel execution on a\n",
        "single interpreter process.\n",
        "\n",
        "\n",
        "As a specialized queue implementation meant for sharing data\n",
        "between processes, multiprocessing.Queue makes it easy to distribute\n",
        "work across multiple processes in order to work around\n",
        "the GIL limitations. This type of queue can store and transfer any\n",
        "pickle-able object across process boundaries."
      ]
    },
    {
      "cell_type": "code",
      "execution_count": null,
      "metadata": {
        "id": "fSzdT4a28BfB"
      },
      "outputs": [],
      "source": [
        "from multiprocessing import Queue\n",
        "q = Queue()\n",
        "q.put('eat')\n",
        "q.put('sleep')\n",
        "q.put('code')"
      ]
    },
    {
      "cell_type": "code",
      "execution_count": null,
      "metadata": {
        "id": "eZKIMUz_8GTp"
      },
      "outputs": [],
      "source": [
        "q"
      ]
    },
    {
      "cell_type": "code",
      "execution_count": null,
      "metadata": {
        "id": "0LLFN1nR8Gda"
      },
      "outputs": [],
      "source": [
        "q.get()"
      ]
    },
    {
      "cell_type": "code",
      "execution_count": null,
      "metadata": {
        "id": "6uE3_RtM8Go3"
      },
      "outputs": [],
      "source": [
        "q.get()"
      ]
    },
    {
      "cell_type": "code",
      "execution_count": null,
      "metadata": {
        "id": "Vrlb0uSI8G14"
      },
      "outputs": [],
      "source": [
        "q.get()"
      ]
    },
    {
      "cell_type": "code",
      "execution_count": null,
      "metadata": {
        "id": "391aNUnN8G_R"
      },
      "outputs": [],
      "source": [
        "q.get()"
      ]
    },
    {
      "cell_type": "markdown",
      "metadata": {
        "id": "ki4C0-sA8I90"
      },
      "source": [
        "# Priority Queues"
      ]
    },
    {
      "cell_type": "markdown",
      "metadata": {
        "id": "-3JwEmDQ8Mys"
      },
      "source": [
        "A priority queue is a container data structure that manages a set of\n",
        "records with totally-ordered keys (for example, a numeric weight\n",
        "value) to provide quick access to the record with the smallest or largest\n",
        "key in the set.\n",
        "\n",
        "You can think of a priority queue as a modified queue: instead of retrieving\n",
        "the next element by insertion time, it retrieves the highest-priority\n",
        "element. The priority of individual elements is decided by\n",
        "the ordering applied to their keys.\n",
        "\n",
        "Priority queues are commonly used for dealing with scheduling problems,\n",
        "for example, to give precedence to tasks with higher urgency."
      ]
    },
    {
      "cell_type": "markdown",
      "metadata": {
        "id": "mxLoBYPs8RcN"
      },
      "source": [
        "## list – Maintaining a Manually Sorted Queue"
      ]
    },
    {
      "cell_type": "markdown",
      "metadata": {
        "id": "mB8D6fdF8T4n"
      },
      "source": [
        "You can use a sorted list to quickly identify and delete the smallest\n",
        "or largest element. The downside is that inserting new elements into a list is a slow operation.\n",
        "\n",
        "Sorted lists are only suitable as priority\n",
        "queues when there will be few insertions."
      ]
    },
    {
      "cell_type": "code",
      "execution_count": null,
      "metadata": {
        "id": "71-KBRBt8cXP"
      },
      "outputs": [],
      "source": [
        "q = []\n",
        "q.append((2, 'code'))\n",
        "q.append((1, 'eat'))\n",
        "q.append((3, 'sleep'))\n",
        "# NOTE: re-sort every time\n",
        "# a new element is inserted, or use\n",
        "# bisect.insort().\n",
        "q.sort(reverse=True)\n",
        "while q:\n",
        "  next_item = q.pop()\n",
        "  print(next_item)"
      ]
    },
    {
      "cell_type": "markdown",
      "metadata": {
        "id": "FvW6jw_j8qOn"
      },
      "source": [
        "## `heapq` – List-Based Binary Heaps"
      ]
    },
    {
      "cell_type": "markdown",
      "metadata": {
        "id": "O-M1fzaV8tbE"
      },
      "source": [
        "This is a binary heap implementation usually backed by a plain list,\n",
        "and it supports insertion and extraction of the smallest element in\n",
        "fast time.\n",
        "\n",
        "This module is a good choice for implementing priority queues in\n",
        "Python. Since `heapq` technically only provides a min-heap implementation,\n",
        "extra steps must be taken to ensure sort stability and other\n",
        "features typically expected from a “practical” priority queue."
      ]
    },
    {
      "cell_type": "code",
      "execution_count": null,
      "metadata": {
        "id": "5JliOidA8yac"
      },
      "outputs": [],
      "source": [
        "import heapq\n",
        "q = []\n",
        "heapq.heappush(q, (2, 'code'))\n",
        "heapq.heappush(q, (1, 'eat'))\n",
        "heapq.heappush(q, (3, 'sleep'))\n",
        "while q:\n",
        "  next_item = heapq.heappop(q)\n",
        "  print(next_item)"
      ]
    },
    {
      "cell_type": "markdown",
      "metadata": {
        "id": "BcZtd6T0TAFc"
      },
      "source": [
        "heapq operations"
      ]
    },
    {
      "cell_type": "code",
      "execution_count": null,
      "metadata": {
        "id": "FPgjnMwVTBFG"
      },
      "outputs": [],
      "source": [
        "dir(heapq)"
      ]
    },
    {
      "cell_type": "markdown",
      "metadata": {
        "id": "xxXi8G_j82ET"
      },
      "source": [
        "## `queue.PriorityQueue` – Beautiful Priority Queues"
      ]
    },
    {
      "cell_type": "markdown",
      "metadata": {
        "id": "pGWIV4Mr88Vh"
      },
      "source": [
        "This priority queue implementation uses heapq internally.\n",
        "\n",
        "The difference is that PriorityQueue is synchronized and provides\n",
        "locking semantics to support multiple concurrent producers and consumers."
      ]
    },
    {
      "cell_type": "code",
      "execution_count": null,
      "metadata": {
        "id": "8EpqiP8j87RJ"
      },
      "outputs": [],
      "source": [
        "from queue import PriorityQueue\n",
        "q = PriorityQueue()\n",
        "q.put((2, 'code'))\n",
        "q.put((1, 'eat'))\n",
        "q.put((3, 'sleep'))\n",
        "while not q.empty():\n",
        "  next_item = q.get()\n",
        "  print(next_item)"
      ]
    },
    {
      "cell_type": "markdown",
      "metadata": {
        "id": "EBQMuC_dTD8H"
      },
      "source": [
        "PriorityQueue operations"
      ]
    },
    {
      "cell_type": "code",
      "execution_count": null,
      "metadata": {
        "id": "NksUtg7YTEB-"
      },
      "outputs": [],
      "source": [
        "dir(PriorityQueue)"
      ]
    }
  ],
  "metadata": {
    "colab": {
      "collapsed_sections": [],
      "name": "I2232-Stacks, Queues, Priority queues.ipynb",
      "provenance": []
    },
    "kernelspec": {
      "display_name": "Python 3",
      "name": "python3"
    },
    "language_info": {
      "codemirror_mode": {
        "name": "ipython",
        "version": 3
      },
      "file_extension": ".py",
      "mimetype": "text/x-python",
      "name": "python",
      "nbconvert_exporter": "python",
      "pygments_lexer": "ipython3",
      "version": "3.10.0"
    }
  },
  "nbformat": 4,
  "nbformat_minor": 0
}
