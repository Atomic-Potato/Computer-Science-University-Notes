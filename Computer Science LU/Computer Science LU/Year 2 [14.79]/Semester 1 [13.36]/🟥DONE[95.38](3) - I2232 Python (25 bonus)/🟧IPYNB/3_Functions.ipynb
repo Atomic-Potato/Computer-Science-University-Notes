{
  "nbformat": 4,
  "nbformat_minor": 0,
  "metadata": {
    "colab": {
      "name": "i2232-03-Functions.ipynb",
      "provenance": [],
      "collapsed_sections": []
    },
    "kernelspec": {
      "name": "python3",
      "display_name": "Python 3"
    },
    "language_info": {
      "name": "python"
    }
  },
  "cells": [
    {
      "cell_type": "markdown",
      "metadata": {
        "id": "YTo2XcL0Y7EP"
      },
      "source": [
        "# Functions"
      ]
    },
    {
      "cell_type": "markdown",
      "metadata": {
        "id": "kYa44G3jY9hE"
      },
      "source": [
        ""
      ]
    },
    {
      "cell_type": "markdown",
      "metadata": {
        "id": "6QDG8wS5Yec3"
      },
      "source": [
        "# Defining Functions"
      ]
    },
    {
      "cell_type": "code",
      "metadata": {
        "id": "0rDDs0MEYedD"
      },
      "source": [
        "def square(number):\n",
        "    \"\"\"Calculate the square of number.\"\"\"\n",
        "    return number ** 2"
      ],
      "execution_count": null,
      "outputs": []
    },
    {
      "cell_type": "code",
      "metadata": {
        "id": "vCy_PEQAYedK"
      },
      "source": [
        "square(7)"
      ],
      "execution_count": null,
      "outputs": []
    },
    {
      "cell_type": "code",
      "metadata": {
        "id": "IT_BUeYEYedM"
      },
      "source": [
        "square(2.5)"
      ],
      "execution_count": null,
      "outputs": []
    },
    {
      "cell_type": "markdown",
      "metadata": {
        "id": "uRwB0foHYedN"
      },
      "source": [
        "### Defining a Custom Function"
      ]
    },
    {
      "cell_type": "markdown",
      "metadata": {
        "id": "TO3ylkkqaxvP"
      },
      "source": [
        "A function definition ] begins with the `def` keyword,\n",
        "followed by the function name (`square`), a set of parentheses and a colon (`:`). Like\n",
        "variable identifiers, by convention function names should begin with a lowercase letter\n",
        "and in multiword names underscores should separate each word.\n",
        "The required parentheses contain the function’s parameter list—a comma separated\n",
        "list of parameters representing the data that the function needs to perform its task.\n",
        "Function square has only one parameter named number—the value to be squared. If\n",
        "the parentheses are empty, the function does not use parameters to perform its task.\n",
        "The indented lines after the colon (:) are the function’s block, which consists of an\n",
        "optional docstring followed by the statements that perform the function’s task. We’ll\n",
        "soon point out the difference between a function’s block and a control statement’s suite."
      ]
    },
    {
      "cell_type": "markdown",
      "metadata": {
        "id": "ghBFRyYaa_2d"
      },
      "source": [
        "### Specifying a Custom Function’s Docstring"
      ]
    },
    {
      "cell_type": "markdown",
      "metadata": {
        "id": "4HLY4MAkbIsr"
      },
      "source": [
        "The first line in a function’s block should be a\n",
        "docstring that briefly explains the function’s purpose:\n",
        "`\"\"\"Calculate the square of number.\"\"\"`\n",
        "To provide more detail, you can use a multiline docstring—the style guide recommends\n",
        "starting with a brief explanation, followed by a blank line and the additional details."
      ]
    },
    {
      "cell_type": "markdown",
      "metadata": {
        "id": "VTLrjZrZbL8F"
      },
      "source": [
        "### Returning a Result to a Function’s Caller"
      ]
    },
    {
      "cell_type": "markdown",
      "metadata": {
        "id": "_UP1r7hAdKBo"
      },
      "source": [
        "There are two other ways to return control from a function to its caller:\n",
        "1. Executing a `return` statement without an expression terminates the function and\n",
        "implicitly returns the value `None` to the caller. The Python documentation states\n",
        "that `None` represents the absence of a value. `None` evaluates to False in conditions.\n",
        "2. When there’s no `return` statement in a function, it implicitly returns the value\n",
        "`None` after executing the last statement in the function’s block."
      ]
    },
    {
      "cell_type": "code",
      "metadata": {
        "id": "sD0v91T0YedP"
      },
      "source": [
        "print('The square of 7 is', square(7))"
      ],
      "execution_count": null,
      "outputs": []
    },
    {
      "cell_type": "markdown",
      "metadata": {
        "id": "2Szh9E0ZYedQ"
      },
      "source": [
        "### Accessing a Function’s Docstring Via IPython’s Help Mechanism "
      ]
    },
    {
      "cell_type": "code",
      "metadata": {
        "id": "RpfZh36nYedS"
      },
      "source": [
        "square?"
      ],
      "execution_count": null,
      "outputs": []
    },
    {
      "cell_type": "code",
      "metadata": {
        "id": "r6lFNpkoYedU"
      },
      "source": [
        "square??"
      ],
      "execution_count": null,
      "outputs": []
    },
    {
      "cell_type": "markdown",
      "metadata": {
        "id": "B6dwPsswdn-g"
      },
      "source": [
        "# Functions with Multiple Parameters"
      ]
    },
    {
      "cell_type": "code",
      "metadata": {
        "id": "k7HmPbfkdn-p"
      },
      "source": [
        "def maximum(value1, value2, value3):\n",
        "    \"\"\"Return the maximum of three values.\"\"\"\n",
        "    max_value = value1\n",
        "    if value2 > max_value:\n",
        "        max_value = value2\n",
        "    if value3 > max_value:\n",
        "        max_value = value3\n",
        "    return max_value"
      ],
      "execution_count": null,
      "outputs": []
    },
    {
      "cell_type": "code",
      "metadata": {
        "id": "dEXt_JLZdn-s"
      },
      "source": [
        "maximum(12, 27, 36)"
      ],
      "execution_count": null,
      "outputs": []
    },
    {
      "cell_type": "code",
      "metadata": {
        "id": "KY0Ghq5Qdn-t"
      },
      "source": [
        "maximum(12.3, 45.6, 9.7)"
      ],
      "execution_count": null,
      "outputs": []
    },
    {
      "cell_type": "code",
      "metadata": {
        "id": "psQ1iP8Jdn-u"
      },
      "source": [
        "maximum('yellow', 'red', 'orange')"
      ],
      "execution_count": null,
      "outputs": []
    },
    {
      "cell_type": "code",
      "metadata": {
        "id": "BiVticN1dn-v"
      },
      "source": [
        "maximum(13.5, -3, 7)"
      ],
      "execution_count": null,
      "outputs": []
    },
    {
      "cell_type": "markdown",
      "metadata": {
        "id": "gLbuquw_dn-w"
      },
      "source": [
        "### Python’s Built-In max and min Functions"
      ]
    },
    {
      "cell_type": "code",
      "metadata": {
        "id": "eyCJWGX4dn-y"
      },
      "source": [
        "max('yellow', 'red', 'orange', 'blue', 'green')"
      ],
      "execution_count": null,
      "outputs": []
    },
    {
      "cell_type": "code",
      "metadata": {
        "id": "y0kF11q3dn-z"
      },
      "source": [
        "min(15, 9, 27, 14)"
      ],
      "execution_count": null,
      "outputs": []
    },
    {
      "cell_type": "markdown",
      "metadata": {
        "id": "skTAeXEyeCRO"
      },
      "source": [
        "# Random-Number Generation"
      ]
    },
    {
      "cell_type": "markdown",
      "metadata": {
        "id": "Wkd-YAUNeCRW"
      },
      "source": [
        "### Rolling a Six-Sided Die"
      ]
    },
    {
      "cell_type": "markdown",
      "metadata": {
        "id": "XoG4E_cJesQU"
      },
      "source": [
        "We now take a brief diversion into a popular type of programming application—\n",
        "simulation and game playing. You can introduce the element of chance via the\n",
        "Python Standard Library’s random module."
      ]
    },
    {
      "cell_type": "code",
      "metadata": {
        "id": "pJ-SaAfHeCRX"
      },
      "source": [
        "import random"
      ],
      "execution_count": null,
      "outputs": []
    },
    {
      "cell_type": "code",
      "metadata": {
        "id": "FAZ61NHDeCRZ"
      },
      "source": [
        "for roll in range(10):\n",
        "    print(random.randrange(1, 7), end=' ')"
      ],
      "execution_count": null,
      "outputs": []
    },
    {
      "cell_type": "code",
      "metadata": {
        "id": "svRRAYIqeCRa"
      },
      "source": [
        "for roll in range(10):\n",
        "    print(random.randrange(1, 7), end=' ')"
      ],
      "execution_count": null,
      "outputs": []
    },
    {
      "cell_type": "markdown",
      "metadata": {
        "id": "G238q49ce1rH"
      },
      "source": [
        "capabilities. The randrange\n",
        "function generates an integer from the first argument value up to, but not including, the\n",
        "second argument value."
      ]
    },
    {
      "cell_type": "markdown",
      "metadata": {
        "id": "62EHJjJoeCRb"
      },
      "source": [
        "### Rolling a Six-Sided Die 6,000,000 Times"
      ]
    },
    {
      "cell_type": "markdown",
      "metadata": {
        "id": "m_KLMa1te9KY"
      },
      "source": [
        "If randrange truly produces integers at random, every number in its range has an\n",
        "equal probability (or chance or likelihood) of being returned each time we call it. To\n",
        "show that the die faces 1–6 occur with equal likelihood, the following script simulates\n",
        "6,000,000 die rolls. When you run the script, each die face should occur approximately\n",
        "1,000,000 times, as in the sample output."
      ]
    },
    {
      "cell_type": "code",
      "metadata": {
        "id": "CcsuV-R8eCRb",
        "colab": {
          "base_uri": "https://localhost:8080/"
        },
        "outputId": "f5d0171b-5846-485a-b86c-70d70bcec8f5"
      },
      "source": [
        "### Rolling a Six-Sided Die 6,000,000 Times\n",
        "\n",
        "\"\"\"Roll a six-sided die 6,000,000 times.\"\"\"\n",
        "import random\n",
        "\n",
        "# face frequency counters\n",
        "frequency1 = 0\n",
        "frequency2 = 0\n",
        "frequency3 = 0\n",
        "frequency4 = 0\n",
        "frequency5 = 0\n",
        "frequency6 = 0\n",
        "\n",
        "# 6,000,000 die rolls\n",
        "for roll in range(6_000_000):  # note underscore separators\n",
        "    face = random.randrange(1, 7)\n",
        "\n",
        "    # increment appropriate face counter\n",
        "    if face == 1:\n",
        "        frequency1 += 1\n",
        "    elif face == 2:\n",
        "        frequency2 += 1\n",
        "    elif face == 3:\n",
        "        frequency3 += 1\n",
        "    elif face == 4:\n",
        "        frequency4 += 1\n",
        "    elif face == 5:\n",
        "        frequency5 += 1\n",
        "    elif face == 6:\n",
        "        frequency6 += 1\n",
        "\n",
        "print(f'Face{\"Frequency\":>13}')\n",
        "print(f'{1:>4}{frequency1:>13}')\n",
        "print(f'{2:>4}{frequency2:>13}')\n",
        "print(f'{3:>4}{frequency3:>13}')\n",
        "print(f'{4:>4}{frequency4:>13}')\n",
        "print(f'{5:>4}{frequency5:>13}')\n",
        "print(f'{6:>4}{frequency6:>13}')"
      ],
      "execution_count": 1,
      "outputs": [
        {
          "output_type": "stream",
          "name": "stdout",
          "text": [
            "Face    Frequency\n",
            "   1      1001975\n",
            "   2       999010\n",
            "   3       999153\n",
            "   4      1000922\n",
            "   5       999442\n",
            "   6       999498\n"
          ]
        }
      ]
    },
    {
      "cell_type": "markdown",
      "metadata": {
        "id": "xBf6DO5JeCRd"
      },
      "source": [
        "### Seeding the Random-Number Generator for Reproducibility"
      ]
    },
    {
      "cell_type": "markdown",
      "metadata": {
        "id": "mS7Dv6N-fqRp"
      },
      "source": [
        "Function randrange actually generates pseudorandom numbers, based on an\n",
        "internal calculation that begins with a numeric value known as a seed. Repeatedly\n",
        "calling randrange produces a sequence of numbers that appear to be random,\n",
        "because each time you start a new interactive session or execute a script that uses the\n",
        "random module’s functions, Python internally uses a different seed value. When\n",
        "you’re debugging logic errors in programs that use randomly generated data, it can be\n",
        "helpful to use the same sequence of random numbers until you’ve eliminated the logic\n",
        "errors, before testing the program with other values. To do this, you can use the\n",
        "random module’s seed function to seed the randomnumber\n",
        "generator yourself\n",
        "—this forces randrange to begin calculating its pseudorandom number sequence from\n",
        "the seed you specify.\n",
        "\n",
        "According to the documentation, Python bases the seed value on the system clock or\n",
        "an operatingsystemdependent\n",
        "randomness source. For applications requiring secure\n",
        "random numbers, such as cryptography, the documentation recommends using the\n",
        "secrets module, rather than the random module."
      ]
    },
    {
      "cell_type": "code",
      "metadata": {
        "id": "-Wb7RX_8eCRe"
      },
      "source": [
        "random.seed(32)"
      ],
      "execution_count": null,
      "outputs": []
    },
    {
      "cell_type": "code",
      "metadata": {
        "id": "PquV6ndFeCRf"
      },
      "source": [
        "for roll in range(10):\n",
        "    print(random.randrange(1, 7), end=' ')"
      ],
      "execution_count": null,
      "outputs": []
    },
    {
      "cell_type": "code",
      "metadata": {
        "id": "WnUbND4KeCRg"
      },
      "source": [
        "for roll in range(10):\n",
        "    print(random.randrange(1, 7), end=' ')"
      ],
      "execution_count": null,
      "outputs": []
    },
    {
      "cell_type": "code",
      "metadata": {
        "id": "bG20VKsleCRh"
      },
      "source": [
        "random.seed(32)"
      ],
      "execution_count": null,
      "outputs": []
    },
    {
      "cell_type": "code",
      "metadata": {
        "id": "hQGY43bFeCRi"
      },
      "source": [
        "for roll in range(10):\n",
        "    print(random.randrange(1, 7), end=' ')"
      ],
      "execution_count": null,
      "outputs": []
    },
    {
      "cell_type": "markdown",
      "metadata": {
        "id": "lQ68CpRGf82i"
      },
      "source": [
        "# Case Study: A Game of Chance"
      ]
    },
    {
      "cell_type": "markdown",
      "metadata": {
        "id": "O7ygf1UFgHbl"
      },
      "source": [
        "We simulate the popular dice game known as “craps.” Here is the\n",
        "requirements statement:\n",
        "\n",
        "*You roll two sixsided\n",
        "dice, each with faces containing one, two, three, four, five and\n",
        "six spots, respectively. When the dice come to rest, the sum of the spots on the two\n",
        "upward faces is calculated. If the sum is 7 or 11 on the first roll, you win. If the sum is\n",
        "2, 3 or 12 on the first roll (called “craps”), you lose (i.e., the “house” wins). If the sum is\n",
        "4, 5, 6, 8, 9 or 10 on the first roll, that sum becomes your “point.” To win, you must\n",
        "continue rolling the dice until you “make your point” (i.e., roll that same point value).\n",
        "You lose by rolling a 7 before making your point.*"
      ]
    },
    {
      "cell_type": "markdown",
      "metadata": {
        "id": "2LFy9OMrgXGG"
      },
      "source": [
        "Read and understand every aspect of the following solution, then run it multiple time and compare the outputs."
      ]
    },
    {
      "cell_type": "code",
      "metadata": {
        "id": "wU2SDcE9f82s"
      },
      "source": [
        "\"\"\"Simulating the dice game Craps.\"\"\"\n",
        "import random\n",
        "\n",
        "def roll_dice():\n",
        "    \"\"\"Roll two dice and return their face values as a tuple.\"\"\"\n",
        "    die1 = random.randrange(1, 7)\n",
        "    die2 = random.randrange(1, 7)\n",
        "    return (die1, die2)  # pack die face values into a tuple\n",
        "\n",
        "def display_dice(dice):\n",
        "    \"\"\"Display one roll of the two dice.\"\"\"\n",
        "    die1, die2 = dice  # unpack the tuple into variables die1 and die2\n",
        "    print(f'Player rolled {die1} + {die2} = {sum(dice)}')\n",
        "\n",
        "die_values = roll_dice()  # first roll\n",
        "display_dice(die_values)\n",
        "\n",
        "# determine game status and point, based on first roll\n",
        "sum_of_dice = sum(die_values)\n",
        "\n",
        "if sum_of_dice in (7, 11):  # win\n",
        "    game_status = 'WON'\n",
        "elif sum_of_dice in (2, 3, 12):  # lose\n",
        "    game_status = 'LOST'\n",
        "else:  # remember point\n",
        "    game_status = 'CONTINUE'\n",
        "    my_point = sum_of_dice\n",
        "    print('Point is', my_point)\n",
        "\n",
        "# continue rolling until player wins or loses\n",
        "while game_status == 'CONTINUE':\n",
        "    die_values = roll_dice()\n",
        "    display_dice(die_values)\n",
        "    sum_of_dice = sum(die_values)\n",
        "\n",
        "    if sum_of_dice == my_point:  # win by making point\n",
        "        game_status = 'WON'\n",
        "    elif sum_of_dice == 7:  # lose by rolling 7\n",
        "        game_status = 'LOST'\n",
        "\n",
        "# display \"wins\" or \"loses\" message\n",
        "if game_status == 'WON':\n",
        "    print('Player wins')\n",
        "else:\n",
        "    print('Player loses')"
      ],
      "execution_count": null,
      "outputs": []
    },
    {
      "cell_type": "markdown",
      "metadata": {
        "id": "l5-uY6blgWL7"
      },
      "source": [
        "* Function `roll_dice` — Returning Multiple Values Via a Tuple: Sometimes it’s useful to return more than one value, as in roll_dice, which returns\n",
        "both die values as a tuple—an immutable (that is, unmodifiable) sequences\n",
        "of values. To create a tuple, separate its values with commas:\n",
        "(die1, die2).\n",
        "This is known as packing a tuple. The parentheses are optional, but we recommend\n",
        "using them for clarity.\n",
        "* Function `display_dice`: To use a tuple’s values, you can assign them to a commaseparated\n",
        "list of variables,\n",
        "which unpacks the tuple. The number of variables to the left of = must match the number of\n",
        "elements in the tuple; otherwise, a `ValueError` occurs.\n",
        "* The `in` operator in\n",
        "`sum_of_dice in (7, 11)`\n",
        "tests whether the tuple (7, 11) contains `sum_of_dice`’s value. There’s also\n",
        "a `not in` operator to determine whether a value is not in an iterable. `sum_of_dice in (7, 11)` is equivalent to\n",
        "`(sum_of_dice == 7) or (sum_of_dice == 11)`."
      ]
    },
    {
      "cell_type": "markdown",
      "metadata": {
        "id": "ZT0qP-cShyNa"
      },
      "source": [
        "# `math` Module Functions"
      ]
    },
    {
      "cell_type": "code",
      "metadata": {
        "id": "bPCXg0APhyNg"
      },
      "source": [
        "import math"
      ],
      "execution_count": null,
      "outputs": []
    },
    {
      "cell_type": "code",
      "metadata": {
        "id": "V6lX8kjuhyNi"
      },
      "source": [
        "math.sqrt(900)"
      ],
      "execution_count": null,
      "outputs": []
    },
    {
      "cell_type": "code",
      "metadata": {
        "id": "hA1fci8IhyNj"
      },
      "source": [
        "math.fabs(-10)"
      ],
      "execution_count": null,
      "outputs": []
    },
    {
      "cell_type": "markdown",
      "metadata": {
        "id": "AHL66cDxmRaL"
      },
      "source": [
        "You can view the complete list of math module functions at https://docs.python.org/3/library/math.html"
      ]
    },
    {
      "cell_type": "markdown",
      "metadata": {
        "id": "_bPx_8_jnLgJ"
      },
      "source": [
        "# Using IPython Tab Completion for Discovery"
      ]
    },
    {
      "cell_type": "code",
      "metadata": {
        "id": "-GiOnvhcnLgQ"
      },
      "source": [
        "import math"
      ],
      "execution_count": 2,
      "outputs": []
    },
    {
      "cell_type": "code",
      "metadata": {
        "id": "a09gLLjknLgU"
      },
      "source": [
        "# type ma and wait\n",
        "ma"
      ],
      "execution_count": null,
      "outputs": []
    },
    {
      "cell_type": "markdown",
      "metadata": {
        "id": "HRyq6DS9nLgV"
      },
      "source": [
        "### Viewing Identifiers in a Module"
      ]
    },
    {
      "cell_type": "code",
      "metadata": {
        "id": "oStIvLDWnLgW"
      },
      "source": [
        "# write math. and wait \n",
        "math."
      ],
      "execution_count": null,
      "outputs": []
    },
    {
      "cell_type": "markdown",
      "metadata": {
        "id": "xFQGHQYRnLgX"
      },
      "source": [
        "### Using the Currently Highlighted Function"
      ]
    },
    {
      "cell_type": "markdown",
      "metadata": {
        "id": "Bgw-njiOpDzn"
      },
      "source": [
        "If you need more information about the currently highlighted item,\n",
        "you can view its docstring by typing a question mark (?) following the name and\n",
        "pressing Enter to view the help documentation."
      ]
    },
    {
      "cell_type": "code",
      "metadata": {
        "id": "HkkWZUgZnLgY"
      },
      "source": [
        "math.fabs?"
      ],
      "execution_count": 3,
      "outputs": []
    },
    {
      "cell_type": "markdown",
      "metadata": {
        "id": "Fqy60ld7pNMM"
      },
      "source": [
        "# Default Parameter Values"
      ]
    },
    {
      "cell_type": "markdown",
      "metadata": {
        "id": "aUGN2xSapU9P"
      },
      "source": [
        "When defining a function, you can specify that a parameter has a default parameter\n",
        "value. When calling the function, if you omit the argument for a parameter with a\n",
        "default parameter value, the default value for that parameter is automatically passed.\n",
        "\n",
        "Any parameters with default parameter values must appear in the\n",
        "parameter list to the right of parameters that do not have defaults."
      ]
    },
    {
      "cell_type": "code",
      "metadata": {
        "id": "ck95sGpIpNMU"
      },
      "source": [
        "def rectangle_area(length=2, width=3):\n",
        "    \"\"\"Return a rectangle's area.\"\"\"\n",
        "    return length * width"
      ],
      "execution_count": null,
      "outputs": []
    },
    {
      "cell_type": "code",
      "metadata": {
        "id": "asiZk2vlpNMX"
      },
      "source": [
        "rectangle_area()"
      ],
      "execution_count": null,
      "outputs": []
    },
    {
      "cell_type": "code",
      "metadata": {
        "id": "Hnwb8RW6pNMY"
      },
      "source": [
        "rectangle_area(10)"
      ],
      "execution_count": null,
      "outputs": []
    },
    {
      "cell_type": "code",
      "metadata": {
        "id": "8RGmwAPxpNMZ"
      },
      "source": [
        "rectangle_area(10, 5)"
      ],
      "execution_count": null,
      "outputs": []
    },
    {
      "cell_type": "markdown",
      "metadata": {
        "id": "17aAeK2GpiIx"
      },
      "source": [
        "# Keyword Arguments"
      ]
    },
    {
      "cell_type": "markdown",
      "metadata": {
        "id": "2VK8FwZappO6"
      },
      "source": [
        "When calling functions, you can use keyword arguments to pass arguments in any\n",
        "order."
      ]
    },
    {
      "cell_type": "code",
      "metadata": {
        "id": "liPH9z7SpiI6"
      },
      "source": [
        "def rectangle_area(length, width):\n",
        "    \"\"\"Return a rectangle's area.\"\"\"\n",
        "    return length * width"
      ],
      "execution_count": null,
      "outputs": []
    },
    {
      "cell_type": "code",
      "metadata": {
        "id": "u1mchN3NpiI8"
      },
      "source": [
        "rectangle_area(width=5, length=10)"
      ],
      "execution_count": null,
      "outputs": []
    },
    {
      "cell_type": "markdown",
      "metadata": {
        "id": "6WHuDVqfpxO0"
      },
      "source": [
        "# Arbitrary Argument Lists"
      ]
    },
    {
      "cell_type": "markdown",
      "metadata": {
        "id": "wSOTSfahpxO7"
      },
      "source": [
        "### Defining a Function with an Arbitrary Argument List"
      ]
    },
    {
      "cell_type": "markdown",
      "metadata": {
        "id": "XT-fKMsHp3OD"
      },
      "source": [
        "Functions with arbitrary argument lists, such as builtin\n",
        "functions min and max,\n",
        "can receive any number of arguments."
      ]
    },
    {
      "cell_type": "code",
      "metadata": {
        "id": "3-LQElHEpxO8"
      },
      "source": [
        "def average(*args):\n",
        "    return sum(args) / len(args)"
      ],
      "execution_count": null,
      "outputs": []
    },
    {
      "cell_type": "code",
      "metadata": {
        "id": "SHJdxakSpxO-"
      },
      "source": [
        "average(5, 10)"
      ],
      "execution_count": null,
      "outputs": []
    },
    {
      "cell_type": "code",
      "metadata": {
        "id": "oSXTYcsxpxO_"
      },
      "source": [
        "average(5, 10, 15)"
      ],
      "execution_count": null,
      "outputs": []
    },
    {
      "cell_type": "code",
      "metadata": {
        "id": "tb7wAoVNpxPA"
      },
      "source": [
        "average(5, 10, 15, 20)"
      ],
      "execution_count": null,
      "outputs": []
    },
    {
      "cell_type": "markdown",
      "metadata": {
        "id": "uk7h7TSrpxPB"
      },
      "source": [
        "### Passing an Iterable’s Individual Elements as Function Arguments "
      ]
    },
    {
      "cell_type": "markdown",
      "metadata": {
        "id": "5CqhYvJvqBb1"
      },
      "source": [
        "You can unpack a tuple’s, list’s or other iterable’s elements to pass them as individual\n",
        "function arguments. The * operator, when applied to an iterable argument in a\n",
        "function call, unpacks its elements."
      ]
    },
    {
      "cell_type": "code",
      "metadata": {
        "id": "0G4lcSLHpxPD"
      },
      "source": [
        "grades = [88, 75, 96, 55, 83]"
      ],
      "execution_count": null,
      "outputs": []
    },
    {
      "cell_type": "code",
      "metadata": {
        "id": "tdotQp07pxPE"
      },
      "source": [
        "average(*grades)"
      ],
      "execution_count": null,
      "outputs": []
    },
    {
      "cell_type": "markdown",
      "metadata": {
        "id": "uQCtgI1RqKiZ"
      },
      "source": [
        "# Methods: Functions That Belong to Objects"
      ]
    },
    {
      "cell_type": "markdown",
      "metadata": {
        "id": "LwgR53zmqTHd"
      },
      "source": [
        "A method is simply a function that you call on an object using the form\n",
        "`object_name.method_name(arguments)`"
      ]
    },
    {
      "cell_type": "code",
      "metadata": {
        "id": "YmNfuGAtqKil"
      },
      "source": [
        "s = 'Hello'"
      ],
      "execution_count": null,
      "outputs": []
    },
    {
      "cell_type": "code",
      "metadata": {
        "id": "7PHy2h9OqKip"
      },
      "source": [
        "s.lower()  # call lower method on string object s"
      ],
      "execution_count": null,
      "outputs": []
    },
    {
      "cell_type": "code",
      "metadata": {
        "id": "7A9es56eqKiq"
      },
      "source": [
        "s.upper()"
      ],
      "execution_count": null,
      "outputs": []
    },
    {
      "cell_type": "code",
      "metadata": {
        "id": "SuE54eR6qKir"
      },
      "source": [
        "s"
      ],
      "execution_count": null,
      "outputs": []
    },
    {
      "cell_type": "markdown",
      "metadata": {
        "id": "TEcNkIvpqbKU"
      },
      "source": [
        "# Scope Rules"
      ]
    },
    {
      "cell_type": "markdown",
      "metadata": {
        "id": "pWq2S2kUqi8T"
      },
      "source": [
        "Each identifier has a scope that determines where you can use it in your program. For\n",
        "that portion of the program, the identifier is said to be “in scope.”"
      ]
    },
    {
      "cell_type": "markdown",
      "metadata": {
        "id": "_HTTxLY-qbKf"
      },
      "source": [
        "### Local Scope"
      ]
    },
    {
      "cell_type": "markdown",
      "metadata": {
        "id": "SeoAaSz_qlAW"
      },
      "source": [
        "A local variable’s identifier has local scope. It’s “in scope” only from its definition to\n",
        "the end of the function’s block. It “goes out of scope” when the function returns to its\n",
        "caller. So, a local variable can be used only inside the function that defines it."
      ]
    },
    {
      "cell_type": "markdown",
      "metadata": {
        "id": "gXxKYW6kqbKg"
      },
      "source": [
        "### Global Scope"
      ]
    },
    {
      "cell_type": "markdown",
      "metadata": {
        "id": "vh70sKeQqmrD"
      },
      "source": [
        "Identifiers defined outside any function (or class) have global scope—these may\n",
        "include functions, variables and classes. Variables with global scope are known as\n",
        "global variables. Identifiers with global scope can be used in a .py file or interactive\n",
        "session anywhere after they’re defined."
      ]
    },
    {
      "cell_type": "markdown",
      "metadata": {
        "id": "7dBWMiW_qbKh"
      },
      "source": [
        "### Accessing a Global Variable from a Function "
      ]
    },
    {
      "cell_type": "code",
      "metadata": {
        "id": "E-RZzWq9qbKi"
      },
      "source": [
        "x = 7"
      ],
      "execution_count": null,
      "outputs": []
    },
    {
      "cell_type": "code",
      "metadata": {
        "id": "3VVkia-uqbKj"
      },
      "source": [
        "def access_global():\n",
        "    print('x printed from access_global:', x)"
      ],
      "execution_count": null,
      "outputs": []
    },
    {
      "cell_type": "code",
      "metadata": {
        "id": "Hs39RfeEqbKl"
      },
      "source": [
        "access_global()"
      ],
      "execution_count": null,
      "outputs": []
    },
    {
      "cell_type": "code",
      "metadata": {
        "id": "VbGjgjGrqbKm"
      },
      "source": [
        "def try_to_modify_global():\n",
        "    x = 3.5\n",
        "    print('x printed from try_to_modify_global:', x)"
      ],
      "execution_count": null,
      "outputs": []
    },
    {
      "cell_type": "markdown",
      "metadata": {
        "id": "r_vjyjtsqvHh"
      },
      "source": [
        "The local x shadows the global x."
      ]
    },
    {
      "cell_type": "code",
      "metadata": {
        "id": "Lh1qowPbqbKn"
      },
      "source": [
        "try_to_modify_global()"
      ],
      "execution_count": null,
      "outputs": []
    },
    {
      "cell_type": "code",
      "metadata": {
        "id": "tpwyDtBtqbKp"
      },
      "source": [
        "x"
      ],
      "execution_count": null,
      "outputs": []
    },
    {
      "cell_type": "markdown",
      "metadata": {
        "id": "mJWtR1zhqz_u"
      },
      "source": [
        "To modify a global variable in a function’s block, you must use a global statement to\n",
        "declare that the variable is defined in the global scope:"
      ]
    },
    {
      "cell_type": "code",
      "metadata": {
        "id": "X_dgbFebqbKq"
      },
      "source": [
        "def modify_global():\n",
        "    global x;\n",
        "    x = 'hello'\n",
        "    print('x printed from modify_global:', x)\n",
        "    "
      ],
      "execution_count": null,
      "outputs": []
    },
    {
      "cell_type": "code",
      "metadata": {
        "id": "G7QaP7lBqbKr"
      },
      "source": [
        "modify_global()"
      ],
      "execution_count": null,
      "outputs": []
    },
    {
      "cell_type": "code",
      "metadata": {
        "id": "xkTiguokqbKs"
      },
      "source": [
        "x"
      ],
      "execution_count": null,
      "outputs": []
    },
    {
      "cell_type": "markdown",
      "metadata": {
        "id": "iwPeL0JMqbKs"
      },
      "source": [
        "### Blocks vs. Suites \n"
      ]
    },
    {
      "cell_type": "markdown",
      "metadata": {
        "id": "Tg6Hu7iWq7s8"
      },
      "source": [
        "When you create a\n",
        "variable in a block, it’s local to that block. However, when you create a variable in a\n",
        "control statement’s suite, the variable’s scope depends on where the control statement\n",
        "is defined:\n",
        "* If the control statement is in the global scope, then any variables defined in the\n",
        "control statement have global scope.\n",
        "* If the control statement is in a function’s block, then any variables defined in the\n",
        "control statement have local scope."
      ]
    },
    {
      "cell_type": "markdown",
      "metadata": {
        "id": "8oI_y0jKrB7k"
      },
      "source": [
        "### Shadowing Functions"
      ]
    },
    {
      "cell_type": "code",
      "metadata": {
        "id": "4kC9kBRkqbKt"
      },
      "source": [
        "sum = 10 + 5"
      ],
      "execution_count": null,
      "outputs": []
    },
    {
      "cell_type": "code",
      "metadata": {
        "id": "-pdZeJvdqbKu"
      },
      "source": [
        "sum"
      ],
      "execution_count": null,
      "outputs": []
    },
    {
      "cell_type": "code",
      "metadata": {
        "id": "5hTfinmwqbKu"
      },
      "source": [
        "sum([10, 5])"
      ],
      "execution_count": null,
      "outputs": []
    },
    {
      "cell_type": "markdown",
      "metadata": {
        "id": "Ybf0gp_prPoG"
      },
      "source": [
        "If you define a\n",
        "variable named sum, it shadows the builtin\n",
        "function, making it inaccessible in your\n",
        "code. When you execute the following assignment, Python binds the identifier sum to\n",
        "the int object containing 15. At this point, the identifier sum no longer references the\n",
        "builtin\n",
        "function. So, when you try to use sum as a function, a `TypeError` occurs."
      ]
    },
    {
      "cell_type": "markdown",
      "metadata": {
        "id": "H3VPZH-4rioH"
      },
      "source": [
        "#  `import`: A Deeper Look"
      ]
    },
    {
      "cell_type": "markdown",
      "metadata": {
        "id": "e5sp3U_CrtbT"
      },
      "source": [
        "You’ve imported modules (such as `math` and `random`) with a statement like:\n",
        "`import module_name`\n",
        "then accessed their features via each module’s name and a dot (.). Also, you’ve\n",
        "imported a specific identifier from a module (such as the decimal module’s `Decimal`\n",
        "type) with a statement like:\n",
        "`from module_name import identifier`\n",
        "then used that identifier without having to precede it with the module name and a dot\n",
        "(.)."
      ]
    },
    {
      "cell_type": "markdown",
      "metadata": {
        "id": "clHvoMvHrioP"
      },
      "source": [
        "### Importing Multiple Identifiers from a Module"
      ]
    },
    {
      "cell_type": "markdown",
      "metadata": {
        "id": "kn7_NnHNr8i2"
      },
      "source": [
        "Using the from `import` statement you can import a commaseparated\n",
        "list of identifiers\n",
        "from a module then use them in your code without having to precede them with the\n",
        "module name and a dot (.)."
      ]
    },
    {
      "cell_type": "code",
      "metadata": {
        "id": "lsJ-EWRurioR"
      },
      "source": [
        "from math import ceil, floor"
      ],
      "execution_count": null,
      "outputs": []
    },
    {
      "cell_type": "code",
      "metadata": {
        "id": "FGN1ntLirioT"
      },
      "source": [
        "ceil(10.3)"
      ],
      "execution_count": null,
      "outputs": []
    },
    {
      "cell_type": "code",
      "metadata": {
        "id": "w5UhKojqrioT"
      },
      "source": [
        "floor(10.7)"
      ],
      "execution_count": null,
      "outputs": []
    },
    {
      "cell_type": "markdown",
      "metadata": {
        "id": "bpSV1M1DrioU"
      },
      "source": [
        "### Caution: Avoid Wildcard Imports "
      ]
    },
    {
      "cell_type": "markdown",
      "metadata": {
        "id": "-qlIMnJUsB2j"
      },
      "source": [
        "You can import all identifiers defined in a module with a wildcard import of the form\n",
        "`from modulename import *`\n",
        ". This makes all of the module’s identifiers available for use in your code. Importing a\n",
        "module’s identifiers with a wildcard import can lead to subtle errors—it’s considered a\n",
        "dangerous practice that you should avoid."
      ]
    },
    {
      "cell_type": "code",
      "metadata": {
        "id": "uVBSYPxurioV"
      },
      "source": [
        "e = 'hello'"
      ],
      "execution_count": null,
      "outputs": []
    },
    {
      "cell_type": "code",
      "metadata": {
        "id": "iaRHRtVfrioW"
      },
      "source": [
        "from math import *"
      ],
      "execution_count": null,
      "outputs": []
    },
    {
      "cell_type": "code",
      "metadata": {
        "id": "BwAShHFHrioX"
      },
      "source": [
        "e"
      ],
      "execution_count": null,
      "outputs": []
    },
    {
      "cell_type": "markdown",
      "metadata": {
        "id": "9rAUYFPbrioY"
      },
      "source": [
        "### Binding Names for Modules and Module Identifiers"
      ]
    },
    {
      "cell_type": "markdown",
      "metadata": {
        "id": "gYgln7DEsfBe"
      },
      "source": [
        "Sometimes it’s helpful to import a module and use an abbreviation for it to simplify\n",
        "your code. The import statement’s as clause allows you to specify the name used to\n",
        "reference the module’s identifiers."
      ]
    },
    {
      "cell_type": "code",
      "metadata": {
        "id": "TQ40F1UprioZ"
      },
      "source": [
        "import statistics as stats"
      ],
      "execution_count": null,
      "outputs": []
    },
    {
      "cell_type": "code",
      "metadata": {
        "id": "H4iwQ57rrioa"
      },
      "source": [
        "grades = [85, 93, 45, 87, 93]"
      ],
      "execution_count": null,
      "outputs": []
    },
    {
      "cell_type": "code",
      "metadata": {
        "id": "LgC2D4RSrioa"
      },
      "source": [
        "stats.mean(grades)"
      ],
      "execution_count": null,
      "outputs": []
    },
    {
      "cell_type": "markdown",
      "metadata": {
        "id": "tXIygJ4hsmtA"
      },
      "source": [
        "#  Passing Arguments to Functions: A Deeper Look \n"
      ]
    },
    {
      "cell_type": "markdown",
      "metadata": {
        "id": "9SRNKfY2svVx"
      },
      "source": [
        "In many\n",
        "programming languages, there are two ways to pass arguments—**pass by value**\n",
        "and\n",
        "**pass by reference**:\n",
        "* With **pass by value**,\n",
        "the called function receives a copy of the argument’s value and\n",
        "works exclusively with that copy. Changes to the function’s copy do not affect the\n",
        "original variable’s value in the caller.\n",
        "* With **pass by reference**,\n",
        "the called function can access the argument’s value in the\n",
        "caller directly and modify the value if it’s mutable.\n",
        "\n",
        "Python arguments are always passed by reference. Some people call this **pass-by-object-reference**,\n",
        "because “everything in Python is an object.” When a function call\n",
        "provides an argument, Python copies the argument object’s reference—not the object\n",
        "itself—into the corresponding parameter."
      ]
    },
    {
      "cell_type": "markdown",
      "metadata": {
        "id": "AkQ87Da5tJEI"
      },
      "source": [
        "### Memory Addresses, References and “Pointers”"
      ]
    },
    {
      "cell_type": "markdown",
      "metadata": {
        "id": "I-mVCXkKtUgu"
      },
      "source": [
        "You interact with an object via a reference, which behind the scenes is that object’s\n",
        "address (or location) in the computer’s memory—sometimes called a “pointer” in other\n",
        "languages. After an assignment like"
      ]
    },
    {
      "cell_type": "code",
      "metadata": {
        "id": "vDojHYVfsmtK"
      },
      "source": [
        "x = 7"
      ],
      "execution_count": null,
      "outputs": []
    },
    {
      "cell_type": "markdown",
      "metadata": {
        "id": "49IKn7LktXn3"
      },
      "source": [
        "the variable x does not actually contain the value 7. Rather, it contains a reference to an\n",
        "object containing 7 stored elsewhere in memory. You might say that x “points to” (that\n",
        "is, references) the object containing 7, as in the diagram below:\n",
        "\n",
        "![image.png](data:image/png;base64,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)"
      ]
    },
    {
      "cell_type": "markdown",
      "metadata": {
        "id": "UPqXwwGftNhI"
      },
      "source": [
        "### Built-In Function id and Object Identities "
      ]
    },
    {
      "cell_type": "markdown",
      "metadata": {
        "id": "aCMxAfMHthb5"
      },
      "source": [
        "Though we can’t see an object’s address, we can use the builtin\n",
        "id function\n",
        "Even the functions you defined in this chapter and the classes (custom types) you ll\n",
        "define in later chapters are objects in Python.\n",
        "3\n",
        "3\n",
        "to obtain a unique int value which identifies only that object while it remains in\n",
        "memory."
      ]
    },
    {
      "cell_type": "code",
      "metadata": {
        "id": "KzHapRC8smtO"
      },
      "source": [
        "id(x)"
      ],
      "execution_count": null,
      "outputs": []
    },
    {
      "cell_type": "markdown",
      "metadata": {
        "id": "dh0MCQU6smtQ"
      },
      "source": [
        "### Passing an Object to a Function "
      ]
    },
    {
      "cell_type": "code",
      "metadata": {
        "id": "sKFQ4UgtsmtR"
      },
      "source": [
        "def cube(number):\n",
        "    print('id(number):', id(number))\n",
        "    return number ** 3"
      ],
      "execution_count": null,
      "outputs": []
    },
    {
      "cell_type": "code",
      "metadata": {
        "id": "z_DpCrKfsmtS"
      },
      "source": [
        "cube(x)"
      ],
      "execution_count": null,
      "outputs": []
    },
    {
      "cell_type": "markdown",
      "metadata": {
        "id": "zuY5Yh0ysmtU"
      },
      "source": [
        "### Testing Object Identities with the is Operator "
      ]
    },
    {
      "cell_type": "markdown",
      "metadata": {
        "id": "AiZ7yktitr7m"
      },
      "source": [
        "You also can prove that the argument and the parameter refer to the same object with\n",
        "Python’s `is` operator, which returns `True` if its two operands have the same identity."
      ]
    },
    {
      "cell_type": "code",
      "metadata": {
        "id": "DxhKOfNLsmtW"
      },
      "source": [
        "def cube(number):\n",
        "    print('number is x:', number is x)  # x is a global variable\n",
        "    return number ** 3"
      ],
      "execution_count": null,
      "outputs": []
    },
    {
      "cell_type": "code",
      "metadata": {
        "id": "XM0BbalNsmtY"
      },
      "source": [
        "cube(x)"
      ],
      "execution_count": null,
      "outputs": []
    },
    {
      "cell_type": "markdown",
      "metadata": {
        "id": "l-U89wKysmta"
      },
      "source": [
        "### Immutable Objects as Arguments"
      ]
    },
    {
      "cell_type": "markdown",
      "metadata": {
        "id": "4AZtk83htztr"
      },
      "source": [
        "When a function receives as an argument a reference to an immutable (unmodifiable)\n",
        "object—such as an int, float, string or tuple—even though you have direct access\n",
        "to the original object in the caller, you cannot modify the original immutable object’s\n",
        "value."
      ]
    },
    {
      "cell_type": "code",
      "metadata": {
        "id": "QIuJRGjRsmtd"
      },
      "source": [
        "def cube(number):\n",
        "    print('id(number) before modifying number:', id(number))\n",
        "    number **= 3\n",
        "    print('id(number) after modifying number:', id(number))\n",
        "    return number"
      ],
      "execution_count": null,
      "outputs": []
    },
    {
      "cell_type": "code",
      "metadata": {
        "id": "J06clsEIsmte"
      },
      "source": [
        "cube(x)"
      ],
      "execution_count": null,
      "outputs": []
    },
    {
      "cell_type": "code",
      "metadata": {
        "id": "a6Sj6iN_smtg"
      },
      "source": [
        "print(f'x = {x}; id(x) = {id(x)}')"
      ],
      "execution_count": null,
      "outputs": []
    },
    {
      "cell_type": "markdown",
      "metadata": {
        "id": "7nNsiHwCsmth"
      },
      "source": [
        "### Mutable Objects as Arguments"
      ]
    },
    {
      "cell_type": "markdown",
      "metadata": {
        "id": "1_7K2ASzt7bs"
      },
      "source": [
        "When a reference to a mutable object like a list is\n",
        "passed to a function, the function can modify the original object in the caller."
      ]
    },
    {
      "cell_type": "markdown",
      "metadata": {
        "id": "XSDA-osYuL6E"
      },
      "source": [
        "# Recursion"
      ]
    },
    {
      "cell_type": "markdown",
      "metadata": {
        "id": "ttCyWyN-vQfA"
      },
      "source": [
        "**Refer to I2204 course for more in depth coverage of recursion**"
      ]
    },
    {
      "cell_type": "markdown",
      "metadata": {
        "id": "SpWMPc2zuQnU"
      },
      "source": [
        "Recursive problem solving\n",
        "approaches have several elements in common. When you\n",
        "call a recursive function to solve a problem, it’s actually capable of solving only the\n",
        "simplest case(s), or base case(s). If you call the function with a base case, it\n",
        "immediately returns a result. If you call the function with a more complex problem, it\n",
        "typically divides the problem into two pieces—one that the function knows how to do\n",
        "and one that it does not know how to do. To make recursion feasible, this latter piece\n",
        "must be a slightly simpler or smaller version of the original problem. Because this new\n",
        "problem resembles the original problem, the function calls a fresh copy of itself to work\n",
        "on the smaller problem—this is referred to as a recursive call and is also called the\n",
        "recursion step. This concept of separating the problem into two smaller portions is a\n",
        "form of the **divide-and-conquer**\n",
        "approach.\n",
        "\n",
        "The recursion step executes while the original function call is still active (i.e., it has not\n",
        "finished executing). It can result in many more recursive calls as the function divides\n",
        "each new subproblem into two conceptual pieces. For the recursion to eventually\n",
        "terminate, each time the function calls itself with a simpler version of the original\n",
        "problem, the sequence of smaller and smaller problems must converge on a base case.\n",
        "When the function recognizes the base case, it returns a result to the previous copy of\n",
        "the function. A sequence of returns ensues until the original function call returns the\n",
        "final result to the caller."
      ]
    },
    {
      "cell_type": "markdown",
      "metadata": {
        "id": "P-E8PHnWusGB"
      },
      "source": [
        "Write a recursive version of the factorial"
      ]
    },
    {
      "cell_type": "code",
      "metadata": {
        "id": "VvaeMrJmuw5C"
      },
      "source": [
        "def factorial(number):\n",
        "  # your code goes here"
      ],
      "execution_count": null,
      "outputs": []
    },
    {
      "cell_type": "code",
      "metadata": {
        "id": "0fTid9Yau08c"
      },
      "source": [
        "factorial(5)"
      ],
      "execution_count": null,
      "outputs": []
    },
    {
      "cell_type": "code",
      "metadata": {
        "id": "jTCQAA6Ku2mq"
      },
      "source": [
        "factorial(1)"
      ],
      "execution_count": null,
      "outputs": []
    },
    {
      "cell_type": "code",
      "metadata": {
        "id": "2Zj8DrVwu44O"
      },
      "source": [
        "factorial(0)"
      ],
      "execution_count": null,
      "outputs": []
    },
    {
      "cell_type": "code",
      "metadata": {
        "id": "gaOeLXLHu4_G"
      },
      "source": [
        "factorial(-6)"
      ],
      "execution_count": null,
      "outputs": []
    },
    {
      "cell_type": "markdown",
      "metadata": {
        "id": "JQj0mWm7vBLa"
      },
      "source": [
        "### Indirect Recursion"
      ]
    },
    {
      "cell_type": "markdown",
      "metadata": {
        "id": "yNBFYLORvAU7"
      },
      "source": [
        "A recursive function may call another function, which may, in turn, make a call back to\n",
        "the recursive function. This is known as an indirect recursive call or indirect\n",
        "recursion. For example, function A calls function B, which makes a call back to\n",
        "function A. This is still recursion because the second call to function A is made while the\n",
        "first call to function A is active. That is, the first call to function A has not yet finished\n",
        "executing (because it is waiting on function B to return a result to it) and has not\n",
        "returned to function A’s original caller."
      ]
    },
    {
      "cell_type": "markdown",
      "metadata": {
        "id": "422CY0MHvEbq"
      },
      "source": [
        "### Stack Overflow and Infinite Recursion"
      ]
    },
    {
      "cell_type": "markdown",
      "metadata": {
        "id": "5eq7TqLlvEnX"
      },
      "source": [
        "Of course, the amount of memory in a computer is finite, so only a certain amount of\n",
        "memory can be used to store activation records on the function-call\n",
        "stack. If more\n",
        "recursive function calls occur than can have their activation records stored on the stack,\n",
        "a fatal error known as stack overflow occurs. This typically is the result of infinite\n",
        "recursion, which can be caused by omitting the base case or writing the recursion step\n",
        "incorrectly so that it does not converge on the base case. This error is analogous to the\n",
        "problem of an infinite loop in an iterative (non-recursive) solution."
      ]
    },
    {
      "cell_type": "markdown",
      "metadata": {
        "id": "AyOeAsgMuK3z"
      },
      "source": [
        "# Functional-Style Programming"
      ]
    },
    {
      "cell_type": "markdown",
      "metadata": {
        "id": "TmZTWJm8vqep"
      },
      "source": [
        "Like other popular languages, such as Java and C#, Python is not a purely functional\n",
        "language. Rather, it offers “functionalstyle”\n",
        "features that help you write code which is\n",
        "less likely to contain errors, more concise and easier to read, debug and modify.\n",
        "Functional0style\n",
        "programs also can be easier to parallelize to get better performance on\n",
        "today’s multicore\n",
        "processors. "
      ]
    },
    {
      "cell_type": "markdown",
      "metadata": {
        "id": "9-zLg_IYv8OA"
      },
      "source": [
        "### What vs. How"
      ]
    },
    {
      "cell_type": "markdown",
      "metadata": {
        "id": "wL-Ord7mv95v"
      },
      "source": [
        "As the tasks you perform get more complicated, your code can become harder to read,\n",
        "debug and modify, and more likely to contain errors. Specifying *how* the code works\n",
        "can become complex."
      ]
    },
    {
      "cell_type": "markdown",
      "metadata": {
        "id": "BPJ0mvd2wC53"
      },
      "source": [
        "Functional-style\n",
        "programming lets you simply say what you want to do. It hides many\n",
        "details of *how* to perform each task. Typically, library code handles the *how* for you. As\n",
        "you’ll see, this can eliminate many errors."
      ]
    },
    {
      "cell_type": "markdown",
      "metadata": {
        "id": "_WJCqr8WwOGL"
      },
      "source": [
        "Consider the `for` statement in many other programming languages. Typically, you\n",
        "must specify all the details of counter-controlled\n",
        "iteration: a control variable, its initial\n",
        "value, how to increment it and a loop-continuation\n",
        "condition that uses the control\n",
        "variable to determine whether to continue iterating. This style of iteration is known as\n",
        "**external iteration** and is error-prone.\n",
        "For example, you might provide an incorrect\n",
        "initializer, increment or loop-continuation\n",
        "condition. External iteration mutates (that\n",
        "is, modifies) the control variable, and the `for` statement’s suite often mutates other\n",
        "variables as well. Every time you modify variables you could introduce errors.\n",
        "Functional-style\n",
        "programming emphasizes **immutability**. That is, it avoids operations\n",
        "that modify variables’ values."
      ]
    },
    {
      "cell_type": "markdown",
      "metadata": {
        "id": "lEEluN2RwgQE"
      },
      "source": [
        "Python’s `for` statement and `range` function hide most counter-controlled\n",
        "iteration\n",
        "details. You specify what values range should produce and the variable that should\n",
        "receive each value as it’s produced. Function range knows how to produce those\n",
        "values. Similarly, the `for` statement knows how to get each value from range and how\n",
        "to stop iterating when there are no more values. Specifying *what*, but not *how*, is an\n",
        "important aspect of internal iteration—a key functional-style\n",
        "programming concept.\n",
        "\n",
        "Stating what you want done rather than programming\n",
        "how to do it is known as **declarative programming**."
      ]
    },
    {
      "cell_type": "markdown",
      "metadata": {
        "id": "JwlvWDK-uK38"
      },
      "source": [
        "### Pure Functions"
      ]
    },
    {
      "cell_type": "markdown",
      "metadata": {
        "id": "0odfiNBu0rSG"
      },
      "source": [
        "In pure functional programming language you focus on writing pure functions. A pure\n",
        "function’s result depends only on the argument(s) you pass to it. Also, given a\n",
        "particular argument (or arguments), a pure function always produces the same result."
      ]
    },
    {
      "cell_type": "code",
      "metadata": {
        "id": "yB2hHRU1uK3-"
      },
      "source": [
        "values = [1, 2, 3]"
      ],
      "execution_count": null,
      "outputs": []
    },
    {
      "cell_type": "code",
      "metadata": {
        "id": "20XQ4HqTuK4A"
      },
      "source": [
        "sum(values)"
      ],
      "execution_count": null,
      "outputs": []
    },
    {
      "cell_type": "code",
      "metadata": {
        "id": "6z47yxv-uK4A"
      },
      "source": [
        "sum(values)  # same call always returns same result"
      ],
      "execution_count": null,
      "outputs": []
    },
    {
      "cell_type": "code",
      "metadata": {
        "id": "8MKJcI0TuK4B"
      },
      "source": [
        "values"
      ],
      "execution_count": null,
      "outputs": []
    },
    {
      "cell_type": "markdown",
      "metadata": {
        "id": "3p7jWeCJ03LS"
      },
      "source": [
        "#  Intro to Data Science: Measures of Dispersion"
      ]
    },
    {
      "cell_type": "markdown",
      "metadata": {
        "id": "7dGtHRFd1qc9"
      },
      "source": [
        "In our discussion of descriptive statistics, we’ve considered the measures of central\n",
        "tendency—mean, median and mode. These help us categorize typical values in a group\n",
        "—such as the mean height of your classmates or the most frequently purchased car\n",
        "brand (the mode) in a given country.\n",
        "\n",
        "\n",
        "When we’re talking about a group, the entire group is called the **population**.\n",
        "Sometimes a population is quite large, such as the people likely to vote in the next U.S.\n",
        "presidential election, which is a number in excess of 100,000,000 people. For practical\n",
        "reasons, the polling organizations trying to predict who will become the next president\n",
        "work with carefully selected small subsets of the population known as **samples**. Many\n",
        "of the polls in the 2016 election had sample sizes of about 1000 people"
      ]
    },
    {
      "cell_type": "markdown",
      "metadata": {
        "id": "f0fy-lwE1wpx"
      },
      "source": [
        "In this section, we continue discussing basic descriptive statistics. We introduce\n",
        "**measures of dispersion** (also called **measures of variability**) that help you\n",
        "understand how spread out the values are. For example, in a class of students, there\n",
        "may be a bunch of students whose height is close to the average, with smaller numbers\n",
        "of students who are considerably shorter or taller."
      ]
    },
    {
      "cell_type": "markdown",
      "metadata": {
        "id": "7qStVRjx2Bs1"
      },
      "source": [
        "For our purposes, we’ll calculate each measure of dispersion both by hand and with\n",
        "functions from the module statistics , using the following population of 10 sixsided\n",
        "die rolls:\n",
        "1, 3, 4, 2, 6, 5, 3, 4, 5, 2\n",
        "\n"
      ]
    },
    {
      "cell_type": "markdown",
      "metadata": {
        "id": "9wolNXq_03LW"
      },
      "source": [
        "### Variance"
      ]
    },
    {
      "cell_type": "markdown",
      "metadata": {
        "id": "mYYpT4uM2l0E"
      },
      "source": [
        "The `statistics` module provides the functions `pvariance` and\n",
        "`variance` to calculate the population variance and sample variance, respectively.\n",
        "Similarly, the `statistics` module provides the functions `pstdev` and `stdev` to\n",
        "calculate the population standard deviation and sample standard deviation,\n",
        "respectively.\n",
        "\n",
        "To determine the variance, we begin with the mean of these values—3.5. You\n",
        "obtain this result by dividing the sum of the face values, 35, by the number of rolls, 10.\n",
        "Next, we subtract the mean from every die value (this produces some negative results): 2.5,\n",
        "0.5,\n",
        "0.5, 1.5,\n",
        "2.5, 1.5, 0.5,\n",
        "0.5, 1.5, 1.5\n",
        "\n",
        "Then, we square each of these results (yielding only positives):\n",
        "6.25, 0.25, 0.25, 2.25, 6.25, 2.25, 0.25, 0.25, 2.25, 2.25\n",
        "\n",
        "Finally, we calculate the mean of these squares, which is 2.25 (22.5 / 10)—this is\n",
        "the **population variance**. Squaring the difference between each die value and the\n",
        "mean of all die values emphasizes **outliers**—the values that are farthest from the\n",
        "mean. As we get deeper into data analytics, sometimes we’ll want to pay careful\n",
        "attention to outliers, and sometimes we’ll want to ignore them. The following code uses\n",
        "the statistics module’s `pvariance` function to confirm our manual result:"
      ]
    },
    {
      "cell_type": "code",
      "metadata": {
        "id": "zv_4uONh03LY"
      },
      "source": [
        "import statistics"
      ],
      "execution_count": null,
      "outputs": []
    },
    {
      "cell_type": "code",
      "metadata": {
        "id": "jkUWWRcj03LZ"
      },
      "source": [
        "statistics.pvariance([1, 3, 4, 2, 6, 5, 3, 4, 5, 2])"
      ],
      "execution_count": null,
      "outputs": []
    },
    {
      "cell_type": "markdown",
      "metadata": {
        "id": "KA5qp9zG03La"
      },
      "source": [
        "### Standard Deviation"
      ]
    },
    {
      "cell_type": "markdown",
      "metadata": {
        "id": "LTFaCutG3M5n"
      },
      "source": [
        "The **standard deviation** is the square root of the variance (in this case, 1.5), which\n",
        "tones down the effect of the outliers. The smaller the variance and standard deviation\n",
        "are, the closer the data values are to the mean and the less overall dispersion (that is,\n",
        "spread) there is between the values and the mean. The following code calculates the\n",
        "population standard deviation with the statistics module’s `pstdev` function,\n",
        "confirming our manual result:"
      ]
    },
    {
      "cell_type": "code",
      "metadata": {
        "id": "OhrYwfe503La"
      },
      "source": [
        "statistics.pstdev([1, 3, 4, 2, 6, 5, 3, 4, 5, 2])"
      ],
      "execution_count": null,
      "outputs": []
    },
    {
      "cell_type": "markdown",
      "metadata": {
        "id": "3fqwDzh73hAx"
      },
      "source": [
        "Passing the `pvariance` function’s result to the math module’s `sqrt` function confirms\n",
        "our result of 1.5:"
      ]
    },
    {
      "cell_type": "code",
      "metadata": {
        "id": "Nx3J1fQF03La"
      },
      "source": [
        "import math"
      ],
      "execution_count": null,
      "outputs": []
    },
    {
      "cell_type": "code",
      "metadata": {
        "id": "FMtfRj3q03Lb"
      },
      "source": [
        "math.sqrt(statistics.pvariance([1, 3, 4, 2, 6, 5, 3, 4, 5, 2]))\n"
      ],
      "execution_count": null,
      "outputs": []
    }
  ]
}