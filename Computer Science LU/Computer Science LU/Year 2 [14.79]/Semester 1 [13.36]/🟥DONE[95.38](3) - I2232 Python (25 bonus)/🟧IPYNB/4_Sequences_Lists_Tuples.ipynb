{
  "cells": [
    {
      "cell_type": "markdown",
      "metadata": {
        "id": "3_Jf_TbADGzD"
      },
      "source": [
        "# Sequences: Lists and Tuples"
      ]
    },
    {
      "cell_type": "markdown",
      "metadata": {
        "id": "mwAEQUd7DIMU"
      },
      "source": [
        "**Collections** are prepackaged data structures\n",
        "consisting of related data items. Python’s builtin\n",
        "collections enable you to store and access\n",
        "data conveniently and efficiently."
      ]
    },
    {
      "cell_type": "markdown",
      "metadata": {
        "id": "iaYCJwKYDUF5"
      },
      "source": [
        "We’ll demonstrate common `list` and `tuple` manipulations. You’ll see that lists (which are\n",
        "modifiable) and tuples (which are not) have many common capabilities. Each can hold\n",
        "items of the same or different types. Lists can **dynamically resize** as necessary,\n",
        "growing and shrinking at execution time."
      ]
    },
    {
      "cell_type": "markdown",
      "metadata": {
        "id": "BiDwrAxDDCN3"
      },
      "source": [
        "#  Lists"
      ]
    },
    {
      "cell_type": "markdown",
      "metadata": {
        "id": "d8ja7Yr9DCOA"
      },
      "source": [
        "### Creating a List"
      ]
    },
    {
      "cell_type": "markdown",
      "metadata": {
        "id": "ld2YgR4XDlsX"
      },
      "source": [
        "Lists typically store homogeneous data, that is, values of the same data type."
      ]
    },
    {
      "cell_type": "code",
      "execution_count": 1,
      "metadata": {
        "id": "FMX4XrgrDCOB"
      },
      "outputs": [],
      "source": [
        "c = [-45, 6, 0, 72, 1543]"
      ]
    },
    {
      "cell_type": "code",
      "execution_count": 2,
      "metadata": {
        "id": "AV-Er8xpDCOD"
      },
      "outputs": [
        {
          "data": {
            "text/plain": [
              "[-45, 6, 0, 72, 1543]"
            ]
          },
          "execution_count": 2,
          "metadata": {},
          "output_type": "execute_result"
        }
      ],
      "source": [
        "c"
      ]
    },
    {
      "cell_type": "markdown",
      "metadata": {
        "id": "OPTS47LIDp-I"
      },
      "source": [
        "They also may store heterogeneous data, that is, data of many different types."
      ]
    },
    {
      "cell_type": "code",
      "execution_count": 3,
      "metadata": {
        "id": "C85xfX-GDqWE"
      },
      "outputs": [],
      "source": [
        "h=['Mary', 'Smith', 3.57, 2022]"
      ]
    },
    {
      "cell_type": "code",
      "execution_count": 4,
      "metadata": {
        "id": "K73Q_ZnSDtFP"
      },
      "outputs": [
        {
          "data": {
            "text/plain": [
              "['Mary', 'Smith', 3.57, 2022]"
            ]
          },
          "execution_count": 4,
          "metadata": {},
          "output_type": "execute_result"
        }
      ],
      "source": [
        "h"
      ]
    },
    {
      "cell_type": "markdown",
      "metadata": {
        "id": "NUHhl9idDCOE"
      },
      "source": [
        "### Accessing Elements of a List"
      ]
    },
    {
      "cell_type": "markdown",
      "metadata": {
        "id": "fDD6bm8jDzZV"
      },
      "source": [
        "You reference a list element by writing the list’s name followed by the element’s index\n",
        "(that is, its position number) enclosed in square brackets (`[]`, known as the\n",
        "subscription operator). The first element in a list has the index 0."
      ]
    },
    {
      "cell_type": "code",
      "execution_count": null,
      "metadata": {
        "id": "EwfyoriqDCOE"
      },
      "outputs": [],
      "source": [
        "c[0]"
      ]
    },
    {
      "cell_type": "code",
      "execution_count": null,
      "metadata": {
        "id": "2zINXz3TDCOF"
      },
      "outputs": [],
      "source": [
        "c[4]"
      ]
    },
    {
      "cell_type": "markdown",
      "metadata": {
        "id": "cYAhac3YDCOH"
      },
      "source": [
        "### Determining a List’s Length "
      ]
    },
    {
      "cell_type": "markdown",
      "metadata": {
        "id": "P2k8NTx1D_KN"
      },
      "source": [
        "To get a list’s length, use the builtin\n",
        "`len` function."
      ]
    },
    {
      "cell_type": "code",
      "execution_count": 5,
      "metadata": {
        "id": "t4-wSMpeDCOI"
      },
      "outputs": [
        {
          "data": {
            "text/plain": [
              "5"
            ]
          },
          "execution_count": 5,
          "metadata": {},
          "output_type": "execute_result"
        }
      ],
      "source": [
        "len(c)"
      ]
    },
    {
      "cell_type": "markdown",
      "metadata": {
        "id": "H9YqKhcbDCOK"
      },
      "source": [
        "### Accessing Elements from the End of the List with Negative Indices"
      ]
    },
    {
      "cell_type": "markdown",
      "metadata": {
        "id": "HeH7LA_XEDBL"
      },
      "source": [
        "Lists also can be accessed from the end by using negative indices:\n",
        "\n",
        "![image.png](data:image/png;base64,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)"
      ]
    },
    {
      "cell_type": "code",
      "execution_count": 6,
      "metadata": {
        "id": "xqqJrcf4DCOM"
      },
      "outputs": [
        {
          "data": {
            "text/plain": [
              "1543"
            ]
          },
          "execution_count": 6,
          "metadata": {},
          "output_type": "execute_result"
        }
      ],
      "source": [
        "c[-1]"
      ]
    },
    {
      "cell_type": "code",
      "execution_count": 7,
      "metadata": {
        "id": "oMxEYVWdDCOO"
      },
      "outputs": [
        {
          "data": {
            "text/plain": [
              "-45"
            ]
          },
          "execution_count": 7,
          "metadata": {},
          "output_type": "execute_result"
        }
      ],
      "source": [
        "c[-5]"
      ]
    },
    {
      "cell_type": "markdown",
      "metadata": {
        "id": "aaljzA3fDCOP"
      },
      "source": [
        "### Indices Must Be Integers or Integer Expressions"
      ]
    },
    {
      "cell_type": "markdown",
      "metadata": {
        "id": "seYXybLREJQz"
      },
      "source": [
        "An index must be an integer or integer expression (or a **slice**). Don't panic, we will cover slices soon!"
      ]
    },
    {
      "cell_type": "code",
      "execution_count": null,
      "metadata": {
        "id": "2VsDkcOaDCOQ"
      },
      "outputs": [],
      "source": [
        "a = 1"
      ]
    },
    {
      "cell_type": "code",
      "execution_count": null,
      "metadata": {
        "id": "Fkebt73bDCOQ"
      },
      "outputs": [],
      "source": [
        "b = 2"
      ]
    },
    {
      "cell_type": "code",
      "execution_count": null,
      "metadata": {
        "id": "JCAHB6NZDCOR"
      },
      "outputs": [],
      "source": [
        "c[a + b]"
      ]
    },
    {
      "cell_type": "markdown",
      "metadata": {
        "id": "-45IXnNlERvs"
      },
      "source": [
        "Using a noninteger\n",
        "index value causes a `TypeError`."
      ]
    },
    {
      "cell_type": "markdown",
      "metadata": {
        "id": "x1SuHKQwDCOR"
      },
      "source": [
        "### Lists Are Mutable"
      ]
    },
    {
      "cell_type": "markdown",
      "metadata": {
        "id": "evfRwY0KEU0G"
      },
      "source": [
        "Lists are mutable—their elements can be modified. "
      ]
    },
    {
      "cell_type": "code",
      "execution_count": 8,
      "metadata": {
        "id": "z3-RUQK1DCOS"
      },
      "outputs": [],
      "source": [
        "c[4] = 17"
      ]
    },
    {
      "cell_type": "code",
      "execution_count": 9,
      "metadata": {
        "id": "Op3stcGHDCOS"
      },
      "outputs": [
        {
          "data": {
            "text/plain": [
              "[-45, 6, 0, 72, 17]"
            ]
          },
          "execution_count": 9,
          "metadata": {},
          "output_type": "execute_result"
        }
      ],
      "source": [
        "c"
      ]
    },
    {
      "cell_type": "markdown",
      "metadata": {
        "id": "1iy7BvNcDCOU"
      },
      "source": [
        "### Some Sequences Are Immutable"
      ]
    },
    {
      "cell_type": "markdown",
      "metadata": {
        "id": "oPOOzeYSEZ_C"
      },
      "source": [
        "Python’s string and tuple sequences are immutable—they cannot be modified. You can\n",
        "get the individual characters in a string, but attempting to assign a new value to one of\n",
        "the characters causes a `TypeError`."
      ]
    },
    {
      "cell_type": "code",
      "execution_count": 10,
      "metadata": {
        "id": "4gB0_eQKDCOV"
      },
      "outputs": [],
      "source": [
        "s = 'hello'"
      ]
    },
    {
      "cell_type": "code",
      "execution_count": 11,
      "metadata": {
        "id": "ij3p-cU7DCOV"
      },
      "outputs": [
        {
          "data": {
            "text/plain": [
              "'h'"
            ]
          },
          "execution_count": 11,
          "metadata": {},
          "output_type": "execute_result"
        }
      ],
      "source": [
        "s[0]"
      ]
    },
    {
      "cell_type": "code",
      "execution_count": 12,
      "metadata": {
        "id": "INNBQE1ODCOW"
      },
      "outputs": [
        {
          "ename": "TypeError",
          "evalue": "'str' object does not support item assignment",
          "output_type": "error",
          "traceback": [
            "\u001b[1;31m---------------------------------------------------------------------------\u001b[0m",
            "\u001b[1;31mTypeError\u001b[0m                                 Traceback (most recent call last)",
            "\u001b[1;32m~\\AppData\\Local\\Temp/ipykernel_15252/4062851757.py\u001b[0m in \u001b[0;36m<module>\u001b[1;34m\u001b[0m\n\u001b[1;32m----> 1\u001b[1;33m \u001b[0ms\u001b[0m\u001b[1;33m[\u001b[0m\u001b[1;36m0\u001b[0m\u001b[1;33m]\u001b[0m \u001b[1;33m=\u001b[0m \u001b[1;34m'H'\u001b[0m\u001b[1;33m\u001b[0m\u001b[1;33m\u001b[0m\u001b[0m\n\u001b[0m",
            "\u001b[1;31mTypeError\u001b[0m: 'str' object does not support item assignment"
          ]
        }
      ],
      "source": [
        "s[0] = 'H'"
      ]
    },
    {
      "cell_type": "markdown",
      "metadata": {
        "id": "Jt7i9v38DCOX"
      },
      "source": [
        "### Attempting to Access a Nonexistent Element"
      ]
    },
    {
      "cell_type": "markdown",
      "metadata": {
        "id": "m7vhLZCiEeHd"
      },
      "source": [
        "Using an out-of-range\n",
        "list, tuple or string index causes an `IndexError`."
      ]
    },
    {
      "cell_type": "code",
      "execution_count": 13,
      "metadata": {
        "id": "K4R1Sb2tDCOX"
      },
      "outputs": [
        {
          "ename": "IndexError",
          "evalue": "list index out of range",
          "output_type": "error",
          "traceback": [
            "\u001b[1;31m---------------------------------------------------------------------------\u001b[0m",
            "\u001b[1;31mIndexError\u001b[0m                                Traceback (most recent call last)",
            "\u001b[1;32m~\\AppData\\Local\\Temp/ipykernel_15252/2687931364.py\u001b[0m in \u001b[0;36m<module>\u001b[1;34m\u001b[0m\n\u001b[1;32m----> 1\u001b[1;33m \u001b[0mc\u001b[0m\u001b[1;33m[\u001b[0m\u001b[1;36m100\u001b[0m\u001b[1;33m]\u001b[0m\u001b[1;33m\u001b[0m\u001b[1;33m\u001b[0m\u001b[0m\n\u001b[0m",
            "\u001b[1;31mIndexError\u001b[0m: list index out of range"
          ]
        }
      ],
      "source": [
        "c[100]"
      ]
    },
    {
      "cell_type": "markdown",
      "metadata": {
        "id": "C_ZNMEClDCOX"
      },
      "source": [
        "### Using List Elements in Expressions"
      ]
    },
    {
      "cell_type": "markdown",
      "metadata": {
        "id": "g18a0gwsEhfB"
      },
      "source": [
        "List elements may be used as variables in expressions:"
      ]
    },
    {
      "cell_type": "code",
      "execution_count": 14,
      "metadata": {
        "id": "XhqMXRygDCOY"
      },
      "outputs": [
        {
          "data": {
            "text/plain": [
              "-39"
            ]
          },
          "execution_count": 14,
          "metadata": {},
          "output_type": "execute_result"
        }
      ],
      "source": [
        "c[0] + c[1] + c[2]"
      ]
    },
    {
      "cell_type": "markdown",
      "metadata": {
        "id": "K2qwJQcWDCOZ"
      },
      "source": [
        "### Appending to a List with +="
      ]
    },
    {
      "cell_type": "code",
      "execution_count": 15,
      "metadata": {
        "id": "vvSyxwm_DCOZ"
      },
      "outputs": [],
      "source": [
        "a_list = []"
      ]
    },
    {
      "cell_type": "code",
      "execution_count": 16,
      "metadata": {
        "id": "D8vbCPo2DCOZ"
      },
      "outputs": [],
      "source": [
        "for number in range(1, 6):\n",
        "    a_list += [number]"
      ]
    },
    {
      "cell_type": "code",
      "execution_count": 17,
      "metadata": {
        "id": "bWF6B02bDCOa"
      },
      "outputs": [
        {
          "data": {
            "text/plain": [
              "[1, 2, 3, 4, 5]"
            ]
          },
          "execution_count": 17,
          "metadata": {},
          "output_type": "execute_result"
        }
      ],
      "source": [
        "a_list"
      ]
    },
    {
      "cell_type": "code",
      "execution_count": 18,
      "metadata": {
        "id": "rt62_njeDCOa"
      },
      "outputs": [],
      "source": [
        "letters = []"
      ]
    },
    {
      "cell_type": "code",
      "execution_count": 19,
      "metadata": {
        "id": "C7kKMKgcDCOb"
      },
      "outputs": [],
      "source": [
        "letters += 'Python'"
      ]
    },
    {
      "cell_type": "code",
      "execution_count": 20,
      "metadata": {
        "id": "c6nM6vV4DCOb"
      },
      "outputs": [
        {
          "data": {
            "text/plain": [
              "['P', 'y', 't', 'h', 'o', 'n']"
            ]
          },
          "execution_count": 20,
          "metadata": {},
          "output_type": "execute_result"
        }
      ],
      "source": [
        "letters"
      ]
    },
    {
      "cell_type": "markdown",
      "metadata": {
        "id": "VWBLPOyZDCOb"
      },
      "source": [
        "### Concatenating Lists with +"
      ]
    },
    {
      "cell_type": "markdown",
      "metadata": {
        "id": "00gW2cKOErXi"
      },
      "source": [
        "You can concatenate two lists, two tuples or two strings using the + operator. The\n",
        "result is a new sequence of the same type containing the left operand’s elements\n",
        "followed by the right operand’s elements. The original sequences are unchanged."
      ]
    },
    {
      "cell_type": "code",
      "execution_count": 22,
      "metadata": {
        "id": "12HoBcxLDCOc"
      },
      "outputs": [],
      "source": [
        "list1 = [10, 20, 30]"
      ]
    },
    {
      "cell_type": "code",
      "execution_count": 23,
      "metadata": {
        "id": "c6UABXGLDCOc"
      },
      "outputs": [],
      "source": [
        "list2 = [40, 50]"
      ]
    },
    {
      "cell_type": "code",
      "execution_count": 24,
      "metadata": {
        "id": "4TekAgv9DCOc"
      },
      "outputs": [],
      "source": [
        "concatenated_list = list1 + list2"
      ]
    },
    {
      "cell_type": "code",
      "execution_count": 25,
      "metadata": {
        "id": "w3vllDjmDCOd"
      },
      "outputs": [
        {
          "data": {
            "text/plain": [
              "[10, 20, 30, 40, 50]"
            ]
          },
          "execution_count": 25,
          "metadata": {},
          "output_type": "execute_result"
        }
      ],
      "source": [
        "concatenated_list"
      ]
    },
    {
      "cell_type": "markdown",
      "metadata": {
        "id": "aPUcCBDPDCOd"
      },
      "source": [
        "### Using `for` and `range` to Access List Indices and Values"
      ]
    },
    {
      "cell_type": "markdown",
      "metadata": {
        "id": "szLC2BIBEvDW"
      },
      "source": [
        "List elements also can be accessed via their indices and the subscription operator (`[]`)."
      ]
    },
    {
      "cell_type": "code",
      "execution_count": 26,
      "metadata": {
        "id": "kSNwi74XDCOe"
      },
      "outputs": [
        {
          "name": "stdout",
          "output_type": "stream",
          "text": [
            "0: 10\n",
            "1: 20\n",
            "2: 30\n",
            "3: 40\n",
            "4: 50\n"
          ]
        }
      ],
      "source": [
        "for i in range(len(concatenated_list)):  \n",
        "    print(f'{i}: {concatenated_list[i]}')"
      ]
    },
    {
      "cell_type": "markdown",
      "metadata": {
        "id": "M7-M_QP9DCOe"
      },
      "source": [
        "### Comparison Operators"
      ]
    },
    {
      "cell_type": "markdown",
      "metadata": {
        "id": "8tziy-YPE1ab"
      },
      "source": [
        "You can compare entire lists element-by-element\n",
        "using comparison operators:"
      ]
    },
    {
      "cell_type": "code",
      "execution_count": 39,
      "metadata": {
        "id": "GwqaKbHZDCOe"
      },
      "outputs": [],
      "source": [
        "a = [3, 3]"
      ]
    },
    {
      "cell_type": "code",
      "execution_count": 36,
      "metadata": {
        "id": "TzoiNku1DCOe"
      },
      "outputs": [],
      "source": [
        "b = [2, 4]"
      ]
    },
    {
      "cell_type": "code",
      "execution_count": 29,
      "metadata": {
        "id": "ts20zgpKDCOf"
      },
      "outputs": [],
      "source": [
        "c = [1, 2, 3, 4]"
      ]
    },
    {
      "cell_type": "code",
      "execution_count": 44,
      "metadata": {
        "id": "vKozRPxkDCOf"
      },
      "outputs": [
        {
          "data": {
            "text/plain": [
              "False"
            ]
          },
          "execution_count": 44,
          "metadata": {},
          "output_type": "execute_result"
        }
      ],
      "source": [
        "a >= b"
      ]
    },
    {
      "cell_type": "code",
      "execution_count": 31,
      "metadata": {
        "id": "1eSLpJKfDCOf"
      },
      "outputs": [
        {
          "data": {
            "text/plain": [
              "False"
            ]
          },
          "execution_count": 31,
          "metadata": {},
          "output_type": "execute_result"
        }
      ],
      "source": [
        "a == c"
      ]
    },
    {
      "cell_type": "code",
      "execution_count": 32,
      "metadata": {
        "id": "1t9eF6TiDCOg"
      },
      "outputs": [
        {
          "data": {
            "text/plain": [
              "True"
            ]
          },
          "execution_count": 32,
          "metadata": {},
          "output_type": "execute_result"
        }
      ],
      "source": [
        "a < c"
      ]
    },
    {
      "cell_type": "code",
      "execution_count": 33,
      "metadata": {
        "id": "8XiS1-EJDCOg"
      },
      "outputs": [
        {
          "data": {
            "text/plain": [
              "True"
            ]
          },
          "execution_count": 33,
          "metadata": {},
          "output_type": "execute_result"
        }
      ],
      "source": [
        "c >= b"
      ]
    },
    {
      "cell_type": "markdown",
      "metadata": {
        "id": "1YVvGf2iE86o"
      },
      "source": [
        "#  Tuples"
      ]
    },
    {
      "cell_type": "markdown",
      "metadata": {
        "id": "I62-9MkaFECf"
      },
      "source": [
        "Tuples are immutable and typically store\n",
        "heterogeneous data, but the data can be homogeneous. A tuple’s length is its number of\n",
        "elements and cannot change during program execution."
      ]
    },
    {
      "cell_type": "markdown",
      "metadata": {
        "id": "BAhe0XHME861"
      },
      "source": [
        "### Creating Tuples"
      ]
    },
    {
      "cell_type": "code",
      "execution_count": 45,
      "metadata": {
        "id": "txwoxSUqE863"
      },
      "outputs": [],
      "source": [
        "student_tuple = ()"
      ]
    },
    {
      "cell_type": "code",
      "execution_count": 46,
      "metadata": {
        "id": "SfCOQqlgE865"
      },
      "outputs": [
        {
          "data": {
            "text/plain": [
              "()"
            ]
          },
          "execution_count": 46,
          "metadata": {},
          "output_type": "execute_result"
        }
      ],
      "source": [
        "student_tuple"
      ]
    },
    {
      "cell_type": "code",
      "execution_count": 47,
      "metadata": {
        "id": "hqJOLaAjE865"
      },
      "outputs": [
        {
          "data": {
            "text/plain": [
              "0"
            ]
          },
          "execution_count": 47,
          "metadata": {},
          "output_type": "execute_result"
        }
      ],
      "source": [
        "len(student_tuple)"
      ]
    },
    {
      "cell_type": "code",
      "execution_count": 48,
      "metadata": {
        "id": "de6g5ak1E866"
      },
      "outputs": [],
      "source": [
        "student_tuple = 'John', 'Green', 3.3"
      ]
    },
    {
      "cell_type": "code",
      "execution_count": 56,
      "metadata": {
        "id": "1nPFrKb6E867"
      },
      "outputs": [
        {
          "data": {
            "text/plain": [
              "('John', 'Green', 3.3)"
            ]
          },
          "execution_count": 56,
          "metadata": {},
          "output_type": "execute_result"
        }
      ],
      "source": [
        "student_tuple"
      ]
    },
    {
      "cell_type": "code",
      "execution_count": 50,
      "metadata": {
        "id": "q20c4FZCE868"
      },
      "outputs": [
        {
          "data": {
            "text/plain": [
              "3"
            ]
          },
          "execution_count": 50,
          "metadata": {},
          "output_type": "execute_result"
        }
      ],
      "source": [
        "len(student_tuple)"
      ]
    },
    {
      "cell_type": "code",
      "execution_count": 51,
      "metadata": {
        "id": "7gVU3G5nE869"
      },
      "outputs": [],
      "source": [
        "another_student_tuple = ('Mary', 'Red', 3.3)"
      ]
    },
    {
      "cell_type": "code",
      "execution_count": 52,
      "metadata": {
        "id": "WyLXAhvBE86_"
      },
      "outputs": [
        {
          "data": {
            "text/plain": [
              "('Mary', 'Red', 3.3)"
            ]
          },
          "execution_count": 52,
          "metadata": {},
          "output_type": "execute_result"
        }
      ],
      "source": [
        "another_student_tuple"
      ]
    },
    {
      "cell_type": "code",
      "execution_count": 53,
      "metadata": {
        "id": "Yx1pfRn9E87C"
      },
      "outputs": [],
      "source": [
        "a_singleton_tuple = ('red',)  # note the comma"
      ]
    },
    {
      "cell_type": "code",
      "execution_count": 54,
      "metadata": {
        "id": "hulSFVmwE87E"
      },
      "outputs": [
        {
          "data": {
            "text/plain": [
              "('red',)"
            ]
          },
          "execution_count": 54,
          "metadata": {},
          "output_type": "execute_result"
        }
      ],
      "source": [
        "a_singleton_tuple"
      ]
    },
    {
      "cell_type": "markdown",
      "metadata": {
        "id": "Z41IAjU2E87F"
      },
      "source": [
        "   \n",
        "\n",
        "### Accessing Tuple Elements"
      ]
    },
    {
      "cell_type": "markdown",
      "metadata": {
        "id": "BeYSxT-7FLzM"
      },
      "source": [
        "A tuple’s elements, though related, are often of multiple types. Usually, you do not\n",
        "iterate over them. Rather, you access each individually. Like list indices, tuple indices\n",
        "start at 0."
      ]
    },
    {
      "cell_type": "code",
      "execution_count": 57,
      "metadata": {
        "id": "qqNeosgwE87G"
      },
      "outputs": [],
      "source": [
        "time_tuple = (9, 16, 1)"
      ]
    },
    {
      "cell_type": "code",
      "execution_count": 58,
      "metadata": {
        "id": "QGQoquYME87H"
      },
      "outputs": [
        {
          "data": {
            "text/plain": [
              "(9, 16, 1)"
            ]
          },
          "execution_count": 58,
          "metadata": {},
          "output_type": "execute_result"
        }
      ],
      "source": [
        "time_tuple"
      ]
    },
    {
      "cell_type": "code",
      "execution_count": 59,
      "metadata": {
        "id": "-kTTxwqDE87H"
      },
      "outputs": [
        {
          "data": {
            "text/plain": [
              "33361"
            ]
          },
          "execution_count": 59,
          "metadata": {},
          "output_type": "execute_result"
        }
      ],
      "source": [
        "time_tuple[0] * 3600 + time_tuple[1] * 60 + time_tuple[2]   "
      ]
    },
    {
      "cell_type": "markdown",
      "metadata": {
        "id": "1-wIhCzWE87H"
      },
      "source": [
        "### Adding Items to a String or Tuple"
      ]
    },
    {
      "cell_type": "markdown",
      "metadata": {
        "id": "xgNbvq8lFUSX"
      },
      "source": [
        "As with lists, the += augmented assignment statement can be used with strings and\n",
        "tuples, even though they’re immutable."
      ]
    },
    {
      "cell_type": "code",
      "execution_count": 60,
      "metadata": {
        "id": "WeWe4zQHE87I"
      },
      "outputs": [],
      "source": [
        "tuple1 = (10, 20, 30)"
      ]
    },
    {
      "cell_type": "code",
      "execution_count": 61,
      "metadata": {
        "id": "I5YmJnyUE87I"
      },
      "outputs": [],
      "source": [
        "tuple2 = tuple1"
      ]
    },
    {
      "cell_type": "code",
      "execution_count": 62,
      "metadata": {
        "id": "znGpYUiXE87J"
      },
      "outputs": [
        {
          "data": {
            "text/plain": [
              "(10, 20, 30)"
            ]
          },
          "execution_count": 62,
          "metadata": {},
          "output_type": "execute_result"
        }
      ],
      "source": [
        "tuple2"
      ]
    },
    {
      "cell_type": "code",
      "execution_count": 63,
      "metadata": {
        "id": "7GRfvs7oE87K"
      },
      "outputs": [],
      "source": [
        "tuple1 += (40, 50)"
      ]
    },
    {
      "cell_type": "code",
      "execution_count": 64,
      "metadata": {
        "id": "-RrNVtdIE87K"
      },
      "outputs": [
        {
          "data": {
            "text/plain": [
              "(10, 20, 30, 40, 50)"
            ]
          },
          "execution_count": 64,
          "metadata": {},
          "output_type": "execute_result"
        }
      ],
      "source": [
        "tuple1   "
      ]
    },
    {
      "cell_type": "code",
      "execution_count": 65,
      "metadata": {
        "id": "Go1n0u-0E87L"
      },
      "outputs": [
        {
          "data": {
            "text/plain": [
              "(10, 20, 30)"
            ]
          },
          "execution_count": 65,
          "metadata": {},
          "output_type": "execute_result"
        }
      ],
      "source": [
        "tuple2  "
      ]
    },
    {
      "cell_type": "markdown",
      "metadata": {
        "id": "YWN8-zW9FZyp"
      },
      "source": [
        "Concatenating the tuple (40, 50) to tuple1 creates a new tuple, then assigns a\n",
        "reference to it to the variable tuple1—tuple2 still refers to the original tuple."
      ]
    },
    {
      "cell_type": "markdown",
      "metadata": {
        "id": "4enXDbr1FdJ2"
      },
      "source": [
        "For a string or tuple, the item to the right of += must be a string or tuple, respectively—\n",
        "mixing types causes a `TypeError`."
      ]
    },
    {
      "cell_type": "markdown",
      "metadata": {
        "id": "MAm97YyUE87L"
      },
      "source": [
        " \n",
        "\n",
        "### Appending Tuples to Lists"
      ]
    },
    {
      "cell_type": "markdown",
      "metadata": {
        "id": "b5J8UFmgFgjC"
      },
      "source": [
        "You can use += to append a tuple to a list:"
      ]
    },
    {
      "cell_type": "code",
      "execution_count": null,
      "metadata": {
        "id": "fdVSIT96E87M"
      },
      "outputs": [],
      "source": [
        "numbers = [1, 2, 3, 4, 5]"
      ]
    },
    {
      "cell_type": "code",
      "execution_count": null,
      "metadata": {
        "id": "BxdiAQYHE87M"
      },
      "outputs": [],
      "source": [
        "numbers += (6, 7)"
      ]
    },
    {
      "cell_type": "code",
      "execution_count": null,
      "metadata": {
        "id": "WB8iAyWsE87M"
      },
      "outputs": [],
      "source": [
        "numbers"
      ]
    },
    {
      "cell_type": "markdown",
      "metadata": {
        "id": "p6TZ5o7DE87M"
      },
      "source": [
        "   \n",
        "\n",
        "### Tuples May Contain Mutable Objects"
      ]
    },
    {
      "cell_type": "code",
      "execution_count": null,
      "metadata": {
        "id": "rD5uOOypE87N"
      },
      "outputs": [],
      "source": [
        "student_tuple = ('Amanda', 'Blue', [98, 75, 87])"
      ]
    },
    {
      "cell_type": "code",
      "execution_count": null,
      "metadata": {
        "id": "tnr22bCHE87N"
      },
      "outputs": [],
      "source": [
        "student_tuple[2][1] = 85"
      ]
    },
    {
      "cell_type": "code",
      "execution_count": null,
      "metadata": {
        "id": "xin1qg_xE87N"
      },
      "outputs": [],
      "source": [
        "student_tuple"
      ]
    },
    {
      "cell_type": "markdown",
      "metadata": {
        "id": "y8-u5ahyFpcb"
      },
      "source": [
        "# Unpacking Sequences"
      ]
    },
    {
      "cell_type": "markdown",
      "metadata": {
        "id": "Ysd-BorQFy1Y"
      },
      "source": [
        "You can unpack any sequence’s\n",
        "elements by assigning the sequence to a comma-separated\n",
        "list of variables. A\n",
        "`ValueError` occurs if the number of variables to the left of the assignment symbol is\n",
        "not identical to the number of elements in the sequence on the right."
      ]
    },
    {
      "cell_type": "code",
      "execution_count": 67,
      "metadata": {
        "id": "1tnXYG3fFpcj"
      },
      "outputs": [],
      "source": [
        "student_tuple = ('Amanda', [98, 85, 87])"
      ]
    },
    {
      "cell_type": "code",
      "execution_count": 68,
      "metadata": {
        "id": "brJJUiDCFpcl"
      },
      "outputs": [],
      "source": [
        "first_name, grades = student_tuple"
      ]
    },
    {
      "cell_type": "code",
      "execution_count": 69,
      "metadata": {
        "id": "eAr6zZcZFpcm"
      },
      "outputs": [
        {
          "data": {
            "text/plain": [
              "'Amanda'"
            ]
          },
          "execution_count": 69,
          "metadata": {},
          "output_type": "execute_result"
        }
      ],
      "source": [
        "first_name"
      ]
    },
    {
      "cell_type": "code",
      "execution_count": 70,
      "metadata": {
        "id": "jWCMbdoQFpcm"
      },
      "outputs": [
        {
          "data": {
            "text/plain": [
              "[98, 85, 87]"
            ]
          },
          "execution_count": 70,
          "metadata": {},
          "output_type": "execute_result"
        }
      ],
      "source": [
        "grades"
      ]
    },
    {
      "cell_type": "code",
      "execution_count": 71,
      "metadata": {
        "id": "VTpodaILFpcn"
      },
      "outputs": [],
      "source": [
        "first, second = 'hi'"
      ]
    },
    {
      "cell_type": "code",
      "execution_count": 72,
      "metadata": {
        "id": "0w_7CewxFpco"
      },
      "outputs": [
        {
          "name": "stdout",
          "output_type": "stream",
          "text": [
            "h  i\n"
          ]
        }
      ],
      "source": [
        "print(f'{first}  {second}')"
      ]
    },
    {
      "cell_type": "code",
      "execution_count": 73,
      "metadata": {
        "id": "VTDK3cUfFpcp"
      },
      "outputs": [],
      "source": [
        "number1, number2, number3 = [2, 3, 5]"
      ]
    },
    {
      "cell_type": "code",
      "execution_count": 74,
      "metadata": {
        "id": "qdYx9XFYFpcq"
      },
      "outputs": [
        {
          "name": "stdout",
          "output_type": "stream",
          "text": [
            "2  3  5\n"
          ]
        }
      ],
      "source": [
        "print(f'{number1}  {number2}  {number3}')"
      ]
    },
    {
      "cell_type": "code",
      "execution_count": 75,
      "metadata": {
        "id": "XsAazS8UFpcs"
      },
      "outputs": [],
      "source": [
        "number1, number2, number3 = range(10, 40, 10)"
      ]
    },
    {
      "cell_type": "code",
      "execution_count": 76,
      "metadata": {
        "id": "lPsY_z4LFpct"
      },
      "outputs": [
        {
          "name": "stdout",
          "output_type": "stream",
          "text": [
            "10  20  30\n"
          ]
        }
      ],
      "source": [
        "print(f'{number1}  {number2}  {number3}')"
      ]
    },
    {
      "cell_type": "markdown",
      "metadata": {
        "id": "hrRFQEdzFpcu"
      },
      "source": [
        "### Swapping Values Via Packing and Unpacking"
      ]
    },
    {
      "cell_type": "markdown",
      "metadata": {
        "id": "MTPgcqTQF5iu"
      },
      "source": [
        "You can swap two variables’ values using sequence packing and unpacking."
      ]
    },
    {
      "cell_type": "code",
      "execution_count": 77,
      "metadata": {
        "id": "R5F5_55-Fpcu"
      },
      "outputs": [],
      "source": [
        "number1 = 99"
      ]
    },
    {
      "cell_type": "code",
      "execution_count": 78,
      "metadata": {
        "id": "8ULMlzVYFpcv"
      },
      "outputs": [],
      "source": [
        "number2 = 22"
      ]
    },
    {
      "cell_type": "code",
      "execution_count": 79,
      "metadata": {
        "id": "wkxbfzeUFpcw"
      },
      "outputs": [],
      "source": [
        "number1, number2 = (number2, number1)"
      ]
    },
    {
      "cell_type": "code",
      "execution_count": 80,
      "metadata": {
        "id": "nbDZ1uF-Fpcx"
      },
      "outputs": [
        {
          "name": "stdout",
          "output_type": "stream",
          "text": [
            "number1 = 22; number2 = 99\n"
          ]
        }
      ],
      "source": [
        "print(f'number1 = {number1}; number2 = {number2}')"
      ]
    },
    {
      "cell_type": "markdown",
      "metadata": {
        "id": "Io_6LQM0Fpcy"
      },
      "source": [
        "### Accessing Indices and Values Safely with Built-in Function enumerate"
      ]
    },
    {
      "cell_type": "markdown",
      "metadata": {
        "id": "j-SPEI4nGPDT"
      },
      "source": [
        "Earlier, we called `range` to produce a sequence of index values, then accessed list\n",
        "elements in a for loop using the index values and the subscription operator (`[]`). This\n",
        "is error-prone\n",
        "because you could pass the wrong arguments to `range`. If any value\n",
        "produced by `range` is an out-of-bounds\n",
        "index, using it as an index causes an\n",
        "`IndexError`."
      ]
    },
    {
      "cell_type": "markdown",
      "metadata": {
        "id": "-99cC7pAGW01"
      },
      "source": [
        "The preferred mechanism for accessing an element’s index and value is the builtin\n",
        "function `enumerate`. This function receives an iterable and creates an iterator that, for\n",
        "each element, returns a tuple containing the element’s index and value. The following\n",
        "code uses the builtin\n",
        "function list to create a list containing enumerate’s results:"
      ]
    },
    {
      "cell_type": "code",
      "execution_count": 81,
      "metadata": {
        "id": "RgKkitriFpcz"
      },
      "outputs": [],
      "source": [
        "colors = ['red', 'orange', 'yellow']"
      ]
    },
    {
      "cell_type": "code",
      "execution_count": 82,
      "metadata": {
        "id": "eJlAKsRJFpcz"
      },
      "outputs": [
        {
          "data": {
            "text/plain": [
              "[(0, 'red'), (1, 'orange'), (2, 'yellow')]"
            ]
          },
          "execution_count": 82,
          "metadata": {},
          "output_type": "execute_result"
        }
      ],
      "source": [
        "list(enumerate(colors))"
      ]
    },
    {
      "cell_type": "code",
      "execution_count": 83,
      "metadata": {
        "id": "u6JqRiEhFpc0"
      },
      "outputs": [
        {
          "data": {
            "text/plain": [
              "((0, 'red'), (1, 'orange'), (2, 'yellow'))"
            ]
          },
          "execution_count": 83,
          "metadata": {},
          "output_type": "execute_result"
        }
      ],
      "source": [
        "tuple(enumerate(colors))"
      ]
    },
    {
      "cell_type": "code",
      "execution_count": 84,
      "metadata": {
        "id": "3Qn0bIL9Fpc0"
      },
      "outputs": [
        {
          "name": "stdout",
          "output_type": "stream",
          "text": [
            "0: red\n",
            "1: orange\n",
            "2: yellow\n"
          ]
        }
      ],
      "source": [
        "for index, value in enumerate(colors):\n",
        "    print(f'{index}: {value}')"
      ]
    },
    {
      "cell_type": "markdown",
      "metadata": {
        "id": "rdGANxfMFpc1"
      },
      "source": [
        "### Creating a Primitive Bar Chart"
      ]
    },
    {
      "cell_type": "markdown",
      "metadata": {
        "id": "NOMORlRdGlIE"
      },
      "source": [
        "The following script creates a primitive bar chart where each bar’s length is made of\n",
        "asterisks (*) and is proportional to the list’s corresponding element value. We use the\n",
        "function `enumerate` to access the list’s indices and values safely."
      ]
    },
    {
      "cell_type": "code",
      "execution_count": 85,
      "metadata": {
        "id": "_4K0CPJ5Fpc2"
      },
      "outputs": [
        {
          "name": "stdout",
          "output_type": "stream",
          "text": [
            "\n",
            "Creating a bar chart from numbers:\n",
            "Index   Value   Bar\n",
            "    0      19   *******************\n",
            "    1       3   ***\n",
            "    2      15   ***************\n",
            "    3       7   *******\n",
            "    4      11   ***********\n"
          ]
        }
      ],
      "source": [
        "\"\"\"Displaying a bar chart\"\"\"\n",
        "numbers = [19, 3, 15, 7, 11]\n",
        "\n",
        "print('\\nCreating a bar chart from numbers:')\n",
        "print(f'Index{\"Value\":>8}   Bar')\n",
        "\n",
        "for index, value in enumerate(numbers):\n",
        "    print(f'{index:>5}{value:>8}   {\"*\" * value}')"
      ]
    },
    {
      "cell_type": "markdown",
      "metadata": {
        "id": "v4BbKNf_Gwsx"
      },
      "source": [
        "# Sequence Slicing"
      ]
    },
    {
      "cell_type": "markdown",
      "metadata": {
        "id": "6dbPSKfkG5t0"
      },
      "source": [
        "You can slice sequences to create new sequences of the same type containing subsets of\n",
        "the original elements. Slice operations can modify mutable sequences—those that do\n",
        "not modify a sequence work identically for lists, tuples and strings."
      ]
    },
    {
      "cell_type": "markdown",
      "metadata": {
        "id": "uDHdTdzkGws3"
      },
      "source": [
        "### Specifying a Slice with Starting and Ending Indices"
      ]
    },
    {
      "cell_type": "code",
      "execution_count": 86,
      "metadata": {
        "id": "SYKaAUG9Gws5"
      },
      "outputs": [],
      "source": [
        "numbers = [2, 3, 5, 7, 11, 13, 17, 19]"
      ]
    },
    {
      "cell_type": "code",
      "execution_count": 87,
      "metadata": {
        "id": "JMLIV6B3Gws7"
      },
      "outputs": [
        {
          "data": {
            "text/plain": [
              "[5, 7, 11, 13]"
            ]
          },
          "execution_count": 87,
          "metadata": {},
          "output_type": "execute_result"
        }
      ],
      "source": [
        "numbers[2:6]"
      ]
    },
    {
      "cell_type": "markdown",
      "metadata": {
        "id": "Wi8Aw9bqG-VA"
      },
      "source": [
        "The original list is not\n",
        "modified."
      ]
    },
    {
      "cell_type": "markdown",
      "metadata": {
        "id": "Z769JNQwGws7"
      },
      "source": [
        "### Specifying a Slice with Only an Ending Index"
      ]
    },
    {
      "cell_type": "markdown",
      "metadata": {
        "id": "wFHz5RSqHCp1"
      },
      "source": [
        "Compare both outputs, what can you deduce ?"
      ]
    },
    {
      "cell_type": "code",
      "execution_count": 88,
      "metadata": {
        "id": "KX2aAcoTGws8"
      },
      "outputs": [
        {
          "data": {
            "text/plain": [
              "[2, 3, 5, 7, 11, 13]"
            ]
          },
          "execution_count": 88,
          "metadata": {},
          "output_type": "execute_result"
        }
      ],
      "source": [
        "numbers[:6]"
      ]
    },
    {
      "cell_type": "code",
      "execution_count": 89,
      "metadata": {
        "id": "HuJAxB_IGws9"
      },
      "outputs": [
        {
          "data": {
            "text/plain": [
              "[2, 3, 5, 7, 11, 13]"
            ]
          },
          "execution_count": 89,
          "metadata": {},
          "output_type": "execute_result"
        }
      ],
      "source": [
        "numbers[0:6]"
      ]
    },
    {
      "cell_type": "markdown",
      "metadata": {
        "id": "eao1g89aGws_"
      },
      "source": [
        "### Specifying a Slice with Only a Starting Index"
      ]
    },
    {
      "cell_type": "markdown",
      "metadata": {
        "id": "VtliubR6HIEX"
      },
      "source": [
        "Compare both outputs, what can you deduce ?"
      ]
    },
    {
      "cell_type": "code",
      "execution_count": 90,
      "metadata": {
        "id": "23kqOBF3GwtA"
      },
      "outputs": [
        {
          "data": {
            "text/plain": [
              "[17, 19]"
            ]
          },
          "execution_count": 90,
          "metadata": {},
          "output_type": "execute_result"
        }
      ],
      "source": [
        "numbers[6:]"
      ]
    },
    {
      "cell_type": "code",
      "execution_count": 91,
      "metadata": {
        "id": "00aC_ADJGwtB"
      },
      "outputs": [
        {
          "data": {
            "text/plain": [
              "[17, 19]"
            ]
          },
          "execution_count": 91,
          "metadata": {},
          "output_type": "execute_result"
        }
      ],
      "source": [
        "numbers[6:len(numbers)]"
      ]
    },
    {
      "cell_type": "markdown",
      "metadata": {
        "id": "Gws7uGtwGwtC"
      },
      "source": [
        "### Specifying a Slice with No Indices"
      ]
    },
    {
      "cell_type": "markdown",
      "metadata": {
        "id": "uvchxHpPHKnS"
      },
      "source": [
        "Omitting both the start and end indices copies the entire sequence."
      ]
    },
    {
      "cell_type": "code",
      "execution_count": 92,
      "metadata": {
        "id": "pAD5AczpGwtD"
      },
      "outputs": [
        {
          "data": {
            "text/plain": [
              "[2, 3, 5, 7, 11, 13, 17, 19]"
            ]
          },
          "execution_count": 92,
          "metadata": {},
          "output_type": "execute_result"
        }
      ],
      "source": [
        "numbers[:]"
      ]
    },
    {
      "cell_type": "markdown",
      "metadata": {
        "id": "FV-v6SzmHRyb"
      },
      "source": [
        "Though slices create new objects, slices make shallow copies of the elements—that is,\n",
        "they copy the elements’ references but not the objects they point to. So, in the snippet\n",
        "above, the new list’s elements refer to the same objects as the original list’s elements,\n",
        "rather than to separate copies."
      ]
    },
    {
      "cell_type": "markdown",
      "metadata": {
        "id": "7IdHpHjhGwtG"
      },
      "source": [
        "### Slicing with Steps"
      ]
    },
    {
      "cell_type": "code",
      "execution_count": 93,
      "metadata": {
        "id": "gpoeH-_rGwtG"
      },
      "outputs": [
        {
          "data": {
            "text/plain": [
              "[2, 5, 11, 17]"
            ]
          },
          "execution_count": 93,
          "metadata": {},
          "output_type": "execute_result"
        }
      ],
      "source": [
        "numbers[::2]"
      ]
    },
    {
      "cell_type": "markdown",
      "metadata": {
        "id": "dOCkakTYGwtH"
      },
      "source": [
        "### Slicing with Negative Indices and Steps"
      ]
    },
    {
      "cell_type": "markdown",
      "metadata": {
        "id": "zepjV6wHHWNX"
      },
      "source": [
        "You can use a negative step to select slices in reverse order."
      ]
    },
    {
      "cell_type": "code",
      "execution_count": 94,
      "metadata": {
        "id": "2AOExf3fGwtH"
      },
      "outputs": [
        {
          "data": {
            "text/plain": [
              "[19, 17, 13, 11, 7, 5, 3, 2]"
            ]
          },
          "execution_count": 94,
          "metadata": {},
          "output_type": "execute_result"
        }
      ],
      "source": [
        "numbers[::-1]"
      ]
    },
    {
      "cell_type": "code",
      "execution_count": 95,
      "metadata": {
        "id": "uijcT82nGwtI"
      },
      "outputs": [
        {
          "data": {
            "text/plain": [
              "[19, 17, 13, 11, 7, 5, 3, 2]"
            ]
          },
          "execution_count": 95,
          "metadata": {},
          "output_type": "execute_result"
        }
      ],
      "source": [
        "numbers[-1:-9:-1]"
      ]
    },
    {
      "cell_type": "markdown",
      "metadata": {
        "id": "E0DHeWvlGwtI"
      },
      "source": [
        "### Modifying Lists Via Slices"
      ]
    },
    {
      "cell_type": "markdown",
      "metadata": {
        "id": "DTMW-MIAHZqO"
      },
      "source": [
        "You can modify a list by assigning to a slice of it—the rest of the list is unchanged."
      ]
    },
    {
      "cell_type": "code",
      "execution_count": 96,
      "metadata": {
        "id": "EmSuficpGwtJ"
      },
      "outputs": [],
      "source": [
        "numbers[0:3] = ['two', 'three', 'five']"
      ]
    },
    {
      "cell_type": "code",
      "execution_count": 97,
      "metadata": {
        "id": "OQBFVwywGwtJ"
      },
      "outputs": [
        {
          "data": {
            "text/plain": [
              "['two', 'three', 'five', 7, 11, 13, 17, 19]"
            ]
          },
          "execution_count": 97,
          "metadata": {},
          "output_type": "execute_result"
        }
      ],
      "source": [
        "numbers"
      ]
    },
    {
      "cell_type": "code",
      "execution_count": 98,
      "metadata": {
        "id": "4aHR2d4PGwtK"
      },
      "outputs": [],
      "source": [
        "numbers[0:3] = []"
      ]
    },
    {
      "cell_type": "code",
      "execution_count": 99,
      "metadata": {
        "id": "jGqFVTz8GwtK"
      },
      "outputs": [
        {
          "data": {
            "text/plain": [
              "[7, 11, 13, 17, 19]"
            ]
          },
          "execution_count": 99,
          "metadata": {},
          "output_type": "execute_result"
        }
      ],
      "source": [
        "numbers"
      ]
    },
    {
      "cell_type": "code",
      "execution_count": 100,
      "metadata": {
        "id": "_5tPo4uCGwtL"
      },
      "outputs": [],
      "source": [
        "numbers = [2, 3, 5, 7, 11, 13, 17, 19]"
      ]
    },
    {
      "cell_type": "code",
      "execution_count": 102,
      "metadata": {
        "id": "PnZwECq-GwtL"
      },
      "outputs": [],
      "source": [
        "numbers[::2] = [100, 100, 100, 100]"
      ]
    },
    {
      "cell_type": "code",
      "execution_count": 103,
      "metadata": {
        "id": "wQjSpwhlGwtM"
      },
      "outputs": [
        {
          "data": {
            "text/plain": [
              "[100, 3, 100, 7, 100, 13, 100, 19]"
            ]
          },
          "execution_count": 103,
          "metadata": {},
          "output_type": "execute_result"
        }
      ],
      "source": [
        "numbers"
      ]
    },
    {
      "cell_type": "code",
      "execution_count": 104,
      "metadata": {
        "id": "YHUl6fUaGwtM"
      },
      "outputs": [
        {
          "data": {
            "text/plain": [
              "2055593184576"
            ]
          },
          "execution_count": 104,
          "metadata": {},
          "output_type": "execute_result"
        }
      ],
      "source": [
        "id(numbers)"
      ]
    },
    {
      "cell_type": "code",
      "execution_count": 105,
      "metadata": {
        "id": "9ucraLttGwtM"
      },
      "outputs": [],
      "source": [
        "numbers[:] = []"
      ]
    },
    {
      "cell_type": "code",
      "execution_count": 106,
      "metadata": {
        "id": "neLZYrxsGwtN"
      },
      "outputs": [
        {
          "data": {
            "text/plain": [
              "[]"
            ]
          },
          "execution_count": 106,
          "metadata": {},
          "output_type": "execute_result"
        }
      ],
      "source": [
        "numbers"
      ]
    },
    {
      "cell_type": "code",
      "execution_count": 107,
      "metadata": {
        "id": "MPZ5J-2SGwtN"
      },
      "outputs": [
        {
          "data": {
            "text/plain": [
              "2055593184576"
            ]
          },
          "execution_count": 107,
          "metadata": {},
          "output_type": "execute_result"
        }
      ],
      "source": [
        "id(numbers)"
      ]
    },
    {
      "cell_type": "code",
      "execution_count": null,
      "metadata": {
        "id": "QYV4IV6CGwtN"
      },
      "outputs": [],
      "source": [
        "numbers = []"
      ]
    },
    {
      "cell_type": "code",
      "execution_count": null,
      "metadata": {
        "id": "ZbrZ212KGwtN"
      },
      "outputs": [],
      "source": [
        "numbers"
      ]
    },
    {
      "cell_type": "code",
      "execution_count": null,
      "metadata": {
        "id": "aSJPRuknGwtO"
      },
      "outputs": [],
      "source": [
        "id(numbers)"
      ]
    },
    {
      "cell_type": "markdown",
      "metadata": {
        "id": "12ensGPaHlMf"
      },
      "source": [
        "#  del Statement"
      ]
    },
    {
      "cell_type": "markdown",
      "metadata": {
        "id": "sTucg0uaHrPh"
      },
      "source": [
        "The del statement also can be used to remove elements from a list and to delete\n",
        "variables from the interactive session. You can remove the element at any valid index or\n",
        "the element(s) from any valid slice."
      ]
    },
    {
      "cell_type": "markdown",
      "metadata": {
        "id": "w4JVdY4RHlMo"
      },
      "source": [
        "### Deleting the Element at a Specific List Index"
      ]
    },
    {
      "cell_type": "code",
      "execution_count": 108,
      "metadata": {
        "id": "p1SWmclmHlMp"
      },
      "outputs": [],
      "source": [
        "numbers = list(range(0, 10))"
      ]
    },
    {
      "cell_type": "code",
      "execution_count": 109,
      "metadata": {
        "id": "DfktUmSzHlMs"
      },
      "outputs": [
        {
          "data": {
            "text/plain": [
              "[0, 1, 2, 3, 4, 5, 6, 7, 8, 9]"
            ]
          },
          "execution_count": 109,
          "metadata": {},
          "output_type": "execute_result"
        }
      ],
      "source": [
        "numbers"
      ]
    },
    {
      "cell_type": "code",
      "execution_count": 110,
      "metadata": {
        "id": "0dxSBDWJHlMu"
      },
      "outputs": [],
      "source": [
        "del numbers[-1]"
      ]
    },
    {
      "cell_type": "code",
      "execution_count": 111,
      "metadata": {
        "id": "ZNPRkrK7HlMu"
      },
      "outputs": [
        {
          "data": {
            "text/plain": [
              "[0, 1, 2, 3, 4, 5, 6, 7, 8]"
            ]
          },
          "execution_count": 111,
          "metadata": {},
          "output_type": "execute_result"
        }
      ],
      "source": [
        "numbers"
      ]
    },
    {
      "cell_type": "markdown",
      "metadata": {
        "id": "zMRwU_WuHlMv"
      },
      "source": [
        "### Deleting a Slice from a List"
      ]
    },
    {
      "cell_type": "code",
      "execution_count": 112,
      "metadata": {
        "id": "oMaT0AyAHlMx"
      },
      "outputs": [],
      "source": [
        "del numbers[0:2]"
      ]
    },
    {
      "cell_type": "code",
      "execution_count": 113,
      "metadata": {
        "id": "CHj25UVqHlMy"
      },
      "outputs": [
        {
          "data": {
            "text/plain": [
              "[2, 3, 4, 5, 6, 7, 8]"
            ]
          },
          "execution_count": 113,
          "metadata": {},
          "output_type": "execute_result"
        }
      ],
      "source": [
        "numbers"
      ]
    },
    {
      "cell_type": "code",
      "execution_count": 114,
      "metadata": {
        "id": "dkv3kUAaHlMz"
      },
      "outputs": [],
      "source": [
        "del numbers[::2]"
      ]
    },
    {
      "cell_type": "code",
      "execution_count": 115,
      "metadata": {
        "id": "nv3DOc7KHlM1"
      },
      "outputs": [
        {
          "data": {
            "text/plain": [
              "[3, 5, 7]"
            ]
          },
          "execution_count": 115,
          "metadata": {},
          "output_type": "execute_result"
        }
      ],
      "source": [
        "numbers"
      ]
    },
    {
      "cell_type": "markdown",
      "metadata": {
        "id": "yyW8AQeZHlM1"
      },
      "source": [
        "### Deleting a Slice Representing the Entire List"
      ]
    },
    {
      "cell_type": "code",
      "execution_count": 116,
      "metadata": {
        "id": "151WYBonHlM2"
      },
      "outputs": [],
      "source": [
        "del numbers[:]"
      ]
    },
    {
      "cell_type": "code",
      "execution_count": 117,
      "metadata": {
        "id": "hdyxN0XzHlM3"
      },
      "outputs": [
        {
          "data": {
            "text/plain": [
              "[]"
            ]
          },
          "execution_count": 117,
          "metadata": {},
          "output_type": "execute_result"
        }
      ],
      "source": [
        "numbers"
      ]
    },
    {
      "cell_type": "markdown",
      "metadata": {
        "id": "VBiOzzAwHlM4"
      },
      "source": [
        "### Deleting a Variable from the Current Session"
      ]
    },
    {
      "cell_type": "code",
      "execution_count": 118,
      "metadata": {
        "id": "Bu5oRiOvHlM4"
      },
      "outputs": [],
      "source": [
        "del numbers"
      ]
    },
    {
      "cell_type": "code",
      "execution_count": 119,
      "metadata": {
        "id": "Se5A4J7uHlM5"
      },
      "outputs": [
        {
          "ename": "NameError",
          "evalue": "name 'numbers' is not defined",
          "output_type": "error",
          "traceback": [
            "\u001b[1;31m---------------------------------------------------------------------------\u001b[0m",
            "\u001b[1;31mNameError\u001b[0m                                 Traceback (most recent call last)",
            "\u001b[1;32m~\\AppData\\Local\\Temp/ipykernel_15252/2509821283.py\u001b[0m in \u001b[0;36m<module>\u001b[1;34m\u001b[0m\n\u001b[1;32m----> 1\u001b[1;33m \u001b[0mnumbers\u001b[0m\u001b[1;33m\u001b[0m\u001b[1;33m\u001b[0m\u001b[0m\n\u001b[0m",
            "\u001b[1;31mNameError\u001b[0m: name 'numbers' is not defined"
          ]
        }
      ],
      "source": [
        "numbers"
      ]
    },
    {
      "cell_type": "markdown",
      "metadata": {
        "id": "WiFc8cW5H0fr"
      },
      "source": [
        "#  Passing Lists to Functions"
      ]
    },
    {
      "cell_type": "markdown",
      "metadata": {
        "id": "px432ZxlH0fy"
      },
      "source": [
        "### Passing an Entire List to a Function"
      ]
    },
    {
      "cell_type": "code",
      "execution_count": 120,
      "metadata": {
        "id": "mj_94jZhH0fz"
      },
      "outputs": [],
      "source": [
        "def modify_elements(items):\n",
        "    \"\"\"\"Multiplies all element values in items by 2.\"\"\"\n",
        "    for i in range(len(items)):\n",
        "        items[i] *= 2"
      ]
    },
    {
      "cell_type": "code",
      "execution_count": 121,
      "metadata": {
        "id": "V0vkvVqQH0f2"
      },
      "outputs": [],
      "source": [
        "numbers = [10, 3, 7, 1, 9]"
      ]
    },
    {
      "cell_type": "code",
      "execution_count": 122,
      "metadata": {
        "id": "apL9KmTcH0f3"
      },
      "outputs": [],
      "source": [
        "modify_elements(numbers)"
      ]
    },
    {
      "cell_type": "code",
      "execution_count": 123,
      "metadata": {
        "id": "029L6HBJH0f3"
      },
      "outputs": [
        {
          "data": {
            "text/plain": [
              "[20, 6, 14, 2, 18]"
            ]
          },
          "execution_count": 123,
          "metadata": {},
          "output_type": "execute_result"
        }
      ],
      "source": [
        "numbers"
      ]
    },
    {
      "cell_type": "markdown",
      "metadata": {
        "id": "wAnjshH1H0f4"
      },
      "source": [
        "### Passing a Tuple to a Function"
      ]
    },
    {
      "cell_type": "code",
      "execution_count": 124,
      "metadata": {
        "id": "YxuwlWg9H0f6"
      },
      "outputs": [],
      "source": [
        "numbers_tuple = (10, 20, 30)"
      ]
    },
    {
      "cell_type": "code",
      "execution_count": 125,
      "metadata": {
        "id": "DDANqb3fH0f8"
      },
      "outputs": [
        {
          "data": {
            "text/plain": [
              "(10, 20, 30)"
            ]
          },
          "execution_count": 125,
          "metadata": {},
          "output_type": "execute_result"
        }
      ],
      "source": [
        "numbers_tuple"
      ]
    },
    {
      "cell_type": "code",
      "execution_count": 126,
      "metadata": {
        "id": "Ez_C356pH0f_"
      },
      "outputs": [
        {
          "ename": "TypeError",
          "evalue": "'tuple' object does not support item assignment",
          "output_type": "error",
          "traceback": [
            "\u001b[1;31m---------------------------------------------------------------------------\u001b[0m",
            "\u001b[1;31mTypeError\u001b[0m                                 Traceback (most recent call last)",
            "\u001b[1;32m~\\AppData\\Local\\Temp/ipykernel_15252/3211856685.py\u001b[0m in \u001b[0;36m<module>\u001b[1;34m\u001b[0m\n\u001b[1;32m----> 1\u001b[1;33m \u001b[0mmodify_elements\u001b[0m\u001b[1;33m(\u001b[0m\u001b[0mnumbers_tuple\u001b[0m\u001b[1;33m)\u001b[0m\u001b[1;33m\u001b[0m\u001b[1;33m\u001b[0m\u001b[0m\n\u001b[0m",
            "\u001b[1;32m~\\AppData\\Local\\Temp/ipykernel_15252/3456428931.py\u001b[0m in \u001b[0;36mmodify_elements\u001b[1;34m(items)\u001b[0m\n\u001b[0;32m      2\u001b[0m     \u001b[1;34m\"\"\"\"Multiplies all element values in items by 2.\"\"\"\u001b[0m\u001b[1;33m\u001b[0m\u001b[1;33m\u001b[0m\u001b[0m\n\u001b[0;32m      3\u001b[0m     \u001b[1;32mfor\u001b[0m \u001b[0mi\u001b[0m \u001b[1;32min\u001b[0m \u001b[0mrange\u001b[0m\u001b[1;33m(\u001b[0m\u001b[0mlen\u001b[0m\u001b[1;33m(\u001b[0m\u001b[0mitems\u001b[0m\u001b[1;33m)\u001b[0m\u001b[1;33m)\u001b[0m\u001b[1;33m:\u001b[0m\u001b[1;33m\u001b[0m\u001b[1;33m\u001b[0m\u001b[0m\n\u001b[1;32m----> 4\u001b[1;33m         \u001b[0mitems\u001b[0m\u001b[1;33m[\u001b[0m\u001b[0mi\u001b[0m\u001b[1;33m]\u001b[0m \u001b[1;33m*=\u001b[0m \u001b[1;36m2\u001b[0m\u001b[1;33m\u001b[0m\u001b[1;33m\u001b[0m\u001b[0m\n\u001b[0m",
            "\u001b[1;31mTypeError\u001b[0m: 'tuple' object does not support item assignment"
          ]
        }
      ],
      "source": [
        "modify_elements(numbers_tuple)"
      ]
    },
    {
      "cell_type": "markdown",
      "metadata": {
        "id": "TS7fdETzH0gB"
      },
      "source": [
        "### A Note Regarding Tracebacks"
      ]
    },
    {
      "cell_type": "markdown",
      "metadata": {
        "id": "Ek4EUYLZIJAl"
      },
      "source": [
        "The previous traceback shows the two snippets that led to the TypeError. The first is\n",
        "snippet [7]’s function call. The second is snippet [1]’s function definition. Line\n",
        "numbers precede each snippet’s code. We’ve demonstrated mostly single-line\n",
        "snippets.\n",
        "When an exception occurs in such a snippet, it’s always preceded by ---->\n",
        "1,\n",
        "indicating that line 1 (the snippet’s only line) caused the exception. Multiline snippets\n",
        "like the definition of modify_elements show consecutive line numbers starting at 1.\n",
        "The notation ---->\n",
        "4 above indicates that the exception occurred in line 4 of\n",
        "modify_elements. No matter how long the traceback is, the last line of code with ---->\n",
        "caused the exception."
      ]
    },
    {
      "cell_type": "markdown",
      "metadata": {
        "id": "JiS_lu3OIa5a"
      },
      "source": [
        "# Sorting Lists"
      ]
    },
    {
      "cell_type": "markdown",
      "metadata": {
        "id": "kRtyItl_Ia5m"
      },
      "source": [
        "### Sorting a List in Ascending Order"
      ]
    },
    {
      "cell_type": "markdown",
      "metadata": {
        "id": "bFYcOFUPInQc"
      },
      "source": [
        "List method `sort` modifies a list to arrange its elements in ascending order."
      ]
    },
    {
      "cell_type": "code",
      "execution_count": null,
      "metadata": {
        "id": "OelvSUkZIa5n"
      },
      "outputs": [],
      "source": [
        "numbers = [10, 3, 7, 1, 9, 4, 2, 8, 5, 6]"
      ]
    },
    {
      "cell_type": "code",
      "execution_count": null,
      "metadata": {
        "id": "ewRUMXUNIa5p"
      },
      "outputs": [],
      "source": [
        "numbers.sort()"
      ]
    },
    {
      "cell_type": "code",
      "execution_count": null,
      "metadata": {
        "id": "lohr8l8hIa5q"
      },
      "outputs": [],
      "source": [
        "numbers"
      ]
    },
    {
      "cell_type": "markdown",
      "metadata": {
        "id": "HGZmQRMOIa5r"
      },
      "source": [
        "### Sorting a List in Descending Order"
      ]
    },
    {
      "cell_type": "markdown",
      "metadata": {
        "id": "zxI46SdQIlAO"
      },
      "source": [
        "To sort a list in descending order, call list method `sort` with the optional keyword\n",
        "argument **reverse** set\n",
        "to `True` (`False` is the default)"
      ]
    },
    {
      "cell_type": "code",
      "execution_count": null,
      "metadata": {
        "id": "2_yLqFpIIa5r"
      },
      "outputs": [],
      "source": [
        "numbers.sort(reverse=True)"
      ]
    },
    {
      "cell_type": "code",
      "execution_count": null,
      "metadata": {
        "id": "TdRWqm8LIa5t"
      },
      "outputs": [],
      "source": [
        "numbers"
      ]
    },
    {
      "cell_type": "markdown",
      "metadata": {
        "id": "Sq3eqF3TIa5v"
      },
      "source": [
        "### Built-In Function `sorted`"
      ]
    },
    {
      "cell_type": "markdown",
      "metadata": {
        "id": "ORB6cOkXIzxL"
      },
      "source": [
        "Builtin\n",
        "function `sorted` returns a **new** list containing the sorted elements of its\n",
        "argument sequence—the original sequence is unmodified."
      ]
    },
    {
      "cell_type": "code",
      "execution_count": 127,
      "metadata": {
        "id": "uefwdzhoIa5w"
      },
      "outputs": [],
      "source": [
        "numbers = [10, 3, 7, 1, 9, 4, 2, 8, 5, 6]"
      ]
    },
    {
      "cell_type": "code",
      "execution_count": 128,
      "metadata": {
        "id": "zgD95UuIIa5x"
      },
      "outputs": [],
      "source": [
        "ascending_numbers = sorted(numbers)"
      ]
    },
    {
      "cell_type": "code",
      "execution_count": 129,
      "metadata": {
        "id": "qx4UfK7wIa5z"
      },
      "outputs": [
        {
          "data": {
            "text/plain": [
              "[1, 2, 3, 4, 5, 6, 7, 8, 9, 10]"
            ]
          },
          "execution_count": 129,
          "metadata": {},
          "output_type": "execute_result"
        }
      ],
      "source": [
        "ascending_numbers"
      ]
    },
    {
      "cell_type": "code",
      "execution_count": 130,
      "metadata": {
        "id": "hLBcdo0JIa50"
      },
      "outputs": [
        {
          "data": {
            "text/plain": [
              "[10, 3, 7, 1, 9, 4, 2, 8, 5, 6]"
            ]
          },
          "execution_count": 130,
          "metadata": {},
          "output_type": "execute_result"
        }
      ],
      "source": [
        "numbers"
      ]
    },
    {
      "cell_type": "code",
      "execution_count": 131,
      "metadata": {
        "id": "xnYL6rOQIa50"
      },
      "outputs": [],
      "source": [
        "letters = 'fadgchjebi'"
      ]
    },
    {
      "cell_type": "code",
      "execution_count": 132,
      "metadata": {
        "id": "X5SjBeuUIa51"
      },
      "outputs": [],
      "source": [
        "ascending_letters = sorted(letters)"
      ]
    },
    {
      "cell_type": "code",
      "execution_count": 133,
      "metadata": {
        "id": "DJf5pgMIIa51"
      },
      "outputs": [
        {
          "data": {
            "text/plain": [
              "['a', 'b', 'c', 'd', 'e', 'f', 'g', 'h', 'i', 'j']"
            ]
          },
          "execution_count": 133,
          "metadata": {},
          "output_type": "execute_result"
        }
      ],
      "source": [
        "ascending_letters"
      ]
    },
    {
      "cell_type": "code",
      "execution_count": 134,
      "metadata": {
        "id": "vwwZnPJZIa52"
      },
      "outputs": [
        {
          "data": {
            "text/plain": [
              "'fadgchjebi'"
            ]
          },
          "execution_count": 134,
          "metadata": {},
          "output_type": "execute_result"
        }
      ],
      "source": [
        "letters"
      ]
    },
    {
      "cell_type": "code",
      "execution_count": 135,
      "metadata": {
        "id": "6_W3FQfgIa52"
      },
      "outputs": [],
      "source": [
        "colors = ('red', 'orange', 'yellow', 'green', 'blue')"
      ]
    },
    {
      "cell_type": "code",
      "execution_count": 136,
      "metadata": {
        "id": "DrEjnOKRIa53"
      },
      "outputs": [],
      "source": [
        "ascending_colors = sorted(colors)"
      ]
    },
    {
      "cell_type": "code",
      "execution_count": 137,
      "metadata": {
        "id": "hmvPBwk6Ia53"
      },
      "outputs": [
        {
          "data": {
            "text/plain": [
              "['blue', 'green', 'orange', 'red', 'yellow']"
            ]
          },
          "execution_count": 137,
          "metadata": {},
          "output_type": "execute_result"
        }
      ],
      "source": [
        "ascending_colors"
      ]
    },
    {
      "cell_type": "code",
      "execution_count": 138,
      "metadata": {
        "id": "fDNFo31nIa54"
      },
      "outputs": [
        {
          "data": {
            "text/plain": [
              "('red', 'orange', 'yellow', 'green', 'blue')"
            ]
          },
          "execution_count": 138,
          "metadata": {},
          "output_type": "execute_result"
        }
      ],
      "source": [
        "colors"
      ]
    },
    {
      "cell_type": "markdown",
      "metadata": {
        "id": "AY_G3T-gJA17"
      },
      "source": [
        "# Searching Sequences"
      ]
    },
    {
      "cell_type": "markdown",
      "metadata": {
        "id": "hWNc3cp-JHfw"
      },
      "source": [
        "Often, you’ll want to determine whether a sequence (such as a list, tuple or string)\n",
        "contains a value that matches a particular key value. Searching is the process of\n",
        "locating a key."
      ]
    },
    {
      "cell_type": "markdown",
      "metadata": {
        "id": "F83FxVbEJA2E"
      },
      "source": [
        "### List Method index"
      ]
    },
    {
      "cell_type": "markdown",
      "metadata": {
        "id": "-UU8O9C6JKnD"
      },
      "source": [
        "List method index takes as an argument a search key—the value to locate in the list—\n",
        "then searches through the list from index 0 and returns the index of the first element\n",
        "that matches the search key."
      ]
    },
    {
      "cell_type": "code",
      "execution_count": 140,
      "metadata": {
        "id": "W1t-NpjKJA2F"
      },
      "outputs": [],
      "source": [
        "numbers = [3, 7, 1, 4, 2, 8, 5, 6]"
      ]
    },
    {
      "cell_type": "code",
      "execution_count": 141,
      "metadata": {
        "id": "FHbtYOO8JA2H"
      },
      "outputs": [
        {
          "data": {
            "text/plain": [
              "6"
            ]
          },
          "execution_count": 141,
          "metadata": {},
          "output_type": "execute_result"
        }
      ],
      "source": [
        "numbers.index(5)"
      ]
    },
    {
      "cell_type": "markdown",
      "metadata": {
        "id": "FM21fYltJA2I"
      },
      "source": [
        "### Specifying the Starting Index of a Search"
      ]
    },
    {
      "cell_type": "code",
      "execution_count": 142,
      "metadata": {
        "id": "eBw4BbBUJA2J"
      },
      "outputs": [],
      "source": [
        "numbers *= 2"
      ]
    },
    {
      "cell_type": "markdown",
      "metadata": {
        "id": "FKW53JVzJVxu"
      },
      "source": [
        "*= to multiply a sequence—that is, append a sequence to itself multiple\n",
        "times."
      ]
    },
    {
      "cell_type": "code",
      "execution_count": 143,
      "metadata": {
        "id": "QTqvGb3vJA2K"
      },
      "outputs": [
        {
          "data": {
            "text/plain": [
              "[3, 7, 1, 4, 2, 8, 5, 6, 3, 7, 1, 4, 2, 8, 5, 6]"
            ]
          },
          "execution_count": 143,
          "metadata": {},
          "output_type": "execute_result"
        }
      ],
      "source": [
        "numbers"
      ]
    },
    {
      "cell_type": "markdown",
      "metadata": {
        "id": "y7UMwt-qJaBS"
      },
      "source": [
        "The following code searches the updated list for the value 5 starting from index 7 and\n",
        "continuing through the end of the list."
      ]
    },
    {
      "cell_type": "code",
      "execution_count": null,
      "metadata": {
        "id": "bp9op8C8JA2L"
      },
      "outputs": [],
      "source": [
        "numbers.index(5, 7)"
      ]
    },
    {
      "cell_type": "markdown",
      "metadata": {
        "id": "q9WfSMILJA2M"
      },
      "source": [
        "### Specifying the Starting and Ending Indices of a Search"
      ]
    },
    {
      "cell_type": "markdown",
      "metadata": {
        "id": "fADFy_uxJj_y"
      },
      "source": [
        "Specifying the starting and ending indices causes index to search from the starting\n",
        "index up to but not including the ending index location."
      ]
    },
    {
      "cell_type": "code",
      "execution_count": null,
      "metadata": {
        "id": "SeKMLmy8JA2N"
      },
      "outputs": [],
      "source": [
        "numbers.index(7, 0, 4)"
      ]
    },
    {
      "cell_type": "code",
      "execution_count": null,
      "metadata": {
        "id": "RNqYSpusJnWQ"
      },
      "outputs": [],
      "source": [
        "numbers.index(7, 0, len(numbers))"
      ]
    },
    {
      "cell_type": "markdown",
      "metadata": {
        "id": "Mgdx4pUEJA2O"
      },
      "source": [
        "### Operators `in` and `not in`"
      ]
    },
    {
      "cell_type": "code",
      "execution_count": 144,
      "metadata": {
        "id": "rjbao3L-JA2P"
      },
      "outputs": [
        {
          "data": {
            "text/plain": [
              "False"
            ]
          },
          "execution_count": 144,
          "metadata": {},
          "output_type": "execute_result"
        }
      ],
      "source": [
        "1000 in numbers"
      ]
    },
    {
      "cell_type": "code",
      "execution_count": 145,
      "metadata": {
        "id": "dM9sl_6RJA2R"
      },
      "outputs": [
        {
          "data": {
            "text/plain": [
              "True"
            ]
          },
          "execution_count": 145,
          "metadata": {},
          "output_type": "execute_result"
        }
      ],
      "source": [
        "5 in numbers"
      ]
    },
    {
      "cell_type": "code",
      "execution_count": 146,
      "metadata": {
        "id": "4S8j2SbvJA2S"
      },
      "outputs": [
        {
          "data": {
            "text/plain": [
              "True"
            ]
          },
          "execution_count": 146,
          "metadata": {},
          "output_type": "execute_result"
        }
      ],
      "source": [
        "1000 not in numbers"
      ]
    },
    {
      "cell_type": "code",
      "execution_count": 147,
      "metadata": {
        "id": "WV4thlZNJA2S"
      },
      "outputs": [
        {
          "data": {
            "text/plain": [
              "False"
            ]
          },
          "execution_count": 147,
          "metadata": {},
          "output_type": "execute_result"
        }
      ],
      "source": [
        "5 not in numbers"
      ]
    },
    {
      "cell_type": "markdown",
      "metadata": {
        "id": "kG-uqv7qJA2T"
      },
      "source": [
        "### Using Operator `in` to Prevent a `ValueError`"
      ]
    },
    {
      "cell_type": "markdown",
      "metadata": {
        "id": "WwfoPGMGJ1ah"
      },
      "source": [
        "You can use the operator in to ensure that calls to method index do not result in\n",
        "`ValueErrors` for search keys that are not in the corresponding sequence."
      ]
    },
    {
      "cell_type": "code",
      "execution_count": 149,
      "metadata": {
        "id": "VcfnNObOJA2T"
      },
      "outputs": [],
      "source": [
        "key = 1000"
      ]
    },
    {
      "cell_type": "code",
      "execution_count": 150,
      "metadata": {
        "id": "eE3NUCAvJA2U"
      },
      "outputs": [
        {
          "name": "stdout",
          "output_type": "stream",
          "text": [
            "1000 not found\n"
          ]
        }
      ],
      "source": [
        "if key in numbers:\n",
        "    print(f'found {key} at index {numbers.index(search_key)}')\n",
        "else:\n",
        "    print(f'{key} not found')"
      ]
    },
    {
      "cell_type": "markdown",
      "metadata": {
        "id": "TKU5PXjXJA2V"
      },
      "source": [
        "### Built-In Functions `any` and `all`"
      ]
    },
    {
      "cell_type": "markdown",
      "metadata": {
        "id": "jMufbEvwJ5wE"
      },
      "source": [
        "Sometimes you simply need to know whether any item in an iterable is `True` or\n",
        "whether all the items are `True`. The built-in\n",
        "function `any` returns `True` if any item in\n",
        "its iterable argument is `True`. The built-in\n",
        "function `all` returns `True` if all items in its\n",
        "iterable argument are `True`. Recall that nonzero values are `True` and 0 is `False`. Non-empty\n",
        "iterable objects also evaluate to `True`, whereas any empty iterable evaluates to\n",
        "`False`. Functions any and all are additional examples of internal iteration in\n",
        "functional-style\n",
        "programming."
      ]
    },
    {
      "cell_type": "markdown",
      "metadata": {
        "id": "pniDlmLZKKSM"
      },
      "source": [
        "#  Other List Methods "
      ]
    },
    {
      "cell_type": "code",
      "execution_count": 151,
      "metadata": {
        "id": "Tu9lFve1KKSU"
      },
      "outputs": [],
      "source": [
        "color_names = ['orange', 'yellow', 'green']"
      ]
    },
    {
      "cell_type": "markdown",
      "metadata": {
        "id": "3P5bIO-xKKSW"
      },
      "source": [
        "### Inserting an Element at a Specific List Index"
      ]
    },
    {
      "cell_type": "markdown",
      "metadata": {
        "id": "F7UW8zegLPd-"
      },
      "source": [
        "Method insert adds a new item at a specified index."
      ]
    },
    {
      "cell_type": "code",
      "execution_count": 152,
      "metadata": {
        "id": "Bm8v2HVNKKSX"
      },
      "outputs": [],
      "source": [
        "color_names.insert(0, 'red')"
      ]
    },
    {
      "cell_type": "code",
      "execution_count": 153,
      "metadata": {
        "id": "9Ioa51IAKKSX"
      },
      "outputs": [
        {
          "data": {
            "text/plain": [
              "['red', 'orange', 'yellow', 'green']"
            ]
          },
          "execution_count": 153,
          "metadata": {},
          "output_type": "execute_result"
        }
      ],
      "source": [
        "color_names"
      ]
    },
    {
      "cell_type": "markdown",
      "metadata": {
        "id": "XbnEMRq7KKSY"
      },
      "source": [
        "### Adding an Element to the End of a List"
      ]
    },
    {
      "cell_type": "markdown",
      "metadata": {
        "id": "EYD704qmLR1c"
      },
      "source": [
        "You can add a new item to the end of a list with method `append`."
      ]
    },
    {
      "cell_type": "code",
      "execution_count": 155,
      "metadata": {
        "id": "wvC6XqMhKKSZ"
      },
      "outputs": [],
      "source": [
        "color_names.append('blue')"
      ]
    },
    {
      "cell_type": "code",
      "execution_count": 156,
      "metadata": {
        "id": "sEcdLBQxKKSa"
      },
      "outputs": [
        {
          "data": {
            "text/plain": [
              "['red', 'orange', 'yellow', 'green', 'indigo', 'violet', 'blue']"
            ]
          },
          "execution_count": 156,
          "metadata": {},
          "output_type": "execute_result"
        }
      ],
      "source": [
        "color_names"
      ]
    },
    {
      "cell_type": "markdown",
      "metadata": {
        "id": "rtBfeRikKKSb"
      },
      "source": [
        "### Adding All the Elements of a Sequence to the End of a List"
      ]
    },
    {
      "cell_type": "markdown",
      "metadata": {
        "id": "PygAM4hZLWPI"
      },
      "source": [
        "Use list method `extend` to add all the elements of another sequence to the end of a list."
      ]
    },
    {
      "cell_type": "code",
      "execution_count": 157,
      "metadata": {
        "id": "FaHE4GCAKKSc"
      },
      "outputs": [],
      "source": [
        "color_names.extend(['indigo', 'violet'])"
      ]
    },
    {
      "cell_type": "code",
      "execution_count": 158,
      "metadata": {
        "id": "96UV-ntAKKSd"
      },
      "outputs": [
        {
          "data": {
            "text/plain": [
              "['red',\n",
              " 'orange',\n",
              " 'yellow',\n",
              " 'green',\n",
              " 'indigo',\n",
              " 'violet',\n",
              " 'blue',\n",
              " 'indigo',\n",
              " 'violet']"
            ]
          },
          "execution_count": 158,
          "metadata": {},
          "output_type": "execute_result"
        }
      ],
      "source": [
        "color_names"
      ]
    },
    {
      "cell_type": "code",
      "execution_count": 159,
      "metadata": {
        "id": "dP_Vhhj7KKSe"
      },
      "outputs": [],
      "source": [
        "sample_list = []"
      ]
    },
    {
      "cell_type": "code",
      "execution_count": 160,
      "metadata": {
        "id": "k1j5Y-XFKKSf"
      },
      "outputs": [],
      "source": [
        "s = 'abc'"
      ]
    },
    {
      "cell_type": "code",
      "execution_count": 161,
      "metadata": {
        "id": "KT0chy0qKKSg"
      },
      "outputs": [],
      "source": [
        "sample_list.extend(s)"
      ]
    },
    {
      "cell_type": "code",
      "execution_count": 162,
      "metadata": {
        "id": "koI0G2WYKKSg"
      },
      "outputs": [
        {
          "data": {
            "text/plain": [
              "['a', 'b', 'c']"
            ]
          },
          "execution_count": 162,
          "metadata": {},
          "output_type": "execute_result"
        }
      ],
      "source": [
        "sample_list"
      ]
    },
    {
      "cell_type": "code",
      "execution_count": 163,
      "metadata": {
        "id": "OVai5v5tKKSh"
      },
      "outputs": [],
      "source": [
        "t = (1, 2, 3)"
      ]
    },
    {
      "cell_type": "code",
      "execution_count": 164,
      "metadata": {
        "id": "wHaIJXdsKKSh"
      },
      "outputs": [],
      "source": [
        "sample_list.extend(t)"
      ]
    },
    {
      "cell_type": "code",
      "execution_count": 165,
      "metadata": {
        "id": "l5DdAjbZKKSi"
      },
      "outputs": [
        {
          "data": {
            "text/plain": [
              "['a', 'b', 'c', 1, 2, 3]"
            ]
          },
          "execution_count": 165,
          "metadata": {},
          "output_type": "execute_result"
        }
      ],
      "source": [
        "sample_list"
      ]
    },
    {
      "cell_type": "code",
      "execution_count": 166,
      "metadata": {
        "id": "p1z9LzZeKKSi"
      },
      "outputs": [],
      "source": [
        "sample_list.extend((4, 5, 6))  # note the extra parentheses"
      ]
    },
    {
      "cell_type": "code",
      "execution_count": 167,
      "metadata": {
        "id": "5kwvq2lmKKSj"
      },
      "outputs": [
        {
          "data": {
            "text/plain": [
              "['a', 'b', 'c', 1, 2, 3, 4, 5, 6]"
            ]
          },
          "execution_count": 167,
          "metadata": {},
          "output_type": "execute_result"
        }
      ],
      "source": [
        "sample_list"
      ]
    },
    {
      "cell_type": "markdown",
      "metadata": {
        "id": "jzJjxzfkKKSj"
      },
      "source": [
        "### Removing the First Occurrence of an Element in a List "
      ]
    },
    {
      "cell_type": "markdown",
      "metadata": {
        "id": "dOv7V7NKLaQR"
      },
      "source": [
        "Method `remove` deletes the first element with a specified value—a `ValueError` occurs\n",
        "if remove’s argument is not in the list."
      ]
    },
    {
      "cell_type": "code",
      "execution_count": null,
      "metadata": {
        "id": "aPkWcQZvKKSk"
      },
      "outputs": [],
      "source": [
        "color_names.remove('green')"
      ]
    },
    {
      "cell_type": "code",
      "execution_count": null,
      "metadata": {
        "id": "zl7j38uUKKSk"
      },
      "outputs": [],
      "source": [
        "color_names"
      ]
    },
    {
      "cell_type": "markdown",
      "metadata": {
        "id": "seoZG5SGKKSl"
      },
      "source": [
        "### Emptying a List"
      ]
    },
    {
      "cell_type": "markdown",
      "metadata": {
        "id": "OwlR-HRaLeJr"
      },
      "source": [
        "To delete all the elements in a list, call method `clear`."
      ]
    },
    {
      "cell_type": "code",
      "execution_count": 168,
      "metadata": {
        "id": "e-NVNIxHKKSl"
      },
      "outputs": [],
      "source": [
        "color_names.clear()"
      ]
    },
    {
      "cell_type": "code",
      "execution_count": null,
      "metadata": {
        "id": "Yt0LXzwIKKSm"
      },
      "outputs": [],
      "source": [
        "color_names"
      ]
    },
    {
      "cell_type": "markdown",
      "metadata": {
        "id": "eaBm-ZN3LneP"
      },
      "source": [
        "Reinitialize color_names to some values, then run the following codes. Deduce."
      ]
    },
    {
      "cell_type": "code",
      "execution_count": 172,
      "metadata": {
        "id": "aYtGfaxXLwVb"
      },
      "outputs": [],
      "source": [
        "color_names = ['potato', 'pussy', 'puh', 'diguh']"
      ]
    },
    {
      "cell_type": "code",
      "execution_count": 173,
      "metadata": {
        "id": "rIB7ES_SLu8C"
      },
      "outputs": [],
      "source": [
        "color_names[:] = []"
      ]
    },
    {
      "cell_type": "code",
      "execution_count": 174,
      "metadata": {
        "id": "eSIm4J-mLvAY"
      },
      "outputs": [
        {
          "data": {
            "text/plain": [
              "[]"
            ]
          },
          "execution_count": 174,
          "metadata": {},
          "output_type": "execute_result"
        }
      ],
      "source": [
        "color_names"
      ]
    },
    {
      "cell_type": "markdown",
      "metadata": {
        "id": "-BVxkVbNKKSm"
      },
      "source": [
        "### Counting the Number of Occurrences of an Item"
      ]
    },
    {
      "cell_type": "markdown",
      "metadata": {
        "id": "c7qxpWTcL7cN"
      },
      "source": [
        "List method `count` searches for its argument and returns the number of times it is\n",
        "found."
      ]
    },
    {
      "cell_type": "code",
      "execution_count": 175,
      "metadata": {
        "id": "mLB96PpiKKSm"
      },
      "outputs": [],
      "source": [
        "responses = [1, 2, 5, 4, 3, 5, 2, 1, 3, 3, 1, 4, 3, 3, 3, 2, 3, 3, 2, 2]"
      ]
    },
    {
      "cell_type": "code",
      "execution_count": 176,
      "metadata": {
        "id": "cvwghRE0KKSn"
      },
      "outputs": [
        {
          "name": "stdout",
          "output_type": "stream",
          "text": [
            "1 appears 3 times in responses\n",
            "2 appears 5 times in responses\n",
            "3 appears 8 times in responses\n",
            "4 appears 2 times in responses\n",
            "5 appears 2 times in responses\n"
          ]
        }
      ],
      "source": [
        "for i in range(1, 6):\n",
        "    print(f'{i} appears {responses.count(i)} times in responses')"
      ]
    },
    {
      "cell_type": "markdown",
      "metadata": {
        "id": "KigWe4sOKKSo"
      },
      "source": [
        "### Reversing a List’s Elements"
      ]
    },
    {
      "cell_type": "markdown",
      "metadata": {
        "id": "N-N9-XqEMALp"
      },
      "source": [
        "List method reverse reverses the contents of a list in place, rather than creating a\n",
        "reversed copy, as we did with a slice previously."
      ]
    },
    {
      "cell_type": "code",
      "execution_count": 177,
      "metadata": {
        "id": "frrh91PiKKSo"
      },
      "outputs": [],
      "source": [
        "color_names = ['red', 'orange', 'yellow', 'green', 'blue']"
      ]
    },
    {
      "cell_type": "code",
      "execution_count": 178,
      "metadata": {
        "id": "CtDDQ9lzKKSp"
      },
      "outputs": [],
      "source": [
        "color_names.reverse()"
      ]
    },
    {
      "cell_type": "code",
      "execution_count": 179,
      "metadata": {
        "id": "2_FIoNTpKKSp"
      },
      "outputs": [
        {
          "data": {
            "text/plain": [
              "['blue', 'green', 'yellow', 'orange', 'red']"
            ]
          },
          "execution_count": 179,
          "metadata": {},
          "output_type": "execute_result"
        }
      ],
      "source": [
        "color_names"
      ]
    },
    {
      "cell_type": "markdown",
      "metadata": {
        "id": "u6EYH4x0KKSp"
      },
      "source": [
        "### Copying a List"
      ]
    },
    {
      "cell_type": "markdown",
      "metadata": {
        "id": "ZpkfmBw3MDUr"
      },
      "source": [
        "List method copy returns a new list containing a shallow copy of the original list."
      ]
    },
    {
      "cell_type": "code",
      "execution_count": 180,
      "metadata": {
        "id": "mycn40rJKKSq"
      },
      "outputs": [],
      "source": [
        "copied_list = color_names.copy()"
      ]
    },
    {
      "cell_type": "code",
      "execution_count": 181,
      "metadata": {
        "id": "hU5Lre14KKSq"
      },
      "outputs": [
        {
          "data": {
            "text/plain": [
              "['blue', 'green', 'yellow', 'orange', 'red']"
            ]
          },
          "execution_count": 181,
          "metadata": {},
          "output_type": "execute_result"
        }
      ],
      "source": [
        "copied_list"
      ]
    },
    {
      "cell_type": "markdown",
      "metadata": {
        "id": "NdcV-vVAMzmj"
      },
      "source": [
        "#  List Comprehensions"
      ]
    },
    {
      "cell_type": "markdown",
      "metadata": {
        "id": "-LWUvnJQNhYa"
      },
      "source": [
        "List comprehensions can replace\n",
        "many for statements that iterate over existing sequences and create new lists."
      ]
    },
    {
      "cell_type": "code",
      "execution_count": 182,
      "metadata": {
        "id": "_8BPoowLMzmu"
      },
      "outputs": [],
      "source": [
        "list1 = []"
      ]
    },
    {
      "cell_type": "code",
      "execution_count": 183,
      "metadata": {
        "id": "s7VOShQcMzmx"
      },
      "outputs": [],
      "source": [
        "for item in range(1, 6):\n",
        "    list1.append(item)"
      ]
    },
    {
      "cell_type": "code",
      "execution_count": 184,
      "metadata": {
        "id": "N9DwIoPAMzmz"
      },
      "outputs": [
        {
          "data": {
            "text/plain": [
              "[1, 2, 3, 4, 5]"
            ]
          },
          "execution_count": 184,
          "metadata": {},
          "output_type": "execute_result"
        }
      ],
      "source": [
        "list1"
      ]
    },
    {
      "cell_type": "markdown",
      "metadata": {
        "id": "4SrFjOKyMzm1"
      },
      "source": [
        "### Using a List Comprehension to Create a List of Integers"
      ]
    },
    {
      "cell_type": "markdown",
      "metadata": {
        "id": "CF3KSnTSNmGC"
      },
      "source": [
        "We can accomplish the same task in a single line of code with a list comprehension."
      ]
    },
    {
      "cell_type": "code",
      "execution_count": 185,
      "metadata": {
        "id": "xpCH-_0uMzm2"
      },
      "outputs": [],
      "source": [
        "list2 = [item for item in range(1, 6)]"
      ]
    },
    {
      "cell_type": "code",
      "execution_count": 186,
      "metadata": {
        "id": "SP8EBXeZMzm3"
      },
      "outputs": [
        {
          "data": {
            "text/plain": [
              "[1, 2, 3, 4, 5]"
            ]
          },
          "execution_count": 186,
          "metadata": {},
          "output_type": "execute_result"
        }
      ],
      "source": [
        "list2"
      ]
    },
    {
      "cell_type": "markdown",
      "metadata": {
        "id": "8Elf_B5-Mzm5"
      },
      "source": [
        "### Mapping: Performing Operations in a List Comprehension’s Expression"
      ]
    },
    {
      "cell_type": "markdown",
      "metadata": {
        "id": "vqXC4E4GNq8B"
      },
      "source": [
        "A list comprehension’s expression can perform tasks, such as calculations, that **map**\n",
        "elements to new values (possibly of different types). Mapping is a common functionalstyle\n",
        "programming operation that produces a result with the same number of elements\n",
        "as the original data being mapped."
      ]
    },
    {
      "cell_type": "code",
      "execution_count": null,
      "metadata": {
        "id": "W3LxKfVZMzm6"
      },
      "outputs": [],
      "source": [
        "list3 = [item ** 3 for item in range(1, 6)]"
      ]
    },
    {
      "cell_type": "code",
      "execution_count": null,
      "metadata": {
        "id": "TZDzx7WzMzm8"
      },
      "outputs": [],
      "source": [
        "list3"
      ]
    },
    {
      "cell_type": "markdown",
      "metadata": {
        "id": "Dk5W468NMzm_"
      },
      "source": [
        "### Filtering: List Comprehensions with `if` Clauses "
      ]
    },
    {
      "cell_type": "markdown",
      "metadata": {
        "id": "ku0wQAEQNvRB"
      },
      "source": [
        "Another common functional-style\n",
        "programming operation is **filtering** elements to\n",
        "select only those that match a condition. This typically produces a list with fewer\n",
        "elements than the data being filtered. To do this in a list comprehension, use the **if clause**."
      ]
    },
    {
      "cell_type": "code",
      "execution_count": null,
      "metadata": {
        "id": "xap25WmyMznA"
      },
      "outputs": [],
      "source": [
        "list4 = [item for item in range(1, 11) if item % 2 == 0]"
      ]
    },
    {
      "cell_type": "code",
      "execution_count": null,
      "metadata": {
        "id": "qHuirHbVMznD"
      },
      "outputs": [],
      "source": [
        "list4"
      ]
    },
    {
      "cell_type": "markdown",
      "metadata": {
        "id": "1OCgGvLRMznF"
      },
      "source": [
        "### List Comprehension That Processes Another List’s Elements "
      ]
    },
    {
      "cell_type": "code",
      "execution_count": null,
      "metadata": {
        "id": "P5qekrN0MznH"
      },
      "outputs": [],
      "source": [
        "colors = ['red', 'orange', 'yellow', 'green', 'blue']"
      ]
    },
    {
      "cell_type": "code",
      "execution_count": null,
      "metadata": {
        "id": "ie_x73xlMznI"
      },
      "outputs": [],
      "source": [
        "colors2 = [item.upper() for item in colors]"
      ]
    },
    {
      "cell_type": "code",
      "execution_count": null,
      "metadata": {
        "id": "3k1T_qfKMznJ"
      },
      "outputs": [],
      "source": [
        "colors2"
      ]
    },
    {
      "cell_type": "code",
      "execution_count": null,
      "metadata": {
        "id": "RSYGZ0UFMznK"
      },
      "outputs": [],
      "source": [
        "colors"
      ]
    },
    {
      "cell_type": "markdown",
      "metadata": {
        "id": "2bHfPxpNN-zM"
      },
      "source": [
        "# Generator Expressions"
      ]
    },
    {
      "cell_type": "markdown",
      "metadata": {
        "id": "wt9dWaHqOHga"
      },
      "source": [
        "A **generator expression** is similar to a list comprehension, but creates an **iterable generator** object that produces values on demand. This is known as **lazy evaluation**. List comprehensions use greedy evaluation—they create lists\n",
        "immediately when you execute them. For large numbers of items, creating a list can\n",
        "take substantial memory and time. So generator expressions can reduce your program’s\n",
        "memory consumption and improve performance if the whole list is not needed at once."
      ]
    },
    {
      "cell_type": "markdown",
      "metadata": {
        "id": "-u1EdRrcOTNm"
      },
      "source": [
        "Generator expressions have the same capabilities as list comprehensions, but you\n",
        "define them in parentheses instead of square brackets."
      ]
    },
    {
      "cell_type": "code",
      "execution_count": null,
      "metadata": {
        "id": "med5tAZSN-0F"
      },
      "outputs": [],
      "source": [
        "numbers = [10, 3, 7, 1, 9, 4, 2, 8, 5, 6]"
      ]
    },
    {
      "cell_type": "code",
      "execution_count": null,
      "metadata": {
        "id": "xMHtgCSkN-0I"
      },
      "outputs": [],
      "source": [
        "for value in (x ** 2 for x in numbers if x % 2 != 0):\n",
        "    print(value, end='  ')"
      ]
    },
    {
      "cell_type": "code",
      "execution_count": null,
      "metadata": {
        "id": "Cjr2xgyFN-0K"
      },
      "outputs": [],
      "source": [
        "squares_of_odds = (x ** 2 for x in numbers if x % 2 != 0)"
      ]
    },
    {
      "cell_type": "code",
      "execution_count": null,
      "metadata": {
        "id": "PyMKLfDxN-0L"
      },
      "outputs": [],
      "source": [
        "squares_of_odds "
      ]
    },
    {
      "cell_type": "markdown",
      "metadata": {
        "id": "ijNRhmDi6Fj7"
      },
      "source": [
        "# Lambdas"
      ]
    },
    {
      "cell_type": "markdown",
      "metadata": {
        "id": "L_-TzoEv6C48"
      },
      "source": [
        "## Lambdas are single-expression functions"
      ]
    },
    {
      "cell_type": "markdown",
      "metadata": {
        "id": "A1pqA0gw5URY"
      },
      "source": [
        "The `lambda` keyword in Python provides a shortcut for declaring\n",
        "small anonymous functions. Lambda functions behave just like\n",
        "regular functions declared with the def keyword. They can be used\n",
        "whenever function objects are required"
      ]
    },
    {
      "cell_type": "markdown",
      "metadata": {
        "id": "IGe_e7dh5ZQg"
      },
      "source": [
        "For example, this is how you’d define a simple lambda function carrying\n",
        "out an addition:"
      ]
    },
    {
      "cell_type": "code",
      "execution_count": null,
      "metadata": {
        "id": "XzKSW-W65YxZ"
      },
      "outputs": [],
      "source": [
        "add = lambda x, y: x + y\n",
        "add(5, 3)"
      ]
    },
    {
      "cell_type": "markdown",
      "metadata": {
        "id": "meaN3HDi5c6y"
      },
      "source": [
        "You could declare the same `add` function with the `def` keyword, but it\n",
        "would be slightly more verbose:"
      ]
    },
    {
      "cell_type": "code",
      "execution_count": null,
      "metadata": {
        "id": "AYxJvgRi5fCS"
      },
      "outputs": [],
      "source": [
        "def add(x, y):\n",
        "  return x + y\n",
        "add(5, 3)"
      ]
    },
    {
      "cell_type": "markdown",
      "metadata": {
        "id": "VX3TP5JB5mwn"
      },
      "source": [
        "Now you might be wondering, “Why the big fuss about lambdas? If\n",
        "they’re just a slightly more concise version of declaring functions with\n",
        "def, what’s the big deal?”"
      ]
    },
    {
      "cell_type": "markdown",
      "metadata": {
        "id": "cdSBTQeG5nIy"
      },
      "source": [
        "Take a look at the following example and keep the words *function expression*\n",
        "in your head while you do that:"
      ]
    },
    {
      "cell_type": "code",
      "execution_count": null,
      "metadata": {
        "id": "hU_IQOAO5rcf"
      },
      "outputs": [],
      "source": [
        "(lambda x, y: x + y)(5, 3)"
      ]
    },
    {
      "cell_type": "markdown",
      "metadata": {
        "id": "APLH9M605uye"
      },
      "source": [
        "Conceptually, the lambda expression `lambda x, y: x + y` is the\n",
        "same as declaring a function with `def`, but just written **inline**. The\n",
        "key difference here is that I didn’t have to bind the function object to\n",
        "a name before I used it. I simply stated the expression I wanted to\n",
        "compute as part of a lambda, and then immediately evaluated it by\n",
        "calling the lambda expression like a regular function."
      ]
    },
    {
      "cell_type": "markdown",
      "metadata": {
        "id": "A9gm8zVu53YN"
      },
      "source": [
        "There’s another syntactic difference between lambdas and regular\n",
        "function definitions. Lambda functions are restricted to a single\n",
        "expression. This means a lambda function can’t use statements or\n",
        "annotations—not even a `return` statement."
      ]
    },
    {
      "cell_type": "markdown",
      "metadata": {
        "id": "170HHMIe58Ws"
      },
      "source": [
        "How do you return values from lambdas then? Executing a lambda\n",
        "function evaluates its expression and then automatically returns\n",
        "the expression’s result, so there’s always an implicit return statement.\n",
        "That’s why some people refer to lambdas as single expression\n",
        "functions."
      ]
    },
    {
      "cell_type": "markdown",
      "metadata": {
        "id": "xWcvFQ69Obor"
      },
      "source": [
        "#  Filter, Map and Reduce "
      ]
    },
    {
      "cell_type": "markdown",
      "metadata": {
        "id": "ZdEsHXXtOpOW"
      },
      "source": [
        "The preceding section introduced several functional-style\n",
        "features—list\n",
        "comprehensions, filtering and mapping. Here we demonstrate the built-in\n",
        "filter and\n",
        "map functions for filtering and mapping, respectively. We continue discussing\n",
        "reductions in which you process a collection of elements into a single value, such as\n",
        "their count, total, product, average, minimum or maximum."
      ]
    },
    {
      "cell_type": "markdown",
      "metadata": {
        "id": "oeXaKkNyOboz"
      },
      "source": [
        "### Filtering a Sequence’s Values with the Built-In `filter` Function"
      ]
    },
    {
      "cell_type": "code",
      "execution_count": null,
      "metadata": {
        "id": "ps3TH1IhObo0"
      },
      "outputs": [],
      "source": [
        "numbers = [10, 3, 7, 1, 9, 4, 2, 8, 5, 6]"
      ]
    },
    {
      "cell_type": "code",
      "execution_count": null,
      "metadata": {
        "id": "Kykvbd0kObo2"
      },
      "outputs": [],
      "source": [
        "def is_odd(x):\n",
        "    \"\"\"Returns True only if x is odd.\"\"\"\n",
        "    return x % 2 != 0"
      ]
    },
    {
      "cell_type": "code",
      "execution_count": null,
      "metadata": {
        "id": "CiUbZoZPObo3"
      },
      "outputs": [],
      "source": [
        "list(filter(is_odd, numbers))"
      ]
    },
    {
      "cell_type": "markdown",
      "metadata": {
        "id": "9afUOFG5O2zT"
      },
      "source": [
        "Functions that receive other functions as\n",
        "arguments are a functional-style\n",
        "capability called higherorder\n",
        "functions. For\n",
        "example, filter’s first argument must be a function that receives one argument and\n",
        "returns `True` if the value should be included in the result. The function `is_odd` returns\n",
        "`True` if its argument is `odd`. The `filter` function calls `is_odd` once for each value in\n",
        "its second argument’s iterable (numbers). Higher-order\n",
        "functions may also return a\n",
        "function as a result."
      ]
    },
    {
      "cell_type": "markdown",
      "metadata": {
        "id": "Y7dlLoZUPAcJ"
      },
      "source": [
        "Function `filter` returns an iterator, so filter’s results are not produced until you\n",
        "iterate through them. This is another example of lazy evaluation."
      ]
    },
    {
      "cell_type": "markdown",
      "metadata": {
        "id": "kpzNLeucPGkc"
      },
      "source": [
        "We can\n",
        "obtain the same results as above by using a list comprehension with an if clause."
      ]
    },
    {
      "cell_type": "code",
      "execution_count": null,
      "metadata": {
        "id": "JbC_MyH-Obo4"
      },
      "outputs": [],
      "source": [
        "[item for item in numbers if is_odd(item)]"
      ]
    },
    {
      "cell_type": "markdown",
      "metadata": {
        "id": "PeFTx_0NObo5"
      },
      "source": [
        "### Using a `lambda` Rather than a Function "
      ]
    },
    {
      "cell_type": "markdown",
      "metadata": {
        "id": "V9kCizAAPPJk"
      },
      "source": [
        "For simple functions like `is_odd` that return only a single expression’s value, you can\n",
        "use a lambda expression (or simply a lambda) to define the function inline where\n",
        "it’s needed."
      ]
    },
    {
      "cell_type": "code",
      "execution_count": null,
      "metadata": {
        "id": "iS8ObO3SObo6"
      },
      "outputs": [],
      "source": [
        "list(filter(lambda x: x % 2 != 0, numbers))"
      ]
    },
    {
      "cell_type": "markdown",
      "metadata": {
        "id": "ruRcPTj9Obo8"
      },
      "source": [
        "### Mapping a Sequence’s Values to New Values"
      ]
    },
    {
      "cell_type": "markdown",
      "metadata": {
        "id": "zS6SC60TRe2o"
      },
      "source": [
        "Function map’s first argument is a function that receives one value and returns a new\n",
        "value—in this case, a lambda. The second argument is an\n",
        "iterable of values to map. Function map uses lazy evaluation. So, we pass to the list\n",
        "function the iterator that map returns. This enables us to iterate through and create a\n",
        "list of the mapped values."
      ]
    },
    {
      "cell_type": "code",
      "execution_count": null,
      "metadata": {
        "id": "_egLaB2HObo9"
      },
      "outputs": [],
      "source": [
        "numbers"
      ]
    },
    {
      "cell_type": "code",
      "execution_count": null,
      "metadata": {
        "id": "OGx8KCBlObo-"
      },
      "outputs": [],
      "source": [
        "list(map(lambda x: x ** 2, numbers))"
      ]
    },
    {
      "cell_type": "markdown",
      "metadata": {
        "id": "pYaDZixiRtqJ"
      },
      "source": [
        "An equivalent list comprehension"
      ]
    },
    {
      "cell_type": "code",
      "execution_count": null,
      "metadata": {
        "id": "q6jfpE3eObo_"
      },
      "outputs": [],
      "source": [
        "[item ** 2 for item in numbers]"
      ]
    },
    {
      "cell_type": "markdown",
      "metadata": {
        "id": "0oI5f5gCObpA"
      },
      "source": [
        "### Combining `filter` and `map`"
      ]
    },
    {
      "cell_type": "code",
      "execution_count": null,
      "metadata": {
        "id": "ovUP5Y1tObpA"
      },
      "outputs": [],
      "source": [
        "list(map(lambda x: x ** 2, \n",
        "         filter(lambda x: x % 2 != 0, numbers)))"
      ]
    },
    {
      "cell_type": "code",
      "execution_count": null,
      "metadata": {
        "id": "KA0A8fe_ObpB"
      },
      "outputs": [],
      "source": [
        "[x ** 2 for x in numbers if x % 2 != 0]"
      ]
    },
    {
      "cell_type": "markdown",
      "metadata": {
        "id": "YdltKzwAQ9Xe"
      },
      "source": [
        "# Lambdas you can use"
      ]
    },
    {
      "cell_type": "markdown",
      "metadata": {
        "id": "Q9fBaYDEQ9Xf"
      },
      "source": [
        "When should you use lambda functions in your code? Technically, any\n",
        "time you’re expected to supply a function object you can use a lambda\n",
        "expression. And because lambdas can be anonymous, you don’t even\n",
        "need to assign them to a name first."
      ]
    },
    {
      "cell_type": "markdown",
      "metadata": {
        "id": "baTYSP6GQ9Xg"
      },
      "source": [
        "This can provide a handy and “unbureaucratic” shortcut to defining a\n",
        "function in Python. The most frequent use case for lambdas is writing\n",
        "short and concise key funcs for sorting iterables by an alternate key:"
      ]
    },
    {
      "cell_type": "code",
      "execution_count": null,
      "metadata": {
        "id": "BJJehMNZQ9Xg"
      },
      "outputs": [],
      "source": [
        "tuples = [(1, 'd'), (2, 'b'), (4, 'a'), (3, 'c')]\n",
        "sorted(tuples, key=lambda x: x[1])"
      ]
    },
    {
      "cell_type": "markdown",
      "metadata": {
        "id": "PdqaoOR8Q9Xg"
      },
      "source": [
        "In the above example, we’re sorting a list of tuples by the second value\n",
        "in each tuple. In this case, the lambda function provides a quick way\n",
        "to modify the sort order. Here’s another sorting example you can play\n",
        "with:"
      ]
    },
    {
      "cell_type": "code",
      "execution_count": null,
      "metadata": {
        "id": "Dfsv657pQ9Xh"
      },
      "outputs": [],
      "source": [
        "sorted(range(-5, 6), key=lambda x: x * x)"
      ]
    },
    {
      "cell_type": "markdown",
      "metadata": {
        "id": "O-9eEuJbQ9Xh"
      },
      "source": [
        "Here’s another interesting thing about lambdas: Just like regular\n",
        "nested functions, lambdas also work as *lexical closures*."
      ]
    },
    {
      "cell_type": "markdown",
      "metadata": {
        "id": "YX1AC9WeQ9Xh"
      },
      "source": [
        "What’s a lexical closure? It’s just a fancy name for a function that\n",
        "remembers the values from the enclosing lexical scope even when the\n",
        "program flow is no longer in that scope. Here’s a (fairly academic)\n",
        "example to illustrate the idea:"
      ]
    },
    {
      "cell_type": "code",
      "execution_count": null,
      "metadata": {
        "id": "gRPWUQA7Q9Xh"
      },
      "outputs": [],
      "source": [
        "def make_adder(n):\n",
        "  return lambda x: x + n\n",
        "plus_3 = make_adder(3)\n",
        "plus_5 = make_adder(5)"
      ]
    },
    {
      "cell_type": "code",
      "execution_count": null,
      "metadata": {
        "id": "c4ZI_vsbQ9Xi"
      },
      "outputs": [],
      "source": [
        "plus_3(4)"
      ]
    },
    {
      "cell_type": "code",
      "execution_count": null,
      "metadata": {
        "id": "sfCvv-60Q9Xi"
      },
      "outputs": [],
      "source": [
        "plus_5(4)"
      ]
    },
    {
      "cell_type": "markdown",
      "metadata": {
        "id": "KSwtP3OcQ9Xi"
      },
      "source": [
        "In the above example, the x + n lambda can still access the value of n\n",
        "even though it was defined in the make_adder function (the enclosing\n",
        "scope)."
      ]
    },
    {
      "cell_type": "markdown",
      "metadata": {
        "id": "yskFn_gNQ9Xn"
      },
      "source": [
        "Sometimes, using a lambda function instead of a nested function\n",
        "declared with the def keyword can express the programmer’s intent\n",
        "more clearly."
      ]
    },
    {
      "cell_type": "markdown",
      "metadata": {
        "id": "F6c9-edAQ9Xn"
      },
      "source": [
        "**Lambda functions should be used sparingly\n",
        "and with extraordinary care.**"
      ]
    },
    {
      "cell_type": "markdown",
      "metadata": {
        "id": "KviXZvCyQ9Xo"
      },
      "source": [
        "Usually it’s much cleaner to go with a list\n",
        "comprehension or generator expression. "
      ]
    },
    {
      "cell_type": "code",
      "execution_count": null,
      "metadata": {
        "id": "9yZMFwC1Q9Xo"
      },
      "outputs": [],
      "source": [
        "# Harmful:\n",
        "list(filter(lambda x: x % 2 == 0, range(16)))"
      ]
    },
    {
      "cell_type": "code",
      "execution_count": null,
      "metadata": {
        "id": "Ve9PU88-Q9Xo"
      },
      "outputs": [],
      "source": [
        "# Better:\n",
        "[x for x in range(16) if x % 2 == 0]"
      ]
    },
    {
      "cell_type": "markdown",
      "metadata": {
        "id": "fvOqHOkqQ9Xp"
      },
      "source": [
        "If you find yourself doing anything remotely complex with lambda\n",
        "expressions, consider defining a standalone function with a proper\n",
        "name instead."
      ]
    },
    {
      "cell_type": "markdown",
      "metadata": {
        "id": "XMI5QsubQ9Xp"
      },
      "source": [
        "Saving a few keystrokes won’t matter in the long run, but your colleagues\n",
        "(and your future self) will appreciate clean and readable code\n",
        "more than terse wizardry."
      ]
    },
    {
      "cell_type": "markdown",
      "metadata": {
        "id": "1UV6n3ORSDsY"
      },
      "source": [
        "# Other Sequence Processing Functions "
      ]
    },
    {
      "cell_type": "markdown",
      "metadata": {
        "id": "03HB43iES5tp"
      },
      "source": [
        "Python provides other builtin\n",
        "functions for manipulating sequences."
      ]
    },
    {
      "cell_type": "markdown",
      "metadata": {
        "id": "ObvQQOmCSDsh"
      },
      "source": [
        "### Finding the Minimum and Maximum Values Using a Key Function"
      ]
    },
    {
      "cell_type": "code",
      "execution_count": null,
      "metadata": {
        "id": "S7f8PFqVSDsj"
      },
      "outputs": [],
      "source": [
        "'Red' < 'orange'"
      ]
    },
    {
      "cell_type": "markdown",
      "metadata": {
        "id": "CI7dtI0nTAOF"
      },
      "source": [
        "The built-in function\n",
        "`ord` returns the numerical value of a character."
      ]
    },
    {
      "cell_type": "code",
      "execution_count": null,
      "metadata": {
        "id": "WtYrLgP_SDsl"
      },
      "outputs": [],
      "source": [
        "ord('R')"
      ]
    },
    {
      "cell_type": "code",
      "execution_count": null,
      "metadata": {
        "id": "_V774JX_SDsm"
      },
      "outputs": [],
      "source": [
        "ord('o')"
      ]
    },
    {
      "cell_type": "code",
      "execution_count": null,
      "metadata": {
        "id": "BG6M7mAYSDsn"
      },
      "outputs": [],
      "source": [
        "colors = ['Red', 'orange', 'Yellow', 'green', 'Blue']"
      ]
    },
    {
      "cell_type": "markdown",
      "metadata": {
        "id": "8FRSUFvbTO1r"
      },
      "source": [
        "Since Python compares strings using numerical values, you must first convert each\n",
        "string to all lowercase or all uppercase letters. Then their numerical values will also\n",
        "represent alphabetical ordering."
      ]
    },
    {
      "cell_type": "code",
      "execution_count": null,
      "metadata": {
        "id": "sK5ESEmESDsn"
      },
      "outputs": [],
      "source": [
        "min(colors, key=lambda s: s.lower())"
      ]
    },
    {
      "cell_type": "code",
      "execution_count": null,
      "metadata": {
        "id": "tUCqCoLOSDso"
      },
      "outputs": [],
      "source": [
        "max(colors, key=lambda s: s.lower())"
      ]
    },
    {
      "cell_type": "markdown",
      "metadata": {
        "id": "X6vV_0IvSDsq"
      },
      "source": [
        "### Iterating Backwards Through a Sequence"
      ]
    },
    {
      "cell_type": "markdown",
      "metadata": {
        "id": "KC9Ivu9CTYEW"
      },
      "source": [
        "Builtin\n",
        "function `reversed` returns an iterator that enables you to iterate over a\n",
        "sequence’s values backward."
      ]
    },
    {
      "cell_type": "code",
      "execution_count": null,
      "metadata": {
        "id": "mR_FyUliSDsr"
      },
      "outputs": [],
      "source": [
        "numbers = [10, 3, 7, 1, 9, 4, 2, 8, 5, 6]"
      ]
    },
    {
      "cell_type": "code",
      "execution_count": null,
      "metadata": {
        "id": "Q3truZEOSDss"
      },
      "outputs": [],
      "source": [
        "reversed_numbers = [item ** 2 for item in reversed(numbers)]"
      ]
    },
    {
      "cell_type": "code",
      "execution_count": null,
      "metadata": {
        "id": "Thj2vApkSDst"
      },
      "outputs": [],
      "source": [
        "reversed_numbers"
      ]
    },
    {
      "cell_type": "markdown",
      "metadata": {
        "id": "lrSw-UnJSDst"
      },
      "source": [
        "### Combining Iterables into Tuples of Corresponding Elements"
      ]
    },
    {
      "cell_type": "markdown",
      "metadata": {
        "id": "ocQf_J6GTeGd"
      },
      "source": [
        "Builtin\n",
        "function `zip` enables you to iterate over multiple iterables of data at the same\n",
        "time. The function receives as arguments any number of iterables and returns an\n",
        "iterator that produces tuples containing the elements at the same index in each."
      ]
    },
    {
      "cell_type": "code",
      "execution_count": null,
      "metadata": {
        "id": "kSOgYReqSDsu"
      },
      "outputs": [],
      "source": [
        "names = ['Bob', 'Sue', 'Amanda']"
      ]
    },
    {
      "cell_type": "code",
      "execution_count": null,
      "metadata": {
        "id": "_0D9hXhMSDsu"
      },
      "outputs": [],
      "source": [
        "grade_point_averages = [3.5, 4.0, 3.75] "
      ]
    },
    {
      "cell_type": "code",
      "execution_count": null,
      "metadata": {
        "id": "IKX-uEsjSDsv"
      },
      "outputs": [],
      "source": [
        "for name, gpa in zip(names, grade_point_averages):\n",
        "    print(f'Name={name}; GPA={gpa}')\n"
      ]
    },
    {
      "cell_type": "markdown",
      "metadata": {
        "id": "W45YpQSDTmUB"
      },
      "source": [
        "#  Two-Dimensional Lists"
      ]
    },
    {
      "cell_type": "markdown",
      "metadata": {
        "id": "V2aQJGrWUTJO"
      },
      "source": [
        "Lists can contain other lists as elements. A typical use of such nested (or\n",
        "multidimensional) lists is to represent tables of values consisting of information\n",
        "arranged in rows and columns. To identify a particular table element, we specify two\n",
        "indices—by convention, the first identifies the element’s row, the second the element’s\n",
        "column.\n",
        "Lists that require two indices to identify an element are called two-dimensional\n",
        "lists\n",
        "(or double-indexed\n",
        "lists or double-subscripted\n",
        "lists). Multidimensional lists can\n",
        "have more than two indices. "
      ]
    },
    {
      "cell_type": "markdown",
      "metadata": {
        "id": "-X4qx1fnTmUJ"
      },
      "source": [
        "### Creating a Two-Dimensional List"
      ]
    },
    {
      "cell_type": "code",
      "execution_count": null,
      "metadata": {
        "id": "a8S8ihHeTmUL"
      },
      "outputs": [],
      "source": [
        "a = [[77, 68, 86, 73], [96, 87, 89, 81], [70, 90, 86, 81]]"
      ]
    },
    {
      "cell_type": "markdown",
      "metadata": {
        "id": "kmgptcDUTmUP"
      },
      "source": [
        "### Identifying the Elements in a Two-Dimensional List"
      ]
    },
    {
      "cell_type": "code",
      "execution_count": null,
      "metadata": {
        "id": "yuY1z3TcTmUQ"
      },
      "outputs": [],
      "source": [
        "for row in a:\n",
        "    for item in row:\n",
        "        print(item, end=' ')\n",
        "    print()\n",
        "        "
      ]
    },
    {
      "cell_type": "markdown",
      "metadata": {
        "id": "NCNL-SmVTmUR"
      },
      "source": [
        "### How the Nested Loops Execute"
      ]
    },
    {
      "cell_type": "code",
      "execution_count": null,
      "metadata": {
        "id": "KEFFh8XtTmUS"
      },
      "outputs": [],
      "source": [
        "for i, row in enumerate(a):\n",
        "    for j, item in enumerate(row):\n",
        "        print(f'a[{i}][{j}]={item} ', end=' ')\n",
        "    print()"
      ]
    },
    {
      "cell_type": "markdown",
      "metadata": {
        "id": "YlYwQvW5Usdt"
      },
      "source": [
        "# Intro to Data Science: Simulation and Static Visualizations\n",
        "\n"
      ]
    },
    {
      "cell_type": "markdown",
      "metadata": {
        "id": "5964Py73Usd4"
      },
      "source": [
        "## Visualizing Die-Roll Frequencies and Percentages"
      ]
    },
    {
      "cell_type": "markdown",
      "metadata": {
        "id": "jLFfNPntUsd6"
      },
      "source": [
        "### Importing the Libraries\n",
        "\n",
        "Note: `%matplotlib inline` is an IPython magic that enables Matplotlib-based graphics to be displayed directly in the notebook. Also, to ensure that all visualization operations are applied properly to a visualization in a notebook, you need to execute them in a single cell, so the snippet numbers in this notebook will not match up with the code in the book.\n",
        "\n",
        "We've separated by two blank lines the snippets that were combined into a single cell."
      ]
    },
    {
      "cell_type": "code",
      "execution_count": null,
      "metadata": {
        "id": "I7lisOuuUsd7"
      },
      "outputs": [],
      "source": [
        "%matplotlib inline\n",
        "import matplotlib.pyplot as plt"
      ]
    },
    {
      "cell_type": "code",
      "execution_count": null,
      "metadata": {
        "id": "ejreS1xVUsd-"
      },
      "outputs": [],
      "source": [
        "import numpy as np"
      ]
    },
    {
      "cell_type": "code",
      "execution_count": null,
      "metadata": {
        "id": "WD731qyvUsd_"
      },
      "outputs": [],
      "source": [
        "import random"
      ]
    },
    {
      "cell_type": "code",
      "execution_count": null,
      "metadata": {
        "id": "YwxPEylNUseA"
      },
      "outputs": [],
      "source": [
        "import seaborn as sns"
      ]
    },
    {
      "cell_type": "markdown",
      "metadata": {
        "id": "vprClQawVO-x"
      },
      "source": [
        "1. The `matplotlib.pyplot` module contains the Matplotlib library’s graphing\n",
        "capabilities that we use. This module typically is imported with the name plt.\n",
        "2. The `NumPy` (Numerical Python) library includes the function unique that we’ll use\n",
        "to summarize the die rolls. The `numpy` module typically is imported as np.\n",
        "3. The `random` module contains Python’s random-number-generation\n",
        "functions.\n",
        "4. The `seaborn` module contains the Seaborn library’s graphing capabilities we use.\n",
        "This module typically is imported with the name sns."
      ]
    },
    {
      "cell_type": "markdown",
      "metadata": {
        "id": "eR0KFel5UseC"
      },
      "source": [
        "### Rolling the Die and Calculating Die Frequencies"
      ]
    },
    {
      "cell_type": "markdown",
      "metadata": {
        "id": "YXaYd2a7Veo5"
      },
      "source": [
        "Next, let’s use a list comprehension to create a list of 600 random die values, then use\n",
        "NumPy’s unique function to determine the unique roll values (most likely all six\n",
        "possible face values) and their frequencies:"
      ]
    },
    {
      "cell_type": "code",
      "execution_count": null,
      "metadata": {
        "id": "T0K7qDknUseD"
      },
      "outputs": [],
      "source": [
        "rolls = [random.randrange(1, 7) for i in range(600)]"
      ]
    },
    {
      "cell_type": "code",
      "execution_count": null,
      "metadata": {
        "id": "plIjQKCYUseD"
      },
      "outputs": [],
      "source": [
        "values, frequencies = np.unique(rolls, return_counts=True)"
      ]
    },
    {
      "cell_type": "markdown",
      "metadata": {
        "id": "fmWMlGpUUseE"
      },
      "source": [
        "### Creating the Initial Bar Plot\n",
        "### Setting the Window Title and Labeling the x- and y-Axes\n",
        "### Finalizing the Bar Plot"
      ]
    },
    {
      "cell_type": "code",
      "execution_count": null,
      "metadata": {
        "id": "oQAZL6hSUseG"
      },
      "outputs": [],
      "source": [
        "title = f'Rolling a Six-Sided Die {len(rolls):,} Times'\n",
        "\n",
        "\n",
        "sns.set_style('whitegrid')\n",
        "\n",
        "\n",
        "axes = sns.barplot(x=values, y=frequencies, palette='bright')\n",
        "\n",
        "\n",
        "axes.set_title(title)\n",
        "\n",
        "\n",
        "axes.set(xlabel='Die Value', ylabel='Frequency')  \n",
        "\n",
        "\n",
        "axes.set_ylim(top=max(frequencies) * 1.10)\n",
        "\n",
        "\n",
        "for bar, frequency in zip(axes.patches, frequencies):\n",
        "    text_x = bar.get_x() + bar.get_width() / 2.0  \n",
        "    text_y = bar.get_height() \n",
        "    text = f'{frequency:,}\\n{frequency / len(rolls):.3%}'\n",
        "    axes.text(text_x, text_y, text, \n",
        "              fontsize=11, ha='center', va='bottom')"
      ]
    }
  ],
  "metadata": {
    "colab": {
      "collapsed_sections": [],
      "name": "i2232-Sequences_Lists_Tuples.ipynb",
      "provenance": []
    },
    "kernelspec": {
      "display_name": "Python 3",
      "name": "python3"
    },
    "language_info": {
      "codemirror_mode": {
        "name": "ipython",
        "version": 3
      },
      "file_extension": ".py",
      "mimetype": "text/x-python",
      "name": "python",
      "nbconvert_exporter": "python",
      "pygments_lexer": "ipython3",
      "version": "3.10.0"
    }
  },
  "nbformat": 4,
  "nbformat_minor": 0
}
